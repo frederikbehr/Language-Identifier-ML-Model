{
 "cells": [
  {
   "cell_type": "code",
   "id": "initial_id",
   "metadata": {
    "collapsed": true,
    "ExecuteTime": {
     "end_time": "2024-05-11T23:36:54.518350Z",
     "start_time": "2024-05-11T23:36:54.512338Z"
    }
   },
   "source": [
    "import numpy as np\n",
    "import pandas as pd\n",
    "import matplotlib.pyplot as plt\n",
    "import tensorflow as tf\n",
    "from tensorflow.keras.models import Sequential, load_model\n",
    "from tensorflow.keras.layers import Dense, Conv1D, LSTM, Dropout, Flatten\n",
    "from tensorflow.keras import optimizers\n",
    "from tensorflow.keras.preprocessing.text import Tokenizer, tokenizer_from_json\n",
    "from keras.src.utils import pad_sequences\n",
    "from sklearn.model_selection import train_test_split\n",
    "from custom_preprocessor import preprocess\n",
    "from fs.osfs import OSFS\n",
    "import json"
   ],
   "outputs": [],
   "execution_count": 28
  },
  {
   "cell_type": "markdown",
   "source": [
    "# Prediction"
   ],
   "metadata": {
    "collapsed": false
   },
   "id": "4fb3930ce2fec85d"
  },
  {
   "cell_type": "code",
   "source": [
    "import time\n",
    "\n",
    "\n",
    "def get_columns(directory):\n",
    "    with OSFS(f'./{directory}') as fs:\n",
    "        print(fs.listdir('.'))\n",
    "        return fs.listdir('.')\n",
    "\n",
    "def load_tokenizer_from_file(title):\n",
    "    with open(f'./tokenizer_configs/tokenizer_config_{title}.json', 'r') as config_file:\n",
    "        data = json.load(config_file)\n",
    "        tokenizer = tokenizer_from_json(data)\n",
    "    return tokenizer\n",
    "\n",
    "def tokenize(text, max_length, title):\n",
    "    tokenizer = load_tokenizer_from_file(title)\n",
    "    prediction_word = tokenizer.texts_to_sequences([text])\n",
    "    prediction_word = pad_sequences(prediction_word, maxlen=max_length)\n",
    "    return prediction_word\n",
    "    \n",
    "\n",
    "def predict(text, max_length, language):\n",
    "    prediction_word = preprocess(text)\n",
    "    if language == 'families':\n",
    "        print(f\"Text before preprocessing: {text}\")\n",
    "        print(f\"Text after preprocessing: {prediction_word}\")\n",
    "    prediction_word = tokenize(prediction_word, max_length, language)\n",
    "    model = load_model(f'./models/model_{language}.keras')\n",
    "    prediction = model.predict([prediction_word])\n",
    "    result = {}\n",
    "    class_labels = np.unique(get_columns(f'data_{language}'))\n",
    "    for index, prediction in enumerate(np.array(prediction)[0]):\n",
    "        result.update({class_labels[index]: round(prediction * 100, 1)})\n",
    "\n",
    "    # Print keys and values of the result dictionary\n",
    "    for key, value in result.items():\n",
    "        print(f\"{key}: {value}%\")\n",
    "    return max(result, key=lambda key: result[key])\n",
    "\n",
    "text_prediction = \"Both approaches have their\"\n",
    "family = predict(text_prediction, 40, 'families')\n",
    "print(family)\n",
    "if family == 'Germanic':\n",
    "    predicted_language = predict(text_prediction, 49, 'germanic')\n",
    "elif family == 'Slavic':\n",
    "    predicted_language = predict(text_prediction, 48, 'slavic')\n",
    "elif family == 'Hellenic':\n",
    "    predicted_language = predict(text_prediction, 48, 'hellenic')\n",
    "elif family == 'Romance':\n",
    "    predicted_language = predict(text_prediction, 48, 'romance')\n",
    "elif family == 'Uralic':\n",
    "    predicted_language = predict(text_prediction, 48, 'uralic')"
   ],
   "metadata": {
    "collapsed": false,
    "ExecuteTime": {
     "end_time": "2024-05-12T01:21:17.962478Z",
     "start_time": "2024-05-12T01:21:17.669834Z"
    }
   },
   "id": "2af1ef5d86413ee6",
   "outputs": [
    {
     "name": "stdout",
     "output_type": "stream",
     "text": [
      "Text before preprocessing: Both approaches have their\n",
      "Text after preprocessing: both approaches have their both approaches have\n",
      "\u001B[1m1/1\u001B[0m \u001B[32m━━━━━━━━━━━━━━━━━━━━\u001B[0m\u001B[37m\u001B[0m \u001B[1m0s\u001B[0m 81ms/step\n",
      "['Hellenic', 'Romance', 'Germanic', 'Slavic', 'Uralic']\n",
      "Germanic: 96.2%\n",
      "Hellenic: 0.0%\n",
      "Romance: 3.8%\n",
      "Slavic: 0.0%\n",
      "Uralic: 0.0%\n",
      "Germanic\n",
      "\u001B[1m1/1\u001B[0m \u001B[32m━━━━━━━━━━━━━━━━━━━━\u001B[0m\u001B[37m\u001B[0m \u001B[1m0s\u001B[0m 81ms/step\n",
      "['Dutch', 'German', 'English', 'Norwegian', 'Danish', 'Swedish']\n",
      "Danish: 0.0%\n",
      "Dutch: 0.0%\n",
      "English: 100.0%\n",
      "German: 0.0%\n",
      "Norwegian: 0.0%\n",
      "Swedish: 0.0%\n"
     ]
    }
   ],
   "execution_count": 69
  },
  {
   "cell_type": "code",
   "outputs": [],
   "source": [],
   "metadata": {
    "collapsed": false,
    "ExecuteTime": {
     "end_time": "2024-05-11T23:36:54.643951Z",
     "start_time": "2024-05-11T23:36:54.641986Z"
    }
   },
   "id": "7b0a77db229de458"
  }
 ],
 "metadata": {
  "kernelspec": {
   "display_name": "Python 3",
   "language": "python",
   "name": "python3"
  },
  "language_info": {
   "codemirror_mode": {
    "name": "ipython",
    "version": 2
   },
   "file_extension": ".py",
   "mimetype": "text/x-python",
   "name": "python",
   "nbconvert_exporter": "python",
   "pygments_lexer": "ipython2",
   "version": "2.7.6"
  }
 },
 "nbformat": 4,
 "nbformat_minor": 5
}
