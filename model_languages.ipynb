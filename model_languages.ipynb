{
 "cells": [
  {
   "cell_type": "code",
   "id": "initial_id",
   "metadata": {
    "collapsed": true,
    "ExecuteTime": {
     "end_time": "2024-06-10T18:49:42.947214Z",
     "start_time": "2024-06-10T18:49:40.285316Z"
    }
   },
   "source": [
    "import numpy as np\n",
    "from tensorflow.keras.models import Sequential, load_model\n",
    "from tensorflow.keras.preprocessing.text import Tokenizer, tokenizer_from_json\n",
    "from keras.src.utils import pad_sequences\n",
    "from custom_preprocessor import preprocess\n",
    "from fs.osfs import OSFS\n",
    "import json"
   ],
   "outputs": [],
   "execution_count": 1
  },
  {
   "cell_type": "markdown",
   "source": [
    "# Prediction"
   ],
   "metadata": {
    "collapsed": false
   },
   "id": "4fb3930ce2fec85d"
  },
  {
   "cell_type": "code",
   "source": [
    "def get_columns(directory):\n",
    "    with OSFS(f'./{directory}') as fs:\n",
    "        print(fs.listdir('.'))\n",
    "        return fs.listdir('.')\n",
    "\n",
    "def load_tokenizer_from_file(title):\n",
    "    with open(f'./tokenizer_configs/tokenizer_config_{title}.json', 'r') as config_file:\n",
    "        data = json.load(config_file)\n",
    "        tokenizer = tokenizer_from_json(data)\n",
    "    return tokenizer\n",
    "\n",
    "def tokenize(text, max_length, title):\n",
    "    tokenizer = load_tokenizer_from_file(title)\n",
    "    prediction_word = tokenizer.texts_to_sequences([text])\n",
    "    prediction_word = pad_sequences(prediction_word, maxlen=max_length)\n",
    "    return prediction_word\n",
    "    \n",
    "\n",
    "def predict(text, max_length, language):\n",
    "    prediction_word = preprocess(text)\n",
    "    if language == 'families':\n",
    "        print(f\"Text before preprocessing: {text}\")\n",
    "        print(f\"Text after preprocessing: {prediction_word}\")\n",
    "    prediction_word = tokenize(prediction_word, max_length, language)\n",
    "    model = load_model(f'./models/model_{language}.keras')\n",
    "    prediction = model.predict([prediction_word])\n",
    "    result = {}\n",
    "    class_labels = np.unique(get_columns(f'data_{language}'))\n",
    "    for index, prediction in enumerate(np.array(prediction)[0]):\n",
    "        result.update({class_labels[index]: round(prediction * 100, 1)})\n",
    "\n",
    "    # Print keys and values of the result dictionary\n",
    "    for key, value in result.items():\n",
    "        print(f\"{key}: {value}%\")\n",
    "    return max(result, key=lambda key: result[key])\n",
    "\n",
    "text_prediction = \"Hvorfor er der så varmt herinde\"\n",
    "family = predict(text_prediction, 40, 'families')\n",
    "print(family)\n",
    "if family == 'Germanic':\n",
    "    predicted_language = predict(text_prediction, 49, 'germanic')\n",
    "elif family == 'Slavic':\n",
    "    predicted_language = predict(text_prediction, 48, 'slavic')\n",
    "elif family == 'Hellenic':\n",
    "    predicted_language = predict(text_prediction, 48, 'hellenic')\n",
    "elif family == 'Romance':\n",
    "    predicted_language = predict(text_prediction, 48, 'romance')\n",
    "elif family == 'Uralic':\n",
    "    predicted_language = predict(text_prediction, 48, 'uralic')"
   ],
   "metadata": {
    "collapsed": false,
    "ExecuteTime": {
     "end_time": "2024-06-10T18:56:19.769865Z",
     "start_time": "2024-06-10T18:56:19.248608Z"
    }
   },
   "id": "2af1ef5d86413ee6",
   "outputs": [
    {
     "name": "stderr",
     "output_type": "stream",
     "text": [
      "WARNING:absl:At this time, the v2.11+ optimizer `tf.keras.optimizers.Adam` runs slowly on M1/M2 Macs, please use the legacy Keras optimizer instead, located at `tf.keras.optimizers.legacy.Adam`.\n"
     ]
    },
    {
     "name": "stdout",
     "output_type": "stream",
     "text": [
      "Text before preprocessing: Hvorfor er der så varmt herinde\n",
      "Text after preprocessing: hvorfor er der sa varmt herinde hvorfor er der\n",
      "1/1 [==============================] - 0s 135ms/step\n"
     ]
    },
    {
     "name": "stderr",
     "output_type": "stream",
     "text": [
      "WARNING:absl:At this time, the v2.11+ optimizer `tf.keras.optimizers.Adam` runs slowly on M1/M2 Macs, please use the legacy Keras optimizer instead, located at `tf.keras.optimizers.legacy.Adam`.\n"
     ]
    },
    {
     "name": "stdout",
     "output_type": "stream",
     "text": [
      "['Hellenic', 'Romance', 'Germanic', 'Slavic', 'Uralic']\n",
      "Germanic: 100.0%\n",
      "Hellenic: 0.0%\n",
      "Romance: 0.0%\n",
      "Slavic: 0.0%\n",
      "Uralic: 0.0%\n",
      "Germanic\n",
      "1/1 [==============================] - 0s 138ms/step\n",
      "['Dutch', 'German', 'English', 'Norwegian', 'Danish', 'Swedish']\n",
      "Danish: 53.1%\n",
      "Dutch: 0.4%\n",
      "English: 0.2%\n",
      "German: 1.1%\n",
      "Norwegian: 22.2%\n",
      "Swedish: 23.0%\n"
     ]
    }
   ],
   "execution_count": 13
  },
  {
   "cell_type": "code",
   "outputs": [],
   "source": [],
   "metadata": {
    "collapsed": false,
    "ExecuteTime": {
     "end_time": "2024-06-10T18:50:59.804171Z",
     "start_time": "2024-06-10T18:50:59.801016Z"
    }
   },
   "id": "c69f56c13c06a4ec",
   "execution_count": 4
  },
  {
   "cell_type": "code",
   "outputs": [],
   "source": [],
   "metadata": {
    "collapsed": false
   },
   "id": "55f7f7d48a9ae1f7"
  }
 ],
 "metadata": {
  "kernelspec": {
   "display_name": "Python 3",
   "language": "python",
   "name": "python3"
  },
  "language_info": {
   "codemirror_mode": {
    "name": "ipython",
    "version": 2
   },
   "file_extension": ".py",
   "mimetype": "text/x-python",
   "name": "python",
   "nbconvert_exporter": "python",
   "pygments_lexer": "ipython2",
   "version": "2.7.6"
  }
 },
 "nbformat": 4,
 "nbformat_minor": 5
}
