{
 "cells": [
  {
   "cell_type": "code",
   "id": "initial_id",
   "metadata": {
    "collapsed": true,
    "ExecuteTime": {
     "end_time": "2024-05-18T20:19:55.482106Z",
     "start_time": "2024-05-18T20:19:55.474300Z"
    }
   },
   "source": [
    "import numpy as np\n",
    "from tensorflow.keras.models import Sequential, load_model\n",
    "from tensorflow.keras.preprocessing.text import Tokenizer, tokenizer_from_json\n",
    "from keras.src.utils import pad_sequences\n",
    "from custom_preprocessor import preprocess\n",
    "from fs.osfs import OSFS\n",
    "import json"
   ],
   "outputs": [],
   "execution_count": 5
  },
  {
   "cell_type": "markdown",
   "source": [
    "# Prediction"
   ],
   "metadata": {
    "collapsed": false
   },
   "id": "4fb3930ce2fec85d"
  },
  {
   "cell_type": "code",
   "source": [
    "import time\n",
    "\n",
    "\n",
    "def get_columns(directory):\n",
    "    with OSFS(f'./{directory}') as fs:\n",
    "        print(fs.listdir('.'))\n",
    "        return fs.listdir('.')\n",
    "\n",
    "def load_tokenizer_from_file(title):\n",
    "    with open(f'./tokenizer_configs/tokenizer_config_{title}.json', 'r') as config_file:\n",
    "        data = json.load(config_file)\n",
    "        tokenizer = tokenizer_from_json(data)\n",
    "    return tokenizer\n",
    "\n",
    "def tokenize(text, max_length, title):\n",
    "    tokenizer = load_tokenizer_from_file(title)\n",
    "    prediction_word = tokenizer.texts_to_sequences([text])\n",
    "    prediction_word = pad_sequences(prediction_word, maxlen=max_length)\n",
    "    return prediction_word\n",
    "    \n",
    "\n",
    "def predict(text, max_length, language):\n",
    "    prediction_word = preprocess(text)\n",
    "    if language == 'families':\n",
    "        print(f\"Text before preprocessing: {text}\")\n",
    "        print(f\"Text after preprocessing: {prediction_word}\")\n",
    "    prediction_word = tokenize(prediction_word, max_length, language)\n",
    "    model = load_model(f'./models/model_{language}.keras')\n",
    "    prediction = model.predict([prediction_word])\n",
    "    result = {}\n",
    "    class_labels = np.unique(get_columns(f'data_{language}'))\n",
    "    for index, prediction in enumerate(np.array(prediction)[0]):\n",
    "        result.update({class_labels[index]: round(prediction * 100, 1)})\n",
    "\n",
    "    # Print keys and values of the result dictionary\n",
    "    for key, value in result.items():\n",
    "        print(f\"{key}: {value}%\")\n",
    "    return max(result, key=lambda key: result[key])\n",
    "\n",
    "text_prediction = \"Both approaches have their\"\n",
    "family = predict(text_prediction, 40, 'families')\n",
    "print(family)\n",
    "if family == 'Germanic':\n",
    "    predicted_language = predict(text_prediction, 49, 'germanic')\n",
    "elif family == 'Slavic':\n",
    "    predicted_language = predict(text_prediction, 48, 'slavic')\n",
    "elif family == 'Hellenic':\n",
    "    predicted_language = predict(text_prediction, 48, 'hellenic')\n",
    "elif family == 'Romance':\n",
    "    predicted_language = predict(text_prediction, 48, 'romance')\n",
    "elif family == 'Uralic':\n",
    "    predicted_language = predict(text_prediction, 48, 'uralic')"
   ],
   "metadata": {
    "collapsed": false,
    "ExecuteTime": {
     "end_time": "2024-05-18T20:19:55.635315Z",
     "start_time": "2024-05-18T20:19:55.485166Z"
    }
   },
   "id": "2af1ef5d86413ee6",
   "outputs": [
    {
     "name": "stdout",
     "output_type": "stream",
     "text": [
      "Text before preprocessing: Both approaches have their\n",
      "Text after preprocessing: both approaches have their both approaches have\n"
     ]
    },
    {
     "ename": "TypeError",
     "evalue": "Error when deserializing class 'InputLayer' using config={'batch_shape': [None, 40, 1], 'dtype': 'float32', 'sparse': False, 'name': 'input_layer_1'}.\n\nException encountered: Unrecognized keyword arguments: ['batch_shape']",
     "output_type": "error",
     "traceback": [
      "\u001B[0;31m---------------------------------------------------------------------------\u001B[0m",
      "\u001B[0;31mValueError\u001B[0m                                Traceback (most recent call last)",
      "File \u001B[0;32m/Library/Frameworks/Python.framework/Versions/3.9/lib/python3.9/site-packages/keras/src/engine/base_layer.py:868\u001B[0m, in \u001B[0;36mLayer.from_config\u001B[0;34m(cls, config)\u001B[0m\n\u001B[1;32m    867\u001B[0m \u001B[38;5;28;01mtry\u001B[39;00m:\n\u001B[0;32m--> 868\u001B[0m     \u001B[38;5;28;01mreturn\u001B[39;00m \u001B[38;5;28;43mcls\u001B[39;49m\u001B[43m(\u001B[49m\u001B[38;5;241;43m*\u001B[39;49m\u001B[38;5;241;43m*\u001B[39;49m\u001B[43mconfig\u001B[49m\u001B[43m)\u001B[49m\n\u001B[1;32m    869\u001B[0m \u001B[38;5;28;01mexcept\u001B[39;00m \u001B[38;5;167;01mException\u001B[39;00m \u001B[38;5;28;01mas\u001B[39;00m e:\n",
      "File \u001B[0;32m/Library/Frameworks/Python.framework/Versions/3.9/lib/python3.9/site-packages/keras/src/utils/traceback_utils.py:70\u001B[0m, in \u001B[0;36mfilter_traceback.<locals>.error_handler\u001B[0;34m(*args, **kwargs)\u001B[0m\n\u001B[1;32m     68\u001B[0m     \u001B[38;5;66;03m# To get the full stack trace, call:\u001B[39;00m\n\u001B[1;32m     69\u001B[0m     \u001B[38;5;66;03m# `tf.debugging.disable_traceback_filtering()`\u001B[39;00m\n\u001B[0;32m---> 70\u001B[0m     \u001B[38;5;28;01mraise\u001B[39;00m e\u001B[38;5;241m.\u001B[39mwith_traceback(filtered_tb) \u001B[38;5;28;01mfrom\u001B[39;00m \u001B[38;5;28mNone\u001B[39m\n\u001B[1;32m     71\u001B[0m \u001B[38;5;28;01mfinally\u001B[39;00m:\n",
      "File \u001B[0;32m/Library/Frameworks/Python.framework/Versions/3.9/lib/python3.9/site-packages/keras/src/engine/input_layer.py:153\u001B[0m, in \u001B[0;36mInputLayer.__init__\u001B[0;34m(self, input_shape, batch_size, dtype, input_tensor, sparse, name, ragged, type_spec, **kwargs)\u001B[0m\n\u001B[1;32m    152\u001B[0m \u001B[38;5;28;01mif\u001B[39;00m kwargs:\n\u001B[0;32m--> 153\u001B[0m     \u001B[38;5;28;01mraise\u001B[39;00m \u001B[38;5;167;01mValueError\u001B[39;00m(\n\u001B[1;32m    154\u001B[0m         \u001B[38;5;124mf\u001B[39m\u001B[38;5;124m\"\u001B[39m\u001B[38;5;124mUnrecognized keyword arguments: \u001B[39m\u001B[38;5;132;01m{\u001B[39;00m\u001B[38;5;28mlist\u001B[39m(kwargs\u001B[38;5;241m.\u001B[39mkeys())\u001B[38;5;132;01m}\u001B[39;00m\u001B[38;5;124m\"\u001B[39m\n\u001B[1;32m    155\u001B[0m     )\n\u001B[1;32m    157\u001B[0m \u001B[38;5;28;01mif\u001B[39;00m sparse \u001B[38;5;129;01mand\u001B[39;00m ragged:\n",
      "\u001B[0;31mValueError\u001B[0m: Unrecognized keyword arguments: ['batch_shape']",
      "\nDuring handling of the above exception, another exception occurred:\n",
      "\u001B[0;31mTypeError\u001B[0m                                 Traceback (most recent call last)",
      "Cell \u001B[0;32mIn[6], line 41\u001B[0m\n\u001B[1;32m     38\u001B[0m     \u001B[38;5;28;01mreturn\u001B[39;00m \u001B[38;5;28mmax\u001B[39m(result, key\u001B[38;5;241m=\u001B[39m\u001B[38;5;28;01mlambda\u001B[39;00m key: result[key])\n\u001B[1;32m     40\u001B[0m text_prediction \u001B[38;5;241m=\u001B[39m \u001B[38;5;124m\"\u001B[39m\u001B[38;5;124mBoth approaches have their\u001B[39m\u001B[38;5;124m\"\u001B[39m\n\u001B[0;32m---> 41\u001B[0m family \u001B[38;5;241m=\u001B[39m \u001B[43mpredict\u001B[49m\u001B[43m(\u001B[49m\u001B[43mtext_prediction\u001B[49m\u001B[43m,\u001B[49m\u001B[43m \u001B[49m\u001B[38;5;241;43m40\u001B[39;49m\u001B[43m,\u001B[49m\u001B[43m \u001B[49m\u001B[38;5;124;43m'\u001B[39;49m\u001B[38;5;124;43mfamilies\u001B[39;49m\u001B[38;5;124;43m'\u001B[39;49m\u001B[43m)\u001B[49m\n\u001B[1;32m     42\u001B[0m \u001B[38;5;28mprint\u001B[39m(family)\n\u001B[1;32m     43\u001B[0m \u001B[38;5;28;01mif\u001B[39;00m family \u001B[38;5;241m==\u001B[39m \u001B[38;5;124m'\u001B[39m\u001B[38;5;124mGermanic\u001B[39m\u001B[38;5;124m'\u001B[39m:\n",
      "Cell \u001B[0;32mIn[6], line 28\u001B[0m, in \u001B[0;36mpredict\u001B[0;34m(text, max_length, language)\u001B[0m\n\u001B[1;32m     26\u001B[0m     \u001B[38;5;28mprint\u001B[39m(\u001B[38;5;124mf\u001B[39m\u001B[38;5;124m\"\u001B[39m\u001B[38;5;124mText after preprocessing: \u001B[39m\u001B[38;5;132;01m{\u001B[39;00mprediction_word\u001B[38;5;132;01m}\u001B[39;00m\u001B[38;5;124m\"\u001B[39m)\n\u001B[1;32m     27\u001B[0m prediction_word \u001B[38;5;241m=\u001B[39m tokenize(prediction_word, max_length, language)\n\u001B[0;32m---> 28\u001B[0m model \u001B[38;5;241m=\u001B[39m \u001B[43mload_model\u001B[49m\u001B[43m(\u001B[49m\u001B[38;5;124;43mf\u001B[39;49m\u001B[38;5;124;43m'\u001B[39;49m\u001B[38;5;124;43m./models/model_\u001B[39;49m\u001B[38;5;132;43;01m{\u001B[39;49;00m\u001B[43mlanguage\u001B[49m\u001B[38;5;132;43;01m}\u001B[39;49;00m\u001B[38;5;124;43m.keras\u001B[39;49m\u001B[38;5;124;43m'\u001B[39;49m\u001B[43m)\u001B[49m\n\u001B[1;32m     29\u001B[0m prediction \u001B[38;5;241m=\u001B[39m model\u001B[38;5;241m.\u001B[39mpredict([prediction_word])\n\u001B[1;32m     30\u001B[0m result \u001B[38;5;241m=\u001B[39m {}\n",
      "File \u001B[0;32m/Library/Frameworks/Python.framework/Versions/3.9/lib/python3.9/site-packages/keras/src/saving/saving_api.py:254\u001B[0m, in \u001B[0;36mload_model\u001B[0;34m(filepath, custom_objects, compile, safe_mode, **kwargs)\u001B[0m\n\u001B[1;32m    249\u001B[0m     \u001B[38;5;28;01mif\u001B[39;00m kwargs:\n\u001B[1;32m    250\u001B[0m         \u001B[38;5;28;01mraise\u001B[39;00m \u001B[38;5;167;01mValueError\u001B[39;00m(\n\u001B[1;32m    251\u001B[0m             \u001B[38;5;124m\"\u001B[39m\u001B[38;5;124mThe following argument(s) are not supported \u001B[39m\u001B[38;5;124m\"\u001B[39m\n\u001B[1;32m    252\u001B[0m             \u001B[38;5;124mf\u001B[39m\u001B[38;5;124m\"\u001B[39m\u001B[38;5;124mwith the native Keras format: \u001B[39m\u001B[38;5;132;01m{\u001B[39;00m\u001B[38;5;28mlist\u001B[39m(kwargs\u001B[38;5;241m.\u001B[39mkeys())\u001B[38;5;132;01m}\u001B[39;00m\u001B[38;5;124m\"\u001B[39m\n\u001B[1;32m    253\u001B[0m         )\n\u001B[0;32m--> 254\u001B[0m     \u001B[38;5;28;01mreturn\u001B[39;00m \u001B[43msaving_lib\u001B[49m\u001B[38;5;241;43m.\u001B[39;49m\u001B[43mload_model\u001B[49m\u001B[43m(\u001B[49m\n\u001B[1;32m    255\u001B[0m \u001B[43m        \u001B[49m\u001B[43mfilepath\u001B[49m\u001B[43m,\u001B[49m\n\u001B[1;32m    256\u001B[0m \u001B[43m        \u001B[49m\u001B[43mcustom_objects\u001B[49m\u001B[38;5;241;43m=\u001B[39;49m\u001B[43mcustom_objects\u001B[49m\u001B[43m,\u001B[49m\n\u001B[1;32m    257\u001B[0m \u001B[43m        \u001B[49m\u001B[38;5;28;43mcompile\u001B[39;49m\u001B[38;5;241;43m=\u001B[39;49m\u001B[38;5;28;43mcompile\u001B[39;49m\u001B[43m,\u001B[49m\n\u001B[1;32m    258\u001B[0m \u001B[43m        \u001B[49m\u001B[43msafe_mode\u001B[49m\u001B[38;5;241;43m=\u001B[39;49m\u001B[43msafe_mode\u001B[49m\u001B[43m,\u001B[49m\n\u001B[1;32m    259\u001B[0m \u001B[43m    \u001B[49m\u001B[43m)\u001B[49m\n\u001B[1;32m    261\u001B[0m \u001B[38;5;66;03m# Legacy case.\u001B[39;00m\n\u001B[1;32m    262\u001B[0m \u001B[38;5;28;01mreturn\u001B[39;00m legacy_sm_saving_lib\u001B[38;5;241m.\u001B[39mload_model(\n\u001B[1;32m    263\u001B[0m     filepath, custom_objects\u001B[38;5;241m=\u001B[39mcustom_objects, \u001B[38;5;28mcompile\u001B[39m\u001B[38;5;241m=\u001B[39m\u001B[38;5;28mcompile\u001B[39m, \u001B[38;5;241m*\u001B[39m\u001B[38;5;241m*\u001B[39mkwargs\n\u001B[1;32m    264\u001B[0m )\n",
      "File \u001B[0;32m/Library/Frameworks/Python.framework/Versions/3.9/lib/python3.9/site-packages/keras/src/saving/saving_lib.py:281\u001B[0m, in \u001B[0;36mload_model\u001B[0;34m(filepath, custom_objects, compile, safe_mode)\u001B[0m\n\u001B[1;32m    278\u001B[0m             asset_store\u001B[38;5;241m.\u001B[39mclose()\n\u001B[1;32m    280\u001B[0m \u001B[38;5;28;01mexcept\u001B[39;00m \u001B[38;5;167;01mException\u001B[39;00m \u001B[38;5;28;01mas\u001B[39;00m e:\n\u001B[0;32m--> 281\u001B[0m     \u001B[38;5;28;01mraise\u001B[39;00m e\n\u001B[1;32m    282\u001B[0m \u001B[38;5;28;01melse\u001B[39;00m:\n\u001B[1;32m    283\u001B[0m     \u001B[38;5;28;01mreturn\u001B[39;00m model\n",
      "File \u001B[0;32m/Library/Frameworks/Python.framework/Versions/3.9/lib/python3.9/site-packages/keras/src/saving/saving_lib.py:246\u001B[0m, in \u001B[0;36mload_model\u001B[0;34m(filepath, custom_objects, compile, safe_mode)\u001B[0m\n\u001B[1;32m    244\u001B[0m \u001B[38;5;66;03m# Construct the model from the configuration file in the archive.\u001B[39;00m\n\u001B[1;32m    245\u001B[0m \u001B[38;5;28;01mwith\u001B[39;00m ObjectSharingScope():\n\u001B[0;32m--> 246\u001B[0m     model \u001B[38;5;241m=\u001B[39m \u001B[43mdeserialize_keras_object\u001B[49m\u001B[43m(\u001B[49m\n\u001B[1;32m    247\u001B[0m \u001B[43m        \u001B[49m\u001B[43mconfig_dict\u001B[49m\u001B[43m,\u001B[49m\u001B[43m \u001B[49m\u001B[43mcustom_objects\u001B[49m\u001B[43m,\u001B[49m\u001B[43m \u001B[49m\u001B[43msafe_mode\u001B[49m\u001B[38;5;241;43m=\u001B[39;49m\u001B[43msafe_mode\u001B[49m\n\u001B[1;32m    248\u001B[0m \u001B[43m    \u001B[49m\u001B[43m)\u001B[49m\n\u001B[1;32m    250\u001B[0m all_filenames \u001B[38;5;241m=\u001B[39m zf\u001B[38;5;241m.\u001B[39mnamelist()\n\u001B[1;32m    251\u001B[0m \u001B[38;5;28;01mif\u001B[39;00m _VARS_FNAME \u001B[38;5;241m+\u001B[39m \u001B[38;5;124m\"\u001B[39m\u001B[38;5;124m.h5\u001B[39m\u001B[38;5;124m\"\u001B[39m \u001B[38;5;129;01min\u001B[39;00m all_filenames:\n",
      "File \u001B[0;32m/Library/Frameworks/Python.framework/Versions/3.9/lib/python3.9/site-packages/keras/src/saving/serialization_lib.py:728\u001B[0m, in \u001B[0;36mdeserialize_keras_object\u001B[0;34m(config, custom_objects, safe_mode, **kwargs)\u001B[0m\n\u001B[1;32m    726\u001B[0m safe_mode_scope \u001B[38;5;241m=\u001B[39m SafeModeScope(safe_mode)\n\u001B[1;32m    727\u001B[0m \u001B[38;5;28;01mwith\u001B[39;00m custom_obj_scope, safe_mode_scope:\n\u001B[0;32m--> 728\u001B[0m     instance \u001B[38;5;241m=\u001B[39m \u001B[38;5;28;43mcls\u001B[39;49m\u001B[38;5;241;43m.\u001B[39;49m\u001B[43mfrom_config\u001B[49m\u001B[43m(\u001B[49m\u001B[43minner_config\u001B[49m\u001B[43m)\u001B[49m\n\u001B[1;32m    729\u001B[0m     build_config \u001B[38;5;241m=\u001B[39m config\u001B[38;5;241m.\u001B[39mget(\u001B[38;5;124m\"\u001B[39m\u001B[38;5;124mbuild_config\u001B[39m\u001B[38;5;124m\"\u001B[39m, \u001B[38;5;28;01mNone\u001B[39;00m)\n\u001B[1;32m    730\u001B[0m     \u001B[38;5;28;01mif\u001B[39;00m build_config:\n",
      "File \u001B[0;32m/Library/Frameworks/Python.framework/Versions/3.9/lib/python3.9/site-packages/keras/src/engine/sequential.py:466\u001B[0m, in \u001B[0;36mSequential.from_config\u001B[0;34m(cls, config, custom_objects)\u001B[0m\n\u001B[1;32m    464\u001B[0m \u001B[38;5;28;01mfor\u001B[39;00m layer_config \u001B[38;5;129;01min\u001B[39;00m layer_configs:\n\u001B[1;32m    465\u001B[0m     use_legacy_format \u001B[38;5;241m=\u001B[39m \u001B[38;5;124m\"\u001B[39m\u001B[38;5;124mmodule\u001B[39m\u001B[38;5;124m\"\u001B[39m \u001B[38;5;129;01mnot\u001B[39;00m \u001B[38;5;129;01min\u001B[39;00m layer_config\n\u001B[0;32m--> 466\u001B[0m     layer \u001B[38;5;241m=\u001B[39m \u001B[43mlayer_module\u001B[49m\u001B[38;5;241;43m.\u001B[39;49m\u001B[43mdeserialize\u001B[49m\u001B[43m(\u001B[49m\n\u001B[1;32m    467\u001B[0m \u001B[43m        \u001B[49m\u001B[43mlayer_config\u001B[49m\u001B[43m,\u001B[49m\n\u001B[1;32m    468\u001B[0m \u001B[43m        \u001B[49m\u001B[43mcustom_objects\u001B[49m\u001B[38;5;241;43m=\u001B[39;49m\u001B[43mcustom_objects\u001B[49m\u001B[43m,\u001B[49m\n\u001B[1;32m    469\u001B[0m \u001B[43m        \u001B[49m\u001B[43muse_legacy_format\u001B[49m\u001B[38;5;241;43m=\u001B[39;49m\u001B[43muse_legacy_format\u001B[49m\u001B[43m,\u001B[49m\n\u001B[1;32m    470\u001B[0m \u001B[43m    \u001B[49m\u001B[43m)\u001B[49m\n\u001B[1;32m    471\u001B[0m     model\u001B[38;5;241m.\u001B[39madd(layer)\n\u001B[1;32m    473\u001B[0m \u001B[38;5;28;01mif\u001B[39;00m (\n\u001B[1;32m    474\u001B[0m     \u001B[38;5;129;01mnot\u001B[39;00m model\u001B[38;5;241m.\u001B[39minputs\n\u001B[1;32m    475\u001B[0m     \u001B[38;5;129;01mand\u001B[39;00m build_input_shape\n\u001B[1;32m    476\u001B[0m     \u001B[38;5;129;01mand\u001B[39;00m \u001B[38;5;28misinstance\u001B[39m(build_input_shape, (\u001B[38;5;28mtuple\u001B[39m, \u001B[38;5;28mlist\u001B[39m))\n\u001B[1;32m    477\u001B[0m ):\n",
      "File \u001B[0;32m/Library/Frameworks/Python.framework/Versions/3.9/lib/python3.9/site-packages/keras/src/layers/serialization.py:276\u001B[0m, in \u001B[0;36mdeserialize\u001B[0;34m(config, custom_objects, use_legacy_format)\u001B[0m\n\u001B[1;32m    268\u001B[0m \u001B[38;5;28;01mif\u001B[39;00m use_legacy_format:\n\u001B[1;32m    269\u001B[0m     \u001B[38;5;28;01mreturn\u001B[39;00m legacy_serialization\u001B[38;5;241m.\u001B[39mdeserialize_keras_object(\n\u001B[1;32m    270\u001B[0m         config,\n\u001B[1;32m    271\u001B[0m         module_objects\u001B[38;5;241m=\u001B[39mLOCAL\u001B[38;5;241m.\u001B[39mALL_OBJECTS,\n\u001B[1;32m    272\u001B[0m         custom_objects\u001B[38;5;241m=\u001B[39mcustom_objects,\n\u001B[1;32m    273\u001B[0m         printable_module_name\u001B[38;5;241m=\u001B[39m\u001B[38;5;124m\"\u001B[39m\u001B[38;5;124mlayer\u001B[39m\u001B[38;5;124m\"\u001B[39m,\n\u001B[1;32m    274\u001B[0m     )\n\u001B[0;32m--> 276\u001B[0m \u001B[38;5;28;01mreturn\u001B[39;00m \u001B[43mserialization_lib\u001B[49m\u001B[38;5;241;43m.\u001B[39;49m\u001B[43mdeserialize_keras_object\u001B[49m\u001B[43m(\u001B[49m\n\u001B[1;32m    277\u001B[0m \u001B[43m    \u001B[49m\u001B[43mconfig\u001B[49m\u001B[43m,\u001B[49m\n\u001B[1;32m    278\u001B[0m \u001B[43m    \u001B[49m\u001B[43mmodule_objects\u001B[49m\u001B[38;5;241;43m=\u001B[39;49m\u001B[43mLOCAL\u001B[49m\u001B[38;5;241;43m.\u001B[39;49m\u001B[43mALL_OBJECTS\u001B[49m\u001B[43m,\u001B[49m\n\u001B[1;32m    279\u001B[0m \u001B[43m    \u001B[49m\u001B[43mcustom_objects\u001B[49m\u001B[38;5;241;43m=\u001B[39;49m\u001B[43mcustom_objects\u001B[49m\u001B[43m,\u001B[49m\n\u001B[1;32m    280\u001B[0m \u001B[43m    \u001B[49m\u001B[43mprintable_module_name\u001B[49m\u001B[38;5;241;43m=\u001B[39;49m\u001B[38;5;124;43m\"\u001B[39;49m\u001B[38;5;124;43mlayer\u001B[39;49m\u001B[38;5;124;43m\"\u001B[39;49m\u001B[43m,\u001B[49m\n\u001B[1;32m    281\u001B[0m \u001B[43m\u001B[49m\u001B[43m)\u001B[49m\n",
      "File \u001B[0;32m/Library/Frameworks/Python.framework/Versions/3.9/lib/python3.9/site-packages/keras/src/saving/serialization_lib.py:609\u001B[0m, in \u001B[0;36mdeserialize_keras_object\u001B[0;34m(config, custom_objects, safe_mode, **kwargs)\u001B[0m\n\u001B[1;32m    602\u001B[0m         \u001B[38;5;28;01mif\u001B[39;00m \u001B[38;5;28misinstance\u001B[39m(module_objects[config], types\u001B[38;5;241m.\u001B[39mFunctionType):\n\u001B[1;32m    603\u001B[0m             \u001B[38;5;28;01mreturn\u001B[39;00m deserialize_keras_object(\n\u001B[1;32m    604\u001B[0m                 serialize_with_public_fn(\n\u001B[1;32m    605\u001B[0m                     module_objects[config], config, fn_module_name\n\u001B[1;32m    606\u001B[0m                 ),\n\u001B[1;32m    607\u001B[0m                 custom_objects\u001B[38;5;241m=\u001B[39mcustom_objects,\n\u001B[1;32m    608\u001B[0m             )\n\u001B[0;32m--> 609\u001B[0m         \u001B[38;5;28;01mreturn\u001B[39;00m \u001B[43mdeserialize_keras_object\u001B[49m\u001B[43m(\u001B[49m\n\u001B[1;32m    610\u001B[0m \u001B[43m            \u001B[49m\u001B[43mserialize_with_public_class\u001B[49m\u001B[43m(\u001B[49m\n\u001B[1;32m    611\u001B[0m \u001B[43m                \u001B[49m\u001B[43mmodule_objects\u001B[49m\u001B[43m[\u001B[49m\u001B[43mconfig\u001B[49m\u001B[43m]\u001B[49m\u001B[43m,\u001B[49m\u001B[43m \u001B[49m\u001B[43minner_config\u001B[49m\u001B[38;5;241;43m=\u001B[39;49m\u001B[43minner_config\u001B[49m\n\u001B[1;32m    612\u001B[0m \u001B[43m            \u001B[49m\u001B[43m)\u001B[49m\u001B[43m,\u001B[49m\n\u001B[1;32m    613\u001B[0m \u001B[43m            \u001B[49m\u001B[43mcustom_objects\u001B[49m\u001B[38;5;241;43m=\u001B[39;49m\u001B[43mcustom_objects\u001B[49m\u001B[43m,\u001B[49m\n\u001B[1;32m    614\u001B[0m \u001B[43m        \u001B[49m\u001B[43m)\u001B[49m\n\u001B[1;32m    616\u001B[0m \u001B[38;5;28;01mif\u001B[39;00m \u001B[38;5;28misinstance\u001B[39m(config, PLAIN_TYPES):\n\u001B[1;32m    617\u001B[0m     \u001B[38;5;28;01mreturn\u001B[39;00m config\n",
      "File \u001B[0;32m/Library/Frameworks/Python.framework/Versions/3.9/lib/python3.9/site-packages/keras/src/saving/serialization_lib.py:728\u001B[0m, in \u001B[0;36mdeserialize_keras_object\u001B[0;34m(config, custom_objects, safe_mode, **kwargs)\u001B[0m\n\u001B[1;32m    726\u001B[0m safe_mode_scope \u001B[38;5;241m=\u001B[39m SafeModeScope(safe_mode)\n\u001B[1;32m    727\u001B[0m \u001B[38;5;28;01mwith\u001B[39;00m custom_obj_scope, safe_mode_scope:\n\u001B[0;32m--> 728\u001B[0m     instance \u001B[38;5;241m=\u001B[39m \u001B[38;5;28;43mcls\u001B[39;49m\u001B[38;5;241;43m.\u001B[39;49m\u001B[43mfrom_config\u001B[49m\u001B[43m(\u001B[49m\u001B[43minner_config\u001B[49m\u001B[43m)\u001B[49m\n\u001B[1;32m    729\u001B[0m     build_config \u001B[38;5;241m=\u001B[39m config\u001B[38;5;241m.\u001B[39mget(\u001B[38;5;124m\"\u001B[39m\u001B[38;5;124mbuild_config\u001B[39m\u001B[38;5;124m\"\u001B[39m, \u001B[38;5;28;01mNone\u001B[39;00m)\n\u001B[1;32m    730\u001B[0m     \u001B[38;5;28;01mif\u001B[39;00m build_config:\n",
      "File \u001B[0;32m/Library/Frameworks/Python.framework/Versions/3.9/lib/python3.9/site-packages/keras/src/engine/base_layer.py:870\u001B[0m, in \u001B[0;36mLayer.from_config\u001B[0;34m(cls, config)\u001B[0m\n\u001B[1;32m    868\u001B[0m     \u001B[38;5;28;01mreturn\u001B[39;00m \u001B[38;5;28mcls\u001B[39m(\u001B[38;5;241m*\u001B[39m\u001B[38;5;241m*\u001B[39mconfig)\n\u001B[1;32m    869\u001B[0m \u001B[38;5;28;01mexcept\u001B[39;00m \u001B[38;5;167;01mException\u001B[39;00m \u001B[38;5;28;01mas\u001B[39;00m e:\n\u001B[0;32m--> 870\u001B[0m     \u001B[38;5;28;01mraise\u001B[39;00m \u001B[38;5;167;01mTypeError\u001B[39;00m(\n\u001B[1;32m    871\u001B[0m         \u001B[38;5;124mf\u001B[39m\u001B[38;5;124m\"\u001B[39m\u001B[38;5;124mError when deserializing class \u001B[39m\u001B[38;5;124m'\u001B[39m\u001B[38;5;132;01m{\u001B[39;00m\u001B[38;5;28mcls\u001B[39m\u001B[38;5;241m.\u001B[39m\u001B[38;5;18m__name__\u001B[39m\u001B[38;5;132;01m}\u001B[39;00m\u001B[38;5;124m'\u001B[39m\u001B[38;5;124m using \u001B[39m\u001B[38;5;124m\"\u001B[39m\n\u001B[1;32m    872\u001B[0m         \u001B[38;5;124mf\u001B[39m\u001B[38;5;124m\"\u001B[39m\u001B[38;5;124mconfig=\u001B[39m\u001B[38;5;132;01m{\u001B[39;00mconfig\u001B[38;5;132;01m}\u001B[39;00m\u001B[38;5;124m.\u001B[39m\u001B[38;5;130;01m\\n\u001B[39;00m\u001B[38;5;130;01m\\n\u001B[39;00m\u001B[38;5;124mException encountered: \u001B[39m\u001B[38;5;132;01m{\u001B[39;00me\u001B[38;5;132;01m}\u001B[39;00m\u001B[38;5;124m\"\u001B[39m\n\u001B[1;32m    873\u001B[0m     )\n",
      "\u001B[0;31mTypeError\u001B[0m: Error when deserializing class 'InputLayer' using config={'batch_shape': [None, 40, 1], 'dtype': 'float32', 'sparse': False, 'name': 'input_layer_1'}.\n\nException encountered: Unrecognized keyword arguments: ['batch_shape']"
     ]
    }
   ],
   "execution_count": 6
  }
 ],
 "metadata": {
  "kernelspec": {
   "display_name": "Python 3",
   "language": "python",
   "name": "python3"
  },
  "language_info": {
   "codemirror_mode": {
    "name": "ipython",
    "version": 2
   },
   "file_extension": ".py",
   "mimetype": "text/x-python",
   "name": "python",
   "nbconvert_exporter": "python",
   "pygments_lexer": "ipython2",
   "version": "2.7.6"
  }
 },
 "nbformat": 4,
 "nbformat_minor": 5
}
