{
 "cells": [
  {
   "cell_type": "code",
   "id": "initial_id",
   "metadata": {
    "collapsed": true,
    "ExecuteTime": {
     "end_time": "2024-05-11T14:30:36.836169Z",
     "start_time": "2024-05-11T14:30:36.815046Z"
    }
   },
   "source": [
    "import numpy as np\n",
    "import pandas as pd\n",
    "import matplotlib.pyplot as plt\n",
    "import tensorflow as tf\n",
    "from tensorflow.keras.models import Sequential, load_model\n",
    "from tensorflow.keras.layers import Dense, Conv1D, LSTM, Dropout, Flatten\n",
    "from tensorflow.keras import optimizers\n",
    "from tensorflow.keras.preprocessing.text import Tokenizer\n",
    "from keras.src.utils import pad_sequences\n",
    "from sklearn.model_selection import train_test_split\n",
    "from custom_preprocessor import preprocess\n",
    "from fs.osfs import OSFS"
   ],
   "outputs": [],
   "execution_count": 4
  },
  {
   "cell_type": "markdown",
   "source": [
    "# Prediction"
   ],
   "metadata": {
    "collapsed": false
   },
   "id": "4fb3930ce2fec85d"
  },
  {
   "cell_type": "code",
   "source": [
    "\n",
    "tokenizer = Tokenizer(char_level=True)\n",
    "tokenizer.fit_on_texts()\n",
    "def get_columns(directory):\n",
    "    with OSFS(f'./{directory}') as fs:\n",
    "        print(fs.listdir('.'))\n",
    "        return fs.listdir('.')\n",
    "\n",
    "def predict(model_path, text, max_length, directory):\n",
    "    print(f\"Text before preprocessing: {text}\")\n",
    "    prediction_word = preprocess(text)\n",
    "    print(f\"Text after preprocessing: {prediction_word}\")\n",
    "    prediction_word = tokenizer.texts_to_sequences([prediction_word])\n",
    "    prediction_word = pad_sequences(prediction_word, maxlen=max_length)\n",
    "    model = load_model(model_path)\n",
    "    prediction = model.predict([prediction_word])\n",
    "    output_probabilities = np.array(prediction)\n",
    "    result = {}\n",
    "    class_labels = np.unique(get_columns(directory))\n",
    "    for index, prediction in enumerate(output_probabilities[0]):\n",
    "        result.update({class_labels[index]: round(prediction * 100, 1)})\n",
    "\n",
    "    # Print keys and values of the result dictionary\n",
    "    for key, value in result.items():\n",
    "        print(f\"{key}: {value}%\")\n",
    "\n",
    "text_prediction = \"Hvem er du og hvad laver du her\"\n",
    "predict('./models/model_lang_families.keras', text_prediction, 40, 'data_families')"
   ],
   "metadata": {
    "collapsed": false,
    "ExecuteTime": {
     "end_time": "2024-05-11T14:39:44.843019Z",
     "start_time": "2024-05-11T14:39:44.706934Z"
    }
   },
   "id": "2af1ef5d86413ee6",
   "outputs": [
    {
     "name": "stdout",
     "output_type": "stream",
     "text": [
      "Text before preprocessing: Hvem er du og hvad laver du her\n",
      "Text after preprocessing: hvem er du og hvad laver du her hvem er du og\n",
      "[[]]\n",
      "\u001B[1m1/1\u001B[0m \u001B[32m━━━━━━━━━━━━━━━━━━━━\u001B[0m\u001B[37m\u001B[0m \u001B[1m0s\u001B[0m 78ms/step\n",
      "['Hellenic', 'Romance', 'Germanic', 'Slavic', 'Uralic']\n",
      "Germanic: 11.8%\n",
      "Hellenic: 9.9%\n",
      "Romance: 34.8%\n",
      "Slavic: 25.6%\n",
      "Uralic: 17.9%\n"
     ]
    }
   ],
   "execution_count": 16
  },
  {
   "cell_type": "code",
   "outputs": [],
   "source": [],
   "metadata": {
    "collapsed": false,
    "ExecuteTime": {
     "start_time": "2024-05-11T14:28:00.150259Z"
    }
   },
   "id": "7b0a77db229de458"
  }
 ],
 "metadata": {
  "kernelspec": {
   "display_name": "Python 3",
   "language": "python",
   "name": "python3"
  },
  "language_info": {
   "codemirror_mode": {
    "name": "ipython",
    "version": 2
   },
   "file_extension": ".py",
   "mimetype": "text/x-python",
   "name": "python",
   "nbconvert_exporter": "python",
   "pygments_lexer": "ipython2",
   "version": "2.7.6"
  }
 },
 "nbformat": 4,
 "nbformat_minor": 5
}
