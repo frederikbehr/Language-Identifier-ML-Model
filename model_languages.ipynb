{
 "cells": [
  {
   "cell_type": "code",
   "id": "initial_id",
   "metadata": {
    "collapsed": true,
    "ExecuteTime": {
     "end_time": "2024-05-18T20:08:45.456271Z",
     "start_time": "2024-05-18T20:08:45.437334Z"
    }
   },
   "source": [
    "import numpy as np\n",
    "import pandas as pd\n",
    "import matplotlib.pyplot as plt\n",
    "import tensorflow as tf\n",
    "from tensorflow.keras.models import Sequential, load_model\n",
    "from tensorflow.keras.layers import Dense, Conv1D, LSTM, Dropout, Flatten\n",
    "from tensorflow.keras import optimizers\n",
    "from tensorflow.keras.preprocessing.text import Tokenizer, tokenizer_from_json\n",
    "from keras.src.utils import pad_sequences\n",
    "from sklearn.model_selection import train_test_split\n",
    "from custom_preprocessor import preprocess\n",
    "from fs.osfs import OSFS\n",
    "import json"
   ],
   "outputs": [
    {
     "ename": "ModuleNotFoundError",
     "evalue": "No module named 'custom_preprocessor'",
     "output_type": "error",
     "traceback": [
      "\u001B[0;31m---------------------------------------------------------------------------\u001B[0m",
      "\u001B[0;31mModuleNotFoundError\u001B[0m                       Traceback (most recent call last)",
      "Cell \u001B[0;32mIn[17], line 11\u001B[0m\n\u001B[1;32m      9\u001B[0m \u001B[38;5;28;01mfrom\u001B[39;00m \u001B[38;5;21;01mkeras\u001B[39;00m\u001B[38;5;21;01m.\u001B[39;00m\u001B[38;5;21;01msrc\u001B[39;00m\u001B[38;5;21;01m.\u001B[39;00m\u001B[38;5;21;01mutils\u001B[39;00m \u001B[38;5;28;01mimport\u001B[39;00m pad_sequences\n\u001B[1;32m     10\u001B[0m \u001B[38;5;28;01mfrom\u001B[39;00m \u001B[38;5;21;01msklearn\u001B[39;00m\u001B[38;5;21;01m.\u001B[39;00m\u001B[38;5;21;01mmodel_selection\u001B[39;00m \u001B[38;5;28;01mimport\u001B[39;00m train_test_split\n\u001B[0;32m---> 11\u001B[0m \u001B[38;5;28;01mfrom\u001B[39;00m \u001B[38;5;21;01mcustom_preprocessor\u001B[39;00m \u001B[38;5;28;01mimport\u001B[39;00m preprocess\n\u001B[1;32m     12\u001B[0m \u001B[38;5;28;01mfrom\u001B[39;00m \u001B[38;5;21;01mfs\u001B[39;00m\u001B[38;5;21;01m.\u001B[39;00m\u001B[38;5;21;01mosfs\u001B[39;00m \u001B[38;5;28;01mimport\u001B[39;00m OSFS\n\u001B[1;32m     13\u001B[0m \u001B[38;5;28;01mimport\u001B[39;00m \u001B[38;5;21;01mjson\u001B[39;00m\n",
      "\u001B[0;31mModuleNotFoundError\u001B[0m: No module named 'custom_preprocessor'"
     ]
    }
   ],
   "execution_count": 17
  },
  {
   "cell_type": "markdown",
   "source": [
    "# Prediction"
   ],
   "metadata": {
    "collapsed": false
   },
   "id": "4fb3930ce2fec85d"
  },
  {
   "cell_type": "code",
   "source": [
    "import time\n",
    "\n",
    "\n",
    "def get_columns(directory):\n",
    "    with OSFS(f'./{directory}') as fs:\n",
    "        print(fs.listdir('.'))\n",
    "        return fs.listdir('.')\n",
    "\n",
    "def load_tokenizer_from_file(title):\n",
    "    with open(f'./tokenizer_configs/tokenizer_config_{title}.json', 'r') as config_file:\n",
    "        data = json.load(config_file)\n",
    "        tokenizer = tokenizer_from_json(data)\n",
    "    return tokenizer\n",
    "\n",
    "def tokenize(text, max_length, title):\n",
    "    tokenizer = load_tokenizer_from_file(title)\n",
    "    prediction_word = tokenizer.texts_to_sequences([text])\n",
    "    prediction_word = pad_sequences(prediction_word, maxlen=max_length)\n",
    "    return prediction_word\n",
    "    \n",
    "\n",
    "def predict(text, max_length, language):\n",
    "    prediction_word = preprocess(text)\n",
    "    if language == 'families':\n",
    "        print(f\"Text before preprocessing: {text}\")\n",
    "        print(f\"Text after preprocessing: {prediction_word}\")\n",
    "    prediction_word = tokenize(prediction_word, max_length, language)\n",
    "    model = load_model(f'./models/model_{language}.keras')\n",
    "    print(f'tokenized values for {language} {prediction_word}')\n",
    "    prediction = model.predict([prediction_word])\n",
    "    result = {}\n",
    "    class_labels = np.unique(get_columns(f'data_{language}'))\n",
    "    for index, prediction in enumerate(np.array(prediction)[0]):\n",
    "        result.update({class_labels[index]: round(prediction * 100, 1)})\n",
    "\n",
    "    import tensorflowjs as tfjs\n",
    "    tfjs.converters.save_keras_model(model, f'./converted_models/model_{language}')\n",
    "\n",
    "    # Print keys and values of the result dictionary\n",
    "    for key, value in result.items():\n",
    "        print(f\"{key}: {value}%\")\n",
    "    return max(result, key=lambda key: result[key])\n",
    "\n",
    "text_prediction = \"hvordan gar det med dig\"\n",
    "family = predict(text_prediction, 40, 'families')\n",
    "print(family)\n",
    "if family == 'Germanic':\n",
    "    predicted_language = predict(text_prediction, 49, 'germanic')\n",
    "elif family == 'Slavic':\n",
    "    predicted_language = predict(text_prediction, 48, 'slavic')\n",
    "elif family == 'Hellenic':\n",
    "    predicted_language = predict(text_prediction, 48, 'hellenic')\n",
    "elif family == 'Romance':\n",
    "    predicted_language = predict(text_prediction, 48, 'romance')\n",
    "elif family == 'Uralic':\n",
    "    predicted_language = predict(text_prediction, 48, 'uralic')"
   ],
   "metadata": {
    "collapsed": false,
    "ExecuteTime": {
     "end_time": "2024-05-18T20:08:47.017441Z",
     "start_time": "2024-05-18T20:08:47.014143Z"
    }
   },
   "id": "2af1ef5d86413ee6",
   "outputs": [
    {
     "ename": "NameError",
     "evalue": "name 'preprocess' is not defined",
     "output_type": "error",
     "traceback": [
      "\u001B[0;31m---------------------------------------------------------------------------\u001B[0m",
      "\u001B[0;31mNameError\u001B[0m                                 Traceback (most recent call last)",
      "Cell \u001B[0;32mIn[18], line 45\u001B[0m\n\u001B[1;32m     42\u001B[0m     \u001B[38;5;28;01mreturn\u001B[39;00m \u001B[38;5;28mmax\u001B[39m(result, key\u001B[38;5;241m=\u001B[39m\u001B[38;5;28;01mlambda\u001B[39;00m key: result[key])\n\u001B[1;32m     44\u001B[0m text_prediction \u001B[38;5;241m=\u001B[39m \u001B[38;5;124m\"\u001B[39m\u001B[38;5;124mhvordan gar det med dig\u001B[39m\u001B[38;5;124m\"\u001B[39m\n\u001B[0;32m---> 45\u001B[0m family \u001B[38;5;241m=\u001B[39m \u001B[43mpredict\u001B[49m\u001B[43m(\u001B[49m\u001B[43mtext_prediction\u001B[49m\u001B[43m,\u001B[49m\u001B[43m \u001B[49m\u001B[38;5;241;43m40\u001B[39;49m\u001B[43m,\u001B[49m\u001B[43m \u001B[49m\u001B[38;5;124;43m'\u001B[39;49m\u001B[38;5;124;43mfamilies\u001B[39;49m\u001B[38;5;124;43m'\u001B[39;49m\u001B[43m)\u001B[49m\n\u001B[1;32m     46\u001B[0m \u001B[38;5;28mprint\u001B[39m(family)\n\u001B[1;32m     47\u001B[0m \u001B[38;5;28;01mif\u001B[39;00m family \u001B[38;5;241m==\u001B[39m \u001B[38;5;124m'\u001B[39m\u001B[38;5;124mGermanic\u001B[39m\u001B[38;5;124m'\u001B[39m:\n",
      "Cell \u001B[0;32mIn[18], line 23\u001B[0m, in \u001B[0;36mpredict\u001B[0;34m(text, max_length, language)\u001B[0m\n\u001B[1;32m     22\u001B[0m \u001B[38;5;28;01mdef\u001B[39;00m \u001B[38;5;21mpredict\u001B[39m(text, max_length, language):\n\u001B[0;32m---> 23\u001B[0m     prediction_word \u001B[38;5;241m=\u001B[39m \u001B[43mpreprocess\u001B[49m(text)\n\u001B[1;32m     24\u001B[0m     \u001B[38;5;28;01mif\u001B[39;00m language \u001B[38;5;241m==\u001B[39m \u001B[38;5;124m'\u001B[39m\u001B[38;5;124mfamilies\u001B[39m\u001B[38;5;124m'\u001B[39m:\n\u001B[1;32m     25\u001B[0m         \u001B[38;5;28mprint\u001B[39m(\u001B[38;5;124mf\u001B[39m\u001B[38;5;124m\"\u001B[39m\u001B[38;5;124mText before preprocessing: \u001B[39m\u001B[38;5;132;01m{\u001B[39;00mtext\u001B[38;5;132;01m}\u001B[39;00m\u001B[38;5;124m\"\u001B[39m)\n",
      "\u001B[0;31mNameError\u001B[0m: name 'preprocess' is not defined"
     ]
    }
   ],
   "execution_count": 18
  },
  {
   "cell_type": "code",
   "outputs": [],
   "source": [],
   "metadata": {
    "collapsed": false,
    "ExecuteTime": {
     "end_time": "2024-05-18T20:06:20.562597Z",
     "start_time": "2024-05-18T20:06:20.560144Z"
    }
   },
   "id": "7b0a77db229de458",
   "execution_count": null
  }
 ],
 "metadata": {
  "kernelspec": {
   "display_name": "Python 3",
   "language": "python",
   "name": "python3"
  },
  "language_info": {
   "codemirror_mode": {
    "name": "ipython",
    "version": 2
   },
   "file_extension": ".py",
   "mimetype": "text/x-python",
   "name": "python",
   "nbconvert_exporter": "python",
   "pygments_lexer": "ipython2",
   "version": "2.7.6"
  }
 },
 "nbformat": 4,
 "nbformat_minor": 5
}
