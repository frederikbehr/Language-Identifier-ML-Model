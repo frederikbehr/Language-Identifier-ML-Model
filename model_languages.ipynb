{
 "cells": [
  {
   "cell_type": "code",
   "id": "initial_id",
   "metadata": {
    "collapsed": true,
    "ExecuteTime": {
     "end_time": "2024-05-16T22:27:51.485770Z",
     "start_time": "2024-05-16T22:27:51.479671Z"
    }
   },
   "source": [
    "import numpy as np\n",
    "import pandas as pd\n",
    "import matplotlib.pyplot as plt\n",
    "import tensorflow as tf\n",
    "from tensorflow.keras.models import Sequential, load_model\n",
    "from tensorflow.keras.layers import Dense, Conv1D, LSTM, Dropout, Flatten\n",
    "from tensorflow.keras import optimizers\n",
    "from tensorflow.keras.preprocessing.text import Tokenizer, tokenizer_from_json\n",
    "from keras.src.utils import pad_sequences\n",
    "from sklearn.model_selection import train_test_split\n",
    "from custom_preprocessor import preprocess\n",
    "from fs.osfs import OSFS\n",
    "import json"
   ],
   "outputs": [],
   "execution_count": 4
  },
  {
   "cell_type": "markdown",
   "source": [
    "# Prediction"
   ],
   "metadata": {
    "collapsed": false
   },
   "id": "4fb3930ce2fec85d"
  },
  {
   "cell_type": "code",
   "source": [
    "import time\n",
    "\n",
    "\n",
    "def get_columns(directory):\n",
    "    with OSFS(f'./{directory}') as fs:\n",
    "        print(fs.listdir('.'))\n",
    "        return fs.listdir('.')\n",
    "\n",
    "def load_tokenizer_from_file(title):\n",
    "    with open(f'./tokenizer_configs/tokenizer_config_{title}.json', 'r') as config_file:\n",
    "        data = json.load(config_file)\n",
    "        tokenizer = tokenizer_from_json(data)\n",
    "    return tokenizer\n",
    "\n",
    "def tokenize(text, max_length, title):\n",
    "    tokenizer = load_tokenizer_from_file(title)\n",
    "    prediction_word = tokenizer.texts_to_sequences([text])\n",
    "    prediction_word = pad_sequences(prediction_word, maxlen=max_length)\n",
    "    return prediction_word\n",
    "    \n",
    "\n",
    "def predict(text, max_length, language):\n",
    "    prediction_word = preprocess(text)\n",
    "    if language == 'families':\n",
    "        print(f\"Text before preprocessing: {text}\")\n",
    "        print(f\"Text after preprocessing: {prediction_word}\")\n",
    "    prediction_word = tokenize(prediction_word, max_length, language)\n",
    "    model = load_model(f'./models/model_{language}.keras')\n",
    "    print(f'tokenized values for {language} {prediction_word}')\n",
    "    prediction = model.predict([prediction_word])\n",
    "    result = {}\n",
    "    class_labels = np.unique(get_columns(f'data_{language}'))\n",
    "    for index, prediction in enumerate(np.array(prediction)[0]):\n",
    "        result.update({class_labels[index]: round(prediction * 100, 1)})\n",
    "\n",
    "    import tensorflowjs as tfjs\n",
    "    tfjs.converters.save_keras_model(model, f'./converted_models/model_{language}')\n",
    "\n",
    "    # Print keys and values of the result dictionary\n",
    "    for key, value in result.items():\n",
    "        print(f\"{key}: {value}%\")\n",
    "    return max(result, key=lambda key: result[key])\n",
    "\n",
    "text_prediction = \"hvordan gar det med dig\"\n",
    "family = predict(text_prediction, 40, 'families')\n",
    "print(family)\n",
    "if family == 'Germanic':\n",
    "    predicted_language = predict(text_prediction, 49, 'germanic')\n",
    "elif family == 'Slavic':\n",
    "    predicted_language = predict(text_prediction, 48, 'slavic')\n",
    "elif family == 'Hellenic':\n",
    "    predicted_language = predict(text_prediction, 48, 'hellenic')\n",
    "elif family == 'Romance':\n",
    "    predicted_language = predict(text_prediction, 48, 'romance')\n",
    "elif family == 'Uralic':\n",
    "    predicted_language = predict(text_prediction, 48, 'uralic')"
   ],
   "metadata": {
    "collapsed": false,
    "ExecuteTime": {
     "end_time": "2024-05-16T22:27:52.300087Z",
     "start_time": "2024-05-16T22:27:51.491027Z"
    }
   },
   "id": "2af1ef5d86413ee6",
   "outputs": [
    {
     "name": "stdout",
     "output_type": "stream",
     "text": [
      "Text before preprocessing: hvordan gar det med dig\n",
      "Text after preprocessing: hvordan gar det med dig hvordan gar det med dig\n",
      "tokenized values for families [[ 2 17  3  9  2 14  1  7  2 13  1 14  2 14  4 17  2 15 18  6  9 14  3  5\n",
      "   2 17  3  9  2 14  1  7  2 13  1 14  2 14  4 17]]\n",
      "\u001B[1m1/1\u001B[0m \u001B[32m━━━━━━━━━━━━━━━━━━━━\u001B[0m\u001B[37m\u001B[0m \u001B[1m0s\u001B[0m 64ms/step\n",
      "['Hellenic', 'Romance', 'Germanic', 'Slavic', 'Uralic']\n"
     ]
    },
    {
     "name": "stderr",
     "output_type": "stream",
     "text": [
      "WARNING:absl:You are saving your model as an HDF5 file via `model.save()` or `keras.saving.save_model(model)`. This file format is considered legacy. We recommend using instead the native Keras format, e.g. `model.save('my_model.keras')` or `keras.saving.save_model(model, 'my_model.keras')`. \n"
     ]
    },
    {
     "name": "stdout",
     "output_type": "stream",
     "text": [
      "failed to lookup keras version from the file,\n",
      "    this is likely a weight only file\n",
      "Germanic: 100.0%\n",
      "Hellenic: 0.0%\n",
      "Romance: 0.0%\n",
      "Slavic: 0.0%\n",
      "Uralic: 0.0%\n",
      "Germanic\n",
      "tokenized values for germanic [[ 0  0 12 17 10  6  7  4  3  1 13  4  6  1  7  2  5  1 14  2  7  1  7  8\n",
      "  13  1 12 17 10  6  7  4  3  1 13  4  6  1  7  2  5  1 14  2  7  1  7  8\n",
      "  13]]\n",
      "\u001B[1m1/1\u001B[0m \u001B[32m━━━━━━━━━━━━━━━━━━━━\u001B[0m\u001B[37m\u001B[0m \u001B[1m0s\u001B[0m 62ms/step\n"
     ]
    },
    {
     "name": "stderr",
     "output_type": "stream",
     "text": [
      "WARNING:absl:You are saving your model as an HDF5 file via `model.save()` or `keras.saving.save_model(model)`. This file format is considered legacy. We recommend using instead the native Keras format, e.g. `model.save('my_model.keras')` or `keras.saving.save_model(model, 'my_model.keras')`. \n"
     ]
    },
    {
     "name": "stdout",
     "output_type": "stream",
     "text": [
      "['Dutch', 'German', 'English', 'Norwegian', 'Danish', 'Swedish']\n",
      "failed to lookup keras version from the file,\n",
      "    this is likely a weight only file\n",
      "Danish: 51.1%\n",
      "Dutch: 0.0%\n",
      "English: 0.0%\n",
      "German: 0.0%\n",
      "Norwegian: 30.2%\n",
      "Swedish: 18.7%\n"
     ]
    }
   ],
   "execution_count": 5
  },
  {
   "cell_type": "code",
   "outputs": [],
   "source": [],
   "metadata": {
    "collapsed": false,
    "ExecuteTime": {
     "end_time": "2024-05-16T22:27:52.300532Z",
     "start_time": "2024-05-16T22:27:52.298749Z"
    }
   },
   "id": "7b0a77db229de458",
   "execution_count": 5
  }
 ],
 "metadata": {
  "kernelspec": {
   "display_name": "Python 3",
   "language": "python",
   "name": "python3"
  },
  "language_info": {
   "codemirror_mode": {
    "name": "ipython",
    "version": 2
   },
   "file_extension": ".py",
   "mimetype": "text/x-python",
   "name": "python",
   "nbconvert_exporter": "python",
   "pygments_lexer": "ipython2",
   "version": "2.7.6"
  }
 },
 "nbformat": 4,
 "nbformat_minor": 5
}
