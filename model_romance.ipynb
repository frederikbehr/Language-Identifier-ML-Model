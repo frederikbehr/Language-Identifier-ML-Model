{
 "cells": [
  {
   "cell_type": "code",
   "id": "initial_id",
   "metadata": {
    "collapsed": true,
    "ExecuteTime": {
     "end_time": "2024-05-12T00:26:10.772050Z",
     "start_time": "2024-05-12T00:26:07.285074Z"
    }
   },
   "source": [
    "import numpy as np\n",
    "import pandas as pd\n",
    "import matplotlib.pyplot as plt\n",
    "import tensorflow as tf\n",
    "from tensorflow.keras.models import Sequential, load_model\n",
    "from tensorflow.keras.layers import Dense, Conv1D, LSTM, Dropout, Flatten\n",
    "from tensorflow.keras import optimizers\n",
    "from tensorflow.keras.preprocessing.text import Tokenizer\n",
    "from keras.src.utils import pad_sequences\n",
    "from sklearn.model_selection import train_test_split\n",
    "from custom_preprocessor import preprocess\n",
    "import json"
   ],
   "outputs": [],
   "execution_count": 1
  },
  {
   "cell_type": "markdown",
   "source": [
    "# Get data\n",
    "Pandas is used to get the data from the project directory.\n",
    "The data is a .csv file, that has been created by book texts and prepared to be listed in the file word-by-word."
   ],
   "metadata": {
    "collapsed": false
   },
   "id": "b20ed3afab281b03"
  },
  {
   "cell_type": "code",
   "source": [
    "df = pd.read_csv('./data/dataset_romance.csv')\n",
    "df = df.sample(frac=1.0, random_state=12)\n",
    "df.head()"
   ],
   "metadata": {
    "collapsed": false,
    "ExecuteTime": {
     "end_time": "2024-05-12T00:26:10.799592Z",
     "start_time": "2024-05-12T00:26:10.773458Z"
    }
   },
   "id": "9934f095638f49f4",
   "outputs": [
    {
     "data": {
      "text/plain": "                                                  Word Language\n28197  no se respondio no se respondio no se respondio  Spanish\n27821  no habra salido no habra salido no habra salido  Spanish\n28960        callate susurro  callate susurro  callate  Spanish\n7064   ove il sole ove il sole ove il sole ove il sole  Italian\n11148  dentro il convento dentro il convento dentro il  Italian",
      "text/html": "<div>\n<style scoped>\n    .dataframe tbody tr th:only-of-type {\n        vertical-align: middle;\n    }\n\n    .dataframe tbody tr th {\n        vertical-align: top;\n    }\n\n    .dataframe thead th {\n        text-align: right;\n    }\n</style>\n<table border=\"1\" class=\"dataframe\">\n  <thead>\n    <tr style=\"text-align: right;\">\n      <th></th>\n      <th>Word</th>\n      <th>Language</th>\n    </tr>\n  </thead>\n  <tbody>\n    <tr>\n      <th>28197</th>\n      <td>no se respondio no se respondio no se respondio</td>\n      <td>Spanish</td>\n    </tr>\n    <tr>\n      <th>27821</th>\n      <td>no habra salido no habra salido no habra salido</td>\n      <td>Spanish</td>\n    </tr>\n    <tr>\n      <th>28960</th>\n      <td>callate susurro  callate susurro  callate</td>\n      <td>Spanish</td>\n    </tr>\n    <tr>\n      <th>7064</th>\n      <td>ove il sole ove il sole ove il sole ove il sole</td>\n      <td>Italian</td>\n    </tr>\n    <tr>\n      <th>11148</th>\n      <td>dentro il convento dentro il convento dentro il</td>\n      <td>Italian</td>\n    </tr>\n  </tbody>\n</table>\n</div>"
     },
     "execution_count": 2,
     "metadata": {},
     "output_type": "execute_result"
    }
   ],
   "execution_count": 2
  },
  {
   "cell_type": "markdown",
   "source": [
    "# Prepare data\n",
    "Divide the data into X and y. X is input and y is the desired output.\n",
    "One-Hot Encode it, so the language is categorical. This is done with Pandas."
   ],
   "metadata": {
    "collapsed": false
   },
   "id": "e375f9241e794ae4"
  },
  {
   "cell_type": "code",
   "source": [
    "# Getting X - the input values\n",
    "X = df.iloc[:, :-1]\n",
    "X.loc[:, 'Word'] = X['Word'].astype(str)\n",
    "tokenizer = Tokenizer(char_level=True) # Used for turning the words into numbers\n",
    "tokenizer.fit_on_texts(X['Word'].tolist()) # Giving Tokenizer the data it needs to learn how to encode the words\n",
    "X_sequences = tokenizer.texts_to_sequences(X['Word'].tolist()) # Now the words are encoded into sequences\n",
    "input_dim = max(len(seq) for seq in X_sequences)\n",
    "print(f\"Input dimension: {input_dim}\")\n",
    "X = pad_sequences(\n",
    "    X_sequences, \n",
    "    maxlen=input_dim, \n",
    "    padding='post'\n",
    ") # Making all input values be of same length\n",
    "print(f\"Rows: {len(X)}\")\n",
    "\n",
    "# Getting y - the output values\n",
    "y_df = pd.get_dummies(df.iloc[:, -1:])\n",
    "y = y_df.values\n",
    "print(f\"Amount of languages to identify: {len(y[1])}\")\n",
    "\n",
    "X_train, X_val, y_train, y_val = train_test_split(X, y, test_size=0.2, random_state=42)\n",
    "X_train = X_train.reshape(X_train.shape[0], X_train.shape[1], 1)"
   ],
   "metadata": {
    "collapsed": false,
    "ExecuteTime": {
     "end_time": "2024-05-12T00:26:11.284722Z",
     "start_time": "2024-05-12T00:26:10.802548Z"
    }
   },
   "id": "ba4d86402045de27",
   "outputs": [
    {
     "name": "stdout",
     "output_type": "stream",
     "text": [
      "Input dimension: 48\n",
      "Rows: 29575\n",
      "Amount of languages to identify: 5\n"
     ]
    }
   ],
   "execution_count": 3
  },
  {
   "cell_type": "code",
   "source": [
    "model = Sequential()\n",
    "model.add(Conv1D(input_dim, 2, activation='relu'))  # Convolutional layer\n",
    "tf.keras.layers.SimpleRNN(8, activation='relu')\n",
    "model.add(LSTM(32, return_sequences=True))\n",
    "model.add(Flatten())\n",
    "model.add(Dropout(0.5))\n",
    "model.add(Dense(len(y[1]), activation='softmax'))\n",
    "adam = optimizers.Adam(learning_rate=0.01)\n",
    "model.compile(loss='categorical_crossentropy', optimizer=adam, metrics=['accuracy'])"
   ],
   "metadata": {
    "collapsed": false,
    "ExecuteTime": {
     "end_time": "2024-05-12T00:26:11.312302Z",
     "start_time": "2024-05-12T00:26:11.297298Z"
    }
   },
   "id": "c870f2fa48fe956c",
   "outputs": [],
   "execution_count": 4
  },
  {
   "cell_type": "code",
   "source": [
    "history = model.fit(X_train, y_train, validation_data=(X_val, y_val), epochs=125, batch_size=2048,verbose=1)"
   ],
   "metadata": {
    "collapsed": false,
    "ExecuteTime": {
     "end_time": "2024-05-12T00:30:07.732411Z",
     "start_time": "2024-05-12T00:26:11.314331Z"
    }
   },
   "id": "d9a29cb1ff2dcba7",
   "outputs": [
    {
     "name": "stdout",
     "output_type": "stream",
     "text": [
      "Epoch 1/125\n",
      "\u001B[1m12/12\u001B[0m \u001B[32m━━━━━━━━━━━━━━━━━━━━\u001B[0m\u001B[37m\u001B[0m \u001B[1m3s\u001B[0m 143ms/step - accuracy: 0.2031 - loss: 2.0948 - val_accuracy: 0.2012 - val_loss: 1.6187\n",
      "Epoch 2/125\n",
      "\u001B[1m12/12\u001B[0m \u001B[32m━━━━━━━━━━━━━━━━━━━━\u001B[0m\u001B[37m\u001B[0m \u001B[1m2s\u001B[0m 153ms/step - accuracy: 0.2156 - loss: 1.6195 - val_accuracy: 0.2566 - val_loss: 1.5984\n",
      "Epoch 3/125\n",
      "\u001B[1m12/12\u001B[0m \u001B[32m━━━━━━━━━━━━━━━━━━━━\u001B[0m\u001B[37m\u001B[0m \u001B[1m2s\u001B[0m 157ms/step - accuracy: 0.2387 - loss: 1.5973 - val_accuracy: 0.2952 - val_loss: 1.5860\n",
      "Epoch 4/125\n",
      "\u001B[1m12/12\u001B[0m \u001B[32m━━━━━━━━━━━━━━━━━━━━\u001B[0m\u001B[37m\u001B[0m \u001B[1m2s\u001B[0m 198ms/step - accuracy: 0.2705 - loss: 1.5840 - val_accuracy: 0.3217 - val_loss: 1.5614\n",
      "Epoch 5/125\n",
      "\u001B[1m12/12\u001B[0m \u001B[32m━━━━━━━━━━━━━━━━━━━━\u001B[0m\u001B[37m\u001B[0m \u001B[1m2s\u001B[0m 187ms/step - accuracy: 0.2956 - loss: 1.5589 - val_accuracy: 0.3224 - val_loss: 1.5272\n",
      "Epoch 6/125\n",
      "\u001B[1m12/12\u001B[0m \u001B[32m━━━━━━━━━━━━━━━━━━━━\u001B[0m\u001B[37m\u001B[0m \u001B[1m2s\u001B[0m 158ms/step - accuracy: 0.3174 - loss: 1.5222 - val_accuracy: 0.3109 - val_loss: 1.5070\n",
      "Epoch 7/125\n",
      "\u001B[1m12/12\u001B[0m \u001B[32m━━━━━━━━━━━━━━━━━━━━\u001B[0m\u001B[37m\u001B[0m \u001B[1m2s\u001B[0m 149ms/step - accuracy: 0.3366 - loss: 1.4953 - val_accuracy: 0.3566 - val_loss: 1.4573\n",
      "Epoch 8/125\n",
      "\u001B[1m12/12\u001B[0m \u001B[32m━━━━━━━━━━━━━━━━━━━━\u001B[0m\u001B[37m\u001B[0m \u001B[1m2s\u001B[0m 147ms/step - accuracy: 0.3680 - loss: 1.4482 - val_accuracy: 0.3937 - val_loss: 1.4096\n",
      "Epoch 9/125\n",
      "\u001B[1m12/12\u001B[0m \u001B[32m━━━━━━━━━━━━━━━━━━━━\u001B[0m\u001B[37m\u001B[0m \u001B[1m2s\u001B[0m 150ms/step - accuracy: 0.3898 - loss: 1.4153 - val_accuracy: 0.4096 - val_loss: 1.3741\n",
      "Epoch 10/125\n",
      "\u001B[1m12/12\u001B[0m \u001B[32m━━━━━━━━━━━━━━━━━━━━\u001B[0m\u001B[37m\u001B[0m \u001B[1m2s\u001B[0m 150ms/step - accuracy: 0.4033 - loss: 1.3716 - val_accuracy: 0.4118 - val_loss: 1.3571\n",
      "Epoch 11/125\n",
      "\u001B[1m12/12\u001B[0m \u001B[32m━━━━━━━━━━━━━━━━━━━━\u001B[0m\u001B[37m\u001B[0m \u001B[1m2s\u001B[0m 152ms/step - accuracy: 0.4196 - loss: 1.3521 - val_accuracy: 0.4463 - val_loss: 1.3152\n",
      "Epoch 12/125\n",
      "\u001B[1m12/12\u001B[0m \u001B[32m━━━━━━━━━━━━━━━━━━━━\u001B[0m\u001B[37m\u001B[0m \u001B[1m2s\u001B[0m 149ms/step - accuracy: 0.4361 - loss: 1.3315 - val_accuracy: 0.4551 - val_loss: 1.2972\n",
      "Epoch 13/125\n",
      "\u001B[1m12/12\u001B[0m \u001B[32m━━━━━━━━━━━━━━━━━━━━\u001B[0m\u001B[37m\u001B[0m \u001B[1m2s\u001B[0m 148ms/step - accuracy: 0.4499 - loss: 1.3074 - val_accuracy: 0.4527 - val_loss: 1.2924\n",
      "Epoch 14/125\n",
      "\u001B[1m12/12\u001B[0m \u001B[32m━━━━━━━━━━━━━━━━━━━━\u001B[0m\u001B[37m\u001B[0m \u001B[1m2s\u001B[0m 148ms/step - accuracy: 0.4571 - loss: 1.2917 - val_accuracy: 0.4713 - val_loss: 1.2639\n",
      "Epoch 15/125\n",
      "\u001B[1m12/12\u001B[0m \u001B[32m━━━━━━━━━━━━━━━━━━━━\u001B[0m\u001B[37m\u001B[0m \u001B[1m2s\u001B[0m 150ms/step - accuracy: 0.4533 - loss: 1.2946 - val_accuracy: 0.4752 - val_loss: 1.2668\n",
      "Epoch 16/125\n",
      "\u001B[1m12/12\u001B[0m \u001B[32m━━━━━━━━━━━━━━━━━━━━\u001B[0m\u001B[37m\u001B[0m \u001B[1m2s\u001B[0m 150ms/step - accuracy: 0.4609 - loss: 1.2819 - val_accuracy: 0.4862 - val_loss: 1.2481\n",
      "Epoch 17/125\n",
      "\u001B[1m12/12\u001B[0m \u001B[32m━━━━━━━━━━━━━━━━━━━━\u001B[0m\u001B[37m\u001B[0m \u001B[1m2s\u001B[0m 149ms/step - accuracy: 0.4838 - loss: 1.2511 - val_accuracy: 0.4923 - val_loss: 1.2209\n",
      "Epoch 18/125\n",
      "\u001B[1m12/12\u001B[0m \u001B[32m━━━━━━━━━━━━━━━━━━━━\u001B[0m\u001B[37m\u001B[0m \u001B[1m2s\u001B[0m 174ms/step - accuracy: 0.4993 - loss: 1.2210 - val_accuracy: 0.5128 - val_loss: 1.1872\n",
      "Epoch 19/125\n",
      "\u001B[1m12/12\u001B[0m \u001B[32m━━━━━━━━━━━━━━━━━━━━\u001B[0m\u001B[37m\u001B[0m \u001B[1m2s\u001B[0m 150ms/step - accuracy: 0.5057 - loss: 1.2121 - val_accuracy: 0.5253 - val_loss: 1.1695\n",
      "Epoch 20/125\n",
      "\u001B[1m12/12\u001B[0m \u001B[32m━━━━━━━━━━━━━━━━━━━━\u001B[0m\u001B[37m\u001B[0m \u001B[1m2s\u001B[0m 150ms/step - accuracy: 0.5261 - loss: 1.1823 - val_accuracy: 0.5300 - val_loss: 1.1577\n",
      "Epoch 21/125\n",
      "\u001B[1m12/12\u001B[0m \u001B[32m━━━━━━━━━━━━━━━━━━━━\u001B[0m\u001B[37m\u001B[0m \u001B[1m2s\u001B[0m 152ms/step - accuracy: 0.5293 - loss: 1.1580 - val_accuracy: 0.5513 - val_loss: 1.1182\n",
      "Epoch 22/125\n",
      "\u001B[1m12/12\u001B[0m \u001B[32m━━━━━━━━━━━━━━━━━━━━\u001B[0m\u001B[37m\u001B[0m \u001B[1m2s\u001B[0m 150ms/step - accuracy: 0.5342 - loss: 1.1535 - val_accuracy: 0.5515 - val_loss: 1.1248\n",
      "Epoch 23/125\n",
      "\u001B[1m12/12\u001B[0m \u001B[32m━━━━━━━━━━━━━━━━━━━━\u001B[0m\u001B[37m\u001B[0m \u001B[1m2s\u001B[0m 151ms/step - accuracy: 0.5372 - loss: 1.1480 - val_accuracy: 0.5711 - val_loss: 1.0984\n",
      "Epoch 24/125\n",
      "\u001B[1m12/12\u001B[0m \u001B[32m━━━━━━━━━━━━━━━━━━━━\u001B[0m\u001B[37m\u001B[0m \u001B[1m2s\u001B[0m 151ms/step - accuracy: 0.5542 - loss: 1.1226 - val_accuracy: 0.5860 - val_loss: 1.0678\n",
      "Epoch 25/125\n",
      "\u001B[1m12/12\u001B[0m \u001B[32m━━━━━━━━━━━━━━━━━━━━\u001B[0m\u001B[37m\u001B[0m \u001B[1m2s\u001B[0m 150ms/step - accuracy: 0.5715 - loss: 1.0945 - val_accuracy: 0.5978 - val_loss: 1.0419\n",
      "Epoch 26/125\n",
      "\u001B[1m12/12\u001B[0m \u001B[32m━━━━━━━━━━━━━━━━━━━━\u001B[0m\u001B[37m\u001B[0m \u001B[1m2s\u001B[0m 147ms/step - accuracy: 0.5692 - loss: 1.0844 - val_accuracy: 0.5850 - val_loss: 1.0458\n",
      "Epoch 27/125\n",
      "\u001B[1m12/12\u001B[0m \u001B[32m━━━━━━━━━━━━━━━━━━━━\u001B[0m\u001B[37m\u001B[0m \u001B[1m2s\u001B[0m 149ms/step - accuracy: 0.5867 - loss: 1.0608 - val_accuracy: 0.6003 - val_loss: 1.0278\n",
      "Epoch 28/125\n",
      "\u001B[1m12/12\u001B[0m \u001B[32m━━━━━━━━━━━━━━━━━━━━\u001B[0m\u001B[37m\u001B[0m \u001B[1m2s\u001B[0m 149ms/step - accuracy: 0.5917 - loss: 1.0490 - val_accuracy: 0.6052 - val_loss: 1.0095\n",
      "Epoch 29/125\n",
      "\u001B[1m12/12\u001B[0m \u001B[32m━━━━━━━━━━━━━━━━━━━━\u001B[0m\u001B[37m\u001B[0m \u001B[1m2s\u001B[0m 150ms/step - accuracy: 0.5636 - loss: 1.1015 - val_accuracy: 0.5865 - val_loss: 1.0575\n",
      "Epoch 30/125\n",
      "\u001B[1m12/12\u001B[0m \u001B[32m━━━━━━━━━━━━━━━━━━━━\u001B[0m\u001B[37m\u001B[0m \u001B[1m2s\u001B[0m 149ms/step - accuracy: 0.5836 - loss: 1.0601 - val_accuracy: 0.6098 - val_loss: 0.9990\n",
      "Epoch 31/125\n",
      "\u001B[1m12/12\u001B[0m \u001B[32m━━━━━━━━━━━━━━━━━━━━\u001B[0m\u001B[37m\u001B[0m \u001B[1m2s\u001B[0m 150ms/step - accuracy: 0.6068 - loss: 1.0118 - val_accuracy: 0.6352 - val_loss: 0.9681\n",
      "Epoch 32/125\n",
      "\u001B[1m12/12\u001B[0m \u001B[32m━━━━━━━━━━━━━━━━━━━━\u001B[0m\u001B[37m\u001B[0m \u001B[1m2s\u001B[0m 152ms/step - accuracy: 0.6174 - loss: 0.9891 - val_accuracy: 0.6409 - val_loss: 0.9474\n",
      "Epoch 33/125\n",
      "\u001B[1m12/12\u001B[0m \u001B[32m━━━━━━━━━━━━━━━━━━━━\u001B[0m\u001B[37m\u001B[0m \u001B[1m2s\u001B[0m 149ms/step - accuracy: 0.6256 - loss: 0.9701 - val_accuracy: 0.6463 - val_loss: 0.9355\n",
      "Epoch 34/125\n",
      "\u001B[1m12/12\u001B[0m \u001B[32m━━━━━━━━━━━━━━━━━━━━\u001B[0m\u001B[37m\u001B[0m \u001B[1m2s\u001B[0m 150ms/step - accuracy: 0.6326 - loss: 0.9448 - val_accuracy: 0.6536 - val_loss: 0.9138\n",
      "Epoch 35/125\n",
      "\u001B[1m12/12\u001B[0m \u001B[32m━━━━━━━━━━━━━━━━━━━━\u001B[0m\u001B[37m\u001B[0m \u001B[1m2s\u001B[0m 157ms/step - accuracy: 0.6430 - loss: 0.9284 - val_accuracy: 0.6470 - val_loss: 0.9275\n",
      "Epoch 36/125\n",
      "\u001B[1m12/12\u001B[0m \u001B[32m━━━━━━━━━━━━━━━━━━━━\u001B[0m\u001B[37m\u001B[0m \u001B[1m3s\u001B[0m 219ms/step - accuracy: 0.6369 - loss: 0.9406 - val_accuracy: 0.6560 - val_loss: 0.9062\n",
      "Epoch 37/125\n",
      "\u001B[1m12/12\u001B[0m \u001B[32m━━━━━━━━━━━━━━━━━━━━\u001B[0m\u001B[37m\u001B[0m \u001B[1m2s\u001B[0m 162ms/step - accuracy: 0.6472 - loss: 0.9140 - val_accuracy: 0.6634 - val_loss: 0.8866\n",
      "Epoch 38/125\n",
      "\u001B[1m12/12\u001B[0m \u001B[32m━━━━━━━━━━━━━━━━━━━━\u001B[0m\u001B[37m\u001B[0m \u001B[1m2s\u001B[0m 145ms/step - accuracy: 0.6534 - loss: 0.9050 - val_accuracy: 0.6771 - val_loss: 0.8656\n",
      "Epoch 39/125\n",
      "\u001B[1m12/12\u001B[0m \u001B[32m━━━━━━━━━━━━━━━━━━━━\u001B[0m\u001B[37m\u001B[0m \u001B[1m2s\u001B[0m 203ms/step - accuracy: 0.6644 - loss: 0.8814 - val_accuracy: 0.6676 - val_loss: 0.8791\n",
      "Epoch 40/125\n",
      "\u001B[1m12/12\u001B[0m \u001B[32m━━━━━━━━━━━━━━━━━━━━\u001B[0m\u001B[37m\u001B[0m \u001B[1m2s\u001B[0m 148ms/step - accuracy: 0.6658 - loss: 0.8824 - val_accuracy: 0.6669 - val_loss: 0.8641\n",
      "Epoch 41/125\n",
      "\u001B[1m12/12\u001B[0m \u001B[32m━━━━━━━━━━━━━━━━━━━━\u001B[0m\u001B[37m\u001B[0m \u001B[1m2s\u001B[0m 150ms/step - accuracy: 0.6731 - loss: 0.8609 - val_accuracy: 0.6832 - val_loss: 0.8453\n",
      "Epoch 42/125\n",
      "\u001B[1m12/12\u001B[0m \u001B[32m━━━━━━━━━━━━━━━━━━━━\u001B[0m\u001B[37m\u001B[0m \u001B[1m2s\u001B[0m 150ms/step - accuracy: 0.6762 - loss: 0.8516 - val_accuracy: 0.6832 - val_loss: 0.8370\n",
      "Epoch 43/125\n",
      "\u001B[1m12/12\u001B[0m \u001B[32m━━━━━━━━━━━━━━━━━━━━\u001B[0m\u001B[37m\u001B[0m \u001B[1m2s\u001B[0m 150ms/step - accuracy: 0.6737 - loss: 0.8431 - val_accuracy: 0.6893 - val_loss: 0.8248\n",
      "Epoch 44/125\n",
      "\u001B[1m12/12\u001B[0m \u001B[32m━━━━━━━━━━━━━━━━━━━━\u001B[0m\u001B[37m\u001B[0m \u001B[1m2s\u001B[0m 150ms/step - accuracy: 0.6878 - loss: 0.8228 - val_accuracy: 0.6970 - val_loss: 0.8161\n",
      "Epoch 45/125\n",
      "\u001B[1m12/12\u001B[0m \u001B[32m━━━━━━━━━━━━━━━━━━━━\u001B[0m\u001B[37m\u001B[0m \u001B[1m2s\u001B[0m 149ms/step - accuracy: 0.6892 - loss: 0.8229 - val_accuracy: 0.6800 - val_loss: 0.8407\n",
      "Epoch 46/125\n",
      "\u001B[1m12/12\u001B[0m \u001B[32m━━━━━━━━━━━━━━━━━━━━\u001B[0m\u001B[37m\u001B[0m \u001B[1m2s\u001B[0m 151ms/step - accuracy: 0.6815 - loss: 0.8290 - val_accuracy: 0.7004 - val_loss: 0.8010\n",
      "Epoch 47/125\n",
      "\u001B[1m12/12\u001B[0m \u001B[32m━━━━━━━━━━━━━━━━━━━━\u001B[0m\u001B[37m\u001B[0m \u001B[1m2s\u001B[0m 146ms/step - accuracy: 0.6997 - loss: 0.7966 - val_accuracy: 0.7074 - val_loss: 0.7826\n",
      "Epoch 48/125\n",
      "\u001B[1m12/12\u001B[0m \u001B[32m━━━━━━━━━━━━━━━━━━━━\u001B[0m\u001B[37m\u001B[0m \u001B[1m2s\u001B[0m 151ms/step - accuracy: 0.7014 - loss: 0.7829 - val_accuracy: 0.7121 - val_loss: 0.7739\n",
      "Epoch 49/125\n",
      "\u001B[1m12/12\u001B[0m \u001B[32m━━━━━━━━━━━━━━━━━━━━\u001B[0m\u001B[37m\u001B[0m \u001B[1m2s\u001B[0m 150ms/step - accuracy: 0.7005 - loss: 0.7887 - val_accuracy: 0.7009 - val_loss: 0.7883\n",
      "Epoch 50/125\n",
      "\u001B[1m12/12\u001B[0m \u001B[32m━━━━━━━━━━━━━━━━━━━━\u001B[0m\u001B[37m\u001B[0m \u001B[1m2s\u001B[0m 150ms/step - accuracy: 0.7094 - loss: 0.7688 - val_accuracy: 0.7146 - val_loss: 0.7741\n",
      "Epoch 51/125\n",
      "\u001B[1m12/12\u001B[0m \u001B[32m━━━━━━━━━━━━━━━━━━━━\u001B[0m\u001B[37m\u001B[0m \u001B[1m2s\u001B[0m 149ms/step - accuracy: 0.7171 - loss: 0.7558 - val_accuracy: 0.7085 - val_loss: 0.7793\n",
      "Epoch 52/125\n",
      "\u001B[1m12/12\u001B[0m \u001B[32m━━━━━━━━━━━━━━━━━━━━\u001B[0m\u001B[37m\u001B[0m \u001B[1m2s\u001B[0m 149ms/step - accuracy: 0.7109 - loss: 0.7679 - val_accuracy: 0.7194 - val_loss: 0.7538\n",
      "Epoch 53/125\n",
      "\u001B[1m12/12\u001B[0m \u001B[32m━━━━━━━━━━━━━━━━━━━━\u001B[0m\u001B[37m\u001B[0m \u001B[1m2s\u001B[0m 149ms/step - accuracy: 0.7230 - loss: 0.7425 - val_accuracy: 0.7145 - val_loss: 0.7570\n",
      "Epoch 54/125\n",
      "\u001B[1m12/12\u001B[0m \u001B[32m━━━━━━━━━━━━━━━━━━━━\u001B[0m\u001B[37m\u001B[0m \u001B[1m2s\u001B[0m 150ms/step - accuracy: 0.7245 - loss: 0.7410 - val_accuracy: 0.7180 - val_loss: 0.7656\n",
      "Epoch 55/125\n",
      "\u001B[1m12/12\u001B[0m \u001B[32m━━━━━━━━━━━━━━━━━━━━\u001B[0m\u001B[37m\u001B[0m \u001B[1m2s\u001B[0m 150ms/step - accuracy: 0.7201 - loss: 0.7408 - val_accuracy: 0.7165 - val_loss: 0.7540\n",
      "Epoch 56/125\n",
      "\u001B[1m12/12\u001B[0m \u001B[32m━━━━━━━━━━━━━━━━━━━━\u001B[0m\u001B[37m\u001B[0m \u001B[1m2s\u001B[0m 152ms/step - accuracy: 0.7273 - loss: 0.7237 - val_accuracy: 0.7236 - val_loss: 0.7480\n",
      "Epoch 57/125\n",
      "\u001B[1m12/12\u001B[0m \u001B[32m━━━━━━━━━━━━━━━━━━━━\u001B[0m\u001B[37m\u001B[0m \u001B[1m2s\u001B[0m 203ms/step - accuracy: 0.7327 - loss: 0.7093 - val_accuracy: 0.7374 - val_loss: 0.7190\n",
      "Epoch 58/125\n",
      "\u001B[1m12/12\u001B[0m \u001B[32m━━━━━━━━━━━━━━━━━━━━\u001B[0m\u001B[37m\u001B[0m \u001B[1m2s\u001B[0m 182ms/step - accuracy: 0.7379 - loss: 0.6932 - val_accuracy: 0.7309 - val_loss: 0.7262\n",
      "Epoch 59/125\n",
      "\u001B[1m12/12\u001B[0m \u001B[32m━━━━━━━━━━━━━━━━━━━━\u001B[0m\u001B[37m\u001B[0m \u001B[1m2s\u001B[0m 159ms/step - accuracy: 0.7373 - loss: 0.6963 - val_accuracy: 0.7351 - val_loss: 0.7126\n",
      "Epoch 60/125\n",
      "\u001B[1m12/12\u001B[0m \u001B[32m━━━━━━━━━━━━━━━━━━━━\u001B[0m\u001B[37m\u001B[0m \u001B[1m2s\u001B[0m 158ms/step - accuracy: 0.7450 - loss: 0.6874 - val_accuracy: 0.7337 - val_loss: 0.7206\n",
      "Epoch 61/125\n",
      "\u001B[1m12/12\u001B[0m \u001B[32m━━━━━━━━━━━━━━━━━━━━\u001B[0m\u001B[37m\u001B[0m \u001B[1m2s\u001B[0m 158ms/step - accuracy: 0.7460 - loss: 0.6822 - val_accuracy: 0.7442 - val_loss: 0.6974\n",
      "Epoch 62/125\n",
      "\u001B[1m12/12\u001B[0m \u001B[32m━━━━━━━━━━━━━━━━━━━━\u001B[0m\u001B[37m\u001B[0m \u001B[1m2s\u001B[0m 169ms/step - accuracy: 0.7524 - loss: 0.6559 - val_accuracy: 0.7391 - val_loss: 0.7055\n",
      "Epoch 63/125\n",
      "\u001B[1m12/12\u001B[0m \u001B[32m━━━━━━━━━━━━━━━━━━━━\u001B[0m\u001B[37m\u001B[0m \u001B[1m2s\u001B[0m 159ms/step - accuracy: 0.7545 - loss: 0.6559 - val_accuracy: 0.7442 - val_loss: 0.7043\n",
      "Epoch 64/125\n",
      "\u001B[1m12/12\u001B[0m \u001B[32m━━━━━━━━━━━━━━━━━━━━\u001B[0m\u001B[37m\u001B[0m \u001B[1m2s\u001B[0m 160ms/step - accuracy: 0.7543 - loss: 0.6561 - val_accuracy: 0.7464 - val_loss: 0.6900\n",
      "Epoch 65/125\n",
      "\u001B[1m12/12\u001B[0m \u001B[32m━━━━━━━━━━━━━━━━━━━━\u001B[0m\u001B[37m\u001B[0m \u001B[1m2s\u001B[0m 166ms/step - accuracy: 0.7556 - loss: 0.6606 - val_accuracy: 0.7469 - val_loss: 0.7052\n",
      "Epoch 66/125\n",
      "\u001B[1m12/12\u001B[0m \u001B[32m━━━━━━━━━━━━━━━━━━━━\u001B[0m\u001B[37m\u001B[0m \u001B[1m2s\u001B[0m 188ms/step - accuracy: 0.7598 - loss: 0.6506 - val_accuracy: 0.7478 - val_loss: 0.6869\n",
      "Epoch 67/125\n",
      "\u001B[1m12/12\u001B[0m \u001B[32m━━━━━━━━━━━━━━━━━━━━\u001B[0m\u001B[37m\u001B[0m \u001B[1m2s\u001B[0m 185ms/step - accuracy: 0.7685 - loss: 0.6241 - val_accuracy: 0.7577 - val_loss: 0.6654\n",
      "Epoch 68/125\n",
      "\u001B[1m12/12\u001B[0m \u001B[32m━━━━━━━━━━━━━━━━━━━━\u001B[0m\u001B[37m\u001B[0m \u001B[1m2s\u001B[0m 156ms/step - accuracy: 0.7668 - loss: 0.6310 - val_accuracy: 0.7522 - val_loss: 0.6776\n",
      "Epoch 69/125\n",
      "\u001B[1m12/12\u001B[0m \u001B[32m━━━━━━━━━━━━━━━━━━━━\u001B[0m\u001B[37m\u001B[0m \u001B[1m2s\u001B[0m 156ms/step - accuracy: 0.7715 - loss: 0.6162 - val_accuracy: 0.7589 - val_loss: 0.6605\n",
      "Epoch 70/125\n",
      "\u001B[1m12/12\u001B[0m \u001B[32m━━━━━━━━━━━━━━━━━━━━\u001B[0m\u001B[37m\u001B[0m \u001B[1m2s\u001B[0m 159ms/step - accuracy: 0.7680 - loss: 0.6216 - val_accuracy: 0.7535 - val_loss: 0.6690\n",
      "Epoch 71/125\n",
      "\u001B[1m12/12\u001B[0m \u001B[32m━━━━━━━━━━━━━━━━━━━━\u001B[0m\u001B[37m\u001B[0m \u001B[1m2s\u001B[0m 152ms/step - accuracy: 0.7691 - loss: 0.6153 - val_accuracy: 0.7483 - val_loss: 0.6864\n",
      "Epoch 72/125\n",
      "\u001B[1m12/12\u001B[0m \u001B[32m━━━━━━━━━━━━━━━━━━━━\u001B[0m\u001B[37m\u001B[0m \u001B[1m2s\u001B[0m 151ms/step - accuracy: 0.7762 - loss: 0.6097 - val_accuracy: 0.7445 - val_loss: 0.6981\n",
      "Epoch 73/125\n",
      "\u001B[1m12/12\u001B[0m \u001B[32m━━━━━━━━━━━━━━━━━━━━\u001B[0m\u001B[37m\u001B[0m \u001B[1m2s\u001B[0m 154ms/step - accuracy: 0.7673 - loss: 0.6247 - val_accuracy: 0.7593 - val_loss: 0.6646\n",
      "Epoch 74/125\n",
      "\u001B[1m12/12\u001B[0m \u001B[32m━━━━━━━━━━━━━━━━━━━━\u001B[0m\u001B[37m\u001B[0m \u001B[1m2s\u001B[0m 187ms/step - accuracy: 0.7774 - loss: 0.5977 - val_accuracy: 0.7542 - val_loss: 0.6825\n",
      "Epoch 75/125\n",
      "\u001B[1m12/12\u001B[0m \u001B[32m━━━━━━━━━━━━━━━━━━━━\u001B[0m\u001B[37m\u001B[0m \u001B[1m2s\u001B[0m 166ms/step - accuracy: 0.7782 - loss: 0.5964 - val_accuracy: 0.7579 - val_loss: 0.6713\n",
      "Epoch 76/125\n",
      "\u001B[1m12/12\u001B[0m \u001B[32m━━━━━━━━━━━━━━━━━━━━\u001B[0m\u001B[37m\u001B[0m \u001B[1m2s\u001B[0m 150ms/step - accuracy: 0.7850 - loss: 0.5831 - val_accuracy: 0.7721 - val_loss: 0.6392\n",
      "Epoch 77/125\n",
      "\u001B[1m12/12\u001B[0m \u001B[32m━━━━━━━━━━━━━━━━━━━━\u001B[0m\u001B[37m\u001B[0m \u001B[1m2s\u001B[0m 150ms/step - accuracy: 0.7855 - loss: 0.5752 - val_accuracy: 0.7544 - val_loss: 0.6715\n",
      "Epoch 78/125\n",
      "\u001B[1m12/12\u001B[0m \u001B[32m━━━━━━━━━━━━━━━━━━━━\u001B[0m\u001B[37m\u001B[0m \u001B[1m2s\u001B[0m 150ms/step - accuracy: 0.7788 - loss: 0.6021 - val_accuracy: 0.7527 - val_loss: 0.6830\n",
      "Epoch 79/125\n",
      "\u001B[1m12/12\u001B[0m \u001B[32m━━━━━━━━━━━━━━━━━━━━\u001B[0m\u001B[37m\u001B[0m \u001B[1m2s\u001B[0m 151ms/step - accuracy: 0.7859 - loss: 0.5845 - val_accuracy: 0.7677 - val_loss: 0.6438\n",
      "Epoch 80/125\n",
      "\u001B[1m12/12\u001B[0m \u001B[32m━━━━━━━━━━━━━━━━━━━━\u001B[0m\u001B[37m\u001B[0m \u001B[1m2s\u001B[0m 149ms/step - accuracy: 0.7909 - loss: 0.5640 - val_accuracy: 0.7545 - val_loss: 0.6778\n",
      "Epoch 81/125\n",
      "\u001B[1m12/12\u001B[0m \u001B[32m━━━━━━━━━━━━━━━━━━━━\u001B[0m\u001B[37m\u001B[0m \u001B[1m2s\u001B[0m 150ms/step - accuracy: 0.7891 - loss: 0.5634 - val_accuracy: 0.7751 - val_loss: 0.6333\n",
      "Epoch 82/125\n",
      "\u001B[1m12/12\u001B[0m \u001B[32m━━━━━━━━━━━━━━━━━━━━\u001B[0m\u001B[37m\u001B[0m \u001B[1m2s\u001B[0m 150ms/step - accuracy: 0.7956 - loss: 0.5576 - val_accuracy: 0.7743 - val_loss: 0.6338\n",
      "Epoch 83/125\n",
      "\u001B[1m12/12\u001B[0m \u001B[32m━━━━━━━━━━━━━━━━━━━━\u001B[0m\u001B[37m\u001B[0m \u001B[1m2s\u001B[0m 149ms/step - accuracy: 0.7944 - loss: 0.5595 - val_accuracy: 0.7721 - val_loss: 0.6303\n",
      "Epoch 84/125\n",
      "\u001B[1m12/12\u001B[0m \u001B[32m━━━━━━━━━━━━━━━━━━━━\u001B[0m\u001B[37m\u001B[0m \u001B[1m2s\u001B[0m 150ms/step - accuracy: 0.7963 - loss: 0.5576 - val_accuracy: 0.7768 - val_loss: 0.6334\n",
      "Epoch 85/125\n",
      "\u001B[1m12/12\u001B[0m \u001B[32m━━━━━━━━━━━━━━━━━━━━\u001B[0m\u001B[37m\u001B[0m \u001B[1m2s\u001B[0m 150ms/step - accuracy: 0.7920 - loss: 0.5610 - val_accuracy: 0.7775 - val_loss: 0.6305\n",
      "Epoch 86/125\n",
      "\u001B[1m12/12\u001B[0m \u001B[32m━━━━━━━━━━━━━━━━━━━━\u001B[0m\u001B[37m\u001B[0m \u001B[1m2s\u001B[0m 164ms/step - accuracy: 0.7998 - loss: 0.5377 - val_accuracy: 0.7745 - val_loss: 0.6205\n",
      "Epoch 87/125\n",
      "\u001B[1m12/12\u001B[0m \u001B[32m━━━━━━━━━━━━━━━━━━━━\u001B[0m\u001B[37m\u001B[0m \u001B[1m2s\u001B[0m 150ms/step - accuracy: 0.7983 - loss: 0.5384 - val_accuracy: 0.7740 - val_loss: 0.6340\n",
      "Epoch 88/125\n",
      "\u001B[1m12/12\u001B[0m \u001B[32m━━━━━━━━━━━━━━━━━━━━\u001B[0m\u001B[37m\u001B[0m \u001B[1m2s\u001B[0m 180ms/step - accuracy: 0.8022 - loss: 0.5339 - val_accuracy: 0.7816 - val_loss: 0.6246\n",
      "Epoch 89/125\n",
      "\u001B[1m12/12\u001B[0m \u001B[32m━━━━━━━━━━━━━━━━━━━━\u001B[0m\u001B[37m\u001B[0m \u001B[1m2s\u001B[0m 192ms/step - accuracy: 0.8112 - loss: 0.5254 - val_accuracy: 0.7836 - val_loss: 0.6175\n",
      "Epoch 90/125\n",
      "\u001B[1m12/12\u001B[0m \u001B[32m━━━━━━━━━━━━━━━━━━━━\u001B[0m\u001B[37m\u001B[0m \u001B[1m2s\u001B[0m 161ms/step - accuracy: 0.8065 - loss: 0.5253 - val_accuracy: 0.7779 - val_loss: 0.6314\n",
      "Epoch 91/125\n",
      "\u001B[1m12/12\u001B[0m \u001B[32m━━━━━━━━━━━━━━━━━━━━\u001B[0m\u001B[37m\u001B[0m \u001B[1m2s\u001B[0m 157ms/step - accuracy: 0.8011 - loss: 0.5382 - val_accuracy: 0.7763 - val_loss: 0.6286\n",
      "Epoch 92/125\n",
      "\u001B[1m12/12\u001B[0m \u001B[32m━━━━━━━━━━━━━━━━━━━━\u001B[0m\u001B[37m\u001B[0m \u001B[1m2s\u001B[0m 157ms/step - accuracy: 0.8062 - loss: 0.5337 - val_accuracy: 0.7848 - val_loss: 0.6171\n",
      "Epoch 93/125\n",
      "\u001B[1m12/12\u001B[0m \u001B[32m━━━━━━━━━━━━━━━━━━━━\u001B[0m\u001B[37m\u001B[0m \u001B[1m2s\u001B[0m 155ms/step - accuracy: 0.8023 - loss: 0.5343 - val_accuracy: 0.7816 - val_loss: 0.6208\n",
      "Epoch 94/125\n",
      "\u001B[1m12/12\u001B[0m \u001B[32m━━━━━━━━━━━━━━━━━━━━\u001B[0m\u001B[37m\u001B[0m \u001B[1m2s\u001B[0m 158ms/step - accuracy: 0.8056 - loss: 0.5231 - val_accuracy: 0.7866 - val_loss: 0.6021\n",
      "Epoch 95/125\n",
      "\u001B[1m12/12\u001B[0m \u001B[32m━━━━━━━━━━━━━━━━━━━━\u001B[0m\u001B[37m\u001B[0m \u001B[1m2s\u001B[0m 152ms/step - accuracy: 0.8126 - loss: 0.5080 - val_accuracy: 0.7866 - val_loss: 0.6026\n",
      "Epoch 96/125\n",
      "\u001B[1m12/12\u001B[0m \u001B[32m━━━━━━━━━━━━━━━━━━━━\u001B[0m\u001B[37m\u001B[0m \u001B[1m2s\u001B[0m 159ms/step - accuracy: 0.8139 - loss: 0.4971 - val_accuracy: 0.7890 - val_loss: 0.6153\n",
      "Epoch 97/125\n",
      "\u001B[1m12/12\u001B[0m \u001B[32m━━━━━━━━━━━━━━━━━━━━\u001B[0m\u001B[37m\u001B[0m \u001B[1m2s\u001B[0m 179ms/step - accuracy: 0.8153 - loss: 0.5021 - val_accuracy: 0.7868 - val_loss: 0.6098\n",
      "Epoch 98/125\n",
      "\u001B[1m12/12\u001B[0m \u001B[32m━━━━━━━━━━━━━━━━━━━━\u001B[0m\u001B[37m\u001B[0m \u001B[1m2s\u001B[0m 185ms/step - accuracy: 0.8158 - loss: 0.5043 - val_accuracy: 0.7866 - val_loss: 0.6057\n",
      "Epoch 99/125\n",
      "\u001B[1m12/12\u001B[0m \u001B[32m━━━━━━━━━━━━━━━━━━━━\u001B[0m\u001B[37m\u001B[0m \u001B[1m2s\u001B[0m 151ms/step - accuracy: 0.8146 - loss: 0.5028 - val_accuracy: 0.7912 - val_loss: 0.5930\n",
      "Epoch 100/125\n",
      "\u001B[1m12/12\u001B[0m \u001B[32m━━━━━━━━━━━━━━━━━━━━\u001B[0m\u001B[37m\u001B[0m \u001B[1m2s\u001B[0m 153ms/step - accuracy: 0.8160 - loss: 0.4996 - val_accuracy: 0.7892 - val_loss: 0.6061\n",
      "Epoch 101/125\n",
      "\u001B[1m12/12\u001B[0m \u001B[32m━━━━━━━━━━━━━━━━━━━━\u001B[0m\u001B[37m\u001B[0m \u001B[1m2s\u001B[0m 151ms/step - accuracy: 0.8233 - loss: 0.4818 - val_accuracy: 0.7907 - val_loss: 0.5960\n",
      "Epoch 102/125\n",
      "\u001B[1m12/12\u001B[0m \u001B[32m━━━━━━━━━━━━━━━━━━━━\u001B[0m\u001B[37m\u001B[0m \u001B[1m2s\u001B[0m 150ms/step - accuracy: 0.8207 - loss: 0.4863 - val_accuracy: 0.7929 - val_loss: 0.5915\n",
      "Epoch 103/125\n",
      "\u001B[1m12/12\u001B[0m \u001B[32m━━━━━━━━━━━━━━━━━━━━\u001B[0m\u001B[37m\u001B[0m \u001B[1m2s\u001B[0m 171ms/step - accuracy: 0.8222 - loss: 0.4793 - val_accuracy: 0.7828 - val_loss: 0.6265\n",
      "Epoch 104/125\n",
      "\u001B[1m12/12\u001B[0m \u001B[32m━━━━━━━━━━━━━━━━━━━━\u001B[0m\u001B[37m\u001B[0m \u001B[1m2s\u001B[0m 189ms/step - accuracy: 0.8190 - loss: 0.4881 - val_accuracy: 0.7877 - val_loss: 0.6113\n",
      "Epoch 105/125\n",
      "\u001B[1m12/12\u001B[0m \u001B[32m━━━━━━━━━━━━━━━━━━━━\u001B[0m\u001B[37m\u001B[0m \u001B[1m2s\u001B[0m 153ms/step - accuracy: 0.8213 - loss: 0.4849 - val_accuracy: 0.7949 - val_loss: 0.5912\n",
      "Epoch 106/125\n",
      "\u001B[1m12/12\u001B[0m \u001B[32m━━━━━━━━━━━━━━━━━━━━\u001B[0m\u001B[37m\u001B[0m \u001B[1m2s\u001B[0m 152ms/step - accuracy: 0.8230 - loss: 0.4889 - val_accuracy: 0.7875 - val_loss: 0.6146\n",
      "Epoch 107/125\n",
      "\u001B[1m12/12\u001B[0m \u001B[32m━━━━━━━━━━━━━━━━━━━━\u001B[0m\u001B[37m\u001B[0m \u001B[1m2s\u001B[0m 149ms/step - accuracy: 0.8205 - loss: 0.4862 - val_accuracy: 0.7821 - val_loss: 0.6252\n",
      "Epoch 108/125\n",
      "\u001B[1m12/12\u001B[0m \u001B[32m━━━━━━━━━━━━━━━━━━━━\u001B[0m\u001B[37m\u001B[0m \u001B[1m2s\u001B[0m 149ms/step - accuracy: 0.8214 - loss: 0.4754 - val_accuracy: 0.7985 - val_loss: 0.5913\n",
      "Epoch 109/125\n",
      "\u001B[1m12/12\u001B[0m \u001B[32m━━━━━━━━━━━━━━━━━━━━\u001B[0m\u001B[37m\u001B[0m \u001B[1m2s\u001B[0m 150ms/step - accuracy: 0.8236 - loss: 0.4766 - val_accuracy: 0.7946 - val_loss: 0.5884\n",
      "Epoch 110/125\n",
      "\u001B[1m12/12\u001B[0m \u001B[32m━━━━━━━━━━━━━━━━━━━━\u001B[0m\u001B[37m\u001B[0m \u001B[1m2s\u001B[0m 150ms/step - accuracy: 0.8222 - loss: 0.4772 - val_accuracy: 0.7801 - val_loss: 0.6220\n",
      "Epoch 111/125\n",
      "\u001B[1m12/12\u001B[0m \u001B[32m━━━━━━━━━━━━━━━━━━━━\u001B[0m\u001B[37m\u001B[0m \u001B[1m2s\u001B[0m 149ms/step - accuracy: 0.8179 - loss: 0.4899 - val_accuracy: 0.7961 - val_loss: 0.5912\n",
      "Epoch 112/125\n",
      "\u001B[1m12/12\u001B[0m \u001B[32m━━━━━━━━━━━━━━━━━━━━\u001B[0m\u001B[37m\u001B[0m \u001B[1m2s\u001B[0m 165ms/step - accuracy: 0.8278 - loss: 0.4567 - val_accuracy: 0.7937 - val_loss: 0.6094\n",
      "Epoch 113/125\n",
      "\u001B[1m12/12\u001B[0m \u001B[32m━━━━━━━━━━━━━━━━━━━━\u001B[0m\u001B[37m\u001B[0m \u001B[1m2s\u001B[0m 149ms/step - accuracy: 0.8255 - loss: 0.4745 - val_accuracy: 0.7902 - val_loss: 0.6080\n",
      "Epoch 114/125\n",
      "\u001B[1m12/12\u001B[0m \u001B[32m━━━━━━━━━━━━━━━━━━━━\u001B[0m\u001B[37m\u001B[0m \u001B[1m2s\u001B[0m 149ms/step - accuracy: 0.8237 - loss: 0.4701 - val_accuracy: 0.7941 - val_loss: 0.6030\n",
      "Epoch 115/125\n",
      "\u001B[1m12/12\u001B[0m \u001B[32m━━━━━━━━━━━━━━━━━━━━\u001B[0m\u001B[37m\u001B[0m \u001B[1m2s\u001B[0m 150ms/step - accuracy: 0.8301 - loss: 0.4628 - val_accuracy: 0.7929 - val_loss: 0.5956\n",
      "Epoch 116/125\n",
      "\u001B[1m12/12\u001B[0m \u001B[32m━━━━━━━━━━━━━━━━━━━━\u001B[0m\u001B[37m\u001B[0m \u001B[1m2s\u001B[0m 148ms/step - accuracy: 0.8301 - loss: 0.4668 - val_accuracy: 0.7829 - val_loss: 0.6514\n",
      "Epoch 117/125\n",
      "\u001B[1m12/12\u001B[0m \u001B[32m━━━━━━━━━━━━━━━━━━━━\u001B[0m\u001B[37m\u001B[0m \u001B[1m2s\u001B[0m 149ms/step - accuracy: 0.8283 - loss: 0.4663 - val_accuracy: 0.8003 - val_loss: 0.5897\n",
      "Epoch 118/125\n",
      "\u001B[1m12/12\u001B[0m \u001B[32m━━━━━━━━━━━━━━━━━━━━\u001B[0m\u001B[37m\u001B[0m \u001B[1m2s\u001B[0m 150ms/step - accuracy: 0.8324 - loss: 0.4542 - val_accuracy: 0.7961 - val_loss: 0.5985\n",
      "Epoch 119/125\n",
      "\u001B[1m12/12\u001B[0m \u001B[32m━━━━━━━━━━━━━━━━━━━━\u001B[0m\u001B[37m\u001B[0m \u001B[1m2s\u001B[0m 151ms/step - accuracy: 0.8326 - loss: 0.4492 - val_accuracy: 0.8003 - val_loss: 0.5716\n",
      "Epoch 120/125\n",
      "\u001B[1m12/12\u001B[0m \u001B[32m━━━━━━━━━━━━━━━━━━━━\u001B[0m\u001B[37m\u001B[0m \u001B[1m2s\u001B[0m 149ms/step - accuracy: 0.8319 - loss: 0.4519 - val_accuracy: 0.7934 - val_loss: 0.5921\n",
      "Epoch 121/125\n",
      "\u001B[1m12/12\u001B[0m \u001B[32m━━━━━━━━━━━━━━━━━━━━\u001B[0m\u001B[37m\u001B[0m \u001B[1m2s\u001B[0m 148ms/step - accuracy: 0.8365 - loss: 0.4458 - val_accuracy: 0.8034 - val_loss: 0.5875\n",
      "Epoch 122/125\n",
      "\u001B[1m12/12\u001B[0m \u001B[32m━━━━━━━━━━━━━━━━━━━━\u001B[0m\u001B[37m\u001B[0m \u001B[1m2s\u001B[0m 149ms/step - accuracy: 0.8352 - loss: 0.4497 - val_accuracy: 0.7975 - val_loss: 0.6022\n",
      "Epoch 123/125\n",
      "\u001B[1m12/12\u001B[0m \u001B[32m━━━━━━━━━━━━━━━━━━━━\u001B[0m\u001B[37m\u001B[0m \u001B[1m2s\u001B[0m 156ms/step - accuracy: 0.8337 - loss: 0.4529 - val_accuracy: 0.8046 - val_loss: 0.5851\n",
      "Epoch 124/125\n",
      "\u001B[1m12/12\u001B[0m \u001B[32m━━━━━━━━━━━━━━━━━━━━\u001B[0m\u001B[37m\u001B[0m \u001B[1m2s\u001B[0m 175ms/step - accuracy: 0.8438 - loss: 0.4334 - val_accuracy: 0.7966 - val_loss: 0.5920\n",
      "Epoch 125/125\n",
      "\u001B[1m12/12\u001B[0m \u001B[32m━━━━━━━━━━━━━━━━━━━━\u001B[0m\u001B[37m\u001B[0m \u001B[1m2s\u001B[0m 166ms/step - accuracy: 0.8359 - loss: 0.4426 - val_accuracy: 0.7936 - val_loss: 0.6125\n"
     ]
    }
   ],
   "execution_count": 5
  },
  {
   "metadata": {},
   "cell_type": "markdown",
   "source": [
    "# Loss evaluation\n",
    "\n",
    "Seeing how the model's loss changes by the epoch"
   ],
   "id": "28458dd6caeaf05c"
  },
  {
   "cell_type": "code",
   "source": [
    "%matplotlib inline\n",
    "plt.plot(history.history['loss'])\n",
    "plt.plot(history.history['val_loss'])\n",
    "plt.title(\"Loss\")\n",
    "plt.legend(['Train', 'Val'], loc='upper right')\n",
    "plt.ylabel('Loss')\n",
    "plt.xlabel('Epoch')"
   ],
   "metadata": {
    "collapsed": false,
    "ExecuteTime": {
     "end_time": "2024-05-12T00:30:07.865642Z",
     "start_time": "2024-05-12T00:30:07.735984Z"
    }
   },
   "id": "db97a7f3cc91e456",
   "outputs": [
    {
     "data": {
      "text/plain": "Text(0.5, 0, 'Epoch')"
     },
     "execution_count": 6,
     "metadata": {},
     "output_type": "execute_result"
    },
    {
     "data": {
      "text/plain": "<Figure size 640x480 with 1 Axes>",
      "image/png": "[encoded data removed]"
     },
     "metadata": {},
     "output_type": "display_data"
    }
   ],
   "execution_count": 6
  },
  {
   "metadata": {},
   "cell_type": "markdown",
   "source": [
    "# Loss evaluation\n",
    "\n",
    "Seeing how the model's loss changes by the epoch"
   ],
   "id": "47dd11a44349b4d5"
  },
  {
   "metadata": {
    "ExecuteTime": {
     "end_time": "2024-05-12T00:30:07.969445Z",
     "start_time": "2024-05-12T00:30:07.872880Z"
    }
   },
   "cell_type": "code",
   "source": [
    "%matplotlib inline\n",
    "plt.plot(history.history['accuracy'])\n",
    "plt.plot(history.history['val_accuracy'])\n",
    "plt.title(\"Accuracy\")\n",
    "plt.legend(['Train', 'Val'], loc='upper right')\n",
    "plt.ylabel('Accuracy')\n",
    "plt.xlabel('Epoch')"
   ],
   "id": "4a03b62d16638245",
   "outputs": [
    {
     "data": {
      "text/plain": "Text(0.5, 0, 'Epoch')"
     },
     "execution_count": 7,
     "metadata": {},
     "output_type": "execute_result"
    },
    {
     "data": {
      "text/plain": "<Figure size 640x480 with 1 Axes>",
      "image/png": "[encoded data removed]"
     },
     "metadata": {},
     "output_type": "display_data"
    }
   ],
   "execution_count": 7
  },
  {
   "cell_type": "markdown",
   "source": [
    "# Prediction"
   ],
   "metadata": {
    "collapsed": false
   },
   "id": "4fb3930ce2fec85d"
  },
  {
   "cell_type": "code",
   "source": [
    "prediction_word = \"hola\"\n",
    "print(f\"Text before preprocessing: {prediction_word}\")\n",
    "prediction_word = preprocess(prediction_word)\n",
    "print(f\"Text after preprocessing: {prediction_word}\")\n",
    "prediction_word = tokenizer.texts_to_sequences([prediction_word])\n",
    "prediction_word = pad_sequences(prediction_word, maxlen=input_dim)\n",
    "prediction = model.predict([prediction_word])\n",
    "output_probabilities = np.array(prediction)\n",
    "result = {}\n",
    "class_labels = np.unique(y_df.columns)\n",
    "for index, prediction in enumerate(output_probabilities[0]):\n",
    "    result.update({class_labels[index]: round(prediction * 100, 1)})\n",
    "\n",
    "# Print keys and values of the result dictionary\n",
    "for key, value in result.items():\n",
    "    print(f\"{key}: {value}\")"
   ],
   "metadata": {
    "collapsed": false,
    "ExecuteTime": {
     "end_time": "2024-05-12T00:30:08.097830Z",
     "start_time": "2024-05-12T00:30:07.974338Z"
    }
   },
   "id": "2af1ef5d86413ee6",
   "outputs": [
    {
     "name": "stdout",
     "output_type": "stream",
     "text": [
      "Text before preprocessing: hola\n",
      "Text after preprocessing: hola hola hola hola hola\n",
      "\u001B[1m1/1\u001B[0m \u001B[32m━━━━━━━━━━━━━━━━━━━━\u001B[0m\u001B[37m\u001B[0m \u001B[1m0s\u001B[0m 88ms/step\n",
      "Language_French: 10.4\n",
      "Language_Italian: 0.0\n",
      "Language_Latin: 0.0\n",
      "Language_Portuguese: 89.6\n",
      "Language_Spanish: 0.0\n"
     ]
    }
   ],
   "execution_count": 8
  },
  {
   "cell_type": "markdown",
   "source": [
    "# Save model\n",
    "Here a model can be loaded"
   ],
   "metadata": {
    "collapsed": false
   },
   "id": "7346b90cf1a2f553"
  },
  {
   "cell_type": "code",
   "source": [
    "model.save('./models/model_romance.keras')\n",
    "tokenizer_json = tokenizer.to_json()\n",
    "with open('./tokenizer_configs/tokenizer_config_romance.json', 'w') as config_file:\n",
    "    config_file.write(json.dumps(tokenizer_json, ensure_ascii=False))"
   ],
   "metadata": {
    "collapsed": false,
    "ExecuteTime": {
     "end_time": "2024-05-12T00:48:44.955773Z",
     "start_time": "2024-05-12T00:48:44.917340Z"
    }
   },
   "id": "f103d5e7cc3146d9",
   "outputs": [],
   "execution_count": 11
  },
  {
   "cell_type": "markdown",
   "source": [
    "# Load model\n",
    "Here a model can be loaded"
   ],
   "metadata": {
    "collapsed": false
   },
   "id": "e0cf8ae450614ab7"
  },
  {
   "cell_type": "code",
   "source": [
    "model = load_model('./models/model_romance.keras')"
   ],
   "metadata": {
    "collapsed": false,
    "ExecuteTime": {
     "end_time": "2024-05-12T00:30:08.177325Z",
     "start_time": "2024-05-12T00:30:08.124300Z"
    }
   },
   "id": "c0bbfbb51379fba0",
   "outputs": [],
   "execution_count": 10
  },
  {
   "cell_type": "code",
   "outputs": [],
   "source": [],
   "metadata": {
    "collapsed": false,
    "ExecuteTime": {
     "end_time": "2024-05-12T00:30:08.181399Z",
     "start_time": "2024-05-12T00:30:08.177437Z"
    }
   },
   "id": "f45de99f223bed4c",
   "execution_count": 10
  }
 ],
 "metadata": {
  "kernelspec": {
   "display_name": "Python 3",
   "language": "python",
   "name": "python3"
  },
  "language_info": {
   "codemirror_mode": {
    "name": "ipython",
    "version": 2
   },
   "file_extension": ".py",
   "mimetype": "text/x-python",
   "name": "python",
   "nbconvert_exporter": "python",
   "pygments_lexer": "ipython2",
   "version": "2.7.6"
  }
 },
 "nbformat": 4,
 "nbformat_minor": 5
}
