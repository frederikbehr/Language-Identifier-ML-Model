{
 "cells": [
  {
   "cell_type": "code",
   "id": "initial_id",
   "metadata": {
    "collapsed": true,
    "ExecuteTime": {
     "end_time": "2024-05-11T02:07:47.976518Z",
     "start_time": "2024-05-11T02:07:47.965608Z"
    }
   },
   "source": [
    "import numpy as np\n",
    "import pandas as pd\n",
    "import matplotlib.pyplot as plt\n",
    "import tensorflow as tf\n",
    "from tensorflow.keras.models import Sequential, load_model\n",
    "from tensorflow.keras.layers import Dense, Conv1D, LSTM, Dropout, Flatten\n",
    "from tensorflow.keras import optimizers\n",
    "from tensorflow.keras.preprocessing.text import Tokenizer\n",
    "from keras.src.utils import pad_sequences\n",
    "from sklearn.model_selection import train_test_split\n",
    "from custom_preprocessor import preprocess"
   ],
   "outputs": [],
   "execution_count": 15
  },
  {
   "cell_type": "markdown",
   "source": [
    "# Get data\n",
    "Pandas is used to get the data from the project directory.\n",
    "The data is a .csv file, that has been created by book texts and prepared to be listed in the file word-by-word."
   ],
   "metadata": {
    "collapsed": false
   },
   "id": "b20ed3afab281b03"
  },
  {
   "cell_type": "code",
   "source": [
    "df = pd.read_csv('./data/dataset_romance.csv')\n",
    "df = df.sample(frac=1.0, random_state=12)\n",
    "df.head()"
   ],
   "metadata": {
    "collapsed": false,
    "ExecuteTime": {
     "end_time": "2024-05-11T02:07:48.007329Z",
     "start_time": "2024-05-11T02:07:47.980457Z"
    }
   },
   "id": "9934f095638f49f4",
   "outputs": [
    {
     "data": {
      "text/plain": "                                                  Word Language\n28197  no se respondio no se respondio no se respondio  Spanish\n27821  no habra salido no habra salido no habra salido  Spanish\n28960        callate susurro  callate susurro  callate  Spanish\n7064   ove il sole ove il sole ove il sole ove il sole  Italian\n11148  dentro il convento dentro il convento dentro il  Italian",
      "text/html": "<div>\n<style scoped>\n    .dataframe tbody tr th:only-of-type {\n        vertical-align: middle;\n    }\n\n    .dataframe tbody tr th {\n        vertical-align: top;\n    }\n\n    .dataframe thead th {\n        text-align: right;\n    }\n</style>\n<table border=\"1\" class=\"dataframe\">\n  <thead>\n    <tr style=\"text-align: right;\">\n      <th></th>\n      <th>Word</th>\n      <th>Language</th>\n    </tr>\n  </thead>\n  <tbody>\n    <tr>\n      <th>28197</th>\n      <td>no se respondio no se respondio no se respondio</td>\n      <td>Spanish</td>\n    </tr>\n    <tr>\n      <th>27821</th>\n      <td>no habra salido no habra salido no habra salido</td>\n      <td>Spanish</td>\n    </tr>\n    <tr>\n      <th>28960</th>\n      <td>callate susurro  callate susurro  callate</td>\n      <td>Spanish</td>\n    </tr>\n    <tr>\n      <th>7064</th>\n      <td>ove il sole ove il sole ove il sole ove il sole</td>\n      <td>Italian</td>\n    </tr>\n    <tr>\n      <th>11148</th>\n      <td>dentro il convento dentro il convento dentro il</td>\n      <td>Italian</td>\n    </tr>\n  </tbody>\n</table>\n</div>"
     },
     "execution_count": 16,
     "metadata": {},
     "output_type": "execute_result"
    }
   ],
   "execution_count": 16
  },
  {
   "cell_type": "markdown",
   "source": [
    "# Prepare data\n",
    "Divide the data into X and y. X is input and y is the desired output.\n",
    "One-Hot Encode it, so the language is categorical. This is done with Pandas."
   ],
   "metadata": {
    "collapsed": false
   },
   "id": "e375f9241e794ae4"
  },
  {
   "cell_type": "code",
   "source": [
    "# Getting X - the input values\n",
    "X = df.iloc[:, :-1]\n",
    "X.loc[:, 'Word'] = X['Word'].astype(str)\n",
    "tokenizer = Tokenizer(char_level=True) # Used for turning the words into numbers\n",
    "tokenizer.fit_on_texts(X['Word'].tolist()) # Giving Tokenizer the data it needs to learn how to encode the words\n",
    "X_sequences = tokenizer.texts_to_sequences(X['Word'].tolist()) # Now the words are encoded into sequences\n",
    "input_dim = max(len(seq) for seq in X_sequences)\n",
    "print(f\"Input dimension: {input_dim}\")\n",
    "X = pad_sequences(\n",
    "    X_sequences, \n",
    "    maxlen=input_dim, \n",
    "    padding='post'\n",
    ") # Making all input values be of same length\n",
    "print(f\"Rows: {len(X)}\")\n",
    "\n",
    "# Getting y - the output values\n",
    "y_df = pd.get_dummies(df.iloc[:, -1:])\n",
    "y = y_df.values\n",
    "print(f\"Amount of languages to identify: {len(y[1])}\")\n",
    "\n",
    "X_train, X_val, y_train, y_val = train_test_split(X, y, test_size=0.2, random_state=42)\n",
    "X_train = X_train.reshape(X_train.shape[0], X_train.shape[1], 1)"
   ],
   "metadata": {
    "collapsed": false,
    "ExecuteTime": {
     "end_time": "2024-05-11T02:07:48.626546Z",
     "start_time": "2024-05-11T02:07:48.010153Z"
    }
   },
   "id": "ba4d86402045de27",
   "outputs": [
    {
     "name": "stdout",
     "output_type": "stream",
     "text": [
      "Input dimension: 48\n",
      "Rows: 29575\n",
      "Amount of languages to identify: 5\n"
     ]
    }
   ],
   "execution_count": 17
  },
  {
   "cell_type": "code",
   "source": [
    "model = Sequential()\n",
    "model.add(Conv1D(input_dim, 2, activation='relu'))  # Convolutional layer\n",
    "tf.keras.layers.SimpleRNN(8, activation='relu')\n",
    "model.add(LSTM(32, return_sequences=True))\n",
    "model.add(Flatten())\n",
    "model.add(Dropout(0.5))\n",
    "model.add(Dense(len(y[1]), activation='softmax'))\n",
    "adam = optimizers.Adam(learning_rate=0.01)\n",
    "model.compile(loss='categorical_crossentropy', optimizer=adam, metrics=['accuracy'])"
   ],
   "metadata": {
    "collapsed": false,
    "ExecuteTime": {
     "end_time": "2024-05-11T02:07:48.638338Z",
     "start_time": "2024-05-11T02:07:48.629180Z"
    }
   },
   "id": "c870f2fa48fe956c",
   "outputs": [],
   "execution_count": 18
  },
  {
   "cell_type": "code",
   "source": [
    "history = model.fit(X_train, y_train, validation_data=(X_val, y_val), epochs=125, batch_size=2048,verbose=1)"
   ],
   "metadata": {
    "collapsed": false,
    "ExecuteTime": {
     "end_time": "2024-05-11T02:11:35.205753Z",
     "start_time": "2024-05-11T02:07:48.639770Z"
    }
   },
   "id": "d9a29cb1ff2dcba7",
   "outputs": [
    {
     "name": "stdout",
     "output_type": "stream",
     "text": [
      "Epoch 1/125\n",
      "\u001B[1m12/12\u001B[0m \u001B[32m━━━━━━━━━━━━━━━━━━━━\u001B[0m\u001B[37m\u001B[0m \u001B[1m3s\u001B[0m 151ms/step - accuracy: 0.2027 - loss: 2.3461 - val_accuracy: 0.1924 - val_loss: 1.6076\n",
      "Epoch 2/125\n",
      "\u001B[1m12/12\u001B[0m \u001B[32m━━━━━━━━━━━━━━━━━━━━\u001B[0m\u001B[37m\u001B[0m \u001B[1m2s\u001B[0m 150ms/step - accuracy: 0.2008 - loss: 1.6112 - val_accuracy: 0.2215 - val_loss: 1.6005\n",
      "Epoch 3/125\n",
      "\u001B[1m12/12\u001B[0m \u001B[32m━━━━━━━━━━━━━━━━━━━━\u001B[0m\u001B[37m\u001B[0m \u001B[1m2s\u001B[0m 148ms/step - accuracy: 0.2186 - loss: 1.6015 - val_accuracy: 0.2299 - val_loss: 1.5958\n",
      "Epoch 4/125\n",
      "\u001B[1m12/12\u001B[0m \u001B[32m━━━━━━━━━━━━━━━━━━━━\u001B[0m\u001B[37m\u001B[0m \u001B[1m2s\u001B[0m 146ms/step - accuracy: 0.2449 - loss: 1.5948 - val_accuracy: 0.2685 - val_loss: 1.5875\n",
      "Epoch 5/125\n",
      "\u001B[1m12/12\u001B[0m \u001B[32m━━━━━━━━━━━━━━━━━━━━\u001B[0m\u001B[37m\u001B[0m \u001B[1m2s\u001B[0m 146ms/step - accuracy: 0.2614 - loss: 1.5871 - val_accuracy: 0.2874 - val_loss: 1.5756\n",
      "Epoch 6/125\n",
      "\u001B[1m12/12\u001B[0m \u001B[32m━━━━━━━━━━━━━━━━━━━━\u001B[0m\u001B[37m\u001B[0m \u001B[1m2s\u001B[0m 146ms/step - accuracy: 0.2866 - loss: 1.5733 - val_accuracy: 0.3114 - val_loss: 1.5569\n",
      "Epoch 7/125\n",
      "\u001B[1m12/12\u001B[0m \u001B[32m━━━━━━━━━━━━━━━━━━━━\u001B[0m\u001B[37m\u001B[0m \u001B[1m2s\u001B[0m 147ms/step - accuracy: 0.3052 - loss: 1.5538 - val_accuracy: 0.3385 - val_loss: 1.5209\n",
      "Epoch 8/125\n",
      "\u001B[1m12/12\u001B[0m \u001B[32m━━━━━━━━━━━━━━━━━━━━\u001B[0m\u001B[37m\u001B[0m \u001B[1m2s\u001B[0m 146ms/step - accuracy: 0.3279 - loss: 1.5189 - val_accuracy: 0.3528 - val_loss: 1.4681\n",
      "Epoch 9/125\n",
      "\u001B[1m12/12\u001B[0m \u001B[32m━━━━━━━━━━━━━━━━━━━━\u001B[0m\u001B[37m\u001B[0m \u001B[1m2s\u001B[0m 146ms/step - accuracy: 0.3516 - loss: 1.4715 - val_accuracy: 0.3821 - val_loss: 1.4376\n",
      "Epoch 10/125\n",
      "\u001B[1m12/12\u001B[0m \u001B[32m━━━━━━━━━━━━━━━━━━━━\u001B[0m\u001B[37m\u001B[0m \u001B[1m2s\u001B[0m 146ms/step - accuracy: 0.3762 - loss: 1.4434 - val_accuracy: 0.4176 - val_loss: 1.3978\n",
      "Epoch 11/125\n",
      "\u001B[1m12/12\u001B[0m \u001B[32m━━━━━━━━━━━━━━━━━━━━\u001B[0m\u001B[37m\u001B[0m \u001B[1m2s\u001B[0m 146ms/step - accuracy: 0.3968 - loss: 1.4108 - val_accuracy: 0.4358 - val_loss: 1.3673\n",
      "Epoch 12/125\n",
      "\u001B[1m12/12\u001B[0m \u001B[32m━━━━━━━━━━━━━━━━━━━━\u001B[0m\u001B[37m\u001B[0m \u001B[1m2s\u001B[0m 147ms/step - accuracy: 0.4132 - loss: 1.3850 - val_accuracy: 0.4468 - val_loss: 1.3404\n",
      "Epoch 13/125\n",
      "\u001B[1m12/12\u001B[0m \u001B[32m━━━━━━━━━━━━━━━━━━━━\u001B[0m\u001B[37m\u001B[0m \u001B[1m2s\u001B[0m 147ms/step - accuracy: 0.4325 - loss: 1.3585 - val_accuracy: 0.4593 - val_loss: 1.3243\n",
      "Epoch 14/125\n",
      "\u001B[1m12/12\u001B[0m \u001B[32m━━━━━━━━━━━━━━━━━━━━\u001B[0m\u001B[37m\u001B[0m \u001B[1m2s\u001B[0m 145ms/step - accuracy: 0.4365 - loss: 1.3446 - val_accuracy: 0.4702 - val_loss: 1.2922\n",
      "Epoch 15/125\n",
      "\u001B[1m12/12\u001B[0m \u001B[32m━━━━━━━━━━━━━━━━━━━━\u001B[0m\u001B[37m\u001B[0m \u001B[1m2s\u001B[0m 145ms/step - accuracy: 0.4552 - loss: 1.3096 - val_accuracy: 0.4730 - val_loss: 1.2729\n",
      "Epoch 16/125\n",
      "\u001B[1m12/12\u001B[0m \u001B[32m━━━━━━━━━━━━━━━━━━━━\u001B[0m\u001B[37m\u001B[0m \u001B[1m2s\u001B[0m 146ms/step - accuracy: 0.4668 - loss: 1.2852 - val_accuracy: 0.4845 - val_loss: 1.2823\n",
      "Epoch 17/125\n",
      "\u001B[1m12/12\u001B[0m \u001B[32m━━━━━━━━━━━━━━━━━━━━\u001B[0m\u001B[37m\u001B[0m \u001B[1m2s\u001B[0m 146ms/step - accuracy: 0.4752 - loss: 1.2833 - val_accuracy: 0.4975 - val_loss: 1.2369\n",
      "Epoch 18/125\n",
      "\u001B[1m12/12\u001B[0m \u001B[32m━━━━━━━━━━━━━━━━━━━━\u001B[0m\u001B[37m\u001B[0m \u001B[1m2s\u001B[0m 145ms/step - accuracy: 0.4864 - loss: 1.2579 - val_accuracy: 0.5143 - val_loss: 1.2084\n",
      "Epoch 19/125\n",
      "\u001B[1m12/12\u001B[0m \u001B[32m━━━━━━━━━━━━━━━━━━━━\u001B[0m\u001B[37m\u001B[0m \u001B[1m2s\u001B[0m 145ms/step - accuracy: 0.4996 - loss: 1.2278 - val_accuracy: 0.5249 - val_loss: 1.1850\n",
      "Epoch 20/125\n",
      "\u001B[1m12/12\u001B[0m \u001B[32m━━━━━━━━━━━━━━━━━━━━\u001B[0m\u001B[37m\u001B[0m \u001B[1m2s\u001B[0m 145ms/step - accuracy: 0.5057 - loss: 1.2124 - val_accuracy: 0.5287 - val_loss: 1.1686\n",
      "Epoch 21/125\n",
      "\u001B[1m12/12\u001B[0m \u001B[32m━━━━━━━━━━━━━━━━━━━━\u001B[0m\u001B[37m\u001B[0m \u001B[1m2s\u001B[0m 145ms/step - accuracy: 0.5242 - loss: 1.1861 - val_accuracy: 0.5505 - val_loss: 1.1345\n",
      "Epoch 22/125\n",
      "\u001B[1m12/12\u001B[0m \u001B[32m━━━━━━━━━━━━━━━━━━━━\u001B[0m\u001B[37m\u001B[0m \u001B[1m2s\u001B[0m 146ms/step - accuracy: 0.5340 - loss: 1.1633 - val_accuracy: 0.5621 - val_loss: 1.1177\n",
      "Epoch 23/125\n",
      "\u001B[1m12/12\u001B[0m \u001B[32m━━━━━━━━━━━━━━━━━━━━\u001B[0m\u001B[37m\u001B[0m \u001B[1m2s\u001B[0m 145ms/step - accuracy: 0.5501 - loss: 1.1323 - val_accuracy: 0.5926 - val_loss: 1.0686\n",
      "Epoch 24/125\n",
      "\u001B[1m12/12\u001B[0m \u001B[32m━━━━━━━━━━━━━━━━━━━━\u001B[0m\u001B[37m\u001B[0m \u001B[1m2s\u001B[0m 146ms/step - accuracy: 0.5655 - loss: 1.0992 - val_accuracy: 0.6051 - val_loss: 1.0437\n",
      "Epoch 25/125\n",
      "\u001B[1m12/12\u001B[0m \u001B[32m━━━━━━━━━━━━━━━━━━━━\u001B[0m\u001B[37m\u001B[0m \u001B[1m2s\u001B[0m 146ms/step - accuracy: 0.5837 - loss: 1.0661 - val_accuracy: 0.6019 - val_loss: 1.0248\n",
      "Epoch 26/125\n",
      "\u001B[1m12/12\u001B[0m \u001B[32m━━━━━━━━━━━━━━━━━━━━\u001B[0m\u001B[37m\u001B[0m \u001B[1m2s\u001B[0m 146ms/step - accuracy: 0.5990 - loss: 1.0342 - val_accuracy: 0.6265 - val_loss: 0.9807\n",
      "Epoch 27/125\n",
      "\u001B[1m12/12\u001B[0m \u001B[32m━━━━━━━━━━━━━━━━━━━━\u001B[0m\u001B[37m\u001B[0m \u001B[1m2s\u001B[0m 146ms/step - accuracy: 0.6068 - loss: 1.0146 - val_accuracy: 0.6323 - val_loss: 0.9561\n",
      "Epoch 28/125\n",
      "\u001B[1m12/12\u001B[0m \u001B[32m━━━━━━━━━━━━━━━━━━━━\u001B[0m\u001B[37m\u001B[0m \u001B[1m2s\u001B[0m 146ms/step - accuracy: 0.6197 - loss: 0.9843 - val_accuracy: 0.6338 - val_loss: 0.9488\n",
      "Epoch 29/125\n",
      "\u001B[1m12/12\u001B[0m \u001B[32m━━━━━━━━━━━━━━━━━━━━\u001B[0m\u001B[37m\u001B[0m \u001B[1m2s\u001B[0m 146ms/step - accuracy: 0.6312 - loss: 0.9614 - val_accuracy: 0.6512 - val_loss: 0.9188\n",
      "Epoch 30/125\n",
      "\u001B[1m12/12\u001B[0m \u001B[32m━━━━━━━━━━━━━━━━━━━━\u001B[0m\u001B[37m\u001B[0m \u001B[1m2s\u001B[0m 146ms/step - accuracy: 0.6377 - loss: 0.9446 - val_accuracy: 0.6553 - val_loss: 0.9070\n",
      "Epoch 31/125\n",
      "\u001B[1m12/12\u001B[0m \u001B[32m━━━━━━━━━━━━━━━━━━━━\u001B[0m\u001B[37m\u001B[0m \u001B[1m2s\u001B[0m 153ms/step - accuracy: 0.6421 - loss: 0.9235 - val_accuracy: 0.6593 - val_loss: 0.8997\n",
      "Epoch 32/125\n",
      "\u001B[1m12/12\u001B[0m \u001B[32m━━━━━━━━━━━━━━━━━━━━\u001B[0m\u001B[37m\u001B[0m \u001B[1m2s\u001B[0m 145ms/step - accuracy: 0.6502 - loss: 0.9097 - val_accuracy: 0.6649 - val_loss: 0.8696\n",
      "Epoch 33/125\n",
      "\u001B[1m12/12\u001B[0m \u001B[32m━━━━━━━━━━━━━━━━━━━━\u001B[0m\u001B[37m\u001B[0m \u001B[1m2s\u001B[0m 146ms/step - accuracy: 0.6585 - loss: 0.8852 - val_accuracy: 0.6637 - val_loss: 0.8750\n",
      "Epoch 34/125\n",
      "\u001B[1m12/12\u001B[0m \u001B[32m━━━━━━━━━━━━━━━━━━━━\u001B[0m\u001B[37m\u001B[0m \u001B[1m2s\u001B[0m 145ms/step - accuracy: 0.6562 - loss: 0.9021 - val_accuracy: 0.6757 - val_loss: 0.8613\n",
      "Epoch 35/125\n",
      "\u001B[1m12/12\u001B[0m \u001B[32m━━━━━━━━━━━━━━━━━━━━\u001B[0m\u001B[37m\u001B[0m \u001B[1m2s\u001B[0m 146ms/step - accuracy: 0.6676 - loss: 0.8618 - val_accuracy: 0.6781 - val_loss: 0.8511\n",
      "Epoch 36/125\n",
      "\u001B[1m12/12\u001B[0m \u001B[32m━━━━━━━━━━━━━━━━━━━━\u001B[0m\u001B[37m\u001B[0m \u001B[1m2s\u001B[0m 146ms/step - accuracy: 0.6797 - loss: 0.8450 - val_accuracy: 0.6894 - val_loss: 0.8124\n",
      "Epoch 37/125\n",
      "\u001B[1m12/12\u001B[0m \u001B[32m━━━━━━━━━━━━━━━━━━━━\u001B[0m\u001B[37m\u001B[0m \u001B[1m2s\u001B[0m 146ms/step - accuracy: 0.6855 - loss: 0.8330 - val_accuracy: 0.6930 - val_loss: 0.8171\n",
      "Epoch 38/125\n",
      "\u001B[1m12/12\u001B[0m \u001B[32m━━━━━━━━━━━━━━━━━━━━\u001B[0m\u001B[37m\u001B[0m \u001B[1m2s\u001B[0m 145ms/step - accuracy: 0.6781 - loss: 0.8392 - val_accuracy: 0.6886 - val_loss: 0.8254\n",
      "Epoch 39/125\n",
      "\u001B[1m12/12\u001B[0m \u001B[32m━━━━━━━━━━━━━━━━━━━━\u001B[0m\u001B[37m\u001B[0m \u001B[1m2s\u001B[0m 145ms/step - accuracy: 0.6897 - loss: 0.8276 - val_accuracy: 0.7065 - val_loss: 0.7959\n",
      "Epoch 40/125\n",
      "\u001B[1m12/12\u001B[0m \u001B[32m━━━━━━━━━━━━━━━━━━━━\u001B[0m\u001B[37m\u001B[0m \u001B[1m2s\u001B[0m 146ms/step - accuracy: 0.6984 - loss: 0.8039 - val_accuracy: 0.6999 - val_loss: 0.7941\n",
      "Epoch 41/125\n",
      "\u001B[1m12/12\u001B[0m \u001B[32m━━━━━━━━━━━━━━━━━━━━\u001B[0m\u001B[37m\u001B[0m \u001B[1m2s\u001B[0m 146ms/step - accuracy: 0.6953 - loss: 0.7982 - val_accuracy: 0.6975 - val_loss: 0.8047\n",
      "Epoch 42/125\n",
      "\u001B[1m12/12\u001B[0m \u001B[32m━━━━━━━━━━━━━━━━━━━━\u001B[0m\u001B[37m\u001B[0m \u001B[1m2s\u001B[0m 146ms/step - accuracy: 0.7095 - loss: 0.7867 - val_accuracy: 0.7018 - val_loss: 0.7839\n",
      "Epoch 43/125\n",
      "\u001B[1m12/12\u001B[0m \u001B[32m━━━━━━━━━━━━━━━━━━━━\u001B[0m\u001B[37m\u001B[0m \u001B[1m2s\u001B[0m 146ms/step - accuracy: 0.7097 - loss: 0.7677 - val_accuracy: 0.7089 - val_loss: 0.7777\n",
      "Epoch 44/125\n",
      "\u001B[1m12/12\u001B[0m \u001B[32m━━━━━━━━━━━━━━━━━━━━\u001B[0m\u001B[37m\u001B[0m \u001B[1m2s\u001B[0m 146ms/step - accuracy: 0.7127 - loss: 0.7576 - val_accuracy: 0.7197 - val_loss: 0.7568\n",
      "Epoch 45/125\n",
      "\u001B[1m12/12\u001B[0m \u001B[32m━━━━━━━━━━━━━━━━━━━━\u001B[0m\u001B[37m\u001B[0m \u001B[1m2s\u001B[0m 188ms/step - accuracy: 0.7255 - loss: 0.7399 - val_accuracy: 0.7229 - val_loss: 0.7489\n",
      "Epoch 46/125\n",
      "\u001B[1m12/12\u001B[0m \u001B[32m━━━━━━━━━━━━━━━━━━━━\u001B[0m\u001B[37m\u001B[0m \u001B[1m2s\u001B[0m 184ms/step - accuracy: 0.7222 - loss: 0.7380 - val_accuracy: 0.7268 - val_loss: 0.7403\n",
      "Epoch 47/125\n",
      "\u001B[1m12/12\u001B[0m \u001B[32m━━━━━━━━━━━━━━━━━━━━\u001B[0m\u001B[37m\u001B[0m \u001B[1m2s\u001B[0m 153ms/step - accuracy: 0.7288 - loss: 0.7222 - val_accuracy: 0.7234 - val_loss: 0.7381\n",
      "Epoch 48/125\n",
      "\u001B[1m12/12\u001B[0m \u001B[32m━━━━━━━━━━━━━━━━━━━━\u001B[0m\u001B[37m\u001B[0m \u001B[1m2s\u001B[0m 155ms/step - accuracy: 0.7299 - loss: 0.7191 - val_accuracy: 0.7244 - val_loss: 0.7436\n",
      "Epoch 49/125\n",
      "\u001B[1m12/12\u001B[0m \u001B[32m━━━━━━━━━━━━━━━━━━━━\u001B[0m\u001B[37m\u001B[0m \u001B[1m2s\u001B[0m 154ms/step - accuracy: 0.7298 - loss: 0.7174 - val_accuracy: 0.7346 - val_loss: 0.7216\n",
      "Epoch 50/125\n",
      "\u001B[1m12/12\u001B[0m \u001B[32m━━━━━━━━━━━━━━━━━━━━\u001B[0m\u001B[37m\u001B[0m \u001B[1m2s\u001B[0m 155ms/step - accuracy: 0.7315 - loss: 0.7126 - val_accuracy: 0.7295 - val_loss: 0.7351\n",
      "Epoch 51/125\n",
      "\u001B[1m12/12\u001B[0m \u001B[32m━━━━━━━━━━━━━━━━━━━━\u001B[0m\u001B[37m\u001B[0m \u001B[1m2s\u001B[0m 154ms/step - accuracy: 0.7331 - loss: 0.7159 - val_accuracy: 0.7325 - val_loss: 0.7135\n",
      "Epoch 52/125\n",
      "\u001B[1m12/12\u001B[0m \u001B[32m━━━━━━━━━━━━━━━━━━━━\u001B[0m\u001B[37m\u001B[0m \u001B[1m2s\u001B[0m 155ms/step - accuracy: 0.7362 - loss: 0.6973 - val_accuracy: 0.7200 - val_loss: 0.7460\n",
      "Epoch 53/125\n",
      "\u001B[1m12/12\u001B[0m \u001B[32m━━━━━━━━━━━━━━━━━━━━\u001B[0m\u001B[37m\u001B[0m \u001B[1m2s\u001B[0m 154ms/step - accuracy: 0.7357 - loss: 0.7051 - val_accuracy: 0.7332 - val_loss: 0.7219\n",
      "Epoch 54/125\n",
      "\u001B[1m12/12\u001B[0m \u001B[32m━━━━━━━━━━━━━━━━━━━━\u001B[0m\u001B[37m\u001B[0m \u001B[1m2s\u001B[0m 153ms/step - accuracy: 0.7447 - loss: 0.6792 - val_accuracy: 0.7363 - val_loss: 0.7122\n",
      "Epoch 55/125\n",
      "\u001B[1m12/12\u001B[0m \u001B[32m━━━━━━━━━━━━━━━━━━━━\u001B[0m\u001B[37m\u001B[0m \u001B[1m2s\u001B[0m 154ms/step - accuracy: 0.7519 - loss: 0.6708 - val_accuracy: 0.7457 - val_loss: 0.6906\n",
      "Epoch 56/125\n",
      "\u001B[1m12/12\u001B[0m \u001B[32m━━━━━━━━━━━━━━━━━━━━\u001B[0m\u001B[37m\u001B[0m \u001B[1m2s\u001B[0m 154ms/step - accuracy: 0.7574 - loss: 0.6574 - val_accuracy: 0.7452 - val_loss: 0.6845\n",
      "Epoch 57/125\n",
      "\u001B[1m12/12\u001B[0m \u001B[32m━━━━━━━━━━━━━━━━━━━━\u001B[0m\u001B[37m\u001B[0m \u001B[1m2s\u001B[0m 154ms/step - accuracy: 0.7538 - loss: 0.6519 - val_accuracy: 0.7537 - val_loss: 0.6863\n",
      "Epoch 58/125\n",
      "\u001B[1m12/12\u001B[0m \u001B[32m━━━━━━━━━━━━━━━━━━━━\u001B[0m\u001B[37m\u001B[0m \u001B[1m2s\u001B[0m 155ms/step - accuracy: 0.7554 - loss: 0.6563 - val_accuracy: 0.7425 - val_loss: 0.6858\n",
      "Epoch 59/125\n",
      "\u001B[1m12/12\u001B[0m \u001B[32m━━━━━━━━━━━━━━━━━━━━\u001B[0m\u001B[37m\u001B[0m \u001B[1m2s\u001B[0m 155ms/step - accuracy: 0.7567 - loss: 0.6490 - val_accuracy: 0.7445 - val_loss: 0.6873\n",
      "Epoch 60/125\n",
      "\u001B[1m12/12\u001B[0m \u001B[32m━━━━━━━━━━━━━━━━━━━━\u001B[0m\u001B[37m\u001B[0m \u001B[1m2s\u001B[0m 155ms/step - accuracy: 0.7626 - loss: 0.6460 - val_accuracy: 0.7528 - val_loss: 0.6768\n",
      "Epoch 61/125\n",
      "\u001B[1m12/12\u001B[0m \u001B[32m━━━━━━━━━━━━━━━━━━━━\u001B[0m\u001B[37m\u001B[0m \u001B[1m2s\u001B[0m 155ms/step - accuracy: 0.7606 - loss: 0.6453 - val_accuracy: 0.7579 - val_loss: 0.6714\n",
      "Epoch 62/125\n",
      "\u001B[1m12/12\u001B[0m \u001B[32m━━━━━━━━━━━━━━━━━━━━\u001B[0m\u001B[37m\u001B[0m \u001B[1m2s\u001B[0m 149ms/step - accuracy: 0.7660 - loss: 0.6270 - val_accuracy: 0.7488 - val_loss: 0.6771\n",
      "Epoch 63/125\n",
      "\u001B[1m12/12\u001B[0m \u001B[32m━━━━━━━━━━━━━━━━━━━━\u001B[0m\u001B[37m\u001B[0m \u001B[1m2s\u001B[0m 146ms/step - accuracy: 0.7608 - loss: 0.6513 - val_accuracy: 0.7457 - val_loss: 0.6957\n",
      "Epoch 64/125\n",
      "\u001B[1m12/12\u001B[0m \u001B[32m━━━━━━━━━━━━━━━━━━━━\u001B[0m\u001B[37m\u001B[0m \u001B[1m2s\u001B[0m 146ms/step - accuracy: 0.7672 - loss: 0.6213 - val_accuracy: 0.7603 - val_loss: 0.6556\n",
      "Epoch 65/125\n",
      "\u001B[1m12/12\u001B[0m \u001B[32m━━━━━━━━━━━━━━━━━━━━\u001B[0m\u001B[37m\u001B[0m \u001B[1m2s\u001B[0m 145ms/step - accuracy: 0.7730 - loss: 0.6121 - val_accuracy: 0.7638 - val_loss: 0.6517\n",
      "Epoch 66/125\n",
      "\u001B[1m12/12\u001B[0m \u001B[32m━━━━━━━━━━━━━━━━━━━━\u001B[0m\u001B[37m\u001B[0m \u001B[1m2s\u001B[0m 146ms/step - accuracy: 0.7760 - loss: 0.6068 - val_accuracy: 0.7545 - val_loss: 0.6622\n",
      "Epoch 67/125\n",
      "\u001B[1m12/12\u001B[0m \u001B[32m━━━━━━━━━━━━━━━━━━━━\u001B[0m\u001B[37m\u001B[0m \u001B[1m2s\u001B[0m 153ms/step - accuracy: 0.7803 - loss: 0.6012 - val_accuracy: 0.7660 - val_loss: 0.6559\n",
      "Epoch 68/125\n",
      "\u001B[1m12/12\u001B[0m \u001B[32m━━━━━━━━━━━━━━━━━━━━\u001B[0m\u001B[37m\u001B[0m \u001B[1m2s\u001B[0m 146ms/step - accuracy: 0.7730 - loss: 0.6024 - val_accuracy: 0.7682 - val_loss: 0.6400\n",
      "Epoch 69/125\n",
      "\u001B[1m12/12\u001B[0m \u001B[32m━━━━━━━━━━━━━━━━━━━━\u001B[0m\u001B[37m\u001B[0m \u001B[1m2s\u001B[0m 145ms/step - accuracy: 0.7720 - loss: 0.6030 - val_accuracy: 0.7593 - val_loss: 0.6628\n",
      "Epoch 70/125\n",
      "\u001B[1m12/12\u001B[0m \u001B[32m━━━━━━━━━━━━━━━━━━━━\u001B[0m\u001B[37m\u001B[0m \u001B[1m2s\u001B[0m 146ms/step - accuracy: 0.7797 - loss: 0.5990 - val_accuracy: 0.7665 - val_loss: 0.6552\n",
      "Epoch 71/125\n",
      "\u001B[1m12/12\u001B[0m \u001B[32m━━━━━━━━━━━━━━━━━━━━\u001B[0m\u001B[37m\u001B[0m \u001B[1m2s\u001B[0m 145ms/step - accuracy: 0.7839 - loss: 0.5888 - val_accuracy: 0.7755 - val_loss: 0.6288\n",
      "Epoch 72/125\n",
      "\u001B[1m12/12\u001B[0m \u001B[32m━━━━━━━━━━━━━━━━━━━━\u001B[0m\u001B[37m\u001B[0m \u001B[1m2s\u001B[0m 146ms/step - accuracy: 0.7836 - loss: 0.5842 - val_accuracy: 0.7706 - val_loss: 0.6357\n",
      "Epoch 73/125\n",
      "\u001B[1m12/12\u001B[0m \u001B[32m━━━━━━━━━━━━━━━━━━━━\u001B[0m\u001B[37m\u001B[0m \u001B[1m2s\u001B[0m 145ms/step - accuracy: 0.7870 - loss: 0.5764 - val_accuracy: 0.7711 - val_loss: 0.6301\n",
      "Epoch 74/125\n",
      "\u001B[1m12/12\u001B[0m \u001B[32m━━━━━━━━━━━━━━━━━━━━\u001B[0m\u001B[37m\u001B[0m \u001B[1m2s\u001B[0m 146ms/step - accuracy: 0.7917 - loss: 0.5693 - val_accuracy: 0.7669 - val_loss: 0.6483\n",
      "Epoch 75/125\n",
      "\u001B[1m12/12\u001B[0m \u001B[32m━━━━━━━━━━━━━━━━━━━━\u001B[0m\u001B[37m\u001B[0m \u001B[1m2s\u001B[0m 146ms/step - accuracy: 0.7826 - loss: 0.5813 - val_accuracy: 0.7721 - val_loss: 0.6365\n",
      "Epoch 76/125\n",
      "\u001B[1m12/12\u001B[0m \u001B[32m━━━━━━━━━━━━━━━━━━━━\u001B[0m\u001B[37m\u001B[0m \u001B[1m2s\u001B[0m 146ms/step - accuracy: 0.7855 - loss: 0.5773 - val_accuracy: 0.7686 - val_loss: 0.6356\n",
      "Epoch 77/125\n",
      "\u001B[1m12/12\u001B[0m \u001B[32m━━━━━━━━━━━━━━━━━━━━\u001B[0m\u001B[37m\u001B[0m \u001B[1m2s\u001B[0m 146ms/step - accuracy: 0.7936 - loss: 0.5536 - val_accuracy: 0.7762 - val_loss: 0.6261\n",
      "Epoch 78/125\n",
      "\u001B[1m12/12\u001B[0m \u001B[32m━━━━━━━━━━━━━━━━━━━━\u001B[0m\u001B[37m\u001B[0m \u001B[1m2s\u001B[0m 160ms/step - accuracy: 0.7904 - loss: 0.5634 - val_accuracy: 0.7625 - val_loss: 0.6430\n",
      "Epoch 79/125\n",
      "\u001B[1m12/12\u001B[0m \u001B[32m━━━━━━━━━━━━━━━━━━━━\u001B[0m\u001B[37m\u001B[0m \u001B[1m2s\u001B[0m 193ms/step - accuracy: 0.7941 - loss: 0.5597 - val_accuracy: 0.7768 - val_loss: 0.6192\n",
      "Epoch 80/125\n",
      "\u001B[1m12/12\u001B[0m \u001B[32m━━━━━━━━━━━━━━━━━━━━\u001B[0m\u001B[37m\u001B[0m \u001B[1m2s\u001B[0m 151ms/step - accuracy: 0.7953 - loss: 0.5522 - val_accuracy: 0.7631 - val_loss: 0.6373\n",
      "Epoch 81/125\n",
      "\u001B[1m12/12\u001B[0m \u001B[32m━━━━━━━━━━━━━━━━━━━━\u001B[0m\u001B[37m\u001B[0m \u001B[1m2s\u001B[0m 154ms/step - accuracy: 0.7963 - loss: 0.5463 - val_accuracy: 0.7784 - val_loss: 0.6169\n",
      "Epoch 82/125\n",
      "\u001B[1m12/12\u001B[0m \u001B[32m━━━━━━━━━━━━━━━━━━━━\u001B[0m\u001B[37m\u001B[0m \u001B[1m2s\u001B[0m 154ms/step - accuracy: 0.8012 - loss: 0.5358 - val_accuracy: 0.7773 - val_loss: 0.6223\n",
      "Epoch 83/125\n",
      "\u001B[1m12/12\u001B[0m \u001B[32m━━━━━━━━━━━━━━━━━━━━\u001B[0m\u001B[37m\u001B[0m \u001B[1m2s\u001B[0m 154ms/step - accuracy: 0.8048 - loss: 0.5390 - val_accuracy: 0.7772 - val_loss: 0.6189\n",
      "Epoch 84/125\n",
      "\u001B[1m12/12\u001B[0m \u001B[32m━━━━━━━━━━━━━━━━━━━━\u001B[0m\u001B[37m\u001B[0m \u001B[1m2s\u001B[0m 154ms/step - accuracy: 0.7985 - loss: 0.5496 - val_accuracy: 0.7731 - val_loss: 0.6266\n",
      "Epoch 85/125\n",
      "\u001B[1m12/12\u001B[0m \u001B[32m━━━━━━━━━━━━━━━━━━━━\u001B[0m\u001B[37m\u001B[0m \u001B[1m2s\u001B[0m 154ms/step - accuracy: 0.7977 - loss: 0.5410 - val_accuracy: 0.7794 - val_loss: 0.6174\n",
      "Epoch 86/125\n",
      "\u001B[1m12/12\u001B[0m \u001B[32m━━━━━━━━━━━━━━━━━━━━\u001B[0m\u001B[37m\u001B[0m \u001B[1m2s\u001B[0m 154ms/step - accuracy: 0.8050 - loss: 0.5293 - val_accuracy: 0.7851 - val_loss: 0.6058\n",
      "Epoch 87/125\n",
      "\u001B[1m12/12\u001B[0m \u001B[32m━━━━━━━━━━━━━━━━━━━━\u001B[0m\u001B[37m\u001B[0m \u001B[1m2s\u001B[0m 153ms/step - accuracy: 0.8065 - loss: 0.5303 - val_accuracy: 0.7851 - val_loss: 0.6022\n",
      "Epoch 88/125\n",
      "\u001B[1m12/12\u001B[0m \u001B[32m━━━━━━━━━━━━━━━━━━━━\u001B[0m\u001B[37m\u001B[0m \u001B[1m2s\u001B[0m 154ms/step - accuracy: 0.8124 - loss: 0.5099 - val_accuracy: 0.7841 - val_loss: 0.6078\n",
      "Epoch 89/125\n",
      "\u001B[1m12/12\u001B[0m \u001B[32m━━━━━━━━━━━━━━━━━━━━\u001B[0m\u001B[37m\u001B[0m \u001B[1m2s\u001B[0m 155ms/step - accuracy: 0.8050 - loss: 0.5179 - val_accuracy: 0.7860 - val_loss: 0.6056\n",
      "Epoch 90/125\n",
      "\u001B[1m12/12\u001B[0m \u001B[32m━━━━━━━━━━━━━━━━━━━━\u001B[0m\u001B[37m\u001B[0m \u001B[1m2s\u001B[0m 155ms/step - accuracy: 0.8128 - loss: 0.5084 - val_accuracy: 0.7846 - val_loss: 0.6078\n",
      "Epoch 91/125\n",
      "\u001B[1m12/12\u001B[0m \u001B[32m━━━━━━━━━━━━━━━━━━━━\u001B[0m\u001B[37m\u001B[0m \u001B[1m2s\u001B[0m 154ms/step - accuracy: 0.8108 - loss: 0.5099 - val_accuracy: 0.7821 - val_loss: 0.6037\n",
      "Epoch 92/125\n",
      "\u001B[1m12/12\u001B[0m \u001B[32m━━━━━━━━━━━━━━━━━━━━\u001B[0m\u001B[37m\u001B[0m \u001B[1m2s\u001B[0m 154ms/step - accuracy: 0.8137 - loss: 0.5042 - val_accuracy: 0.7873 - val_loss: 0.6062\n",
      "Epoch 93/125\n",
      "\u001B[1m12/12\u001B[0m \u001B[32m━━━━━━━━━━━━━━━━━━━━\u001B[0m\u001B[37m\u001B[0m \u001B[1m2s\u001B[0m 155ms/step - accuracy: 0.8159 - loss: 0.5025 - val_accuracy: 0.7828 - val_loss: 0.6179\n",
      "Epoch 94/125\n",
      "\u001B[1m12/12\u001B[0m \u001B[32m━━━━━━━━━━━━━━━━━━━━\u001B[0m\u001B[37m\u001B[0m \u001B[1m2s\u001B[0m 155ms/step - accuracy: 0.8106 - loss: 0.5113 - val_accuracy: 0.7824 - val_loss: 0.6194\n",
      "Epoch 95/125\n",
      "\u001B[1m12/12\u001B[0m \u001B[32m━━━━━━━━━━━━━━━━━━━━\u001B[0m\u001B[37m\u001B[0m \u001B[1m2s\u001B[0m 151ms/step - accuracy: 0.8155 - loss: 0.5046 - val_accuracy: 0.7804 - val_loss: 0.6106\n",
      "Epoch 96/125\n",
      "\u001B[1m12/12\u001B[0m \u001B[32m━━━━━━━━━━━━━━━━━━━━\u001B[0m\u001B[37m\u001B[0m \u001B[1m2s\u001B[0m 145ms/step - accuracy: 0.8116 - loss: 0.5078 - val_accuracy: 0.7877 - val_loss: 0.5967\n",
      "Epoch 97/125\n",
      "\u001B[1m12/12\u001B[0m \u001B[32m━━━━━━━━━━━━━━━━━━━━\u001B[0m\u001B[37m\u001B[0m \u001B[1m2s\u001B[0m 146ms/step - accuracy: 0.8164 - loss: 0.4957 - val_accuracy: 0.7877 - val_loss: 0.6046\n",
      "Epoch 98/125\n",
      "\u001B[1m12/12\u001B[0m \u001B[32m━━━━━━━━━━━━━━━━━━━━\u001B[0m\u001B[37m\u001B[0m \u001B[1m2s\u001B[0m 145ms/step - accuracy: 0.8172 - loss: 0.4962 - val_accuracy: 0.7929 - val_loss: 0.5912\n",
      "Epoch 99/125\n",
      "\u001B[1m12/12\u001B[0m \u001B[32m━━━━━━━━━━━━━━━━━━━━\u001B[0m\u001B[37m\u001B[0m \u001B[1m2s\u001B[0m 146ms/step - accuracy: 0.8175 - loss: 0.4885 - val_accuracy: 0.7927 - val_loss: 0.5916\n",
      "Epoch 100/125\n",
      "\u001B[1m12/12\u001B[0m \u001B[32m━━━━━━━━━━━━━━━━━━━━\u001B[0m\u001B[37m\u001B[0m \u001B[1m2s\u001B[0m 146ms/step - accuracy: 0.8220 - loss: 0.4864 - val_accuracy: 0.7843 - val_loss: 0.6095\n",
      "Epoch 101/125\n",
      "\u001B[1m12/12\u001B[0m \u001B[32m━━━━━━━━━━━━━━━━━━━━\u001B[0m\u001B[37m\u001B[0m \u001B[1m2s\u001B[0m 146ms/step - accuracy: 0.8225 - loss: 0.4822 - val_accuracy: 0.7943 - val_loss: 0.5836\n",
      "Epoch 102/125\n",
      "\u001B[1m12/12\u001B[0m \u001B[32m━━━━━━━━━━━━━━━━━━━━\u001B[0m\u001B[37m\u001B[0m \u001B[1m2s\u001B[0m 146ms/step - accuracy: 0.8287 - loss: 0.4647 - val_accuracy: 0.7943 - val_loss: 0.5915\n",
      "Epoch 103/125\n",
      "\u001B[1m12/12\u001B[0m \u001B[32m━━━━━━━━━━━━━━━━━━━━\u001B[0m\u001B[37m\u001B[0m \u001B[1m2s\u001B[0m 145ms/step - accuracy: 0.8212 - loss: 0.4859 - val_accuracy: 0.7882 - val_loss: 0.5937\n",
      "Epoch 104/125\n",
      "\u001B[1m12/12\u001B[0m \u001B[32m━━━━━━━━━━━━━━━━━━━━\u001B[0m\u001B[37m\u001B[0m \u001B[1m2s\u001B[0m 145ms/step - accuracy: 0.8229 - loss: 0.4750 - val_accuracy: 0.7921 - val_loss: 0.5872\n",
      "Epoch 105/125\n",
      "\u001B[1m12/12\u001B[0m \u001B[32m━━━━━━━━━━━━━━━━━━━━\u001B[0m\u001B[37m\u001B[0m \u001B[1m2s\u001B[0m 146ms/step - accuracy: 0.8245 - loss: 0.4729 - val_accuracy: 0.7850 - val_loss: 0.6142\n",
      "Epoch 106/125\n",
      "\u001B[1m12/12\u001B[0m \u001B[32m━━━━━━━━━━━━━━━━━━━━\u001B[0m\u001B[37m\u001B[0m \u001B[1m2s\u001B[0m 145ms/step - accuracy: 0.8253 - loss: 0.4730 - val_accuracy: 0.7963 - val_loss: 0.5890\n",
      "Epoch 107/125\n",
      "\u001B[1m12/12\u001B[0m \u001B[32m━━━━━━━━━━━━━━━━━━━━\u001B[0m\u001B[37m\u001B[0m \u001B[1m2s\u001B[0m 147ms/step - accuracy: 0.8262 - loss: 0.4685 - val_accuracy: 0.7866 - val_loss: 0.5948\n",
      "Epoch 108/125\n",
      "\u001B[1m12/12\u001B[0m \u001B[32m━━━━━━━━━━━━━━━━━━━━\u001B[0m\u001B[37m\u001B[0m \u001B[1m2s\u001B[0m 145ms/step - accuracy: 0.8250 - loss: 0.4747 - val_accuracy: 0.7948 - val_loss: 0.5780\n",
      "Epoch 109/125\n",
      "\u001B[1m12/12\u001B[0m \u001B[32m━━━━━━━━━━━━━━━━━━━━\u001B[0m\u001B[37m\u001B[0m \u001B[1m2s\u001B[0m 146ms/step - accuracy: 0.8257 - loss: 0.4632 - val_accuracy: 0.8012 - val_loss: 0.5882\n",
      "Epoch 110/125\n",
      "\u001B[1m12/12\u001B[0m \u001B[32m━━━━━━━━━━━━━━━━━━━━\u001B[0m\u001B[37m\u001B[0m \u001B[1m2s\u001B[0m 146ms/step - accuracy: 0.8270 - loss: 0.4628 - val_accuracy: 0.7893 - val_loss: 0.5999\n",
      "Epoch 111/125\n",
      "\u001B[1m12/12\u001B[0m \u001B[32m━━━━━━━━━━━━━━━━━━━━\u001B[0m\u001B[37m\u001B[0m \u001B[1m2s\u001B[0m 169ms/step - accuracy: 0.8308 - loss: 0.4532 - val_accuracy: 0.7975 - val_loss: 0.5894\n",
      "Epoch 112/125\n",
      "\u001B[1m12/12\u001B[0m \u001B[32m━━━━━━━━━━━━━━━━━━━━\u001B[0m\u001B[37m\u001B[0m \u001B[1m2s\u001B[0m 193ms/step - accuracy: 0.8268 - loss: 0.4657 - val_accuracy: 0.7936 - val_loss: 0.5831\n",
      "Epoch 113/125\n",
      "\u001B[1m12/12\u001B[0m \u001B[32m━━━━━━━━━━━━━━━━━━━━\u001B[0m\u001B[37m\u001B[0m \u001B[1m2s\u001B[0m 151ms/step - accuracy: 0.8326 - loss: 0.4570 - val_accuracy: 0.7946 - val_loss: 0.5861\n",
      "Epoch 114/125\n",
      "\u001B[1m12/12\u001B[0m \u001B[32m━━━━━━━━━━━━━━━━━━━━\u001B[0m\u001B[37m\u001B[0m \u001B[1m2s\u001B[0m 154ms/step - accuracy: 0.8368 - loss: 0.4459 - val_accuracy: 0.8020 - val_loss: 0.5729\n",
      "Epoch 115/125\n",
      "\u001B[1m12/12\u001B[0m \u001B[32m━━━━━━━━━━━━━━━━━━━━\u001B[0m\u001B[37m\u001B[0m \u001B[1m2s\u001B[0m 154ms/step - accuracy: 0.8344 - loss: 0.4443 - val_accuracy: 0.7929 - val_loss: 0.5962\n",
      "Epoch 116/125\n",
      "\u001B[1m12/12\u001B[0m \u001B[32m━━━━━━━━━━━━━━━━━━━━\u001B[0m\u001B[37m\u001B[0m \u001B[1m2s\u001B[0m 155ms/step - accuracy: 0.8297 - loss: 0.4604 - val_accuracy: 0.7927 - val_loss: 0.5997\n",
      "Epoch 117/125\n",
      "\u001B[1m12/12\u001B[0m \u001B[32m━━━━━━━━━━━━━━━━━━━━\u001B[0m\u001B[37m\u001B[0m \u001B[1m2s\u001B[0m 154ms/step - accuracy: 0.8308 - loss: 0.4602 - val_accuracy: 0.7917 - val_loss: 0.5923\n",
      "Epoch 118/125\n",
      "\u001B[1m12/12\u001B[0m \u001B[32m━━━━━━━━━━━━━━━━━━━━\u001B[0m\u001B[37m\u001B[0m \u001B[1m2s\u001B[0m 154ms/step - accuracy: 0.8374 - loss: 0.4451 - val_accuracy: 0.7934 - val_loss: 0.5930\n",
      "Epoch 119/125\n",
      "\u001B[1m12/12\u001B[0m \u001B[32m━━━━━━━━━━━━━━━━━━━━\u001B[0m\u001B[37m\u001B[0m \u001B[1m2s\u001B[0m 154ms/step - accuracy: 0.8391 - loss: 0.4426 - val_accuracy: 0.7985 - val_loss: 0.5818\n",
      "Epoch 120/125\n",
      "\u001B[1m12/12\u001B[0m \u001B[32m━━━━━━━━━━━━━━━━━━━━\u001B[0m\u001B[37m\u001B[0m \u001B[1m2s\u001B[0m 154ms/step - accuracy: 0.8402 - loss: 0.4354 - val_accuracy: 0.7885 - val_loss: 0.6041\n",
      "Epoch 121/125\n",
      "\u001B[1m12/12\u001B[0m \u001B[32m━━━━━━━━━━━━━━━━━━━━\u001B[0m\u001B[37m\u001B[0m \u001B[1m2s\u001B[0m 154ms/step - accuracy: 0.8364 - loss: 0.4406 - val_accuracy: 0.7958 - val_loss: 0.5906\n",
      "Epoch 122/125\n",
      "\u001B[1m12/12\u001B[0m \u001B[32m━━━━━━━━━━━━━━━━━━━━\u001B[0m\u001B[37m\u001B[0m \u001B[1m2s\u001B[0m 155ms/step - accuracy: 0.8384 - loss: 0.4425 - val_accuracy: 0.7964 - val_loss: 0.6015\n",
      "Epoch 123/125\n",
      "\u001B[1m12/12\u001B[0m \u001B[32m━━━━━━━━━━━━━━━━━━━━\u001B[0m\u001B[37m\u001B[0m \u001B[1m2s\u001B[0m 155ms/step - accuracy: 0.8310 - loss: 0.4510 - val_accuracy: 0.7939 - val_loss: 0.5968\n",
      "Epoch 124/125\n",
      "\u001B[1m12/12\u001B[0m \u001B[32m━━━━━━━━━━━━━━━━━━━━\u001B[0m\u001B[37m\u001B[0m \u001B[1m2s\u001B[0m 155ms/step - accuracy: 0.8373 - loss: 0.4381 - val_accuracy: 0.7959 - val_loss: 0.5851\n",
      "Epoch 125/125\n",
      "\u001B[1m12/12\u001B[0m \u001B[32m━━━━━━━━━━━━━━━━━━━━\u001B[0m\u001B[37m\u001B[0m \u001B[1m2s\u001B[0m 155ms/step - accuracy: 0.8378 - loss: 0.4306 - val_accuracy: 0.8024 - val_loss: 0.5903\n"
     ]
    }
   ],
   "execution_count": 19
  },
  {
   "metadata": {},
   "cell_type": "markdown",
   "source": [
    "# Loss evaluation\n",
    "\n",
    "Seeing how the model's loss changes by the epoch"
   ],
   "id": "28458dd6caeaf05c"
  },
  {
   "cell_type": "code",
   "source": [
    "%matplotlib inline\n",
    "plt.plot(history.history['loss'])\n",
    "plt.plot(history.history['val_loss'])\n",
    "plt.title(\"Loss\")\n",
    "plt.legend(['Train', 'Val'], loc='upper right')\n",
    "plt.ylabel('Loss')\n",
    "plt.xlabel('Epoch')"
   ],
   "metadata": {
    "collapsed": false,
    "ExecuteTime": {
     "end_time": "2024-05-11T02:14:50.360383Z",
     "start_time": "2024-05-11T02:14:50.267014Z"
    }
   },
   "id": "db97a7f3cc91e456",
   "outputs": [
    {
     "data": {
      "text/plain": "Text(0.5, 0, 'Epoch')"
     },
     "execution_count": 25,
     "metadata": {},
     "output_type": "execute_result"
    },
    {
     "data": {
      "text/plain": "<Figure size 640x480 with 1 Axes>",
      "image/png": "[encoded data removed]"
     },
     "metadata": {},
     "output_type": "display_data"
    }
   ],
   "execution_count": 25
  },
  {
   "metadata": {},
   "cell_type": "markdown",
   "source": [
    "# Loss evaluation\n",
    "\n",
    "Seeing how the model's loss changes by the epoch"
   ],
   "id": "47dd11a44349b4d5"
  },
  {
   "metadata": {
    "ExecuteTime": {
     "end_time": "2024-05-11T02:15:00.433619Z",
     "start_time": "2024-05-11T02:15:00.338867Z"
    }
   },
   "cell_type": "code",
   "source": [
    "%matplotlib inline\n",
    "plt.plot(history.history['accuracy'])\n",
    "plt.plot(history.history['val_accuracy'])\n",
    "plt.title(\"Accuracy\")\n",
    "plt.legend(['Train', 'Val'], loc='upper right')\n",
    "plt.ylabel('Accuracy')\n",
    "plt.xlabel('Epoch')"
   ],
   "id": "4a03b62d16638245",
   "outputs": [
    {
     "data": {
      "text/plain": "Text(0.5, 0, 'Epoch')"
     },
     "execution_count": 26,
     "metadata": {},
     "output_type": "execute_result"
    },
    {
     "data": {
      "text/plain": "<Figure size 640x480 with 1 Axes>",
      "image/png": "[encoded data removed]"
     },
     "metadata": {},
     "output_type": "display_data"
    }
   ],
   "execution_count": 26
  },
  {
   "cell_type": "markdown",
   "source": [
    "# Prediction"
   ],
   "metadata": {
    "collapsed": false
   },
   "id": "4fb3930ce2fec85d"
  },
  {
   "cell_type": "code",
   "source": [
    "prediction_word = \"\"\n",
    "print(f\"Text before preprocessing: {prediction_word}\")\n",
    "prediction_word = preprocess(prediction_word)\n",
    "print(f\"Text after preprocessing: {prediction_word}\")\n",
    "prediction_word = tokenizer.texts_to_sequences([prediction_word])\n",
    "prediction_word = pad_sequences(prediction_word, maxlen=input_dim)\n",
    "prediction = model.predict([prediction_word])\n",
    "output_probabilities = np.array(prediction)\n",
    "result = {}\n",
    "class_labels = np.unique(y_df.columns)\n",
    "for index, prediction in enumerate(output_probabilities[0]):\n",
    "    result.update({class_labels[index]: round(prediction * 100, 1)})\n",
    "\n",
    "# Print keys and values of the result dictionary\n",
    "for key, value in result.items():\n",
    "    print(f\"{key}: {value}\")"
   ],
   "metadata": {
    "collapsed": false,
    "ExecuteTime": {
     "end_time": "2024-05-11T02:11:35.528411Z",
     "start_time": "2024-05-11T02:11:35.408090Z"
    }
   },
   "id": "2af1ef5d86413ee6",
   "outputs": [
    {
     "name": "stdout",
     "output_type": "stream",
     "text": [
      "Text before preprocessing: \n",
      "Text after preprocessing:     \n",
      "\u001B[1m1/1\u001B[0m \u001B[32m━━━━━━━━━━━━━━━━━━━━\u001B[0m\u001B[37m\u001B[0m \u001B[1m0s\u001B[0m 87ms/step\n",
      "Language_French: 0.0\n",
      "Language_Italian: 45.5\n",
      "Language_Latin: 0.0\n",
      "Language_Portuguese: 54.5\n",
      "Language_Spanish: 0.0\n"
     ]
    }
   ],
   "execution_count": 22
  },
  {
   "cell_type": "markdown",
   "source": [
    "# Save model\n",
    "Here a model can be loaded"
   ],
   "metadata": {
    "collapsed": false
   },
   "id": "7346b90cf1a2f553"
  },
  {
   "cell_type": "code",
   "source": [
    "model.save('./models/model_romance.keras')"
   ],
   "metadata": {
    "collapsed": false,
    "ExecuteTime": {
     "end_time": "2024-05-11T02:11:35.552649Z",
     "start_time": "2024-05-11T02:11:35.525511Z"
    }
   },
   "id": "f103d5e7cc3146d9",
   "outputs": [],
   "execution_count": 23
  },
  {
   "cell_type": "markdown",
   "source": [
    "# Load model\n",
    "Here a model can be loaded"
   ],
   "metadata": {
    "collapsed": false
   },
   "id": "e0cf8ae450614ab7"
  },
  {
   "cell_type": "code",
   "source": [
    "model = load_model('./models/model_romance.keras')"
   ],
   "metadata": {
    "collapsed": false,
    "ExecuteTime": {
     "end_time": "2024-05-11T02:11:35.595205Z",
     "start_time": "2024-05-11T02:11:35.544716Z"
    }
   },
   "id": "c0bbfbb51379fba0",
   "outputs": [],
   "execution_count": 24
  },
  {
   "cell_type": "code",
   "outputs": [],
   "source": [],
   "metadata": {
    "collapsed": false,
    "ExecuteTime": {
     "end_time": "2024-05-11T02:11:35.599399Z",
     "start_time": "2024-05-11T02:11:35.596422Z"
    }
   },
   "id": "f45de99f223bed4c",
   "execution_count": 24
  }
 ],
 "metadata": {
  "kernelspec": {
   "display_name": "Python 3",
   "language": "python",
   "name": "python3"
  },
  "language_info": {
   "codemirror_mode": {
    "name": "ipython",
    "version": 2
   },
   "file_extension": ".py",
   "mimetype": "text/x-python",
   "name": "python",
   "nbconvert_exporter": "python",
   "pygments_lexer": "ipython2",
   "version": "2.7.6"
  }
 },
 "nbformat": 4,
 "nbformat_minor": 5
}
