{
 "cells": [
  {
   "cell_type": "code",
   "id": "initial_id",
   "metadata": {
    "collapsed": true,
    "ExecuteTime": {
     "end_time": "2024-05-29T06:29:21.361806Z",
     "start_time": "2024-05-29T06:29:21.347917Z"
    }
   },
   "source": [
    "import numpy as np\n",
    "import pandas as pd\n",
    "import matplotlib.pyplot as plt\n",
    "from tensorflow.keras.models import Sequential, load_model\n",
    "from tensorflow.keras.layers import Dense, Conv1D, LSTM, Dropout, Flatten\n",
    "from tensorflow.keras import optimizers\n",
    "from tensorflow.keras.preprocessing.text import Tokenizer\n",
    "from keras.src.utils import pad_sequences\n",
    "from sklearn.model_selection import train_test_split\n",
    "import json\n",
    "from custom_preprocessor import preprocess"
   ],
   "outputs": [],
   "execution_count": 6
  },
  {
   "cell_type": "markdown",
   "source": [
    "# Get data\n",
    "Pandas is used to get the data from the project directory.\n",
    "The data is a .csv file, that has been created by book texts and prepared to be listed in the file word-by-word."
   ],
   "metadata": {
    "collapsed": false
   },
   "id": "b20ed3afab281b03"
  },
  {
   "cell_type": "code",
   "source": [
    "df = pd.read_csv('./data/dataset_germanic.csv')\n",
    "df = df.sample(frac=1.0, random_state=12)\n",
    "df.head()"
   ],
   "metadata": {
    "collapsed": false,
    "ExecuteTime": {
     "end_time": "2024-05-29T06:29:22.807423Z",
     "start_time": "2024-05-29T06:29:22.747812Z"
    }
   },
   "id": "9934f095638f49f4",
   "outputs": [
    {
     "data": {
      "text/plain": "                                                   Word Language\n32859    knows a tiny knows a tiny knows a tiny knows a  English\n20523       kontinent recht lange kontinent recht lange   German\n19012       von einer von einer von einer von einer von   German\n76845  lugn ur en lugn ur en lugn ur en lugn ur en lugn  Swedish\n21638   betreffenden oberbehorden berufung betreffenden   German",
      "text/html": "<div>\n<style scoped>\n    .dataframe tbody tr th:only-of-type {\n        vertical-align: middle;\n    }\n\n    .dataframe tbody tr th {\n        vertical-align: top;\n    }\n\n    .dataframe thead th {\n        text-align: right;\n    }\n</style>\n<table border=\"1\" class=\"dataframe\">\n  <thead>\n    <tr style=\"text-align: right;\">\n      <th></th>\n      <th>Word</th>\n      <th>Language</th>\n    </tr>\n  </thead>\n  <tbody>\n    <tr>\n      <th>32859</th>\n      <td>knows a tiny knows a tiny knows a tiny knows a</td>\n      <td>English</td>\n    </tr>\n    <tr>\n      <th>20523</th>\n      <td>kontinent recht lange kontinent recht lange</td>\n      <td>German</td>\n    </tr>\n    <tr>\n      <th>19012</th>\n      <td>von einer von einer von einer von einer von</td>\n      <td>German</td>\n    </tr>\n    <tr>\n      <th>76845</th>\n      <td>lugn ur en lugn ur en lugn ur en lugn ur en lugn</td>\n      <td>Swedish</td>\n    </tr>\n    <tr>\n      <th>21638</th>\n      <td>betreffenden oberbehorden berufung betreffenden</td>\n      <td>German</td>\n    </tr>\n  </tbody>\n</table>\n</div>"
     },
     "execution_count": 7,
     "metadata": {},
     "output_type": "execute_result"
    }
   ],
   "execution_count": 7
  },
  {
   "cell_type": "markdown",
   "source": [
    "# Prepare data\n",
    "Divide the data into X and y. X is input and y is the desired output.\n",
    "One-Hot Encode it, so the language is categorical. This is done with Pandas."
   ],
   "metadata": {
    "collapsed": false
   },
   "id": "e375f9241e794ae4"
  },
  {
   "cell_type": "code",
   "source": [
    "# Getting X - the input values\n",
    "X = df.iloc[:, :-1]\n",
    "X.loc[:, 'Word'] = X['Word'].astype(str)\n",
    "tokenizer = Tokenizer(char_level=True) # Used for turning the words into numbers\n",
    "tokenizer.fit_on_texts(X['Word'].tolist()) # Giving Tokenizer the data it needs to learn how to encode the words\n",
    "X_sequences = tokenizer.texts_to_sequences(X['Word'].tolist()) # Now the words are encoded into sequences\n",
    "input_dim = max(len(seq) for seq in X_sequences)\n",
    "print(f\"Input dimension: {input_dim}\")\n",
    "X = pad_sequences(\n",
    "    X_sequences, \n",
    "    maxlen=input_dim, \n",
    "    padding='post'\n",
    ") # Making all input values be of same length\n",
    "print(f\"Rows: {len(X)}\")\n",
    "\n",
    "# Getting y - the output values\n",
    "y_df = pd.get_dummies(df.iloc[:, -1:])\n",
    "y = y_df.values\n",
    "print(f\"Amount of languages to identify: {len(y[1])}\")\n",
    "\n",
    "X_train, X_val, y_train, y_val = train_test_split(X, y, test_size=0.2, random_state=42)\n",
    "X_train = X_train.reshape(X_train.shape[0], X_train.shape[1], 1)\n",
    "X_train = X_train.astype('float32')"
   ],
   "metadata": {
    "collapsed": false,
    "ExecuteTime": {
     "end_time": "2024-05-29T06:29:26.976528Z",
     "start_time": "2024-05-29T06:29:25.895178Z"
    }
   },
   "id": "ba4d86402045de27",
   "outputs": [
    {
     "name": "stdout",
     "output_type": "stream",
     "text": [
      "Input dimension: 49\n",
      "Rows: 86454\n",
      "Amount of languages to identify: 6\n"
     ]
    }
   ],
   "execution_count": 8
  },
  {
   "cell_type": "code",
   "source": [
    "model = Sequential()\n",
    "model.add(Conv1D(input_dim, 2, activation='relu'))  # Convolutional layer\n",
    "model.add(LSTM(32, return_sequences=True))\n",
    "model.add(Flatten())\n",
    "model.add(Dropout(0.5))\n",
    "model.add(Dense(len(y[1]), activation='softmax'))\n",
    "adam = optimizers.Adam(learning_rate=0.01)\n",
    "model.compile(loss='categorical_crossentropy', optimizer=adam, metrics=['accuracy'])"
   ],
   "metadata": {
    "collapsed": false,
    "ExecuteTime": {
     "end_time": "2024-05-29T06:29:29.919041Z",
     "start_time": "2024-05-29T06:29:29.901727Z"
    }
   },
   "id": "c870f2fa48fe956c",
   "outputs": [
    {
     "name": "stderr",
     "output_type": "stream",
     "text": [
      "WARNING:absl:At this time, the v2.11+ optimizer `tf.keras.optimizers.Adam` runs slowly on M1/M2 Macs, please use the legacy Keras optimizer instead, located at `tf.keras.optimizers.legacy.Adam`.\n"
     ]
    }
   ],
   "execution_count": 9
  },
  {
   "cell_type": "code",
   "source": [
    "history = model.fit(X_train.astype('float32'), y_train.astype('float32'), validation_data=(X_val, y_val), epochs=60, batch_size=2048,verbose=1)"
   ],
   "metadata": {
    "collapsed": false,
    "ExecuteTime": {
     "end_time": "2024-05-29T06:34:47.751308Z",
     "start_time": "2024-05-29T06:29:32.342215Z"
    }
   },
   "id": "d9a29cb1ff2dcba7",
   "outputs": [
    {
     "name": "stdout",
     "output_type": "stream",
     "text": [
      "Epoch 1/60\n",
      "34/34 [==============================] - 6s 157ms/step - loss: 1.8622 - accuracy: 0.1759 - val_loss: 1.7818 - val_accuracy: 0.2018\n",
      "Epoch 2/60\n",
      "34/34 [==============================] - 5s 155ms/step - loss: 1.7704 - accuracy: 0.2232 - val_loss: 1.7475 - val_accuracy: 0.2475\n",
      "Epoch 3/60\n",
      "34/34 [==============================] - 5s 159ms/step - loss: 1.7159 - accuracy: 0.2730 - val_loss: 1.6782 - val_accuracy: 0.3025\n",
      "Epoch 4/60\n",
      "34/34 [==============================] - 6s 162ms/step - loss: 1.6562 - accuracy: 0.3150 - val_loss: 1.6155 - val_accuracy: 0.3390\n",
      "Epoch 5/60\n",
      "34/34 [==============================] - 5s 150ms/step - loss: 1.6063 - accuracy: 0.3448 - val_loss: 1.5606 - val_accuracy: 0.3674\n",
      "Epoch 6/60\n",
      "34/34 [==============================] - 5s 152ms/step - loss: 1.5581 - accuracy: 0.3684 - val_loss: 1.5080 - val_accuracy: 0.3914\n",
      "Epoch 7/60\n",
      "34/34 [==============================] - 6s 163ms/step - loss: 1.5189 - accuracy: 0.3874 - val_loss: 1.4771 - val_accuracy: 0.4001\n",
      "Epoch 8/60\n",
      "34/34 [==============================] - 5s 155ms/step - loss: 1.4793 - accuracy: 0.4063 - val_loss: 1.4228 - val_accuracy: 0.4268\n",
      "Epoch 9/60\n",
      "34/34 [==============================] - 5s 158ms/step - loss: 1.4275 - accuracy: 0.4288 - val_loss: 1.3608 - val_accuracy: 0.4561\n",
      "Epoch 10/60\n",
      "34/34 [==============================] - 5s 157ms/step - loss: 1.3656 - accuracy: 0.4560 - val_loss: 1.3313 - val_accuracy: 0.4674\n",
      "Epoch 11/60\n",
      "34/34 [==============================] - 5s 155ms/step - loss: 1.3301 - accuracy: 0.4745 - val_loss: 1.2902 - val_accuracy: 0.4970\n",
      "Epoch 12/60\n",
      "34/34 [==============================] - 5s 154ms/step - loss: 1.2699 - accuracy: 0.4973 - val_loss: 1.1813 - val_accuracy: 0.5374\n",
      "Epoch 13/60\n",
      "34/34 [==============================] - 5s 155ms/step - loss: 1.2129 - accuracy: 0.5199 - val_loss: 1.1513 - val_accuracy: 0.5481\n",
      "Epoch 14/60\n",
      "34/34 [==============================] - 5s 160ms/step - loss: 1.1770 - accuracy: 0.5387 - val_loss: 1.0994 - val_accuracy: 0.5702\n",
      "Epoch 15/60\n",
      "34/34 [==============================] - 5s 155ms/step - loss: 1.1335 - accuracy: 0.5552 - val_loss: 1.0546 - val_accuracy: 0.5871\n",
      "Epoch 16/60\n",
      "34/34 [==============================] - 5s 159ms/step - loss: 1.0906 - accuracy: 0.5724 - val_loss: 1.0305 - val_accuracy: 0.5970\n",
      "Epoch 17/60\n",
      "34/34 [==============================] - 5s 157ms/step - loss: 1.0552 - accuracy: 0.5834 - val_loss: 1.0128 - val_accuracy: 0.6087\n",
      "Epoch 18/60\n",
      "34/34 [==============================] - 5s 160ms/step - loss: 1.0433 - accuracy: 0.5870 - val_loss: 0.9916 - val_accuracy: 0.6125\n",
      "Epoch 19/60\n",
      "34/34 [==============================] - 5s 156ms/step - loss: 1.0179 - accuracy: 0.6006 - val_loss: 0.9581 - val_accuracy: 0.6202\n",
      "Epoch 20/60\n",
      "34/34 [==============================] - 5s 157ms/step - loss: 0.9820 - accuracy: 0.6116 - val_loss: 0.9274 - val_accuracy: 0.6342\n",
      "Epoch 21/60\n",
      "34/34 [==============================] - 5s 156ms/step - loss: 0.9571 - accuracy: 0.6206 - val_loss: 0.9245 - val_accuracy: 0.6387\n",
      "Epoch 22/60\n",
      "34/34 [==============================] - 5s 155ms/step - loss: 0.9488 - accuracy: 0.6246 - val_loss: 0.9057 - val_accuracy: 0.6440\n",
      "Epoch 23/60\n",
      "34/34 [==============================] - 5s 158ms/step - loss: 0.9243 - accuracy: 0.6325 - val_loss: 0.8870 - val_accuracy: 0.6499\n",
      "Epoch 24/60\n",
      "34/34 [==============================] - 5s 159ms/step - loss: 0.9118 - accuracy: 0.6379 - val_loss: 0.8818 - val_accuracy: 0.6494\n",
      "Epoch 25/60\n",
      "34/34 [==============================] - 5s 158ms/step - loss: 0.8985 - accuracy: 0.6429 - val_loss: 0.8629 - val_accuracy: 0.6581\n",
      "Epoch 26/60\n",
      "34/34 [==============================] - 5s 157ms/step - loss: 0.8832 - accuracy: 0.6484 - val_loss: 0.8849 - val_accuracy: 0.6517\n",
      "Epoch 27/60\n",
      "34/34 [==============================] - 5s 157ms/step - loss: 0.8815 - accuracy: 0.6486 - val_loss: 0.8502 - val_accuracy: 0.6646\n",
      "Epoch 28/60\n",
      "34/34 [==============================] - 5s 155ms/step - loss: 0.8586 - accuracy: 0.6578 - val_loss: 0.8258 - val_accuracy: 0.6756\n",
      "Epoch 29/60\n",
      "34/34 [==============================] - 5s 153ms/step - loss: 0.8493 - accuracy: 0.6619 - val_loss: 0.8229 - val_accuracy: 0.6739\n",
      "Epoch 30/60\n",
      "34/34 [==============================] - 5s 156ms/step - loss: 0.8495 - accuracy: 0.6609 - val_loss: 0.8227 - val_accuracy: 0.6743\n",
      "Epoch 31/60\n",
      "34/34 [==============================] - 5s 156ms/step - loss: 0.8166 - accuracy: 0.6738 - val_loss: 0.8132 - val_accuracy: 0.6767\n",
      "Epoch 32/60\n",
      "34/34 [==============================] - 5s 156ms/step - loss: 0.8239 - accuracy: 0.6700 - val_loss: 0.8100 - val_accuracy: 0.6787\n",
      "Epoch 33/60\n",
      "34/34 [==============================] - 5s 155ms/step - loss: 0.8118 - accuracy: 0.6756 - val_loss: 0.7855 - val_accuracy: 0.6883\n",
      "Epoch 34/60\n",
      "34/34 [==============================] - 5s 155ms/step - loss: 0.7950 - accuracy: 0.6820 - val_loss: 0.7863 - val_accuracy: 0.6881\n",
      "Epoch 35/60\n",
      "34/34 [==============================] - 5s 156ms/step - loss: 0.7786 - accuracy: 0.6879 - val_loss: 0.7932 - val_accuracy: 0.6863\n",
      "Epoch 36/60\n",
      "34/34 [==============================] - 5s 158ms/step - loss: 0.7858 - accuracy: 0.6869 - val_loss: 0.7672 - val_accuracy: 0.6967\n",
      "Epoch 37/60\n",
      "34/34 [==============================] - 5s 157ms/step - loss: 0.7810 - accuracy: 0.6886 - val_loss: 0.7751 - val_accuracy: 0.6908\n",
      "Epoch 38/60\n",
      "34/34 [==============================] - 5s 157ms/step - loss: 0.7585 - accuracy: 0.6955 - val_loss: 0.7546 - val_accuracy: 0.6968\n",
      "Epoch 39/60\n",
      "34/34 [==============================] - 5s 157ms/step - loss: 0.7645 - accuracy: 0.6921 - val_loss: 0.7747 - val_accuracy: 0.6916\n",
      "Epoch 40/60\n",
      "34/34 [==============================] - 5s 156ms/step - loss: 0.7473 - accuracy: 0.6971 - val_loss: 0.7435 - val_accuracy: 0.7050\n",
      "Epoch 41/60\n",
      "34/34 [==============================] - 5s 156ms/step - loss: 0.7619 - accuracy: 0.6935 - val_loss: 0.7506 - val_accuracy: 0.7045\n",
      "Epoch 42/60\n",
      "34/34 [==============================] - 5s 157ms/step - loss: 0.7377 - accuracy: 0.6991 - val_loss: 0.7572 - val_accuracy: 0.6975\n",
      "Epoch 43/60\n",
      "34/34 [==============================] - 5s 162ms/step - loss: 0.7372 - accuracy: 0.7036 - val_loss: 0.7299 - val_accuracy: 0.7113\n",
      "Epoch 44/60\n",
      "34/34 [==============================] - 5s 159ms/step - loss: 0.7276 - accuracy: 0.7061 - val_loss: 0.7397 - val_accuracy: 0.7084\n",
      "Epoch 45/60\n",
      "34/34 [==============================] - 5s 148ms/step - loss: 0.7379 - accuracy: 0.7046 - val_loss: 0.7284 - val_accuracy: 0.7097\n",
      "Epoch 46/60\n",
      "34/34 [==============================] - 5s 150ms/step - loss: 0.7187 - accuracy: 0.7103 - val_loss: 0.7142 - val_accuracy: 0.7159\n",
      "Epoch 47/60\n",
      "34/34 [==============================] - 5s 150ms/step - loss: 0.7119 - accuracy: 0.7138 - val_loss: 0.7533 - val_accuracy: 0.7018\n",
      "Epoch 48/60\n",
      "34/34 [==============================] - 5s 150ms/step - loss: 0.7116 - accuracy: 0.7122 - val_loss: 0.7219 - val_accuracy: 0.7146\n",
      "Epoch 49/60\n",
      "34/34 [==============================] - 5s 151ms/step - loss: 0.7124 - accuracy: 0.7125 - val_loss: 0.7232 - val_accuracy: 0.7146\n",
      "Epoch 50/60\n",
      "34/34 [==============================] - 5s 150ms/step - loss: 0.7050 - accuracy: 0.7155 - val_loss: 0.7157 - val_accuracy: 0.7189\n",
      "Epoch 51/60\n",
      "34/34 [==============================] - 5s 148ms/step - loss: 0.7053 - accuracy: 0.7135 - val_loss: 0.7111 - val_accuracy: 0.7207\n",
      "Epoch 52/60\n",
      "34/34 [==============================] - 5s 144ms/step - loss: 0.7039 - accuracy: 0.7166 - val_loss: 0.7367 - val_accuracy: 0.7084\n",
      "Epoch 53/60\n",
      "34/34 [==============================] - 5s 147ms/step - loss: 0.6882 - accuracy: 0.7199 - val_loss: 0.7062 - val_accuracy: 0.7198\n",
      "Epoch 54/60\n",
      "34/34 [==============================] - 5s 148ms/step - loss: 0.6811 - accuracy: 0.7242 - val_loss: 0.6934 - val_accuracy: 0.7229\n",
      "Epoch 55/60\n",
      "34/34 [==============================] - 5s 148ms/step - loss: 0.6724 - accuracy: 0.7267 - val_loss: 0.6997 - val_accuracy: 0.7238\n",
      "Epoch 56/60\n",
      "34/34 [==============================] - 5s 149ms/step - loss: 0.6700 - accuracy: 0.7294 - val_loss: 0.7081 - val_accuracy: 0.7221\n",
      "Epoch 57/60\n",
      "34/34 [==============================] - 5s 150ms/step - loss: 0.6658 - accuracy: 0.7296 - val_loss: 0.6823 - val_accuracy: 0.7314\n",
      "Epoch 58/60\n",
      "34/34 [==============================] - 5s 148ms/step - loss: 0.6749 - accuracy: 0.7253 - val_loss: 0.7264 - val_accuracy: 0.7133\n",
      "Epoch 59/60\n",
      "34/34 [==============================] - 5s 150ms/step - loss: 0.6620 - accuracy: 0.7316 - val_loss: 0.6796 - val_accuracy: 0.7304\n",
      "Epoch 60/60\n",
      "34/34 [==============================] - 5s 150ms/step - loss: 0.6605 - accuracy: 0.7319 - val_loss: 0.6774 - val_accuracy: 0.7314\n"
     ]
    }
   ],
   "execution_count": 10
  },
  {
   "metadata": {},
   "cell_type": "markdown",
   "source": [
    "# Loss evaluation\n",
    "\n",
    "Seeing how the model's loss changes by the epoch"
   ],
   "id": "28458dd6caeaf05c"
  },
  {
   "cell_type": "code",
   "source": [
    "%matplotlib inline\n",
    "plt.plot(history.history['loss'])\n",
    "plt.plot(history.history['val_loss'])\n",
    "plt.title(\"Loss\")\n",
    "plt.legend(['Train', 'Val'], loc='upper right')\n",
    "plt.ylabel('Loss')\n",
    "plt.xlabel('Epoch')"
   ],
   "metadata": {
    "collapsed": false,
    "ExecuteTime": {
     "end_time": "2024-05-29T06:35:29.388638Z",
     "start_time": "2024-05-29T06:35:29.150669Z"
    }
   },
   "id": "db97a7f3cc91e456",
   "outputs": [
    {
     "data": {
      "text/plain": "Text(0.5, 0, 'Epoch')"
     },
     "execution_count": 11,
     "metadata": {},
     "output_type": "execute_result"
    },
    {
     "data": {
      "text/plain": "<Figure size 640x480 with 1 Axes>",
      "image/png": "[encoded data removed]"
     },
     "metadata": {},
     "output_type": "display_data"
    }
   ],
   "execution_count": 11
  },
  {
   "metadata": {},
   "cell_type": "markdown",
   "source": [
    "# Loss evaluation\n",
    "\n",
    "Seeing how the model's loss changes by the epoch"
   ],
   "id": "47dd11a44349b4d5"
  },
  {
   "metadata": {
    "ExecuteTime": {
     "end_time": "2024-05-29T06:48:08.057849Z",
     "start_time": "2024-05-29T06:48:07.756333Z"
    }
   },
   "cell_type": "code",
   "source": [
    "%matplotlib inline\n",
    "plt.plot(history.history['accuracy'])\n",
    "plt.plot(history.history['val_accuracy'])\n",
    "plt.title(\"Accuracy\")\n",
    "plt.legend(['Train', 'Val'], loc='upper right')\n",
    "plt.ylabel('Accuracy')\n",
    "plt.xlabel('Epoch')"
   ],
   "id": "4a03b62d16638245",
   "outputs": [
    {
     "data": {
      "text/plain": "Text(0.5, 0, 'Epoch')"
     },
     "execution_count": 12,
     "metadata": {},
     "output_type": "execute_result"
    },
    {
     "data": {
      "text/plain": "<Figure size 640x480 with 1 Axes>",
      "image/png": "[encoded data removed]"
     },
     "metadata": {},
     "output_type": "display_data"
    }
   ],
   "execution_count": 12
  },
  {
   "cell_type": "markdown",
   "source": [
    "# Prediction"
   ],
   "metadata": {
    "collapsed": false
   },
   "id": "4fb3930ce2fec85d"
  },
  {
   "cell_type": "code",
   "source": [
    "prediction_word = \"hvordan går det\"\n",
    "print(f\"Text before preprocessing: {prediction_word}\")\n",
    "prediction_word = preprocess(prediction_word)\n",
    "print(f\"Text after preprocessing: {prediction_word}\")\n",
    "prediction_word = tokenizer.texts_to_sequences([prediction_word])\n",
    "prediction_word = pad_sequences(prediction_word, maxlen=input_dim)\n",
    "prediction = model.predict([prediction_word])\n",
    "output_probabilities = np.array(prediction)\n",
    "result = {}\n",
    "class_labels = np.unique(y_df.columns)\n",
    "for index, prediction in enumerate(output_probabilities[0]):\n",
    "    result.update({class_labels[index]: round(prediction * 100, 1)})\n",
    "\n",
    "# Print keys and values of the result dictionary\n",
    "for key, value in result.items():\n",
    "    print(f\"{key}: {value}\")"
   ],
   "metadata": {
    "collapsed": false,
    "ExecuteTime": {
     "end_time": "2024-05-29T06:48:10.572356Z",
     "start_time": "2024-05-29T06:48:10.379614Z"
    }
   },
   "id": "2af1ef5d86413ee6",
   "outputs": [
    {
     "name": "stdout",
     "output_type": "stream",
     "text": [
      "Text before preprocessing: hvordan går det\n",
      "Text after preprocessing: hvordan gar det hvordan gar det hvordan gar det\n",
      "1/1 [==============================] - 0s 167ms/step\n",
      "Language_Danish: 23.0\n",
      "Language_Dutch: 0.0\n",
      "Language_English: 0.0\n",
      "Language_German: 0.0\n",
      "Language_Norwegian: 18.2\n",
      "Language_Swedish: 58.7\n"
     ]
    }
   ],
   "execution_count": 13
  },
  {
   "cell_type": "markdown",
   "source": [
    "# Save model\n",
    "Here a model can be loaded"
   ],
   "metadata": {
    "collapsed": false
   },
   "id": "7346b90cf1a2f553"
  },
  {
   "cell_type": "code",
   "source": [
    "model.save('./models/model_germanic.keras')\n",
    "tokenizer_json = tokenizer.to_json()\n",
    "with open('./tokenizer_configs/tokenizer_config_germanic.json', 'w') as config_file:\n",
    "    config_file.write(json.dumps(tokenizer_json, ensure_ascii=False))"
   ],
   "metadata": {
    "collapsed": false,
    "ExecuteTime": {
     "end_time": "2024-05-29T06:48:14.613492Z",
     "start_time": "2024-05-29T06:48:14.588635Z"
    }
   },
   "id": "f103d5e7cc3146d9",
   "outputs": [],
   "execution_count": 14
  },
  {
   "cell_type": "markdown",
   "source": [
    "# Load model\n",
    "Here a model can be loaded"
   ],
   "metadata": {
    "collapsed": false
   },
   "id": "e0cf8ae450614ab7"
  },
  {
   "cell_type": "code",
   "source": [
    "model = load_model('./models/model_germanic.keras')"
   ],
   "metadata": {
    "collapsed": false,
    "ExecuteTime": {
     "start_time": "2024-05-29T06:29:20.017597Z"
    }
   },
   "id": "c0bbfbb51379fba0",
   "outputs": [],
   "execution_count": null
  },
  {
   "cell_type": "code",
   "outputs": [],
   "source": [],
   "metadata": {
    "collapsed": false,
    "ExecuteTime": {
     "start_time": "2024-05-29T06:29:20.018584Z"
    }
   },
   "id": "f45de99f223bed4c",
   "execution_count": null
  }
 ],
 "metadata": {
  "kernelspec": {
   "display_name": "Python 3",
   "language": "python",
   "name": "python3"
  },
  "language_info": {
   "codemirror_mode": {
    "name": "ipython",
    "version": 2
   },
   "file_extension": ".py",
   "mimetype": "text/x-python",
   "name": "python",
   "nbconvert_exporter": "python",
   "pygments_lexer": "ipython2",
   "version": "2.7.6"
  }
 },
 "nbformat": 4,
 "nbformat_minor": 5
}
