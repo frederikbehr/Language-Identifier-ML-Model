{
 "cells": [
  {
   "cell_type": "code",
   "id": "initial_id",
   "metadata": {
    "collapsed": true,
    "ExecuteTime": {
     "end_time": "2024-05-12T00:03:36.159704Z",
     "start_time": "2024-05-12T00:03:32.948827Z"
    }
   },
   "source": [
    "import numpy as np\n",
    "import pandas as pd\n",
    "import matplotlib.pyplot as plt\n",
    "import tensorflow as tf\n",
    "from tensorflow.keras.models import Sequential, load_model\n",
    "from tensorflow.keras.layers import Dense, Conv1D, LSTM, Dropout, Flatten\n",
    "from tensorflow.keras import optimizers\n",
    "from tensorflow.keras.preprocessing.text import Tokenizer\n",
    "from keras.src.utils import pad_sequences\n",
    "from sklearn.model_selection import train_test_split\n",
    "from custom_preprocessor import preprocess\n",
    "import json"
   ],
   "outputs": [],
   "execution_count": 1
  },
  {
   "cell_type": "markdown",
   "source": [
    "# Get data\n",
    "Pandas is used to get the data from the project directory.\n",
    "The data is a .csv file, that has been created by book texts and prepared to be listed in the file word-by-word."
   ],
   "metadata": {
    "collapsed": false
   },
   "id": "b20ed3afab281b03"
  },
  {
   "cell_type": "code",
   "source": [
    "df = pd.read_csv('./data/dataset_germanic.csv')\n",
    "df = df.sample(frac=1.0, random_state=12)\n",
    "df.head()"
   ],
   "metadata": {
    "collapsed": false,
    "ExecuteTime": {
     "end_time": "2024-05-12T00:03:36.229460Z",
     "start_time": "2024-05-12T00:03:36.161102Z"
    }
   },
   "id": "9934f095638f49f4",
   "outputs": [
    {
     "data": {
      "text/plain": "                                                   Word Language\n32859    knows a tiny knows a tiny knows a tiny knows a  English\n20523       kontinent recht lange kontinent recht lange   German\n19012       von einer von einer von einer von einer von   German\n76845  lugn ur en lugn ur en lugn ur en lugn ur en lugn  Swedish\n21638   betreffenden oberbehorden berufung betreffenden   German",
      "text/html": "<div>\n<style scoped>\n    .dataframe tbody tr th:only-of-type {\n        vertical-align: middle;\n    }\n\n    .dataframe tbody tr th {\n        vertical-align: top;\n    }\n\n    .dataframe thead th {\n        text-align: right;\n    }\n</style>\n<table border=\"1\" class=\"dataframe\">\n  <thead>\n    <tr style=\"text-align: right;\">\n      <th></th>\n      <th>Word</th>\n      <th>Language</th>\n    </tr>\n  </thead>\n  <tbody>\n    <tr>\n      <th>32859</th>\n      <td>knows a tiny knows a tiny knows a tiny knows a</td>\n      <td>English</td>\n    </tr>\n    <tr>\n      <th>20523</th>\n      <td>kontinent recht lange kontinent recht lange</td>\n      <td>German</td>\n    </tr>\n    <tr>\n      <th>19012</th>\n      <td>von einer von einer von einer von einer von</td>\n      <td>German</td>\n    </tr>\n    <tr>\n      <th>76845</th>\n      <td>lugn ur en lugn ur en lugn ur en lugn ur en lugn</td>\n      <td>Swedish</td>\n    </tr>\n    <tr>\n      <th>21638</th>\n      <td>betreffenden oberbehorden berufung betreffenden</td>\n      <td>German</td>\n    </tr>\n  </tbody>\n</table>\n</div>"
     },
     "execution_count": 2,
     "metadata": {},
     "output_type": "execute_result"
    }
   ],
   "execution_count": 2
  },
  {
   "cell_type": "markdown",
   "source": [
    "# Prepare data\n",
    "Divide the data into X and y. X is input and y is the desired output.\n",
    "One-Hot Encode it, so the language is categorical. This is done with Pandas."
   ],
   "metadata": {
    "collapsed": false
   },
   "id": "e375f9241e794ae4"
  },
  {
   "cell_type": "code",
   "source": [
    "# Getting X - the input values\n",
    "X = df.iloc[:, :-1]\n",
    "X.loc[:, 'Word'] = X['Word'].astype(str)\n",
    "tokenizer = Tokenizer(char_level=True) # Used for turning the words into numbers\n",
    "tokenizer.fit_on_texts(X['Word'].tolist()) # Giving Tokenizer the data it needs to learn how to encode the words\n",
    "X_sequences = tokenizer.texts_to_sequences(X['Word'].tolist()) # Now the words are encoded into sequences\n",
    "input_dim = max(len(seq) for seq in X_sequences)\n",
    "print(f\"Input dimension: {input_dim}\")\n",
    "X = pad_sequences(\n",
    "    X_sequences, \n",
    "    maxlen=input_dim, \n",
    "    padding='post'\n",
    ") # Making all input values be of same length\n",
    "print(f\"Rows: {len(X)}\")\n",
    "\n",
    "# Getting y - the output values\n",
    "y_df = pd.get_dummies(df.iloc[:, -1:])\n",
    "y = y_df.values\n",
    "print(f\"Amount of languages to identify: {len(y[1])}\")\n",
    "\n",
    "X_train, X_val, y_train, y_val = train_test_split(X, y, test_size=0.2, random_state=42)\n",
    "X_train = X_train.reshape(X_train.shape[0], X_train.shape[1], 1)"
   ],
   "metadata": {
    "collapsed": false,
    "ExecuteTime": {
     "end_time": "2024-05-12T00:03:37.453264Z",
     "start_time": "2024-05-12T00:03:36.276133Z"
    }
   },
   "id": "ba4d86402045de27",
   "outputs": [
    {
     "name": "stdout",
     "output_type": "stream",
     "text": [
      "Input dimension: 49\n",
      "Rows: 86454\n",
      "Amount of languages to identify: 6\n"
     ]
    }
   ],
   "execution_count": 3
  },
  {
   "cell_type": "code",
   "source": [
    "model = Sequential()\n",
    "model.add(Conv1D(input_dim, 2, activation='relu'))  # Convolutional layer\n",
    "tf.keras.layers.SimpleRNN(8, activation='relu')\n",
    "model.add(LSTM(32, return_sequences=True))\n",
    "model.add(Flatten())\n",
    "model.add(Dropout(0.5))\n",
    "model.add(Dense(len(y[1]), activation='softmax'))\n",
    "adam = optimizers.Adam(learning_rate=0.01)\n",
    "model.compile(loss='categorical_crossentropy', optimizer=adam, metrics=['accuracy'])"
   ],
   "metadata": {
    "collapsed": false,
    "ExecuteTime": {
     "end_time": "2024-05-12T00:03:37.479729Z",
     "start_time": "2024-05-12T00:03:37.465085Z"
    }
   },
   "id": "c870f2fa48fe956c",
   "outputs": [],
   "execution_count": 4
  },
  {
   "cell_type": "code",
   "source": [
    "history = model.fit(X_train, y_train, validation_data=(X_val, y_val), epochs=75, batch_size=2048,verbose=1)"
   ],
   "metadata": {
    "collapsed": false,
    "ExecuteTime": {
     "end_time": "2024-05-12T00:10:46.605457Z",
     "start_time": "2024-05-12T00:03:37.481766Z"
    }
   },
   "id": "d9a29cb1ff2dcba7",
   "outputs": [
    {
     "name": "stdout",
     "output_type": "stream",
     "text": [
      "Epoch 1/75\n",
      "\u001B[1m34/34\u001B[0m \u001B[32m━━━━━━━━━━━━━━━━━━━━\u001B[0m\u001B[37m\u001B[0m \u001B[1m6s\u001B[0m 158ms/step - accuracy: 0.1734 - loss: 2.0425 - val_accuracy: 0.2017 - val_loss: 1.7787\n",
      "Epoch 2/75\n",
      "\u001B[1m34/34\u001B[0m \u001B[32m━━━━━━━━━━━━━━━━━━━━\u001B[0m\u001B[37m\u001B[0m \u001B[1m6s\u001B[0m 182ms/step - accuracy: 0.2106 - loss: 1.7762 - val_accuracy: 0.2379 - val_loss: 1.7590\n",
      "Epoch 3/75\n",
      "\u001B[1m34/34\u001B[0m \u001B[32m━━━━━━━━━━━━━━━━━━━━\u001B[0m\u001B[37m\u001B[0m \u001B[1m6s\u001B[0m 178ms/step - accuracy: 0.2410 - loss: 1.7509 - val_accuracy: 0.2914 - val_loss: 1.6930\n",
      "Epoch 4/75\n",
      "\u001B[1m34/34\u001B[0m \u001B[32m━━━━━━━━━━━━━━━━━━━━\u001B[0m\u001B[37m\u001B[0m \u001B[1m5s\u001B[0m 145ms/step - accuracy: 0.2936 - loss: 1.6886 - val_accuracy: 0.3236 - val_loss: 1.6458\n",
      "Epoch 5/75\n",
      "\u001B[1m34/34\u001B[0m \u001B[32m━━━━━━━━━━━━━━━━━━━━\u001B[0m\u001B[37m\u001B[0m \u001B[1m6s\u001B[0m 163ms/step - accuracy: 0.3228 - loss: 1.6389 - val_accuracy: 0.3490 - val_loss: 1.5827\n",
      "Epoch 6/75\n",
      "\u001B[1m34/34\u001B[0m \u001B[32m━━━━━━━━━━━━━━━━━━━━\u001B[0m\u001B[37m\u001B[0m \u001B[1m6s\u001B[0m 163ms/step - accuracy: 0.3546 - loss: 1.5854 - val_accuracy: 0.3856 - val_loss: 1.5302\n",
      "Epoch 7/75\n",
      "\u001B[1m34/34\u001B[0m \u001B[32m━━━━━━━━━━━━━━━━━━━━\u001B[0m\u001B[37m\u001B[0m \u001B[1m6s\u001B[0m 163ms/step - accuracy: 0.3801 - loss: 1.5278 - val_accuracy: 0.4207 - val_loss: 1.4516\n",
      "Epoch 8/75\n",
      "\u001B[1m34/34\u001B[0m \u001B[32m━━━━━━━━━━━━━━━━━━━━\u001B[0m\u001B[37m\u001B[0m \u001B[1m5s\u001B[0m 162ms/step - accuracy: 0.4118 - loss: 1.4718 - val_accuracy: 0.4559 - val_loss: 1.3779\n",
      "Epoch 9/75\n",
      "\u001B[1m34/34\u001B[0m \u001B[32m━━━━━━━━━━━━━━━━━━━━\u001B[0m\u001B[37m\u001B[0m \u001B[1m5s\u001B[0m 156ms/step - accuracy: 0.4420 - loss: 1.4100 - val_accuracy: 0.4777 - val_loss: 1.3396\n",
      "Epoch 10/75\n",
      "\u001B[1m34/34\u001B[0m \u001B[32m━━━━━━━━━━━━━━━━━━━━\u001B[0m\u001B[37m\u001B[0m \u001B[1m5s\u001B[0m 153ms/step - accuracy: 0.4613 - loss: 1.3673 - val_accuracy: 0.4828 - val_loss: 1.3117\n",
      "Epoch 11/75\n",
      "\u001B[1m34/34\u001B[0m \u001B[32m━━━━━━━━━━━━━━━━━━━━\u001B[0m\u001B[37m\u001B[0m \u001B[1m5s\u001B[0m 156ms/step - accuracy: 0.4767 - loss: 1.3219 - val_accuracy: 0.5163 - val_loss: 1.2348\n",
      "Epoch 12/75\n",
      "\u001B[1m34/34\u001B[0m \u001B[32m━━━━━━━━━━━━━━━━━━━━\u001B[0m\u001B[37m\u001B[0m \u001B[1m5s\u001B[0m 155ms/step - accuracy: 0.5026 - loss: 1.2611 - val_accuracy: 0.5361 - val_loss: 1.1854\n",
      "Epoch 13/75\n",
      "\u001B[1m34/34\u001B[0m \u001B[32m━━━━━━━━━━━━━━━━━━━━\u001B[0m\u001B[37m\u001B[0m \u001B[1m5s\u001B[0m 160ms/step - accuracy: 0.5237 - loss: 1.2189 - val_accuracy: 0.5459 - val_loss: 1.1620\n",
      "Epoch 14/75\n",
      "\u001B[1m34/34\u001B[0m \u001B[32m━━━━━━━━━━━━━━━━━━━━\u001B[0m\u001B[37m\u001B[0m \u001B[1m6s\u001B[0m 176ms/step - accuracy: 0.5379 - loss: 1.1784 - val_accuracy: 0.5683 - val_loss: 1.1047\n",
      "Epoch 15/75\n",
      "\u001B[1m34/34\u001B[0m \u001B[32m━━━━━━━━━━━━━━━━━━━━\u001B[0m\u001B[37m\u001B[0m \u001B[1m6s\u001B[0m 163ms/step - accuracy: 0.5569 - loss: 1.1309 - val_accuracy: 0.5801 - val_loss: 1.0875\n",
      "Epoch 16/75\n",
      "\u001B[1m34/34\u001B[0m \u001B[32m━━━━━━━━━━━━━━━━━━━━\u001B[0m\u001B[37m\u001B[0m \u001B[1m5s\u001B[0m 152ms/step - accuracy: 0.5684 - loss: 1.1055 - val_accuracy: 0.5978 - val_loss: 1.0292\n",
      "Epoch 17/75\n",
      "\u001B[1m34/34\u001B[0m \u001B[32m━━━━━━━━━━━━━━━━━━━━\u001B[0m\u001B[37m\u001B[0m \u001B[1m6s\u001B[0m 190ms/step - accuracy: 0.5827 - loss: 1.0669 - val_accuracy: 0.6153 - val_loss: 0.9972\n",
      "Epoch 18/75\n",
      "\u001B[1m34/34\u001B[0m \u001B[32m━━━━━━━━━━━━━━━━━━━━\u001B[0m\u001B[37m\u001B[0m \u001B[1m5s\u001B[0m 159ms/step - accuracy: 0.5963 - loss: 1.0337 - val_accuracy: 0.6203 - val_loss: 0.9784\n",
      "Epoch 19/75\n",
      "\u001B[1m34/34\u001B[0m \u001B[32m━━━━━━━━━━━━━━━━━━━━\u001B[0m\u001B[37m\u001B[0m \u001B[1m6s\u001B[0m 171ms/step - accuracy: 0.6080 - loss: 0.9949 - val_accuracy: 0.6272 - val_loss: 0.9607\n",
      "Epoch 20/75\n",
      "\u001B[1m34/34\u001B[0m \u001B[32m━━━━━━━━━━━━━━━━━━━━\u001B[0m\u001B[37m\u001B[0m \u001B[1m5s\u001B[0m 158ms/step - accuracy: 0.6179 - loss: 0.9636 - val_accuracy: 0.6241 - val_loss: 0.9603\n",
      "Epoch 21/75\n",
      "\u001B[1m34/34\u001B[0m \u001B[32m━━━━━━━━━━━━━━━━━━━━\u001B[0m\u001B[37m\u001B[0m \u001B[1m5s\u001B[0m 156ms/step - accuracy: 0.6253 - loss: 0.9531 - val_accuracy: 0.6430 - val_loss: 0.9213\n",
      "Epoch 22/75\n",
      "\u001B[1m34/34\u001B[0m \u001B[32m━━━━━━━━━━━━━━━━━━━━\u001B[0m\u001B[37m\u001B[0m \u001B[1m5s\u001B[0m 158ms/step - accuracy: 0.6342 - loss: 0.9244 - val_accuracy: 0.6485 - val_loss: 0.9015\n",
      "Epoch 23/75\n",
      "\u001B[1m34/34\u001B[0m \u001B[32m━━━━━━━━━━━━━━━━━━━━\u001B[0m\u001B[37m\u001B[0m \u001B[1m5s\u001B[0m 157ms/step - accuracy: 0.6409 - loss: 0.9043 - val_accuracy: 0.6501 - val_loss: 0.8942\n",
      "Epoch 24/75\n",
      "\u001B[1m34/34\u001B[0m \u001B[32m━━━━━━━━━━━━━━━━━━━━\u001B[0m\u001B[37m\u001B[0m \u001B[1m5s\u001B[0m 159ms/step - accuracy: 0.6444 - loss: 0.8962 - val_accuracy: 0.6596 - val_loss: 0.8747\n",
      "Epoch 25/75\n",
      "\u001B[1m34/34\u001B[0m \u001B[32m━━━━━━━━━━━━━━━━━━━━\u001B[0m\u001B[37m\u001B[0m \u001B[1m5s\u001B[0m 158ms/step - accuracy: 0.6542 - loss: 0.8785 - val_accuracy: 0.6608 - val_loss: 0.8705\n",
      "Epoch 26/75\n",
      "\u001B[1m34/34\u001B[0m \u001B[32m━━━━━━━━━━━━━━━━━━━━\u001B[0m\u001B[37m\u001B[0m \u001B[1m5s\u001B[0m 161ms/step - accuracy: 0.6564 - loss: 0.8660 - val_accuracy: 0.6555 - val_loss: 0.8737\n",
      "Epoch 27/75\n",
      "\u001B[1m34/34\u001B[0m \u001B[32m━━━━━━━━━━━━━━━━━━━━\u001B[0m\u001B[37m\u001B[0m \u001B[1m6s\u001B[0m 163ms/step - accuracy: 0.6547 - loss: 0.8635 - val_accuracy: 0.6658 - val_loss: 0.8354\n",
      "Epoch 28/75\n",
      "\u001B[1m34/34\u001B[0m \u001B[32m━━━━━━━━━━━━━━━━━━━━\u001B[0m\u001B[37m\u001B[0m \u001B[1m6s\u001B[0m 165ms/step - accuracy: 0.6647 - loss: 0.8501 - val_accuracy: 0.6695 - val_loss: 0.8283\n",
      "Epoch 29/75\n",
      "\u001B[1m34/34\u001B[0m \u001B[32m━━━━━━━━━━━━━━━━━━━━\u001B[0m\u001B[37m\u001B[0m \u001B[1m6s\u001B[0m 167ms/step - accuracy: 0.6707 - loss: 0.8245 - val_accuracy: 0.6513 - val_loss: 0.8833\n",
      "Epoch 30/75\n",
      "\u001B[1m34/34\u001B[0m \u001B[32m━━━━━━━━━━━━━━━━━━━━\u001B[0m\u001B[37m\u001B[0m \u001B[1m6s\u001B[0m 163ms/step - accuracy: 0.6694 - loss: 0.8263 - val_accuracy: 0.6697 - val_loss: 0.8337\n",
      "Epoch 31/75\n",
      "\u001B[1m34/34\u001B[0m \u001B[32m━━━━━━━━━━━━━━━━━━━━\u001B[0m\u001B[37m\u001B[0m \u001B[1m5s\u001B[0m 158ms/step - accuracy: 0.6771 - loss: 0.8028 - val_accuracy: 0.6831 - val_loss: 0.8023\n",
      "Epoch 32/75\n",
      "\u001B[1m34/34\u001B[0m \u001B[32m━━━━━━━━━━━━━━━━━━━━\u001B[0m\u001B[37m\u001B[0m \u001B[1m6s\u001B[0m 165ms/step - accuracy: 0.6817 - loss: 0.7925 - val_accuracy: 0.6824 - val_loss: 0.7938\n",
      "Epoch 33/75\n",
      "\u001B[1m34/34\u001B[0m \u001B[32m━━━━━━━━━━━━━━━━━━━━\u001B[0m\u001B[37m\u001B[0m \u001B[1m6s\u001B[0m 163ms/step - accuracy: 0.6811 - loss: 0.7831 - val_accuracy: 0.6863 - val_loss: 0.7801\n",
      "Epoch 34/75\n",
      "\u001B[1m34/34\u001B[0m \u001B[32m━━━━━━━━━━━━━━━━━━━━\u001B[0m\u001B[37m\u001B[0m \u001B[1m6s\u001B[0m 171ms/step - accuracy: 0.6904 - loss: 0.7688 - val_accuracy: 0.6838 - val_loss: 0.7940\n",
      "Epoch 35/75\n",
      "\u001B[1m34/34\u001B[0m \u001B[32m━━━━━━━━━━━━━━━━━━━━\u001B[0m\u001B[37m\u001B[0m \u001B[1m6s\u001B[0m 169ms/step - accuracy: 0.6885 - loss: 0.7650 - val_accuracy: 0.6901 - val_loss: 0.7829\n",
      "Epoch 36/75\n",
      "\u001B[1m34/34\u001B[0m \u001B[32m━━━━━━━━━━━━━━━━━━━━\u001B[0m\u001B[37m\u001B[0m \u001B[1m6s\u001B[0m 165ms/step - accuracy: 0.6960 - loss: 0.7543 - val_accuracy: 0.6986 - val_loss: 0.7625\n",
      "Epoch 37/75\n",
      "\u001B[1m34/34\u001B[0m \u001B[32m━━━━━━━━━━━━━━━━━━━━\u001B[0m\u001B[37m\u001B[0m \u001B[1m6s\u001B[0m 164ms/step - accuracy: 0.6989 - loss: 0.7474 - val_accuracy: 0.7008 - val_loss: 0.7538\n",
      "Epoch 38/75\n",
      "\u001B[1m34/34\u001B[0m \u001B[32m━━━━━━━━━━━━━━━━━━━━\u001B[0m\u001B[37m\u001B[0m \u001B[1m6s\u001B[0m 183ms/step - accuracy: 0.7026 - loss: 0.7378 - val_accuracy: 0.6930 - val_loss: 0.7585\n",
      "Epoch 39/75\n",
      "\u001B[1m34/34\u001B[0m \u001B[32m━━━━━━━━━━━━━━━━━━━━\u001B[0m\u001B[37m\u001B[0m \u001B[1m5s\u001B[0m 160ms/step - accuracy: 0.7015 - loss: 0.7313 - val_accuracy: 0.6997 - val_loss: 0.7530\n",
      "Epoch 40/75\n",
      "\u001B[1m34/34\u001B[0m \u001B[32m━━━━━━━━━━━━━━━━━━━━\u001B[0m\u001B[37m\u001B[0m \u001B[1m5s\u001B[0m 160ms/step - accuracy: 0.7028 - loss: 0.7287 - val_accuracy: 0.7021 - val_loss: 0.7409\n",
      "Epoch 41/75\n",
      "\u001B[1m34/34\u001B[0m \u001B[32m━━━━━━━━━━━━━━━━━━━━\u001B[0m\u001B[37m\u001B[0m \u001B[1m5s\u001B[0m 159ms/step - accuracy: 0.7089 - loss: 0.7146 - val_accuracy: 0.6991 - val_loss: 0.7520\n",
      "Epoch 42/75\n",
      "\u001B[1m34/34\u001B[0m \u001B[32m━━━━━━━━━━━━━━━━━━━━\u001B[0m\u001B[37m\u001B[0m \u001B[1m5s\u001B[0m 162ms/step - accuracy: 0.7091 - loss: 0.7190 - val_accuracy: 0.7088 - val_loss: 0.7314\n",
      "Epoch 43/75\n",
      "\u001B[1m34/34\u001B[0m \u001B[32m━━━━━━━━━━━━━━━━━━━━\u001B[0m\u001B[37m\u001B[0m \u001B[1m6s\u001B[0m 165ms/step - accuracy: 0.7103 - loss: 0.7122 - val_accuracy: 0.6921 - val_loss: 0.7730\n",
      "Epoch 44/75\n",
      "\u001B[1m34/34\u001B[0m \u001B[32m━━━━━━━━━━━━━━━━━━━━\u001B[0m\u001B[37m\u001B[0m \u001B[1m6s\u001B[0m 161ms/step - accuracy: 0.7031 - loss: 0.7303 - val_accuracy: 0.7087 - val_loss: 0.7311\n",
      "Epoch 45/75\n",
      "\u001B[1m34/34\u001B[0m \u001B[32m━━━━━━━━━━━━━━━━━━━━\u001B[0m\u001B[37m\u001B[0m \u001B[1m6s\u001B[0m 165ms/step - accuracy: 0.7192 - loss: 0.6956 - val_accuracy: 0.7086 - val_loss: 0.7247\n",
      "Epoch 46/75\n",
      "\u001B[1m34/34\u001B[0m \u001B[32m━━━━━━━━━━━━━━━━━━━━\u001B[0m\u001B[37m\u001B[0m \u001B[1m6s\u001B[0m 165ms/step - accuracy: 0.7138 - loss: 0.7005 - val_accuracy: 0.7168 - val_loss: 0.7097\n",
      "Epoch 47/75\n",
      "\u001B[1m34/34\u001B[0m \u001B[32m━━━━━━━━━━━━━━━━━━━━\u001B[0m\u001B[37m\u001B[0m \u001B[1m6s\u001B[0m 181ms/step - accuracy: 0.7220 - loss: 0.6876 - val_accuracy: 0.7152 - val_loss: 0.7120\n",
      "Epoch 48/75\n",
      "\u001B[1m34/34\u001B[0m \u001B[32m━━━━━━━━━━━━━━━━━━━━\u001B[0m\u001B[37m\u001B[0m \u001B[1m6s\u001B[0m 176ms/step - accuracy: 0.7175 - loss: 0.6901 - val_accuracy: 0.7134 - val_loss: 0.7133\n",
      "Epoch 49/75\n",
      "\u001B[1m34/34\u001B[0m \u001B[32m━━━━━━━━━━━━━━━━━━━━\u001B[0m\u001B[37m\u001B[0m \u001B[1m6s\u001B[0m 170ms/step - accuracy: 0.7198 - loss: 0.6805 - val_accuracy: 0.7190 - val_loss: 0.6951\n",
      "Epoch 50/75\n",
      "\u001B[1m34/34\u001B[0m \u001B[32m━━━━━━━━━━━━━━━━━━━━\u001B[0m\u001B[37m\u001B[0m \u001B[1m6s\u001B[0m 172ms/step - accuracy: 0.7244 - loss: 0.6709 - val_accuracy: 0.7108 - val_loss: 0.7277\n",
      "Epoch 51/75\n",
      "\u001B[1m34/34\u001B[0m \u001B[32m━━━━━━━━━━━━━━━━━━━━\u001B[0m\u001B[37m\u001B[0m \u001B[1m6s\u001B[0m 174ms/step - accuracy: 0.7213 - loss: 0.6783 - val_accuracy: 0.7203 - val_loss: 0.6903\n",
      "Epoch 52/75\n",
      "\u001B[1m34/34\u001B[0m \u001B[32m━━━━━━━━━━━━━━━━━━━━\u001B[0m\u001B[37m\u001B[0m \u001B[1m6s\u001B[0m 168ms/step - accuracy: 0.7210 - loss: 0.6783 - val_accuracy: 0.7155 - val_loss: 0.7138\n",
      "Epoch 53/75\n",
      "\u001B[1m34/34\u001B[0m \u001B[32m━━━━━━━━━━━━━━━━━━━━\u001B[0m\u001B[37m\u001B[0m \u001B[1m6s\u001B[0m 168ms/step - accuracy: 0.7258 - loss: 0.6707 - val_accuracy: 0.7238 - val_loss: 0.6888\n",
      "Epoch 54/75\n",
      "\u001B[1m34/34\u001B[0m \u001B[32m━━━━━━━━━━━━━━━━━━━━\u001B[0m\u001B[37m\u001B[0m \u001B[1m6s\u001B[0m 169ms/step - accuracy: 0.7285 - loss: 0.6591 - val_accuracy: 0.7274 - val_loss: 0.6807\n",
      "Epoch 55/75\n",
      "\u001B[1m34/34\u001B[0m \u001B[32m━━━━━━━━━━━━━━━━━━━━\u001B[0m\u001B[37m\u001B[0m \u001B[1m6s\u001B[0m 166ms/step - accuracy: 0.7270 - loss: 0.6612 - val_accuracy: 0.7236 - val_loss: 0.6888\n",
      "Epoch 56/75\n",
      "\u001B[1m34/34\u001B[0m \u001B[32m━━━━━━━━━━━━━━━━━━━━\u001B[0m\u001B[37m\u001B[0m \u001B[1m6s\u001B[0m 164ms/step - accuracy: 0.7287 - loss: 0.6659 - val_accuracy: 0.7288 - val_loss: 0.6760\n",
      "Epoch 57/75\n",
      "\u001B[1m34/34\u001B[0m \u001B[32m━━━━━━━━━━━━━━━━━━━━\u001B[0m\u001B[37m\u001B[0m \u001B[1m6s\u001B[0m 177ms/step - accuracy: 0.7318 - loss: 0.6455 - val_accuracy: 0.7197 - val_loss: 0.6971\n",
      "Epoch 58/75\n",
      "\u001B[1m34/34\u001B[0m \u001B[32m━━━━━━━━━━━━━━━━━━━━\u001B[0m\u001B[37m\u001B[0m \u001B[1m6s\u001B[0m 178ms/step - accuracy: 0.7307 - loss: 0.6595 - val_accuracy: 0.7285 - val_loss: 0.6787\n",
      "Epoch 59/75\n",
      "\u001B[1m34/34\u001B[0m \u001B[32m━━━━━━━━━━━━━━━━━━━━\u001B[0m\u001B[37m\u001B[0m \u001B[1m7s\u001B[0m 201ms/step - accuracy: 0.7332 - loss: 0.6561 - val_accuracy: 0.7281 - val_loss: 0.6896\n",
      "Epoch 60/75\n",
      "\u001B[1m34/34\u001B[0m \u001B[32m━━━━━━━━━━━━━━━━━━━━\u001B[0m\u001B[37m\u001B[0m \u001B[1m6s\u001B[0m 175ms/step - accuracy: 0.7388 - loss: 0.6415 - val_accuracy: 0.7292 - val_loss: 0.6697\n",
      "Epoch 61/75\n",
      "\u001B[1m34/34\u001B[0m \u001B[32m━━━━━━━━━━━━━━━━━━━━\u001B[0m\u001B[37m\u001B[0m \u001B[1m6s\u001B[0m 170ms/step - accuracy: 0.7360 - loss: 0.6403 - val_accuracy: 0.7312 - val_loss: 0.6652\n",
      "Epoch 62/75\n",
      "\u001B[1m34/34\u001B[0m \u001B[32m━━━━━━━━━━━━━━━━━━━━\u001B[0m\u001B[37m\u001B[0m \u001B[1m7s\u001B[0m 192ms/step - accuracy: 0.7403 - loss: 0.6374 - val_accuracy: 0.7307 - val_loss: 0.6726\n",
      "Epoch 63/75\n",
      "\u001B[1m34/34\u001B[0m \u001B[32m━━━━━━━━━━━━━━━━━━━━\u001B[0m\u001B[37m\u001B[0m \u001B[1m6s\u001B[0m 171ms/step - accuracy: 0.7376 - loss: 0.6366 - val_accuracy: 0.7279 - val_loss: 0.6831\n",
      "Epoch 64/75\n",
      "\u001B[1m34/34\u001B[0m \u001B[32m━━━━━━━━━━━━━━━━━━━━\u001B[0m\u001B[37m\u001B[0m \u001B[1m6s\u001B[0m 169ms/step - accuracy: 0.7381 - loss: 0.6350 - val_accuracy: 0.7273 - val_loss: 0.6869\n",
      "Epoch 65/75\n",
      "\u001B[1m34/34\u001B[0m \u001B[32m━━━━━━━━━━━━━━━━━━━━\u001B[0m\u001B[37m\u001B[0m \u001B[1m6s\u001B[0m 168ms/step - accuracy: 0.7403 - loss: 0.6347 - val_accuracy: 0.7347 - val_loss: 0.6584\n",
      "Epoch 66/75\n",
      "\u001B[1m34/34\u001B[0m \u001B[32m━━━━━━━━━━━━━━━━━━━━\u001B[0m\u001B[37m\u001B[0m \u001B[1m6s\u001B[0m 170ms/step - accuracy: 0.7443 - loss: 0.6195 - val_accuracy: 0.7343 - val_loss: 0.6609\n",
      "Epoch 67/75\n",
      "\u001B[1m34/34\u001B[0m \u001B[32m━━━━━━━━━━━━━━━━━━━━\u001B[0m\u001B[37m\u001B[0m \u001B[1m6s\u001B[0m 182ms/step - accuracy: 0.7435 - loss: 0.6246 - val_accuracy: 0.7304 - val_loss: 0.6631\n",
      "Epoch 68/75\n",
      "\u001B[1m34/34\u001B[0m \u001B[32m━━━━━━━━━━━━━━━━━━━━\u001B[0m\u001B[37m\u001B[0m \u001B[1m6s\u001B[0m 179ms/step - accuracy: 0.7423 - loss: 0.6242 - val_accuracy: 0.7369 - val_loss: 0.6605\n",
      "Epoch 69/75\n",
      "\u001B[1m34/34\u001B[0m \u001B[32m━━━━━━━━━━━━━━━━━━━━\u001B[0m\u001B[37m\u001B[0m \u001B[1m6s\u001B[0m 179ms/step - accuracy: 0.7429 - loss: 0.6331 - val_accuracy: 0.7377 - val_loss: 0.6587\n",
      "Epoch 70/75\n",
      "\u001B[1m34/34\u001B[0m \u001B[32m━━━━━━━━━━━━━━━━━━━━\u001B[0m\u001B[37m\u001B[0m \u001B[1m6s\u001B[0m 179ms/step - accuracy: 0.7387 - loss: 0.6295 - val_accuracy: 0.7322 - val_loss: 0.6753\n",
      "Epoch 71/75\n",
      "\u001B[1m34/34\u001B[0m \u001B[32m━━━━━━━━━━━━━━━━━━━━\u001B[0m\u001B[37m\u001B[0m \u001B[1m6s\u001B[0m 187ms/step - accuracy: 0.7438 - loss: 0.6197 - val_accuracy: 0.7311 - val_loss: 0.6793\n",
      "Epoch 72/75\n",
      "\u001B[1m34/34\u001B[0m \u001B[32m━━━━━━━━━━━━━━━━━━━━\u001B[0m\u001B[37m\u001B[0m \u001B[1m6s\u001B[0m 179ms/step - accuracy: 0.7454 - loss: 0.6160 - val_accuracy: 0.7348 - val_loss: 0.6614\n",
      "Epoch 73/75\n",
      "\u001B[1m34/34\u001B[0m \u001B[32m━━━━━━━━━━━━━━━━━━━━\u001B[0m\u001B[37m\u001B[0m \u001B[1m6s\u001B[0m 172ms/step - accuracy: 0.7509 - loss: 0.6050 - val_accuracy: 0.7398 - val_loss: 0.6577\n",
      "Epoch 74/75\n",
      "\u001B[1m34/34\u001B[0m \u001B[32m━━━━━━━━━━━━━━━━━━━━\u001B[0m\u001B[37m\u001B[0m \u001B[1m6s\u001B[0m 173ms/step - accuracy: 0.7485 - loss: 0.6040 - val_accuracy: 0.7370 - val_loss: 0.6608\n",
      "Epoch 75/75\n",
      "\u001B[1m34/34\u001B[0m \u001B[32m━━━━━━━━━━━━━━━━━━━━\u001B[0m\u001B[37m\u001B[0m \u001B[1m6s\u001B[0m 179ms/step - accuracy: 0.7476 - loss: 0.6099 - val_accuracy: 0.7429 - val_loss: 0.6506\n"
     ]
    }
   ],
   "execution_count": 5
  },
  {
   "metadata": {},
   "cell_type": "markdown",
   "source": [
    "# Loss evaluation\n",
    "\n",
    "Seeing how the model's loss changes by the epoch"
   ],
   "id": "28458dd6caeaf05c"
  },
  {
   "cell_type": "code",
   "source": [
    "%matplotlib inline\n",
    "plt.plot(history.history['loss'])\n",
    "plt.plot(history.history['val_loss'])\n",
    "plt.title(\"Loss\")\n",
    "plt.legend(['Train', 'Val'], loc='upper right')\n",
    "plt.ylabel('Loss')\n",
    "plt.xlabel('Epoch')"
   ],
   "metadata": {
    "collapsed": false,
    "ExecuteTime": {
     "end_time": "2024-05-12T00:10:46.757552Z",
     "start_time": "2024-05-12T00:10:46.609021Z"
    }
   },
   "id": "db97a7f3cc91e456",
   "outputs": [
    {
     "data": {
      "text/plain": "Text(0.5, 0, 'Epoch')"
     },
     "execution_count": 6,
     "metadata": {},
     "output_type": "execute_result"
    },
    {
     "data": {
      "text/plain": "<Figure size 640x480 with 1 Axes>",
      "image/png": "[encoded data removed]"
     },
     "metadata": {},
     "output_type": "display_data"
    }
   ],
   "execution_count": 6
  },
  {
   "metadata": {},
   "cell_type": "markdown",
   "source": [
    "# Loss evaluation\n",
    "\n",
    "Seeing how the model's loss changes by the epoch"
   ],
   "id": "47dd11a44349b4d5"
  },
  {
   "metadata": {
    "ExecuteTime": {
     "end_time": "2024-05-12T00:10:46.861432Z",
     "start_time": "2024-05-12T00:10:46.766236Z"
    }
   },
   "cell_type": "code",
   "source": [
    "%matplotlib inline\n",
    "plt.plot(history.history['accuracy'])\n",
    "plt.plot(history.history['val_accuracy'])\n",
    "plt.title(\"Accuracy\")\n",
    "plt.legend(['Train', 'Val'], loc='upper right')\n",
    "plt.ylabel('Accuracy')\n",
    "plt.xlabel('Epoch')"
   ],
   "id": "4a03b62d16638245",
   "outputs": [
    {
     "data": {
      "text/plain": "Text(0.5, 0, 'Epoch')"
     },
     "execution_count": 7,
     "metadata": {},
     "output_type": "execute_result"
    },
    {
     "data": {
      "text/plain": "<Figure size 640x480 with 1 Axes>",
      "image/png": "[encoded data removed]"
     },
     "metadata": {},
     "output_type": "display_data"
    }
   ],
   "execution_count": 7
  },
  {
   "cell_type": "markdown",
   "source": [
    "# Prediction"
   ],
   "metadata": {
    "collapsed": false
   },
   "id": "4fb3930ce2fec85d"
  },
  {
   "cell_type": "code",
   "source": [
    "prediction_word = \"hvordan går det\"\n",
    "print(f\"Text before preprocessing: {prediction_word}\")\n",
    "prediction_word = preprocess(prediction_word)\n",
    "print(f\"Text after preprocessing: {prediction_word}\")\n",
    "prediction_word = tokenizer.texts_to_sequences([prediction_word])\n",
    "prediction_word = pad_sequences(prediction_word, maxlen=input_dim)\n",
    "prediction = model.predict([prediction_word])\n",
    "output_probabilities = np.array(prediction)\n",
    "result = {}\n",
    "class_labels = np.unique(y_df.columns)\n",
    "for index, prediction in enumerate(output_probabilities[0]):\n",
    "    result.update({class_labels[index]: round(prediction * 100, 1)})\n",
    "\n",
    "# Print keys and values of the result dictionary\n",
    "for key, value in result.items():\n",
    "    print(f\"{key}: {value}\")"
   ],
   "metadata": {
    "collapsed": false,
    "ExecuteTime": {
     "end_time": "2024-05-12T00:39:04.070003Z",
     "start_time": "2024-05-12T00:39:04.021432Z"
    }
   },
   "id": "2af1ef5d86413ee6",
   "outputs": [
    {
     "name": "stdout",
     "output_type": "stream",
     "text": [
      "Text before preprocessing: hvordan går det\n",
      "Text after preprocessing: hvordan gar det hvordan gar det hvordan gar det\n",
      "[[12, 17, 10, 6, 7, 4, 3, 1, 13, 4, 6, 1, 7, 2, 5, 1, 12, 17, 10, 6, 7, 4, 3, 1, 13, 4, 6, 1, 7, 2, 5, 1, 12, 17, 10, 6, 7, 4, 3, 1, 13, 4, 6, 1, 7, 2, 5]]\n",
      "\u001B[1m1/1\u001B[0m \u001B[32m━━━━━━━━━━━━━━━━━━━━\u001B[0m\u001B[37m\u001B[0m \u001B[1m0s\u001B[0m 16ms/step\n",
      "Language_Danish: 50.8\n",
      "Language_Dutch: 0.0\n",
      "Language_English: 0.0\n",
      "Language_German: 0.1\n",
      "Language_Norwegian: 25.9\n",
      "Language_Swedish: 23.1\n"
     ]
    }
   ],
   "execution_count": 13
  },
  {
   "cell_type": "markdown",
   "source": [
    "# Save model\n",
    "Here a model can be loaded"
   ],
   "metadata": {
    "collapsed": false
   },
   "id": "7346b90cf1a2f553"
  },
  {
   "cell_type": "code",
   "source": [
    "model.save('./models/model_germanic.keras')\n",
    "tokenizer_json = tokenizer.to_json()\n",
    "with open('./tokenizer_configs/tokenizer_config_germanic.json', 'w') as config_file:\n",
    "    config_file.write(json.dumps(tokenizer_json, ensure_ascii=False))"
   ],
   "metadata": {
    "collapsed": false,
    "ExecuteTime": {
     "end_time": "2024-05-12T01:20:09.280429Z",
     "start_time": "2024-05-12T01:20:09.256659Z"
    }
   },
   "id": "f103d5e7cc3146d9",
   "outputs": [],
   "execution_count": 14
  },
  {
   "cell_type": "markdown",
   "source": [
    "# Load model\n",
    "Here a model can be loaded"
   ],
   "metadata": {
    "collapsed": false
   },
   "id": "e0cf8ae450614ab7"
  },
  {
   "cell_type": "code",
   "source": [
    "model = load_model('./models/model_germanic.keras')"
   ],
   "metadata": {
    "collapsed": false,
    "ExecuteTime": {
     "end_time": "2024-05-12T00:10:47.081536Z",
     "start_time": "2024-05-12T00:10:47.026956Z"
    }
   },
   "id": "c0bbfbb51379fba0",
   "outputs": [],
   "execution_count": 10
  },
  {
   "cell_type": "code",
   "outputs": [],
   "source": [],
   "metadata": {
    "collapsed": false,
    "ExecuteTime": {
     "end_time": "2024-05-12T00:10:47.085046Z",
     "start_time": "2024-05-12T00:10:47.081667Z"
    }
   },
   "id": "f45de99f223bed4c",
   "execution_count": 10
  }
 ],
 "metadata": {
  "kernelspec": {
   "display_name": "Python 3",
   "language": "python",
   "name": "python3"
  },
  "language_info": {
   "codemirror_mode": {
    "name": "ipython",
    "version": 2
   },
   "file_extension": ".py",
   "mimetype": "text/x-python",
   "name": "python",
   "nbconvert_exporter": "python",
   "pygments_lexer": "ipython2",
   "version": "2.7.6"
  }
 },
 "nbformat": 4,
 "nbformat_minor": 5
}
