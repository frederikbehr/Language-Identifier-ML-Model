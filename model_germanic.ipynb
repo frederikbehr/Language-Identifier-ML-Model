{
 "cells": [
  {
   "cell_type": "code",
   "id": "initial_id",
   "metadata": {
    "collapsed": true,
    "ExecuteTime": {
     "end_time": "2024-05-10T20:49:54.915630Z",
     "start_time": "2024-05-10T20:49:51.520725Z"
    }
   },
   "source": [
    "import numpy as np\n",
    "import pandas as pd\n",
    "import matplotlib.pyplot as plt\n",
    "import tensorflow as tf\n",
    "from tensorflow.keras.models import Sequential, load_model\n",
    "from tensorflow.keras.layers import Dense, Conv1D, LSTM, Dropout, Flatten\n",
    "from tensorflow.keras import optimizers\n",
    "from tensorflow.keras.preprocessing.text import Tokenizer\n",
    "from keras.src.utils import pad_sequences\n",
    "from sklearn.model_selection import train_test_split\n",
    "from custom_preprocessor import preprocess"
   ],
   "outputs": [],
   "execution_count": 1
  },
  {
   "cell_type": "markdown",
   "source": [
    "# Get data\n",
    "Pandas is used to get the data from the project directory.\n",
    "The data is a .csv file, that has been created by book texts and prepared to be listed in the file word-by-word."
   ],
   "metadata": {
    "collapsed": false
   },
   "id": "b20ed3afab281b03"
  },
  {
   "cell_type": "code",
   "source": [
    "df = pd.read_csv('./data/dataset_germanic.csv')\n",
    "df = df.sample(frac=1.0, random_state=12)\n",
    "df.head()"
   ],
   "metadata": {
    "collapsed": false,
    "ExecuteTime": {
     "end_time": "2024-05-10T20:50:22.908767Z",
     "start_time": "2024-05-10T20:50:22.840738Z"
    }
   },
   "id": "9934f095638f49f4",
   "outputs": [
    {
     "data": {
      "text/plain": "                                                  Word Language\n32859  eyes right away eyes right away eyes right away  English\n20523    meinung waren dass meinung waren dass meinung   German\n19012            arbeitsform  durch arbeitsform  durch   German\n76845  gick det ock gick det ock gick det ock gick det  Swedish\n21638            gestaltend einzuwirken auf gestaltend   German",
      "text/html": "<div>\n<style scoped>\n    .dataframe tbody tr th:only-of-type {\n        vertical-align: middle;\n    }\n\n    .dataframe tbody tr th {\n        vertical-align: top;\n    }\n\n    .dataframe thead th {\n        text-align: right;\n    }\n</style>\n<table border=\"1\" class=\"dataframe\">\n  <thead>\n    <tr style=\"text-align: right;\">\n      <th></th>\n      <th>Word</th>\n      <th>Language</th>\n    </tr>\n  </thead>\n  <tbody>\n    <tr>\n      <th>32859</th>\n      <td>eyes right away eyes right away eyes right away</td>\n      <td>English</td>\n    </tr>\n    <tr>\n      <th>20523</th>\n      <td>meinung waren dass meinung waren dass meinung</td>\n      <td>German</td>\n    </tr>\n    <tr>\n      <th>19012</th>\n      <td>arbeitsform  durch arbeitsform  durch</td>\n      <td>German</td>\n    </tr>\n    <tr>\n      <th>76845</th>\n      <td>gick det ock gick det ock gick det ock gick det</td>\n      <td>Swedish</td>\n    </tr>\n    <tr>\n      <th>21638</th>\n      <td>gestaltend einzuwirken auf gestaltend</td>\n      <td>German</td>\n    </tr>\n  </tbody>\n</table>\n</div>"
     },
     "execution_count": 5,
     "metadata": {},
     "output_type": "execute_result"
    }
   ],
   "execution_count": 5
  },
  {
   "cell_type": "markdown",
   "source": [
    "# Prepare data\n",
    "Divide the data into X and y. X is input and y is the desired output.\n",
    "One-Hot Encode it, so the language is categorical. This is done with Pandas."
   ],
   "metadata": {
    "collapsed": false
   },
   "id": "e375f9241e794ae4"
  },
  {
   "cell_type": "code",
   "source": [
    "# Getting X - the input values\n",
    "X = df.iloc[:, :-1]\n",
    "X.loc[:, 'Word'] = X['Word'].astype(str)\n",
    "tokenizer = Tokenizer(char_level=True) # Used for turning the words into numbers\n",
    "tokenizer.fit_on_texts(X['Word'].tolist()) # Giving Tokenizer the data it needs to learn how to encode the words\n",
    "X_sequences = tokenizer.texts_to_sequences(X['Word'].tolist()) # Now the words are encoded into sequences\n",
    "input_dim = max(len(seq) for seq in X_sequences)\n",
    "print(f\"Input dimension: {input_dim}\")\n",
    "X = pad_sequences(\n",
    "    X_sequences, \n",
    "    maxlen=input_dim, \n",
    "    padding='post'\n",
    ") # Making all input values be of same length\n",
    "print(f\"Rows: {len(X)}\")\n",
    "\n",
    "# Getting y - the output values\n",
    "y_df = pd.get_dummies(df.iloc[:, -1:])\n",
    "y = y_df.values\n",
    "print(f\"Amount of languages to identify: {len(y[1])}\")\n",
    "\n",
    "X_train, X_val, y_train, y_val = train_test_split(X, y, test_size=0.2, random_state=42)\n",
    "X_train = X_train.reshape(X_train.shape[0], X_train.shape[1], 1)"
   ],
   "metadata": {
    "collapsed": false,
    "ExecuteTime": {
     "end_time": "2024-05-10T20:50:25.585032Z",
     "start_time": "2024-05-10T20:50:24.467187Z"
    }
   },
   "id": "ba4d86402045de27",
   "outputs": [
    {
     "name": "stdout",
     "output_type": "stream",
     "text": [
      "Input dimension: 50\n",
      "Rows: 86454\n",
      "Amount of languages to identify: 6\n"
     ]
    }
   ],
   "execution_count": 6
  },
  {
   "cell_type": "code",
   "source": [
    "model = Sequential()\n",
    "model.add(Conv1D(input_dim, 2, activation='relu'))  # Convolutional layer\n",
    "tf.keras.layers.SimpleRNN(8, activation='relu')\n",
    "model.add(LSTM(32, return_sequences=True))\n",
    "model.add(Flatten())\n",
    "model.add(Dropout(0.5))\n",
    "model.add(Dense(len(y[1]), activation='softmax'))\n",
    "adam = optimizers.Adam(learning_rate=0.01)\n",
    "model.compile(loss='categorical_crossentropy', optimizer=adam, metrics=['accuracy'])"
   ],
   "metadata": {
    "collapsed": false,
    "ExecuteTime": {
     "end_time": "2024-05-10T19:45:28.266224Z",
     "start_time": "2024-05-10T19:45:28.254263Z"
    }
   },
   "id": "c870f2fa48fe956c",
   "outputs": [],
   "execution_count": 90
  },
  {
   "cell_type": "code",
   "source": [
    "history = model.fit(X_train, y_train, validation_data=(X_val, y_val), epochs=75, batch_size=2048,verbose=1)"
   ],
   "metadata": {
    "collapsed": false,
    "ExecuteTime": {
     "end_time": "2024-05-10T19:53:05.175796Z",
     "start_time": "2024-05-10T19:45:28.268822Z"
    }
   },
   "id": "d9a29cb1ff2dcba7",
   "outputs": [
    {
     "name": "stdout",
     "output_type": "stream",
     "text": [
      "Epoch 1/75\n",
      "\u001B[1m34/34\u001B[0m \u001B[32m━━━━━━━━━━━━━━━━━━━━\u001B[0m\u001B[37m\u001B[0m \u001B[1m6s\u001B[0m 156ms/step - accuracy: 0.1736 - loss: 2.1639 - val_accuracy: 0.2180 - val_loss: 1.7795\n",
      "Epoch 2/75\n",
      "\u001B[1m34/34\u001B[0m \u001B[32m━━━━━━━━━━━━━━━━━━━━\u001B[0m\u001B[37m\u001B[0m \u001B[1m6s\u001B[0m 185ms/step - accuracy: 0.2250 - loss: 1.7709 - val_accuracy: 0.2652 - val_loss: 1.7293\n",
      "Epoch 3/75\n",
      "\u001B[1m34/34\u001B[0m \u001B[32m━━━━━━━━━━━━━━━━━━━━\u001B[0m\u001B[37m\u001B[0m \u001B[1m6s\u001B[0m 181ms/step - accuracy: 0.2643 - loss: 1.7241 - val_accuracy: 0.2984 - val_loss: 1.6859\n",
      "Epoch 4/75\n",
      "\u001B[1m34/34\u001B[0m \u001B[32m━━━━━━━━━━━━━━━━━━━━\u001B[0m\u001B[37m\u001B[0m \u001B[1m6s\u001B[0m 179ms/step - accuracy: 0.2936 - loss: 1.6882 - val_accuracy: 0.3270 - val_loss: 1.6370\n",
      "Epoch 5/75\n",
      "\u001B[1m34/34\u001B[0m \u001B[32m━━━━━━━━━━━━━━━━━━━━\u001B[0m\u001B[37m\u001B[0m \u001B[1m7s\u001B[0m 203ms/step - accuracy: 0.3214 - loss: 1.6430 - val_accuracy: 0.3591 - val_loss: 1.5808\n",
      "Epoch 6/75\n",
      "\u001B[1m34/34\u001B[0m \u001B[32m━━━━━━━━━━━━━━━━━━━━\u001B[0m\u001B[37m\u001B[0m \u001B[1m7s\u001B[0m 193ms/step - accuracy: 0.3539 - loss: 1.5813 - val_accuracy: 0.3905 - val_loss: 1.5231\n",
      "Epoch 7/75\n",
      "\u001B[1m34/34\u001B[0m \u001B[32m━━━━━━━━━━━━━━━━━━━━\u001B[0m\u001B[37m\u001B[0m \u001B[1m6s\u001B[0m 190ms/step - accuracy: 0.3879 - loss: 1.5221 - val_accuracy: 0.4119 - val_loss: 1.4705\n",
      "Epoch 8/75\n",
      "\u001B[1m34/34\u001B[0m \u001B[32m━━━━━━━━━━━━━━━━━━━━\u001B[0m\u001B[37m\u001B[0m \u001B[1m6s\u001B[0m 176ms/step - accuracy: 0.4088 - loss: 1.4758 - val_accuracy: 0.4346 - val_loss: 1.4137\n",
      "Epoch 9/75\n",
      "\u001B[1m34/34\u001B[0m \u001B[32m━━━━━━━━━━━━━━━━━━━━\u001B[0m\u001B[37m\u001B[0m \u001B[1m6s\u001B[0m 173ms/step - accuracy: 0.4360 - loss: 1.4262 - val_accuracy: 0.4554 - val_loss: 1.3802\n",
      "Epoch 10/75\n",
      "\u001B[1m34/34\u001B[0m \u001B[32m━━━━━━━━━━━━━━━━━━━━\u001B[0m\u001B[37m\u001B[0m \u001B[1m6s\u001B[0m 183ms/step - accuracy: 0.4557 - loss: 1.3826 - val_accuracy: 0.4700 - val_loss: 1.3279\n",
      "Epoch 11/75\n",
      "\u001B[1m34/34\u001B[0m \u001B[32m━━━━━━━━━━━━━━━━━━━━\u001B[0m\u001B[37m\u001B[0m \u001B[1m6s\u001B[0m 178ms/step - accuracy: 0.4750 - loss: 1.3354 - val_accuracy: 0.4955 - val_loss: 1.2802\n",
      "Epoch 12/75\n",
      "\u001B[1m34/34\u001B[0m \u001B[32m━━━━━━━━━━━━━━━━━━━━\u001B[0m\u001B[37m\u001B[0m \u001B[1m6s\u001B[0m 178ms/step - accuracy: 0.4872 - loss: 1.3093 - val_accuracy: 0.5058 - val_loss: 1.2612\n",
      "Epoch 13/75\n",
      "\u001B[1m34/34\u001B[0m \u001B[32m━━━━━━━━━━━━━━━━━━━━\u001B[0m\u001B[37m\u001B[0m \u001B[1m6s\u001B[0m 178ms/step - accuracy: 0.5068 - loss: 1.2603 - val_accuracy: 0.5345 - val_loss: 1.1920\n",
      "Epoch 14/75\n",
      "\u001B[1m34/34\u001B[0m \u001B[32m━━━━━━━━━━━━━━━━━━━━\u001B[0m\u001B[37m\u001B[0m \u001B[1m6s\u001B[0m 174ms/step - accuracy: 0.5223 - loss: 1.2284 - val_accuracy: 0.5521 - val_loss: 1.1494\n",
      "Epoch 15/75\n",
      "\u001B[1m34/34\u001B[0m \u001B[32m━━━━━━━━━━━━━━━━━━━━\u001B[0m\u001B[37m\u001B[0m \u001B[1m6s\u001B[0m 172ms/step - accuracy: 0.5432 - loss: 1.1728 - val_accuracy: 0.5620 - val_loss: 1.1310\n",
      "Epoch 16/75\n",
      "\u001B[1m34/34\u001B[0m \u001B[32m━━━━━━━━━━━━━━━━━━━━\u001B[0m\u001B[37m\u001B[0m \u001B[1m6s\u001B[0m 177ms/step - accuracy: 0.5521 - loss: 1.1497 - val_accuracy: 0.5742 - val_loss: 1.0853\n",
      "Epoch 17/75\n",
      "\u001B[1m34/34\u001B[0m \u001B[32m━━━━━━━━━━━━━━━━━━━━\u001B[0m\u001B[37m\u001B[0m \u001B[1m6s\u001B[0m 173ms/step - accuracy: 0.5728 - loss: 1.0993 - val_accuracy: 0.5902 - val_loss: 1.0474\n",
      "Epoch 18/75\n",
      "\u001B[1m34/34\u001B[0m \u001B[32m━━━━━━━━━━━━━━━━━━━━\u001B[0m\u001B[37m\u001B[0m \u001B[1m6s\u001B[0m 172ms/step - accuracy: 0.5863 - loss: 1.0601 - val_accuracy: 0.6075 - val_loss: 1.0179\n",
      "Epoch 19/75\n",
      "\u001B[1m34/34\u001B[0m \u001B[32m━━━━━━━━━━━━━━━━━━━━\u001B[0m\u001B[37m\u001B[0m \u001B[1m6s\u001B[0m 172ms/step - accuracy: 0.5948 - loss: 1.0425 - val_accuracy: 0.6081 - val_loss: 1.0020\n",
      "Epoch 20/75\n",
      "\u001B[1m34/34\u001B[0m \u001B[32m━━━━━━━━━━━━━━━━━━━━\u001B[0m\u001B[37m\u001B[0m \u001B[1m6s\u001B[0m 180ms/step - accuracy: 0.6017 - loss: 1.0218 - val_accuracy: 0.6333 - val_loss: 0.9450\n",
      "Epoch 21/75\n",
      "\u001B[1m34/34\u001B[0m \u001B[32m━━━━━━━━━━━━━━━━━━━━\u001B[0m\u001B[37m\u001B[0m \u001B[1m6s\u001B[0m 179ms/step - accuracy: 0.6236 - loss: 0.9639 - val_accuracy: 0.6249 - val_loss: 0.9550\n",
      "Epoch 22/75\n",
      "\u001B[1m34/34\u001B[0m \u001B[32m━━━━━━━━━━━━━━━━━━━━\u001B[0m\u001B[37m\u001B[0m \u001B[1m7s\u001B[0m 195ms/step - accuracy: 0.6300 - loss: 0.9494 - val_accuracy: 0.6447 - val_loss: 0.9114\n",
      "Epoch 23/75\n",
      "\u001B[1m34/34\u001B[0m \u001B[32m━━━━━━━━━━━━━━━━━━━━\u001B[0m\u001B[37m\u001B[0m \u001B[1m5s\u001B[0m 159ms/step - accuracy: 0.6363 - loss: 0.9300 - val_accuracy: 0.6479 - val_loss: 0.8916\n",
      "Epoch 24/75\n",
      "\u001B[1m34/34\u001B[0m \u001B[32m━━━━━━━━━━━━━━━━━━━━\u001B[0m\u001B[37m\u001B[0m \u001B[1m6s\u001B[0m 181ms/step - accuracy: 0.6454 - loss: 0.9030 - val_accuracy: 0.6388 - val_loss: 0.9166\n",
      "Epoch 25/75\n",
      "\u001B[1m34/34\u001B[0m \u001B[32m━━━━━━━━━━━━━━━━━━━━\u001B[0m\u001B[37m\u001B[0m \u001B[1m6s\u001B[0m 174ms/step - accuracy: 0.6525 - loss: 0.8848 - val_accuracy: 0.6550 - val_loss: 0.8742\n",
      "Epoch 26/75\n",
      "\u001B[1m34/34\u001B[0m \u001B[32m━━━━━━━━━━━━━━━━━━━━\u001B[0m\u001B[37m\u001B[0m \u001B[1m6s\u001B[0m 173ms/step - accuracy: 0.6584 - loss: 0.8623 - val_accuracy: 0.6627 - val_loss: 0.8519\n",
      "Epoch 27/75\n",
      "\u001B[1m34/34\u001B[0m \u001B[32m━━━━━━━━━━━━━━━━━━━━\u001B[0m\u001B[37m\u001B[0m \u001B[1m6s\u001B[0m 174ms/step - accuracy: 0.6693 - loss: 0.8425 - val_accuracy: 0.6753 - val_loss: 0.8231\n",
      "Epoch 28/75\n",
      "\u001B[1m34/34\u001B[0m \u001B[32m━━━━━━━━━━━━━━━━━━━━\u001B[0m\u001B[37m\u001B[0m \u001B[1m6s\u001B[0m 172ms/step - accuracy: 0.6726 - loss: 0.8309 - val_accuracy: 0.6771 - val_loss: 0.8130\n",
      "Epoch 29/75\n",
      "\u001B[1m34/34\u001B[0m \u001B[32m━━━━━━━━━━━━━━━━━━━━\u001B[0m\u001B[37m\u001B[0m \u001B[1m6s\u001B[0m 173ms/step - accuracy: 0.6776 - loss: 0.8146 - val_accuracy: 0.6812 - val_loss: 0.8033\n",
      "Epoch 30/75\n",
      "\u001B[1m34/34\u001B[0m \u001B[32m━━━━━━━━━━━━━━━━━━━━\u001B[0m\u001B[37m\u001B[0m \u001B[1m6s\u001B[0m 186ms/step - accuracy: 0.6790 - loss: 0.8082 - val_accuracy: 0.6858 - val_loss: 0.7862\n",
      "Epoch 31/75\n",
      "\u001B[1m34/34\u001B[0m \u001B[32m━━━━━━━━━━━━━━━━━━━━\u001B[0m\u001B[37m\u001B[0m \u001B[1m6s\u001B[0m 181ms/step - accuracy: 0.6877 - loss: 0.7849 - val_accuracy: 0.6913 - val_loss: 0.7711\n",
      "Epoch 32/75\n",
      "\u001B[1m34/34\u001B[0m \u001B[32m━━━━━━━━━━━━━━━━━━━━\u001B[0m\u001B[37m\u001B[0m \u001B[1m6s\u001B[0m 181ms/step - accuracy: 0.6925 - loss: 0.7722 - val_accuracy: 0.6920 - val_loss: 0.7782\n",
      "Epoch 33/75\n",
      "\u001B[1m34/34\u001B[0m \u001B[32m━━━━━━━━━━━━━━━━━━━━\u001B[0m\u001B[37m\u001B[0m \u001B[1m6s\u001B[0m 183ms/step - accuracy: 0.6869 - loss: 0.7871 - val_accuracy: 0.6965 - val_loss: 0.7543\n",
      "Epoch 34/75\n",
      "\u001B[1m34/34\u001B[0m \u001B[32m━━━━━━━━━━━━━━━━━━━━\u001B[0m\u001B[37m\u001B[0m \u001B[1m6s\u001B[0m 179ms/step - accuracy: 0.6967 - loss: 0.7585 - val_accuracy: 0.6945 - val_loss: 0.7578\n",
      "Epoch 35/75\n",
      "\u001B[1m34/34\u001B[0m \u001B[32m━━━━━━━━━━━━━━━━━━━━\u001B[0m\u001B[37m\u001B[0m \u001B[1m6s\u001B[0m 173ms/step - accuracy: 0.6947 - loss: 0.7622 - val_accuracy: 0.6938 - val_loss: 0.7674\n",
      "Epoch 36/75\n",
      "\u001B[1m34/34\u001B[0m \u001B[32m━━━━━━━━━━━━━━━━━━━━\u001B[0m\u001B[37m\u001B[0m \u001B[1m6s\u001B[0m 172ms/step - accuracy: 0.7046 - loss: 0.7404 - val_accuracy: 0.7089 - val_loss: 0.7313\n",
      "Epoch 37/75\n",
      "\u001B[1m34/34\u001B[0m \u001B[32m━━━━━━━━━━━━━━━━━━━━\u001B[0m\u001B[37m\u001B[0m \u001B[1m6s\u001B[0m 171ms/step - accuracy: 0.7040 - loss: 0.7415 - val_accuracy: 0.7105 - val_loss: 0.7310\n",
      "Epoch 38/75\n",
      "\u001B[1m34/34\u001B[0m \u001B[32m━━━━━━━━━━━━━━━━━━━━\u001B[0m\u001B[37m\u001B[0m \u001B[1m6s\u001B[0m 180ms/step - accuracy: 0.7041 - loss: 0.7335 - val_accuracy: 0.7106 - val_loss: 0.7192\n",
      "Epoch 39/75\n",
      "\u001B[1m34/34\u001B[0m \u001B[32m━━━━━━━━━━━━━━━━━━━━\u001B[0m\u001B[37m\u001B[0m \u001B[1m6s\u001B[0m 186ms/step - accuracy: 0.7111 - loss: 0.7214 - val_accuracy: 0.6999 - val_loss: 0.7519\n",
      "Epoch 40/75\n",
      "\u001B[1m34/34\u001B[0m \u001B[32m━━━━━━━━━━━━━━━━━━━━\u001B[0m\u001B[37m\u001B[0m \u001B[1m6s\u001B[0m 175ms/step - accuracy: 0.7056 - loss: 0.7276 - val_accuracy: 0.7138 - val_loss: 0.7104\n",
      "Epoch 41/75\n",
      "\u001B[1m34/34\u001B[0m \u001B[32m━━━━━━━━━━━━━━━━━━━━\u001B[0m\u001B[37m\u001B[0m \u001B[1m6s\u001B[0m 171ms/step - accuracy: 0.7147 - loss: 0.6967 - val_accuracy: 0.7159 - val_loss: 0.7148\n",
      "Epoch 42/75\n",
      "\u001B[1m34/34\u001B[0m \u001B[32m━━━━━━━━━━━━━━━━━━━━\u001B[0m\u001B[37m\u001B[0m \u001B[1m6s\u001B[0m 171ms/step - accuracy: 0.7199 - loss: 0.6969 - val_accuracy: 0.7034 - val_loss: 0.7398\n",
      "Epoch 43/75\n",
      "\u001B[1m34/34\u001B[0m \u001B[32m━━━━━━━━━━━━━━━━━━━━\u001B[0m\u001B[37m\u001B[0m \u001B[1m6s\u001B[0m 171ms/step - accuracy: 0.7181 - loss: 0.7008 - val_accuracy: 0.7218 - val_loss: 0.6952\n",
      "Epoch 44/75\n",
      "\u001B[1m34/34\u001B[0m \u001B[32m━━━━━━━━━━━━━━━━━━━━\u001B[0m\u001B[37m\u001B[0m \u001B[1m6s\u001B[0m 170ms/step - accuracy: 0.7253 - loss: 0.6822 - val_accuracy: 0.7252 - val_loss: 0.6889\n",
      "Epoch 45/75\n",
      "\u001B[1m34/34\u001B[0m \u001B[32m━━━━━━━━━━━━━━━━━━━━\u001B[0m\u001B[37m\u001B[0m \u001B[1m6s\u001B[0m 173ms/step - accuracy: 0.7275 - loss: 0.6773 - val_accuracy: 0.7227 - val_loss: 0.6986\n",
      "Epoch 46/75\n",
      "\u001B[1m34/34\u001B[0m \u001B[32m━━━━━━━━━━━━━━━━━━━━\u001B[0m\u001B[37m\u001B[0m \u001B[1m6s\u001B[0m 173ms/step - accuracy: 0.7285 - loss: 0.6737 - val_accuracy: 0.7247 - val_loss: 0.6838\n",
      "Epoch 47/75\n",
      "\u001B[1m34/34\u001B[0m \u001B[32m━━━━━━━━━━━━━━━━━━━━\u001B[0m\u001B[37m\u001B[0m \u001B[1m6s\u001B[0m 172ms/step - accuracy: 0.7317 - loss: 0.6677 - val_accuracy: 0.7269 - val_loss: 0.6835\n",
      "Epoch 48/75\n",
      "\u001B[1m34/34\u001B[0m \u001B[32m━━━━━━━━━━━━━━━━━━━━\u001B[0m\u001B[37m\u001B[0m \u001B[1m6s\u001B[0m 172ms/step - accuracy: 0.7299 - loss: 0.6622 - val_accuracy: 0.7279 - val_loss: 0.6783\n",
      "Epoch 49/75\n",
      "\u001B[1m34/34\u001B[0m \u001B[32m━━━━━━━━━━━━━━━━━━━━\u001B[0m\u001B[37m\u001B[0m \u001B[1m6s\u001B[0m 172ms/step - accuracy: 0.7309 - loss: 0.6663 - val_accuracy: 0.7229 - val_loss: 0.6931\n",
      "Epoch 50/75\n",
      "\u001B[1m34/34\u001B[0m \u001B[32m━━━━━━━━━━━━━━━━━━━━\u001B[0m\u001B[37m\u001B[0m \u001B[1m6s\u001B[0m 189ms/step - accuracy: 0.7327 - loss: 0.6581 - val_accuracy: 0.7307 - val_loss: 0.6778\n",
      "Epoch 51/75\n",
      "\u001B[1m34/34\u001B[0m \u001B[32m━━━━━━━━━━━━━━━━━━━━\u001B[0m\u001B[37m\u001B[0m \u001B[1m7s\u001B[0m 208ms/step - accuracy: 0.7375 - loss: 0.6458 - val_accuracy: 0.7252 - val_loss: 0.6899\n",
      "Epoch 52/75\n",
      "\u001B[1m34/34\u001B[0m \u001B[32m━━━━━━━━━━━━━━━━━━━━\u001B[0m\u001B[37m\u001B[0m \u001B[1m6s\u001B[0m 183ms/step - accuracy: 0.7349 - loss: 0.6585 - val_accuracy: 0.7263 - val_loss: 0.6826\n",
      "Epoch 53/75\n",
      "\u001B[1m34/34\u001B[0m \u001B[32m━━━━━━━━━━━━━━━━━━━━\u001B[0m\u001B[37m\u001B[0m \u001B[1m7s\u001B[0m 193ms/step - accuracy: 0.7363 - loss: 0.6476 - val_accuracy: 0.7328 - val_loss: 0.6689\n",
      "Epoch 54/75\n",
      "\u001B[1m34/34\u001B[0m \u001B[32m━━━━━━━━━━━━━━━━━━━━\u001B[0m\u001B[37m\u001B[0m \u001B[1m7s\u001B[0m 198ms/step - accuracy: 0.7365 - loss: 0.6478 - val_accuracy: 0.7263 - val_loss: 0.6877\n",
      "Epoch 55/75\n",
      "\u001B[1m34/34\u001B[0m \u001B[32m━━━━━━━━━━━━━━━━━━━━\u001B[0m\u001B[37m\u001B[0m \u001B[1m6s\u001B[0m 175ms/step - accuracy: 0.7409 - loss: 0.6420 - val_accuracy: 0.7330 - val_loss: 0.6617\n",
      "Epoch 56/75\n",
      "\u001B[1m34/34\u001B[0m \u001B[32m━━━━━━━━━━━━━━━━━━━━\u001B[0m\u001B[37m\u001B[0m \u001B[1m6s\u001B[0m 174ms/step - accuracy: 0.7413 - loss: 0.6339 - val_accuracy: 0.7350 - val_loss: 0.6631\n",
      "Epoch 57/75\n",
      "\u001B[1m34/34\u001B[0m \u001B[32m━━━━━━━━━━━━━━━━━━━━\u001B[0m\u001B[37m\u001B[0m \u001B[1m6s\u001B[0m 173ms/step - accuracy: 0.7432 - loss: 0.6340 - val_accuracy: 0.7360 - val_loss: 0.6578\n",
      "Epoch 58/75\n",
      "\u001B[1m34/34\u001B[0m \u001B[32m━━━━━━━━━━━━━━━━━━━━\u001B[0m\u001B[37m\u001B[0m \u001B[1m6s\u001B[0m 174ms/step - accuracy: 0.7445 - loss: 0.6261 - val_accuracy: 0.7373 - val_loss: 0.6675\n",
      "Epoch 59/75\n",
      "\u001B[1m34/34\u001B[0m \u001B[32m━━━━━━━━━━━━━━━━━━━━\u001B[0m\u001B[37m\u001B[0m \u001B[1m6s\u001B[0m 175ms/step - accuracy: 0.7402 - loss: 0.6411 - val_accuracy: 0.7360 - val_loss: 0.6706\n",
      "Epoch 60/75\n",
      "\u001B[1m34/34\u001B[0m \u001B[32m━━━━━━━━━━━━━━━━━━━━\u001B[0m\u001B[37m\u001B[0m \u001B[1m7s\u001B[0m 192ms/step - accuracy: 0.7441 - loss: 0.6288 - val_accuracy: 0.7344 - val_loss: 0.6685\n",
      "Epoch 61/75\n",
      "\u001B[1m34/34\u001B[0m \u001B[32m━━━━━━━━━━━━━━━━━━━━\u001B[0m\u001B[37m\u001B[0m \u001B[1m6s\u001B[0m 185ms/step - accuracy: 0.7485 - loss: 0.6178 - val_accuracy: 0.7360 - val_loss: 0.6629\n",
      "Epoch 62/75\n",
      "\u001B[1m34/34\u001B[0m \u001B[32m━━━━━━━━━━━━━━━━━━━━\u001B[0m\u001B[37m\u001B[0m \u001B[1m6s\u001B[0m 183ms/step - accuracy: 0.7528 - loss: 0.6154 - val_accuracy: 0.7424 - val_loss: 0.6518\n",
      "Epoch 63/75\n",
      "\u001B[1m34/34\u001B[0m \u001B[32m━━━━━━━━━━━━━━━━━━━━\u001B[0m\u001B[37m\u001B[0m \u001B[1m6s\u001B[0m 182ms/step - accuracy: 0.7536 - loss: 0.6046 - val_accuracy: 0.7420 - val_loss: 0.6416\n",
      "Epoch 64/75\n",
      "\u001B[1m34/34\u001B[0m \u001B[32m━━━━━━━━━━━━━━━━━━━━\u001B[0m\u001B[37m\u001B[0m \u001B[1m6s\u001B[0m 175ms/step - accuracy: 0.7478 - loss: 0.6167 - val_accuracy: 0.7310 - val_loss: 0.6506\n",
      "Epoch 65/75\n",
      "\u001B[1m34/34\u001B[0m \u001B[32m━━━━━━━━━━━━━━━━━━━━\u001B[0m\u001B[37m\u001B[0m \u001B[1m6s\u001B[0m 179ms/step - accuracy: 0.7500 - loss: 0.6107 - val_accuracy: 0.7434 - val_loss: 0.6441\n",
      "Epoch 66/75\n",
      "\u001B[1m34/34\u001B[0m \u001B[32m━━━━━━━━━━━━━━━━━━━━\u001B[0m\u001B[37m\u001B[0m \u001B[1m6s\u001B[0m 183ms/step - accuracy: 0.7519 - loss: 0.6143 - val_accuracy: 0.7400 - val_loss: 0.6628\n",
      "Epoch 67/75\n",
      "\u001B[1m34/34\u001B[0m \u001B[32m━━━━━━━━━━━━━━━━━━━━\u001B[0m\u001B[37m\u001B[0m \u001B[1m6s\u001B[0m 180ms/step - accuracy: 0.7517 - loss: 0.6134 - val_accuracy: 0.7414 - val_loss: 0.6487\n",
      "Epoch 68/75\n",
      "\u001B[1m34/34\u001B[0m \u001B[32m━━━━━━━━━━━━━━━━━━━━\u001B[0m\u001B[37m\u001B[0m \u001B[1m6s\u001B[0m 176ms/step - accuracy: 0.7540 - loss: 0.6024 - val_accuracy: 0.7406 - val_loss: 0.6567\n",
      "Epoch 69/75\n",
      "\u001B[1m34/34\u001B[0m \u001B[32m━━━━━━━━━━━━━━━━━━━━\u001B[0m\u001B[37m\u001B[0m \u001B[1m6s\u001B[0m 176ms/step - accuracy: 0.7524 - loss: 0.6051 - val_accuracy: 0.7455 - val_loss: 0.6359\n",
      "Epoch 70/75\n",
      "\u001B[1m34/34\u001B[0m \u001B[32m━━━━━━━━━━━━━━━━━━━━\u001B[0m\u001B[37m\u001B[0m \u001B[1m6s\u001B[0m 183ms/step - accuracy: 0.7548 - loss: 0.5975 - val_accuracy: 0.7385 - val_loss: 0.6403\n",
      "Epoch 71/75\n",
      "\u001B[1m34/34\u001B[0m \u001B[32m━━━━━━━━━━━━━━━━━━━━\u001B[0m\u001B[37m\u001B[0m \u001B[1m6s\u001B[0m 183ms/step - accuracy: 0.7603 - loss: 0.5868 - val_accuracy: 0.7475 - val_loss: 0.6383\n",
      "Epoch 72/75\n",
      "\u001B[1m34/34\u001B[0m \u001B[32m━━━━━━━━━━━━━━━━━━━━\u001B[0m\u001B[37m\u001B[0m \u001B[1m6s\u001B[0m 183ms/step - accuracy: 0.7575 - loss: 0.5917 - val_accuracy: 0.7447 - val_loss: 0.6475\n",
      "Epoch 73/75\n",
      "\u001B[1m34/34\u001B[0m \u001B[32m━━━━━━━━━━━━━━━━━━━━\u001B[0m\u001B[37m\u001B[0m \u001B[1m6s\u001B[0m 190ms/step - accuracy: 0.7559 - loss: 0.5930 - val_accuracy: 0.7467 - val_loss: 0.6370\n",
      "Epoch 74/75\n",
      "\u001B[1m34/34\u001B[0m \u001B[32m━━━━━━━━━━━━━━━━━━━━\u001B[0m\u001B[37m\u001B[0m \u001B[1m6s\u001B[0m 184ms/step - accuracy: 0.7580 - loss: 0.5932 - val_accuracy: 0.7423 - val_loss: 0.6470\n",
      "Epoch 75/75\n",
      "\u001B[1m34/34\u001B[0m \u001B[32m━━━━━━━━━━━━━━━━━━━━\u001B[0m\u001B[37m\u001B[0m \u001B[1m6s\u001B[0m 176ms/step - accuracy: 0.7538 - loss: 0.6010 - val_accuracy: 0.7476 - val_loss: 0.6335\n"
     ]
    }
   ],
   "execution_count": 91
  },
  {
   "metadata": {},
   "cell_type": "markdown",
   "source": [
    "# Loss evaluation\n",
    "\n",
    "Seeing how the model's loss changes by the epoch"
   ],
   "id": "28458dd6caeaf05c"
  },
  {
   "cell_type": "code",
   "source": [
    "%matplotlib inline\n",
    "plt.plot(history.history['loss'])\n",
    "plt.plot(history.history['val_loss'])\n",
    "plt.title(\"Loss\")\n",
    "plt.legend(['Train', 'Val'], loc='upper right')\n",
    "plt.ylabel('Loss')\n",
    "plt.xlabel('Epoch')"
   ],
   "metadata": {
    "collapsed": false,
    "ExecuteTime": {
     "end_time": "2024-05-10T19:53:12.382650Z",
     "start_time": "2024-05-10T19:53:11.977347Z"
    }
   },
   "id": "db97a7f3cc91e456",
   "outputs": [
    {
     "data": {
      "text/plain": "Text(0.5, 0, 'Epoch')"
     },
     "execution_count": 97,
     "metadata": {},
     "output_type": "execute_result"
    },
    {
     "data": {
      "text/plain": "<Figure size 640x480 with 1 Axes>",
      "image/png": "[encoded data removed]"
     },
     "metadata": {},
     "output_type": "display_data"
    }
   ],
   "execution_count": 97
  },
  {
   "metadata": {},
   "cell_type": "markdown",
   "source": [
    "# Loss evaluation\n",
    "\n",
    "Seeing how the model's loss changes by the epoch"
   ],
   "id": "47dd11a44349b4d5"
  },
  {
   "metadata": {
    "ExecuteTime": {
     "end_time": "2024-05-10T19:53:05.372116Z",
     "start_time": "2024-05-10T19:53:05.289460Z"
    }
   },
   "cell_type": "code",
   "source": [
    "%matplotlib inline\n",
    "plt.plot(history.history['accuracy'])\n",
    "plt.plot(history.history['val_accuracy'])\n",
    "plt.title(\"Accuracy\")\n",
    "plt.legend(['Train', 'Val'], loc='upper right')\n",
    "plt.ylabel('Accuracy')\n",
    "plt.xlabel('Epoch')"
   ],
   "id": "4a03b62d16638245",
   "outputs": [
    {
     "data": {
      "text/plain": "Text(0.5, 0, 'Epoch')"
     },
     "execution_count": 93,
     "metadata": {},
     "output_type": "execute_result"
    },
    {
     "data": {
      "text/plain": "<Figure size 640x480 with 1 Axes>",
      "image/png": "[encoded data removed]"
     },
     "metadata": {},
     "output_type": "display_data"
    }
   ],
   "execution_count": 93
  },
  {
   "cell_type": "markdown",
   "source": [
    "# Prediction"
   ],
   "metadata": {
    "collapsed": false
   },
   "id": "4fb3930ce2fec85d"
  },
  {
   "cell_type": "code",
   "source": [
    "prediction_word = \"jeg ved ikke hvad jeg skal lave i dag da jeg er\"\n",
    "print(f\"Text before preprocessing: {prediction_word}\")\n",
    "prediction_word = preprocess(prediction_word)\n",
    "print(f\"Text after preprocessing: {prediction_word}\")\n",
    "prediction_word = tokenizer.texts_to_sequences([prediction_word])\n",
    "prediction_word = pad_sequences(prediction_word, maxlen=input_dim)\n",
    "prediction = model.predict([prediction_word])\n",
    "output_probabilities = np.array(prediction)\n",
    "result = {}\n",
    "class_labels = np.unique(y_df.columns)\n",
    "for index, prediction in enumerate(output_probabilities[0]):\n",
    "    result.update({class_labels[index]: round(prediction * 100, 1)})\n",
    "\n",
    "# Print keys and values of the result dictionary\n",
    "for key, value in result.items():\n",
    "    print(f\"{key}: {value}\")"
   ],
   "metadata": {
    "collapsed": false,
    "ExecuteTime": {
     "end_time": "2024-05-10T23:20:31.733512Z",
     "start_time": "2024-05-10T23:20:31.616237Z"
    }
   },
   "id": "2af1ef5d86413ee6",
   "outputs": [
    {
     "name": "stdout",
     "output_type": "stream",
     "text": [
      "Text before preprocessing: jeg ved ikke hvad jeg skal lave i dag da jeg er\n",
      "Text after preprocessing: jeg ved ikke hvad jeg skal lave i dag da jeg er\n",
      "\u001B[1m1/1\u001B[0m \u001B[32m━━━━━━━━━━━━━━━━━━━━\u001B[0m\u001B[37m\u001B[0m \u001B[1m0s\u001B[0m 81ms/step\n",
      "Language_Danish: 51.4\n",
      "Language_Dutch: 0.0\n",
      "Language_English: 0.1\n",
      "Language_German: 0.0\n",
      "Language_Norwegian: 45.6\n",
      "Language_Swedish: 2.9\n"
     ]
    }
   ],
   "execution_count": 12
  },
  {
   "cell_type": "markdown",
   "source": [
    "# Save model\n",
    "Here a model can be loaded"
   ],
   "metadata": {
    "collapsed": false
   },
   "id": "7346b90cf1a2f553"
  },
  {
   "cell_type": "code",
   "source": [
    "model.save('./models/model_germanic.keras')"
   ],
   "metadata": {
    "collapsed": false,
    "ExecuteTime": {
     "end_time": "2024-05-10T19:53:05.498178Z",
     "start_time": "2024-05-10T19:53:05.481886Z"
    }
   },
   "id": "f103d5e7cc3146d9",
   "outputs": [],
   "execution_count": 95
  },
  {
   "cell_type": "markdown",
   "source": [
    "# Load model\n",
    "Here a model can be loaded"
   ],
   "metadata": {
    "collapsed": false
   },
   "id": "e0cf8ae450614ab7"
  },
  {
   "cell_type": "code",
   "source": [
    "model = load_model('./models/model_germanic.keras')"
   ],
   "metadata": {
    "collapsed": false,
    "ExecuteTime": {
     "end_time": "2024-05-10T21:45:32.851622Z",
     "start_time": "2024-05-10T21:45:32.812732Z"
    }
   },
   "id": "c0bbfbb51379fba0",
   "outputs": [],
   "execution_count": 11
  },
  {
   "cell_type": "code",
   "outputs": [],
   "source": [],
   "metadata": {
    "collapsed": false,
    "ExecuteTime": {
     "end_time": "2024-05-10T19:53:05.545082Z",
     "start_time": "2024-05-10T19:53:05.542230Z"
    }
   },
   "id": "f45de99f223bed4c",
   "execution_count": 96
  }
 ],
 "metadata": {
  "kernelspec": {
   "display_name": "Python 3",
   "language": "python",
   "name": "python3"
  },
  "language_info": {
   "codemirror_mode": {
    "name": "ipython",
    "version": 2
   },
   "file_extension": ".py",
   "mimetype": "text/x-python",
   "name": "python",
   "nbconvert_exporter": "python",
   "pygments_lexer": "ipython2",
   "version": "2.7.6"
  }
 },
 "nbformat": 4,
 "nbformat_minor": 5
}
