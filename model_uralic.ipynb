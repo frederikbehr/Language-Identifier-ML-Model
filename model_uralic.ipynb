{
 "cells": [
  {
   "cell_type": "code",
   "id": "initial_id",
   "metadata": {
    "collapsed": true,
    "ExecuteTime": {
     "end_time": "2024-05-18T20:21:14.995272Z",
     "start_time": "2024-05-18T20:21:12.053062Z"
    }
   },
   "source": [
    "import numpy as np\n",
    "import pandas as pd\n",
    "import matplotlib.pyplot as plt\n",
    "import tensorflow as tf\n",
    "from tensorflow.keras.models import Sequential, load_model\n",
    "from tensorflow.keras.layers import Dense, Conv1D, LSTM, Dropout, Flatten\n",
    "from tensorflow.keras import optimizers\n",
    "from tensorflow.keras.preprocessing.text import Tokenizer\n",
    "from keras.src.utils import pad_sequences\n",
    "from sklearn.model_selection import train_test_split\n",
    "from custom_preprocessor import preprocess\n",
    "import json"
   ],
   "outputs": [
    {
     "name": "stderr",
     "output_type": "stream",
     "text": [
      "/var/folders/lx/3tpp7mdx68918pcn6277_wtw0000gn/T/ipykernel_62687/1599806223.py:2: DeprecationWarning: \n",
      "Pyarrow will become a required dependency of pandas in the next major release of pandas (pandas 3.0),\n",
      "(to allow more performant data types, such as the Arrow string type, and better interoperability with other libraries)\n",
      "but was not found to be installed on your system.\n",
      "If this would cause problems for you,\n",
      "please provide us feedback at https://github.com/pandas-dev/pandas/issues/54466\n",
      "        \n",
      "  import pandas as pd\n"
     ]
    }
   ],
   "execution_count": 1
  },
  {
   "cell_type": "markdown",
   "source": [
    "# Get data\n",
    "Pandas is used to get the data from the project directory.\n",
    "The data is a .csv file, that has been created by book texts and prepared to be listed in the file word-by-word."
   ],
   "metadata": {
    "collapsed": false
   },
   "id": "b20ed3afab281b03"
  },
  {
   "cell_type": "code",
   "source": [
    "df = pd.read_csv('./data/dataset_uralic.csv')\n",
    "df = df.sample(frac=1.0, random_state=12)\n",
    "df.head()"
   ],
   "metadata": {
    "collapsed": false,
    "ExecuteTime": {
     "end_time": "2024-05-18T20:21:15.008670Z",
     "start_time": "2024-05-18T20:21:14.996031Z"
    }
   },
   "id": "9934f095638f49f4",
   "outputs": [
    {
     "data": {
      "text/plain": "                                                Word   Language\n574   jaan su paris jaan su paris jaan su paris jaan   Estonian\n4267       kasakkoja kohdeltiin kasakkoja kohdeltiin    Finnish\n4         margus onnelikus arewuses margus onnelikus   Estonian\n2244   vissza az ujonnan vissza az ujonnan vissza az  Hungarian\n2982           egeszsegtelen es a egeszsegtelen es a  Hungarian",
      "text/html": "<div>\n<style scoped>\n    .dataframe tbody tr th:only-of-type {\n        vertical-align: middle;\n    }\n\n    .dataframe tbody tr th {\n        vertical-align: top;\n    }\n\n    .dataframe thead th {\n        text-align: right;\n    }\n</style>\n<table border=\"1\" class=\"dataframe\">\n  <thead>\n    <tr style=\"text-align: right;\">\n      <th></th>\n      <th>Word</th>\n      <th>Language</th>\n    </tr>\n  </thead>\n  <tbody>\n    <tr>\n      <th>574</th>\n      <td>jaan su paris jaan su paris jaan su paris jaan</td>\n      <td>Estonian</td>\n    </tr>\n    <tr>\n      <th>4267</th>\n      <td>kasakkoja kohdeltiin kasakkoja kohdeltiin</td>\n      <td>Finnish</td>\n    </tr>\n    <tr>\n      <th>4</th>\n      <td>margus onnelikus arewuses margus onnelikus</td>\n      <td>Estonian</td>\n    </tr>\n    <tr>\n      <th>2244</th>\n      <td>vissza az ujonnan vissza az ujonnan vissza az</td>\n      <td>Hungarian</td>\n    </tr>\n    <tr>\n      <th>2982</th>\n      <td>egeszsegtelen es a egeszsegtelen es a</td>\n      <td>Hungarian</td>\n    </tr>\n  </tbody>\n</table>\n</div>"
     },
     "execution_count": 2,
     "metadata": {},
     "output_type": "execute_result"
    }
   ],
   "execution_count": 2
  },
  {
   "cell_type": "markdown",
   "source": [
    "# Prepare data\n",
    "Divide the data into X and y. X is input and y is the desired output.\n",
    "One-Hot Encode it, so the language is categorical. This is done with Pandas."
   ],
   "metadata": {
    "collapsed": false
   },
   "id": "e375f9241e794ae4"
  },
  {
   "cell_type": "code",
   "source": [
    "# Getting X - the input values\n",
    "X = df.iloc[:, :-1]\n",
    "X.loc[:, 'Word'] = X['Word'].astype(str)\n",
    "tokenizer = Tokenizer(char_level=True) # Used for turning the words into numbers\n",
    "tokenizer.fit_on_texts(X['Word'].tolist()) # Giving Tokenizer the data it needs to learn how to encode the words\n",
    "X_sequences = tokenizer.texts_to_sequences(X['Word'].tolist()) # Now the words are encoded into sequences\n",
    "input_dim = max(len(seq) for seq in X_sequences)\n",
    "print(f\"Input dimension: {input_dim}\")\n",
    "X = pad_sequences(\n",
    "    X_sequences, \n",
    "    maxlen=input_dim, \n",
    "    padding='post'\n",
    ") # Making all input values be of same length\n",
    "print(f\"Rows: {len(X)}\")\n",
    "\n",
    "# Getting y - the output values\n",
    "y_df = pd.get_dummies(df.iloc[:, -1:])\n",
    "y = y_df.values\n",
    "print(f\"Amount of languages to identify: {len(y[1])}\")\n",
    "\n",
    "X_train, X_val, y_train, y_val = train_test_split(X, y, test_size=0.2, random_state=42)\n",
    "X_train = X_train.reshape(X_train.shape[0], X_train.shape[1], 1)"
   ],
   "metadata": {
    "collapsed": false,
    "ExecuteTime": {
     "end_time": "2024-05-18T20:21:15.075700Z",
     "start_time": "2024-05-18T20:21:15.015080Z"
    }
   },
   "id": "ba4d86402045de27",
   "outputs": [
    {
     "name": "stdout",
     "output_type": "stream",
     "text": [
      "Input dimension: 48\n",
      "Rows: 4785\n",
      "Amount of languages to identify: 3\n"
     ]
    }
   ],
   "execution_count": 3
  },
  {
   "cell_type": "code",
   "source": [
    "model = Sequential()\n",
    "model.add(Conv1D(input_dim, 2, activation='relu'))  # Convolutional layer\n",
    "tf.keras.layers.SimpleRNN(8, activation='relu')\n",
    "model.add(LSTM(32, return_sequences=True))\n",
    "model.add(Flatten())\n",
    "model.add(Dropout(0.5))\n",
    "model.add(Dense(len(y[1]), activation='softmax'))\n",
    "adam = optimizers.Adam(learning_rate=0.01)\n",
    "model.compile(loss='categorical_crossentropy', optimizer=adam, metrics=['accuracy'])"
   ],
   "metadata": {
    "collapsed": false,
    "ExecuteTime": {
     "end_time": "2024-05-18T20:21:15.103788Z",
     "start_time": "2024-05-18T20:21:15.076568Z"
    }
   },
   "id": "c870f2fa48fe956c",
   "outputs": [
    {
     "name": "stderr",
     "output_type": "stream",
     "text": [
      "WARNING:absl:At this time, the v2.11+ optimizer `tf.keras.optimizers.Adam` runs slowly on M1/M2 Macs, please use the legacy Keras optimizer instead, located at `tf.keras.optimizers.legacy.Adam`.\n"
     ]
    }
   ],
   "execution_count": 4
  },
  {
   "cell_type": "code",
   "source": [
    "history = model.fit(X_train.astype('float32'), y_train.astype('float32'), validation_data=(X_val, y_val), epochs=300, batch_size=2048,verbose=1)"
   ],
   "metadata": {
    "collapsed": false,
    "ExecuteTime": {
     "end_time": "2024-05-18T20:22:04.075982Z",
     "start_time": "2024-05-18T20:21:15.102861Z"
    }
   },
   "id": "d9a29cb1ff2dcba7",
   "outputs": [
    {
     "name": "stdout",
     "output_type": "stream",
     "text": [
      "Epoch 1/300\n",
      "2/2 [==============================] - 1s 304ms/step - loss: 1.8370 - accuracy: 0.3331 - val_loss: 1.4819 - val_accuracy: 0.3239\n",
      "Epoch 2/300\n",
      "2/2 [==============================] - 0s 148ms/step - loss: 1.5121 - accuracy: 0.3278 - val_loss: 1.0842 - val_accuracy: 0.3699\n",
      "Epoch 3/300\n",
      "2/2 [==============================] - 0s 155ms/step - loss: 1.1692 - accuracy: 0.3391 - val_loss: 1.2391 - val_accuracy: 0.3323\n",
      "Epoch 4/300\n",
      "2/2 [==============================] - 0s 158ms/step - loss: 1.1806 - accuracy: 0.3542 - val_loss: 1.0622 - val_accuracy: 0.4577\n",
      "Epoch 5/300\n",
      "2/2 [==============================] - 0s 161ms/step - loss: 1.0805 - accuracy: 0.4198 - val_loss: 1.1166 - val_accuracy: 0.3678\n",
      "Epoch 6/300\n",
      "2/2 [==============================] - 0s 159ms/step - loss: 1.1248 - accuracy: 0.3939 - val_loss: 1.0737 - val_accuracy: 0.5225\n",
      "Epoch 7/300\n",
      "2/2 [==============================] - 0s 156ms/step - loss: 1.0636 - accuracy: 0.4770 - val_loss: 1.0412 - val_accuracy: 0.4566\n",
      "Epoch 8/300\n",
      "2/2 [==============================] - 0s 163ms/step - loss: 1.0438 - accuracy: 0.4394 - val_loss: 1.0482 - val_accuracy: 0.3824\n",
      "Epoch 9/300\n",
      "2/2 [==============================] - 0s 164ms/step - loss: 1.0470 - accuracy: 0.3945 - val_loss: 1.0239 - val_accuracy: 0.4023\n",
      "Epoch 10/300\n",
      "2/2 [==============================] - 0s 161ms/step - loss: 1.0193 - accuracy: 0.4399 - val_loss: 0.9866 - val_accuracy: 0.5371\n",
      "Epoch 11/300\n",
      "2/2 [==============================] - 0s 160ms/step - loss: 0.9860 - accuracy: 0.5295 - val_loss: 0.9637 - val_accuracy: 0.5569\n",
      "Epoch 12/300\n",
      "2/2 [==============================] - 0s 164ms/step - loss: 0.9711 - accuracy: 0.5324 - val_loss: 0.9524 - val_accuracy: 0.5361\n",
      "Epoch 13/300\n",
      "2/2 [==============================] - 0s 162ms/step - loss: 0.9528 - accuracy: 0.5334 - val_loss: 0.9335 - val_accuracy: 0.5549\n",
      "Epoch 14/300\n",
      "2/2 [==============================] - 0s 159ms/step - loss: 0.9370 - accuracy: 0.5332 - val_loss: 0.9212 - val_accuracy: 0.5705\n",
      "Epoch 15/300\n",
      "2/2 [==============================] - 0s 173ms/step - loss: 0.9325 - accuracy: 0.5421 - val_loss: 0.9102 - val_accuracy: 0.5831\n",
      "Epoch 16/300\n",
      "2/2 [==============================] - 0s 169ms/step - loss: 0.9169 - accuracy: 0.5520 - val_loss: 0.9070 - val_accuracy: 0.5789\n",
      "Epoch 17/300\n",
      "2/2 [==============================] - 0s 167ms/step - loss: 0.9154 - accuracy: 0.5504 - val_loss: 0.8950 - val_accuracy: 0.5914\n",
      "Epoch 18/300\n",
      "2/2 [==============================] - 0s 168ms/step - loss: 0.9004 - accuracy: 0.5674 - val_loss: 0.8838 - val_accuracy: 0.5998\n",
      "Epoch 19/300\n",
      "2/2 [==============================] - 0s 167ms/step - loss: 0.8887 - accuracy: 0.5823 - val_loss: 0.8768 - val_accuracy: 0.6050\n",
      "Epoch 20/300\n",
      "2/2 [==============================] - 0s 162ms/step - loss: 0.8859 - accuracy: 0.5794 - val_loss: 0.8813 - val_accuracy: 0.6061\n",
      "Epoch 21/300\n",
      "2/2 [==============================] - 0s 165ms/step - loss: 0.8812 - accuracy: 0.5901 - val_loss: 0.8638 - val_accuracy: 0.6102\n",
      "Epoch 22/300\n",
      "2/2 [==============================] - 0s 173ms/step - loss: 0.8696 - accuracy: 0.5940 - val_loss: 0.8767 - val_accuracy: 0.6102\n",
      "Epoch 23/300\n",
      "2/2 [==============================] - 0s 177ms/step - loss: 0.8683 - accuracy: 0.5886 - val_loss: 0.8626 - val_accuracy: 0.6061\n",
      "Epoch 24/300\n",
      "2/2 [==============================] - 0s 165ms/step - loss: 0.8588 - accuracy: 0.6034 - val_loss: 0.8674 - val_accuracy: 0.6165\n",
      "Epoch 25/300\n",
      "2/2 [==============================] - 0s 171ms/step - loss: 0.8604 - accuracy: 0.5930 - val_loss: 0.8466 - val_accuracy: 0.6123\n",
      "Epoch 26/300\n",
      "2/2 [==============================] - 0s 164ms/step - loss: 0.8538 - accuracy: 0.5969 - val_loss: 0.8401 - val_accuracy: 0.6301\n",
      "Epoch 27/300\n",
      "2/2 [==============================] - 0s 171ms/step - loss: 0.8403 - accuracy: 0.6089 - val_loss: 0.8331 - val_accuracy: 0.6290\n",
      "Epoch 28/300\n",
      "2/2 [==============================] - 0s 164ms/step - loss: 0.8238 - accuracy: 0.6285 - val_loss: 0.8315 - val_accuracy: 0.6280\n",
      "Epoch 29/300\n",
      "2/2 [==============================] - 0s 164ms/step - loss: 0.8284 - accuracy: 0.6225 - val_loss: 0.8216 - val_accuracy: 0.6343\n",
      "Epoch 30/300\n",
      "2/2 [==============================] - 0s 171ms/step - loss: 0.8095 - accuracy: 0.6296 - val_loss: 0.8226 - val_accuracy: 0.6290\n",
      "Epoch 31/300\n",
      "2/2 [==============================] - 0s 166ms/step - loss: 0.8154 - accuracy: 0.6223 - val_loss: 0.8192 - val_accuracy: 0.6395\n",
      "Epoch 32/300\n",
      "2/2 [==============================] - 0s 168ms/step - loss: 0.8037 - accuracy: 0.6442 - val_loss: 0.8100 - val_accuracy: 0.6468\n",
      "Epoch 33/300\n",
      "2/2 [==============================] - 0s 166ms/step - loss: 0.7926 - accuracy: 0.6476 - val_loss: 0.8008 - val_accuracy: 0.6499\n",
      "Epoch 34/300\n",
      "2/2 [==============================] - 0s 166ms/step - loss: 0.7923 - accuracy: 0.6476 - val_loss: 0.8229 - val_accuracy: 0.6311\n",
      "Epoch 35/300\n",
      "2/2 [==============================] - 0s 171ms/step - loss: 0.7902 - accuracy: 0.6541 - val_loss: 0.7935 - val_accuracy: 0.6416\n",
      "Epoch 36/300\n",
      "2/2 [==============================] - 0s 165ms/step - loss: 0.7849 - accuracy: 0.6497 - val_loss: 0.7806 - val_accuracy: 0.6562\n",
      "Epoch 37/300\n",
      "2/2 [==============================] - 0s 170ms/step - loss: 0.7611 - accuracy: 0.6651 - val_loss: 0.8085 - val_accuracy: 0.6270\n",
      "Epoch 38/300\n",
      "2/2 [==============================] - 0s 175ms/step - loss: 0.7775 - accuracy: 0.6641 - val_loss: 0.7673 - val_accuracy: 0.6625\n",
      "Epoch 39/300\n",
      "2/2 [==============================] - 0s 171ms/step - loss: 0.7440 - accuracy: 0.6706 - val_loss: 0.7668 - val_accuracy: 0.6708\n",
      "Epoch 40/300\n",
      "2/2 [==============================] - 0s 172ms/step - loss: 0.7394 - accuracy: 0.6774 - val_loss: 0.7736 - val_accuracy: 0.6552\n",
      "Epoch 41/300\n",
      "2/2 [==============================] - 0s 171ms/step - loss: 0.7495 - accuracy: 0.6693 - val_loss: 0.7520 - val_accuracy: 0.6750\n",
      "Epoch 42/300\n",
      "2/2 [==============================] - 0s 173ms/step - loss: 0.7326 - accuracy: 0.6742 - val_loss: 0.7707 - val_accuracy: 0.6552\n",
      "Epoch 43/300\n",
      "2/2 [==============================] - 0s 174ms/step - loss: 0.7370 - accuracy: 0.6816 - val_loss: 0.7462 - val_accuracy: 0.6677\n",
      "Epoch 44/300\n",
      "2/2 [==============================] - 0s 168ms/step - loss: 0.7071 - accuracy: 0.6917 - val_loss: 0.7449 - val_accuracy: 0.6750\n",
      "Epoch 45/300\n",
      "2/2 [==============================] - 0s 174ms/step - loss: 0.7222 - accuracy: 0.6868 - val_loss: 0.7382 - val_accuracy: 0.6719\n",
      "Epoch 46/300\n",
      "2/2 [==============================] - 0s 169ms/step - loss: 0.7041 - accuracy: 0.6910 - val_loss: 0.7240 - val_accuracy: 0.6907\n",
      "Epoch 47/300\n",
      "2/2 [==============================] - 0s 171ms/step - loss: 0.6937 - accuracy: 0.7066 - val_loss: 0.7653 - val_accuracy: 0.6583\n",
      "Epoch 48/300\n",
      "2/2 [==============================] - 0s 169ms/step - loss: 0.7372 - accuracy: 0.6771 - val_loss: 0.7201 - val_accuracy: 0.6938\n",
      "Epoch 49/300\n",
      "2/2 [==============================] - 0s 175ms/step - loss: 0.6822 - accuracy: 0.7168 - val_loss: 0.7265 - val_accuracy: 0.6917\n",
      "Epoch 50/300\n",
      "2/2 [==============================] - 0s 171ms/step - loss: 0.6818 - accuracy: 0.7064 - val_loss: 0.7137 - val_accuracy: 0.7011\n",
      "Epoch 51/300\n",
      "2/2 [==============================] - 0s 170ms/step - loss: 0.6691 - accuracy: 0.7184 - val_loss: 0.7140 - val_accuracy: 0.6886\n",
      "Epoch 52/300\n",
      "2/2 [==============================] - 0s 175ms/step - loss: 0.6791 - accuracy: 0.7160 - val_loss: 0.7003 - val_accuracy: 0.7022\n",
      "Epoch 53/300\n",
      "2/2 [==============================] - 0s 169ms/step - loss: 0.6530 - accuracy: 0.7294 - val_loss: 0.7103 - val_accuracy: 0.7032\n",
      "Epoch 54/300\n",
      "2/2 [==============================] - 0s 168ms/step - loss: 0.6590 - accuracy: 0.7234 - val_loss: 0.6896 - val_accuracy: 0.7085\n",
      "Epoch 55/300\n",
      "2/2 [==============================] - 0s 167ms/step - loss: 0.6511 - accuracy: 0.7317 - val_loss: 0.7088 - val_accuracy: 0.6980\n",
      "Epoch 56/300\n",
      "2/2 [==============================] - 0s 169ms/step - loss: 0.6591 - accuracy: 0.7119 - val_loss: 0.6986 - val_accuracy: 0.7053\n",
      "Epoch 57/300\n",
      "2/2 [==============================] - 0s 170ms/step - loss: 0.6478 - accuracy: 0.7247 - val_loss: 0.6812 - val_accuracy: 0.7158\n",
      "Epoch 58/300\n",
      "2/2 [==============================] - 0s 165ms/step - loss: 0.6346 - accuracy: 0.7317 - val_loss: 0.6779 - val_accuracy: 0.7179\n",
      "Epoch 59/300\n",
      "2/2 [==============================] - 0s 167ms/step - loss: 0.6249 - accuracy: 0.7380 - val_loss: 0.6977 - val_accuracy: 0.7053\n",
      "Epoch 60/300\n",
      "2/2 [==============================] - 0s 176ms/step - loss: 0.6289 - accuracy: 0.7362 - val_loss: 0.6870 - val_accuracy: 0.7053\n",
      "Epoch 61/300\n",
      "2/2 [==============================] - 0s 178ms/step - loss: 0.6343 - accuracy: 0.7325 - val_loss: 0.6883 - val_accuracy: 0.7179\n",
      "Epoch 62/300\n",
      "2/2 [==============================] - 0s 168ms/step - loss: 0.6339 - accuracy: 0.7375 - val_loss: 0.6750 - val_accuracy: 0.7179\n",
      "Epoch 63/300\n",
      "2/2 [==============================] - 0s 168ms/step - loss: 0.6112 - accuracy: 0.7526 - val_loss: 0.6690 - val_accuracy: 0.7231\n",
      "Epoch 64/300\n",
      "2/2 [==============================] - 0s 171ms/step - loss: 0.6136 - accuracy: 0.7456 - val_loss: 0.6670 - val_accuracy: 0.7294\n",
      "Epoch 65/300\n",
      "2/2 [==============================] - 0s 170ms/step - loss: 0.6076 - accuracy: 0.7443 - val_loss: 0.6642 - val_accuracy: 0.7126\n",
      "Epoch 66/300\n",
      "2/2 [==============================] - 0s 170ms/step - loss: 0.6016 - accuracy: 0.7539 - val_loss: 0.6692 - val_accuracy: 0.7200\n",
      "Epoch 67/300\n",
      "2/2 [==============================] - 0s 176ms/step - loss: 0.6187 - accuracy: 0.7443 - val_loss: 0.7120 - val_accuracy: 0.7095\n",
      "Epoch 68/300\n",
      "2/2 [==============================] - 0s 170ms/step - loss: 0.6272 - accuracy: 0.7348 - val_loss: 0.6842 - val_accuracy: 0.7074\n",
      "Epoch 69/300\n",
      "2/2 [==============================] - 0s 169ms/step - loss: 0.6326 - accuracy: 0.7362 - val_loss: 0.6693 - val_accuracy: 0.7231\n",
      "Epoch 70/300\n",
      "2/2 [==============================] - 0s 179ms/step - loss: 0.6366 - accuracy: 0.7299 - val_loss: 0.6550 - val_accuracy: 0.7231\n",
      "Epoch 71/300\n",
      "2/2 [==============================] - 0s 175ms/step - loss: 0.6218 - accuracy: 0.7403 - val_loss: 0.6743 - val_accuracy: 0.7158\n",
      "Epoch 72/300\n",
      "2/2 [==============================] - 0s 170ms/step - loss: 0.5946 - accuracy: 0.7537 - val_loss: 0.6745 - val_accuracy: 0.7106\n",
      "Epoch 73/300\n",
      "2/2 [==============================] - 0s 168ms/step - loss: 0.5952 - accuracy: 0.7524 - val_loss: 0.6743 - val_accuracy: 0.7200\n",
      "Epoch 74/300\n",
      "2/2 [==============================] - 0s 183ms/step - loss: 0.5925 - accuracy: 0.7581 - val_loss: 0.6522 - val_accuracy: 0.7241\n",
      "Epoch 75/300\n",
      "2/2 [==============================] - 0s 174ms/step - loss: 0.5798 - accuracy: 0.7612 - val_loss: 0.6446 - val_accuracy: 0.7231\n",
      "Epoch 76/300\n",
      "2/2 [==============================] - 0s 172ms/step - loss: 0.5716 - accuracy: 0.7748 - val_loss: 0.6456 - val_accuracy: 0.7315\n",
      "Epoch 77/300\n",
      "2/2 [==============================] - 0s 178ms/step - loss: 0.5663 - accuracy: 0.7701 - val_loss: 0.6432 - val_accuracy: 0.7273\n",
      "Epoch 78/300\n",
      "2/2 [==============================] - 0s 172ms/step - loss: 0.5571 - accuracy: 0.7727 - val_loss: 0.6379 - val_accuracy: 0.7325\n",
      "Epoch 79/300\n",
      "2/2 [==============================] - 0s 170ms/step - loss: 0.5586 - accuracy: 0.7756 - val_loss: 0.6434 - val_accuracy: 0.7471\n",
      "Epoch 80/300\n",
      "2/2 [==============================] - 0s 170ms/step - loss: 0.5530 - accuracy: 0.7798 - val_loss: 0.6358 - val_accuracy: 0.7294\n",
      "Epoch 81/300\n",
      "2/2 [==============================] - 0s 171ms/step - loss: 0.5602 - accuracy: 0.7693 - val_loss: 0.6241 - val_accuracy: 0.7356\n",
      "Epoch 82/300\n",
      "2/2 [==============================] - 0s 177ms/step - loss: 0.5459 - accuracy: 0.7756 - val_loss: 0.6363 - val_accuracy: 0.7398\n",
      "Epoch 83/300\n",
      "2/2 [==============================] - 0s 178ms/step - loss: 0.5414 - accuracy: 0.7866 - val_loss: 0.6229 - val_accuracy: 0.7377\n",
      "Epoch 84/300\n",
      "2/2 [==============================] - 0s 179ms/step - loss: 0.5518 - accuracy: 0.7746 - val_loss: 0.6153 - val_accuracy: 0.7346\n",
      "Epoch 85/300\n",
      "2/2 [==============================] - 0s 175ms/step - loss: 0.5349 - accuracy: 0.7887 - val_loss: 0.6396 - val_accuracy: 0.7398\n",
      "Epoch 86/300\n",
      "2/2 [==============================] - 0s 174ms/step - loss: 0.5335 - accuracy: 0.7887 - val_loss: 0.6092 - val_accuracy: 0.7388\n",
      "Epoch 87/300\n",
      "2/2 [==============================] - 0s 174ms/step - loss: 0.5377 - accuracy: 0.7842 - val_loss: 0.6038 - val_accuracy: 0.7503\n",
      "Epoch 88/300\n",
      "2/2 [==============================] - 0s 177ms/step - loss: 0.5260 - accuracy: 0.7858 - val_loss: 0.6523 - val_accuracy: 0.7409\n",
      "Epoch 89/300\n",
      "2/2 [==============================] - 0s 179ms/step - loss: 0.5448 - accuracy: 0.7806 - val_loss: 0.6142 - val_accuracy: 0.7461\n",
      "Epoch 90/300\n",
      "2/2 [==============================] - 0s 184ms/step - loss: 0.5296 - accuracy: 0.7871 - val_loss: 0.6052 - val_accuracy: 0.7565\n",
      "Epoch 91/300\n",
      "2/2 [==============================] - 0s 175ms/step - loss: 0.5250 - accuracy: 0.7918 - val_loss: 0.6141 - val_accuracy: 0.7492\n",
      "Epoch 92/300\n",
      "2/2 [==============================] - 0s 176ms/step - loss: 0.5204 - accuracy: 0.7887 - val_loss: 0.5881 - val_accuracy: 0.7492\n",
      "Epoch 93/300\n",
      "2/2 [==============================] - 0s 178ms/step - loss: 0.5061 - accuracy: 0.7931 - val_loss: 0.6057 - val_accuracy: 0.7628\n",
      "Epoch 94/300\n",
      "2/2 [==============================] - 0s 182ms/step - loss: 0.5154 - accuracy: 0.7918 - val_loss: 0.6138 - val_accuracy: 0.7513\n",
      "Epoch 95/300\n",
      "2/2 [==============================] - 0s 171ms/step - loss: 0.5066 - accuracy: 0.7999 - val_loss: 0.6055 - val_accuracy: 0.7471\n",
      "Epoch 96/300\n",
      "2/2 [==============================] - 0s 175ms/step - loss: 0.5142 - accuracy: 0.7900 - val_loss: 0.5859 - val_accuracy: 0.7513\n",
      "Epoch 97/300\n",
      "2/2 [==============================] - 0s 173ms/step - loss: 0.4830 - accuracy: 0.8098 - val_loss: 0.5877 - val_accuracy: 0.7732\n",
      "Epoch 98/300\n",
      "2/2 [==============================] - 0s 185ms/step - loss: 0.4967 - accuracy: 0.8080 - val_loss: 0.5756 - val_accuracy: 0.7670\n",
      "Epoch 99/300\n",
      "2/2 [==============================] - 0s 174ms/step - loss: 0.4789 - accuracy: 0.8148 - val_loss: 0.5809 - val_accuracy: 0.7753\n",
      "Epoch 100/300\n",
      "2/2 [==============================] - 0s 175ms/step - loss: 0.4836 - accuracy: 0.8090 - val_loss: 0.5654 - val_accuracy: 0.7753\n",
      "Epoch 101/300\n",
      "2/2 [==============================] - 0s 175ms/step - loss: 0.4818 - accuracy: 0.8143 - val_loss: 0.5686 - val_accuracy: 0.7638\n",
      "Epoch 102/300\n",
      "2/2 [==============================] - 0s 174ms/step - loss: 0.4753 - accuracy: 0.8114 - val_loss: 0.6008 - val_accuracy: 0.7680\n",
      "Epoch 103/300\n",
      "2/2 [==============================] - 0s 174ms/step - loss: 0.4806 - accuracy: 0.8062 - val_loss: 0.5760 - val_accuracy: 0.7764\n",
      "Epoch 104/300\n",
      "2/2 [==============================] - 0s 177ms/step - loss: 0.4882 - accuracy: 0.8015 - val_loss: 0.5788 - val_accuracy: 0.7670\n",
      "Epoch 105/300\n",
      "2/2 [==============================] - 0s 176ms/step - loss: 0.4762 - accuracy: 0.8096 - val_loss: 0.6007 - val_accuracy: 0.7638\n",
      "Epoch 106/300\n",
      "2/2 [==============================] - 0s 178ms/step - loss: 0.4735 - accuracy: 0.8041 - val_loss: 0.5592 - val_accuracy: 0.7691\n",
      "Epoch 107/300\n",
      "2/2 [==============================] - 0s 173ms/step - loss: 0.4735 - accuracy: 0.8156 - val_loss: 0.5524 - val_accuracy: 0.7764\n",
      "Epoch 108/300\n",
      "2/2 [==============================] - 0s 173ms/step - loss: 0.4591 - accuracy: 0.8226 - val_loss: 0.5474 - val_accuracy: 0.7732\n",
      "Epoch 109/300\n",
      "2/2 [==============================] - 0s 175ms/step - loss: 0.4465 - accuracy: 0.8258 - val_loss: 0.5502 - val_accuracy: 0.7785\n",
      "Epoch 110/300\n",
      "2/2 [==============================] - 0s 173ms/step - loss: 0.4289 - accuracy: 0.8284 - val_loss: 0.5494 - val_accuracy: 0.7816\n",
      "Epoch 111/300\n",
      "2/2 [==============================] - 0s 180ms/step - loss: 0.4397 - accuracy: 0.8255 - val_loss: 0.5377 - val_accuracy: 0.7910\n",
      "Epoch 112/300\n",
      "2/2 [==============================] - 0s 172ms/step - loss: 0.4203 - accuracy: 0.8349 - val_loss: 0.5419 - val_accuracy: 0.7910\n",
      "Epoch 113/300\n",
      "2/2 [==============================] - 0s 182ms/step - loss: 0.4252 - accuracy: 0.8378 - val_loss: 0.5214 - val_accuracy: 0.7952\n",
      "Epoch 114/300\n",
      "2/2 [==============================] - 0s 178ms/step - loss: 0.4139 - accuracy: 0.8336 - val_loss: 0.5153 - val_accuracy: 0.7858\n",
      "Epoch 115/300\n",
      "2/2 [==============================] - 0s 169ms/step - loss: 0.3998 - accuracy: 0.8454 - val_loss: 0.5359 - val_accuracy: 0.7868\n",
      "Epoch 116/300\n",
      "2/2 [==============================] - 0s 176ms/step - loss: 0.4128 - accuracy: 0.8404 - val_loss: 0.5102 - val_accuracy: 0.7983\n",
      "Epoch 117/300\n",
      "2/2 [==============================] - 0s 173ms/step - loss: 0.4020 - accuracy: 0.8396 - val_loss: 0.5071 - val_accuracy: 0.7973\n",
      "Epoch 118/300\n",
      "2/2 [==============================] - 0s 175ms/step - loss: 0.3866 - accuracy: 0.8532 - val_loss: 0.5024 - val_accuracy: 0.7910\n",
      "Epoch 119/300\n",
      "2/2 [==============================] - 0s 173ms/step - loss: 0.3882 - accuracy: 0.8440 - val_loss: 0.5009 - val_accuracy: 0.8067\n",
      "Epoch 120/300\n",
      "2/2 [==============================] - 0s 177ms/step - loss: 0.3837 - accuracy: 0.8506 - val_loss: 0.4837 - val_accuracy: 0.8067\n",
      "Epoch 121/300\n",
      "2/2 [==============================] - 0s 171ms/step - loss: 0.3703 - accuracy: 0.8602 - val_loss: 0.4942 - val_accuracy: 0.8140\n",
      "Epoch 122/300\n",
      "2/2 [==============================] - 0s 175ms/step - loss: 0.3815 - accuracy: 0.8508 - val_loss: 0.4840 - val_accuracy: 0.8119\n",
      "Epoch 123/300\n",
      "2/2 [==============================] - 0s 181ms/step - loss: 0.3660 - accuracy: 0.8548 - val_loss: 0.4778 - val_accuracy: 0.8077\n",
      "Epoch 124/300\n",
      "2/2 [==============================] - 0s 169ms/step - loss: 0.3855 - accuracy: 0.8542 - val_loss: 0.4984 - val_accuracy: 0.8130\n",
      "Epoch 125/300\n",
      "2/2 [==============================] - 0s 174ms/step - loss: 0.3895 - accuracy: 0.8456 - val_loss: 0.4793 - val_accuracy: 0.8036\n",
      "Epoch 126/300\n",
      "2/2 [==============================] - 0s 182ms/step - loss: 0.3641 - accuracy: 0.8605 - val_loss: 0.4856 - val_accuracy: 0.8140\n",
      "Epoch 127/300\n",
      "2/2 [==============================] - 0s 176ms/step - loss: 0.3562 - accuracy: 0.8652 - val_loss: 0.4664 - val_accuracy: 0.8161\n",
      "Epoch 128/300\n",
      "2/2 [==============================] - 0s 170ms/step - loss: 0.3370 - accuracy: 0.8670 - val_loss: 0.4639 - val_accuracy: 0.8171\n",
      "Epoch 129/300\n",
      "2/2 [==============================] - 0s 168ms/step - loss: 0.3449 - accuracy: 0.8618 - val_loss: 0.4666 - val_accuracy: 0.8182\n",
      "Epoch 130/300\n",
      "2/2 [==============================] - 0s 175ms/step - loss: 0.3402 - accuracy: 0.8670 - val_loss: 0.4722 - val_accuracy: 0.8109\n",
      "Epoch 131/300\n",
      "2/2 [==============================] - 0s 183ms/step - loss: 0.3311 - accuracy: 0.8720 - val_loss: 0.4686 - val_accuracy: 0.8234\n",
      "Epoch 132/300\n",
      "2/2 [==============================] - 0s 180ms/step - loss: 0.3430 - accuracy: 0.8642 - val_loss: 0.4553 - val_accuracy: 0.8213\n",
      "Epoch 133/300\n",
      "2/2 [==============================] - 0s 177ms/step - loss: 0.3269 - accuracy: 0.8738 - val_loss: 0.4810 - val_accuracy: 0.8130\n",
      "Epoch 134/300\n",
      "2/2 [==============================] - 0s 182ms/step - loss: 0.3498 - accuracy: 0.8610 - val_loss: 0.4786 - val_accuracy: 0.8109\n",
      "Epoch 135/300\n",
      "2/2 [==============================] - 0s 177ms/step - loss: 0.3200 - accuracy: 0.8767 - val_loss: 0.4742 - val_accuracy: 0.8109\n",
      "Epoch 136/300\n",
      "2/2 [==============================] - 0s 178ms/step - loss: 0.3155 - accuracy: 0.8780 - val_loss: 0.5041 - val_accuracy: 0.8098\n",
      "Epoch 137/300\n",
      "2/2 [==============================] - 0s 184ms/step - loss: 0.3319 - accuracy: 0.8712 - val_loss: 0.5912 - val_accuracy: 0.7816\n",
      "Epoch 138/300\n",
      "2/2 [==============================] - 0s 177ms/step - loss: 0.4529 - accuracy: 0.8093 - val_loss: 0.6498 - val_accuracy: 0.7659\n",
      "Epoch 139/300\n",
      "2/2 [==============================] - 0s 175ms/step - loss: 0.4703 - accuracy: 0.8083 - val_loss: 0.5723 - val_accuracy: 0.7670\n",
      "Epoch 140/300\n",
      "2/2 [==============================] - 0s 172ms/step - loss: 0.4203 - accuracy: 0.8245 - val_loss: 0.6164 - val_accuracy: 0.7555\n",
      "Epoch 141/300\n",
      "2/2 [==============================] - 0s 176ms/step - loss: 0.4564 - accuracy: 0.8069 - val_loss: 0.4921 - val_accuracy: 0.7952\n",
      "Epoch 142/300\n",
      "2/2 [==============================] - 0s 178ms/step - loss: 0.3724 - accuracy: 0.8542 - val_loss: 0.5058 - val_accuracy: 0.8004\n",
      "Epoch 143/300\n",
      "2/2 [==============================] - 0s 176ms/step - loss: 0.3543 - accuracy: 0.8568 - val_loss: 0.5445 - val_accuracy: 0.7858\n",
      "Epoch 144/300\n",
      "2/2 [==============================] - 0s 181ms/step - loss: 0.3623 - accuracy: 0.8542 - val_loss: 0.4736 - val_accuracy: 0.8182\n",
      "Epoch 145/300\n",
      "2/2 [==============================] - 0s 175ms/step - loss: 0.3416 - accuracy: 0.8642 - val_loss: 0.4712 - val_accuracy: 0.8234\n",
      "Epoch 146/300\n",
      "2/2 [==============================] - 0s 179ms/step - loss: 0.3215 - accuracy: 0.8751 - val_loss: 0.4849 - val_accuracy: 0.8234\n",
      "Epoch 147/300\n",
      "2/2 [==============================] - 0s 174ms/step - loss: 0.3145 - accuracy: 0.8749 - val_loss: 0.4686 - val_accuracy: 0.8203\n",
      "Epoch 148/300\n",
      "2/2 [==============================] - 0s 184ms/step - loss: 0.3051 - accuracy: 0.8801 - val_loss: 0.4582 - val_accuracy: 0.8255\n",
      "Epoch 149/300\n",
      "2/2 [==============================] - 0s 174ms/step - loss: 0.3035 - accuracy: 0.8822 - val_loss: 0.4575 - val_accuracy: 0.8224\n",
      "Epoch 150/300\n",
      "2/2 [==============================] - 0s 178ms/step - loss: 0.2879 - accuracy: 0.8843 - val_loss: 0.4573 - val_accuracy: 0.8161\n",
      "Epoch 151/300\n",
      "2/2 [==============================] - 0s 181ms/step - loss: 0.2861 - accuracy: 0.8858 - val_loss: 0.4627 - val_accuracy: 0.8265\n",
      "Epoch 152/300\n",
      "2/2 [==============================] - 0s 219ms/step - loss: 0.2767 - accuracy: 0.8856 - val_loss: 0.4638 - val_accuracy: 0.8276\n",
      "Epoch 153/300\n",
      "2/2 [==============================] - 0s 191ms/step - loss: 0.2809 - accuracy: 0.8892 - val_loss: 0.4616 - val_accuracy: 0.8297\n",
      "Epoch 154/300\n",
      "1/2 [==============>...............] - ETA: 0s - loss: 0.2731 - accuracy: 0.8896"
     ]
    },
    {
     "ename": "KeyboardInterrupt",
     "evalue": "",
     "output_type": "error",
     "traceback": [
      "\u001B[0;31m---------------------------------------------------------------------------\u001B[0m",
      "\u001B[0;31mKeyboardInterrupt\u001B[0m                         Traceback (most recent call last)",
      "Cell \u001B[0;32mIn[5], line 1\u001B[0m\n\u001B[0;32m----> 1\u001B[0m history \u001B[38;5;241m=\u001B[39m \u001B[43mmodel\u001B[49m\u001B[38;5;241;43m.\u001B[39;49m\u001B[43mfit\u001B[49m\u001B[43m(\u001B[49m\u001B[43mX_train\u001B[49m\u001B[38;5;241;43m.\u001B[39;49m\u001B[43mastype\u001B[49m\u001B[43m(\u001B[49m\u001B[38;5;124;43m'\u001B[39;49m\u001B[38;5;124;43mfloat32\u001B[39;49m\u001B[38;5;124;43m'\u001B[39;49m\u001B[43m)\u001B[49m\u001B[43m,\u001B[49m\u001B[43m \u001B[49m\u001B[43my_train\u001B[49m\u001B[38;5;241;43m.\u001B[39;49m\u001B[43mastype\u001B[49m\u001B[43m(\u001B[49m\u001B[38;5;124;43m'\u001B[39;49m\u001B[38;5;124;43mfloat32\u001B[39;49m\u001B[38;5;124;43m'\u001B[39;49m\u001B[43m)\u001B[49m\u001B[43m,\u001B[49m\u001B[43m \u001B[49m\u001B[43mvalidation_data\u001B[49m\u001B[38;5;241;43m=\u001B[39;49m\u001B[43m(\u001B[49m\u001B[43mX_val\u001B[49m\u001B[43m,\u001B[49m\u001B[43m \u001B[49m\u001B[43my_val\u001B[49m\u001B[43m)\u001B[49m\u001B[43m,\u001B[49m\u001B[43m \u001B[49m\u001B[43mepochs\u001B[49m\u001B[38;5;241;43m=\u001B[39;49m\u001B[38;5;241;43m300\u001B[39;49m\u001B[43m,\u001B[49m\u001B[43m \u001B[49m\u001B[43mbatch_size\u001B[49m\u001B[38;5;241;43m=\u001B[39;49m\u001B[38;5;241;43m2048\u001B[39;49m\u001B[43m,\u001B[49m\u001B[43mverbose\u001B[49m\u001B[38;5;241;43m=\u001B[39;49m\u001B[38;5;241;43m1\u001B[39;49m\u001B[43m)\u001B[49m\n",
      "File \u001B[0;32m/Library/Frameworks/Python.framework/Versions/3.9/lib/python3.9/site-packages/keras/src/utils/traceback_utils.py:65\u001B[0m, in \u001B[0;36mfilter_traceback.<locals>.error_handler\u001B[0;34m(*args, **kwargs)\u001B[0m\n\u001B[1;32m     63\u001B[0m filtered_tb \u001B[38;5;241m=\u001B[39m \u001B[38;5;28;01mNone\u001B[39;00m\n\u001B[1;32m     64\u001B[0m \u001B[38;5;28;01mtry\u001B[39;00m:\n\u001B[0;32m---> 65\u001B[0m     \u001B[38;5;28;01mreturn\u001B[39;00m \u001B[43mfn\u001B[49m\u001B[43m(\u001B[49m\u001B[38;5;241;43m*\u001B[39;49m\u001B[43margs\u001B[49m\u001B[43m,\u001B[49m\u001B[43m \u001B[49m\u001B[38;5;241;43m*\u001B[39;49m\u001B[38;5;241;43m*\u001B[39;49m\u001B[43mkwargs\u001B[49m\u001B[43m)\u001B[49m\n\u001B[1;32m     66\u001B[0m \u001B[38;5;28;01mexcept\u001B[39;00m \u001B[38;5;167;01mException\u001B[39;00m \u001B[38;5;28;01mas\u001B[39;00m e:\n\u001B[1;32m     67\u001B[0m     filtered_tb \u001B[38;5;241m=\u001B[39m _process_traceback_frames(e\u001B[38;5;241m.\u001B[39m__traceback__)\n",
      "File \u001B[0;32m/Library/Frameworks/Python.framework/Versions/3.9/lib/python3.9/site-packages/keras/src/engine/training.py:1807\u001B[0m, in \u001B[0;36mModel.fit\u001B[0;34m(self, x, y, batch_size, epochs, verbose, callbacks, validation_split, validation_data, shuffle, class_weight, sample_weight, initial_epoch, steps_per_epoch, validation_steps, validation_batch_size, validation_freq, max_queue_size, workers, use_multiprocessing)\u001B[0m\n\u001B[1;32m   1799\u001B[0m \u001B[38;5;28;01mwith\u001B[39;00m tf\u001B[38;5;241m.\u001B[39mprofiler\u001B[38;5;241m.\u001B[39mexperimental\u001B[38;5;241m.\u001B[39mTrace(\n\u001B[1;32m   1800\u001B[0m     \u001B[38;5;124m\"\u001B[39m\u001B[38;5;124mtrain\u001B[39m\u001B[38;5;124m\"\u001B[39m,\n\u001B[1;32m   1801\u001B[0m     epoch_num\u001B[38;5;241m=\u001B[39mepoch,\n\u001B[0;32m   (...)\u001B[0m\n\u001B[1;32m   1804\u001B[0m     _r\u001B[38;5;241m=\u001B[39m\u001B[38;5;241m1\u001B[39m,\n\u001B[1;32m   1805\u001B[0m ):\n\u001B[1;32m   1806\u001B[0m     callbacks\u001B[38;5;241m.\u001B[39mon_train_batch_begin(step)\n\u001B[0;32m-> 1807\u001B[0m     tmp_logs \u001B[38;5;241m=\u001B[39m \u001B[38;5;28;43mself\u001B[39;49m\u001B[38;5;241;43m.\u001B[39;49m\u001B[43mtrain_function\u001B[49m\u001B[43m(\u001B[49m\u001B[43miterator\u001B[49m\u001B[43m)\u001B[49m\n\u001B[1;32m   1808\u001B[0m     \u001B[38;5;28;01mif\u001B[39;00m data_handler\u001B[38;5;241m.\u001B[39mshould_sync:\n\u001B[1;32m   1809\u001B[0m         context\u001B[38;5;241m.\u001B[39masync_wait()\n",
      "File \u001B[0;32m/Library/Frameworks/Python.framework/Versions/3.9/lib/python3.9/site-packages/tensorflow/python/util/traceback_utils.py:150\u001B[0m, in \u001B[0;36mfilter_traceback.<locals>.error_handler\u001B[0;34m(*args, **kwargs)\u001B[0m\n\u001B[1;32m    148\u001B[0m filtered_tb \u001B[38;5;241m=\u001B[39m \u001B[38;5;28;01mNone\u001B[39;00m\n\u001B[1;32m    149\u001B[0m \u001B[38;5;28;01mtry\u001B[39;00m:\n\u001B[0;32m--> 150\u001B[0m   \u001B[38;5;28;01mreturn\u001B[39;00m \u001B[43mfn\u001B[49m\u001B[43m(\u001B[49m\u001B[38;5;241;43m*\u001B[39;49m\u001B[43margs\u001B[49m\u001B[43m,\u001B[49m\u001B[43m \u001B[49m\u001B[38;5;241;43m*\u001B[39;49m\u001B[38;5;241;43m*\u001B[39;49m\u001B[43mkwargs\u001B[49m\u001B[43m)\u001B[49m\n\u001B[1;32m    151\u001B[0m \u001B[38;5;28;01mexcept\u001B[39;00m \u001B[38;5;167;01mException\u001B[39;00m \u001B[38;5;28;01mas\u001B[39;00m e:\n\u001B[1;32m    152\u001B[0m   filtered_tb \u001B[38;5;241m=\u001B[39m _process_traceback_frames(e\u001B[38;5;241m.\u001B[39m__traceback__)\n",
      "File \u001B[0;32m/Library/Frameworks/Python.framework/Versions/3.9/lib/python3.9/site-packages/tensorflow/python/eager/polymorphic_function/polymorphic_function.py:832\u001B[0m, in \u001B[0;36mFunction.__call__\u001B[0;34m(self, *args, **kwds)\u001B[0m\n\u001B[1;32m    829\u001B[0m compiler \u001B[38;5;241m=\u001B[39m \u001B[38;5;124m\"\u001B[39m\u001B[38;5;124mxla\u001B[39m\u001B[38;5;124m\"\u001B[39m \u001B[38;5;28;01mif\u001B[39;00m \u001B[38;5;28mself\u001B[39m\u001B[38;5;241m.\u001B[39m_jit_compile \u001B[38;5;28;01melse\u001B[39;00m \u001B[38;5;124m\"\u001B[39m\u001B[38;5;124mnonXla\u001B[39m\u001B[38;5;124m\"\u001B[39m\n\u001B[1;32m    831\u001B[0m \u001B[38;5;28;01mwith\u001B[39;00m OptionalXlaContext(\u001B[38;5;28mself\u001B[39m\u001B[38;5;241m.\u001B[39m_jit_compile):\n\u001B[0;32m--> 832\u001B[0m   result \u001B[38;5;241m=\u001B[39m \u001B[38;5;28;43mself\u001B[39;49m\u001B[38;5;241;43m.\u001B[39;49m\u001B[43m_call\u001B[49m\u001B[43m(\u001B[49m\u001B[38;5;241;43m*\u001B[39;49m\u001B[43margs\u001B[49m\u001B[43m,\u001B[49m\u001B[43m \u001B[49m\u001B[38;5;241;43m*\u001B[39;49m\u001B[38;5;241;43m*\u001B[39;49m\u001B[43mkwds\u001B[49m\u001B[43m)\u001B[49m\n\u001B[1;32m    834\u001B[0m new_tracing_count \u001B[38;5;241m=\u001B[39m \u001B[38;5;28mself\u001B[39m\u001B[38;5;241m.\u001B[39mexperimental_get_tracing_count()\n\u001B[1;32m    835\u001B[0m without_tracing \u001B[38;5;241m=\u001B[39m (tracing_count \u001B[38;5;241m==\u001B[39m new_tracing_count)\n",
      "File \u001B[0;32m/Library/Frameworks/Python.framework/Versions/3.9/lib/python3.9/site-packages/tensorflow/python/eager/polymorphic_function/polymorphic_function.py:868\u001B[0m, in \u001B[0;36mFunction._call\u001B[0;34m(self, *args, **kwds)\u001B[0m\n\u001B[1;32m    865\u001B[0m   \u001B[38;5;28mself\u001B[39m\u001B[38;5;241m.\u001B[39m_lock\u001B[38;5;241m.\u001B[39mrelease()\n\u001B[1;32m    866\u001B[0m   \u001B[38;5;66;03m# In this case we have created variables on the first call, so we run the\u001B[39;00m\n\u001B[1;32m    867\u001B[0m   \u001B[38;5;66;03m# defunned version which is guaranteed to never create variables.\u001B[39;00m\n\u001B[0;32m--> 868\u001B[0m   \u001B[38;5;28;01mreturn\u001B[39;00m \u001B[43mtracing_compilation\u001B[49m\u001B[38;5;241;43m.\u001B[39;49m\u001B[43mcall_function\u001B[49m\u001B[43m(\u001B[49m\n\u001B[1;32m    869\u001B[0m \u001B[43m      \u001B[49m\u001B[43margs\u001B[49m\u001B[43m,\u001B[49m\u001B[43m \u001B[49m\u001B[43mkwds\u001B[49m\u001B[43m,\u001B[49m\u001B[43m \u001B[49m\u001B[38;5;28;43mself\u001B[39;49m\u001B[38;5;241;43m.\u001B[39;49m\u001B[43m_no_variable_creation_config\u001B[49m\n\u001B[1;32m    870\u001B[0m \u001B[43m  \u001B[49m\u001B[43m)\u001B[49m\n\u001B[1;32m    871\u001B[0m \u001B[38;5;28;01melif\u001B[39;00m \u001B[38;5;28mself\u001B[39m\u001B[38;5;241m.\u001B[39m_variable_creation_config \u001B[38;5;129;01mis\u001B[39;00m \u001B[38;5;129;01mnot\u001B[39;00m \u001B[38;5;28;01mNone\u001B[39;00m:\n\u001B[1;32m    872\u001B[0m   \u001B[38;5;66;03m# Release the lock early so that multiple threads can perform the call\u001B[39;00m\n\u001B[1;32m    873\u001B[0m   \u001B[38;5;66;03m# in parallel.\u001B[39;00m\n\u001B[1;32m    874\u001B[0m   \u001B[38;5;28mself\u001B[39m\u001B[38;5;241m.\u001B[39m_lock\u001B[38;5;241m.\u001B[39mrelease()\n",
      "File \u001B[0;32m/Library/Frameworks/Python.framework/Versions/3.9/lib/python3.9/site-packages/tensorflow/python/eager/polymorphic_function/tracing_compilation.py:139\u001B[0m, in \u001B[0;36mcall_function\u001B[0;34m(args, kwargs, tracing_options)\u001B[0m\n\u001B[1;32m    137\u001B[0m bound_args \u001B[38;5;241m=\u001B[39m function\u001B[38;5;241m.\u001B[39mfunction_type\u001B[38;5;241m.\u001B[39mbind(\u001B[38;5;241m*\u001B[39margs, \u001B[38;5;241m*\u001B[39m\u001B[38;5;241m*\u001B[39mkwargs)\n\u001B[1;32m    138\u001B[0m flat_inputs \u001B[38;5;241m=\u001B[39m function\u001B[38;5;241m.\u001B[39mfunction_type\u001B[38;5;241m.\u001B[39munpack_inputs(bound_args)\n\u001B[0;32m--> 139\u001B[0m \u001B[38;5;28;01mreturn\u001B[39;00m \u001B[43mfunction\u001B[49m\u001B[38;5;241;43m.\u001B[39;49m\u001B[43m_call_flat\u001B[49m\u001B[43m(\u001B[49m\u001B[43m  \u001B[49m\u001B[38;5;66;43;03m# pylint: disable=protected-access\u001B[39;49;00m\n\u001B[1;32m    140\u001B[0m \u001B[43m    \u001B[49m\u001B[43mflat_inputs\u001B[49m\u001B[43m,\u001B[49m\u001B[43m \u001B[49m\u001B[43mcaptured_inputs\u001B[49m\u001B[38;5;241;43m=\u001B[39;49m\u001B[43mfunction\u001B[49m\u001B[38;5;241;43m.\u001B[39;49m\u001B[43mcaptured_inputs\u001B[49m\n\u001B[1;32m    141\u001B[0m \u001B[43m\u001B[49m\u001B[43m)\u001B[49m\n",
      "File \u001B[0;32m/Library/Frameworks/Python.framework/Versions/3.9/lib/python3.9/site-packages/tensorflow/python/eager/polymorphic_function/concrete_function.py:1323\u001B[0m, in \u001B[0;36mConcreteFunction._call_flat\u001B[0;34m(self, tensor_inputs, captured_inputs)\u001B[0m\n\u001B[1;32m   1319\u001B[0m possible_gradient_type \u001B[38;5;241m=\u001B[39m gradients_util\u001B[38;5;241m.\u001B[39mPossibleTapeGradientTypes(args)\n\u001B[1;32m   1320\u001B[0m \u001B[38;5;28;01mif\u001B[39;00m (possible_gradient_type \u001B[38;5;241m==\u001B[39m gradients_util\u001B[38;5;241m.\u001B[39mPOSSIBLE_GRADIENT_TYPES_NONE\n\u001B[1;32m   1321\u001B[0m     \u001B[38;5;129;01mand\u001B[39;00m executing_eagerly):\n\u001B[1;32m   1322\u001B[0m   \u001B[38;5;66;03m# No tape is watching; skip to running the function.\u001B[39;00m\n\u001B[0;32m-> 1323\u001B[0m   \u001B[38;5;28;01mreturn\u001B[39;00m \u001B[38;5;28;43mself\u001B[39;49m\u001B[38;5;241;43m.\u001B[39;49m\u001B[43m_inference_function\u001B[49m\u001B[38;5;241;43m.\u001B[39;49m\u001B[43mcall_preflattened\u001B[49m\u001B[43m(\u001B[49m\u001B[43margs\u001B[49m\u001B[43m)\u001B[49m\n\u001B[1;32m   1324\u001B[0m forward_backward \u001B[38;5;241m=\u001B[39m \u001B[38;5;28mself\u001B[39m\u001B[38;5;241m.\u001B[39m_select_forward_and_backward_functions(\n\u001B[1;32m   1325\u001B[0m     args,\n\u001B[1;32m   1326\u001B[0m     possible_gradient_type,\n\u001B[1;32m   1327\u001B[0m     executing_eagerly)\n\u001B[1;32m   1328\u001B[0m forward_function, args_with_tangents \u001B[38;5;241m=\u001B[39m forward_backward\u001B[38;5;241m.\u001B[39mforward()\n",
      "File \u001B[0;32m/Library/Frameworks/Python.framework/Versions/3.9/lib/python3.9/site-packages/tensorflow/python/eager/polymorphic_function/atomic_function.py:216\u001B[0m, in \u001B[0;36mAtomicFunction.call_preflattened\u001B[0;34m(self, args)\u001B[0m\n\u001B[1;32m    214\u001B[0m \u001B[38;5;28;01mdef\u001B[39;00m \u001B[38;5;21mcall_preflattened\u001B[39m(\u001B[38;5;28mself\u001B[39m, args: Sequence[core\u001B[38;5;241m.\u001B[39mTensor]) \u001B[38;5;241m-\u001B[39m\u001B[38;5;241m>\u001B[39m Any:\n\u001B[1;32m    215\u001B[0m   \u001B[38;5;124;03m\"\"\"Calls with flattened tensor inputs and returns the structured output.\"\"\"\u001B[39;00m\n\u001B[0;32m--> 216\u001B[0m   flat_outputs \u001B[38;5;241m=\u001B[39m \u001B[38;5;28;43mself\u001B[39;49m\u001B[38;5;241;43m.\u001B[39;49m\u001B[43mcall_flat\u001B[49m\u001B[43m(\u001B[49m\u001B[38;5;241;43m*\u001B[39;49m\u001B[43margs\u001B[49m\u001B[43m)\u001B[49m\n\u001B[1;32m    217\u001B[0m   \u001B[38;5;28;01mreturn\u001B[39;00m \u001B[38;5;28mself\u001B[39m\u001B[38;5;241m.\u001B[39mfunction_type\u001B[38;5;241m.\u001B[39mpack_output(flat_outputs)\n",
      "File \u001B[0;32m/Library/Frameworks/Python.framework/Versions/3.9/lib/python3.9/site-packages/tensorflow/python/eager/polymorphic_function/atomic_function.py:251\u001B[0m, in \u001B[0;36mAtomicFunction.call_flat\u001B[0;34m(self, *args)\u001B[0m\n\u001B[1;32m    249\u001B[0m \u001B[38;5;28;01mwith\u001B[39;00m record\u001B[38;5;241m.\u001B[39mstop_recording():\n\u001B[1;32m    250\u001B[0m   \u001B[38;5;28;01mif\u001B[39;00m \u001B[38;5;28mself\u001B[39m\u001B[38;5;241m.\u001B[39m_bound_context\u001B[38;5;241m.\u001B[39mexecuting_eagerly():\n\u001B[0;32m--> 251\u001B[0m     outputs \u001B[38;5;241m=\u001B[39m \u001B[38;5;28;43mself\u001B[39;49m\u001B[38;5;241;43m.\u001B[39;49m\u001B[43m_bound_context\u001B[49m\u001B[38;5;241;43m.\u001B[39;49m\u001B[43mcall_function\u001B[49m\u001B[43m(\u001B[49m\n\u001B[1;32m    252\u001B[0m \u001B[43m        \u001B[49m\u001B[38;5;28;43mself\u001B[39;49m\u001B[38;5;241;43m.\u001B[39;49m\u001B[43mname\u001B[49m\u001B[43m,\u001B[49m\n\u001B[1;32m    253\u001B[0m \u001B[43m        \u001B[49m\u001B[38;5;28;43mlist\u001B[39;49m\u001B[43m(\u001B[49m\u001B[43margs\u001B[49m\u001B[43m)\u001B[49m\u001B[43m,\u001B[49m\n\u001B[1;32m    254\u001B[0m \u001B[43m        \u001B[49m\u001B[38;5;28;43mlen\u001B[39;49m\u001B[43m(\u001B[49m\u001B[38;5;28;43mself\u001B[39;49m\u001B[38;5;241;43m.\u001B[39;49m\u001B[43mfunction_type\u001B[49m\u001B[38;5;241;43m.\u001B[39;49m\u001B[43mflat_outputs\u001B[49m\u001B[43m)\u001B[49m\u001B[43m,\u001B[49m\n\u001B[1;32m    255\u001B[0m \u001B[43m    \u001B[49m\u001B[43m)\u001B[49m\n\u001B[1;32m    256\u001B[0m   \u001B[38;5;28;01melse\u001B[39;00m:\n\u001B[1;32m    257\u001B[0m     outputs \u001B[38;5;241m=\u001B[39m make_call_op_in_graph(\n\u001B[1;32m    258\u001B[0m         \u001B[38;5;28mself\u001B[39m,\n\u001B[1;32m    259\u001B[0m         \u001B[38;5;28mlist\u001B[39m(args),\n\u001B[1;32m    260\u001B[0m         \u001B[38;5;28mself\u001B[39m\u001B[38;5;241m.\u001B[39m_bound_context\u001B[38;5;241m.\u001B[39mfunction_call_options\u001B[38;5;241m.\u001B[39mas_attrs(),\n\u001B[1;32m    261\u001B[0m     )\n",
      "File \u001B[0;32m/Library/Frameworks/Python.framework/Versions/3.9/lib/python3.9/site-packages/tensorflow/python/eager/context.py:1486\u001B[0m, in \u001B[0;36mContext.call_function\u001B[0;34m(self, name, tensor_inputs, num_outputs)\u001B[0m\n\u001B[1;32m   1484\u001B[0m cancellation_context \u001B[38;5;241m=\u001B[39m cancellation\u001B[38;5;241m.\u001B[39mcontext()\n\u001B[1;32m   1485\u001B[0m \u001B[38;5;28;01mif\u001B[39;00m cancellation_context \u001B[38;5;129;01mis\u001B[39;00m \u001B[38;5;28;01mNone\u001B[39;00m:\n\u001B[0;32m-> 1486\u001B[0m   outputs \u001B[38;5;241m=\u001B[39m \u001B[43mexecute\u001B[49m\u001B[38;5;241;43m.\u001B[39;49m\u001B[43mexecute\u001B[49m\u001B[43m(\u001B[49m\n\u001B[1;32m   1487\u001B[0m \u001B[43m      \u001B[49m\u001B[43mname\u001B[49m\u001B[38;5;241;43m.\u001B[39;49m\u001B[43mdecode\u001B[49m\u001B[43m(\u001B[49m\u001B[38;5;124;43m\"\u001B[39;49m\u001B[38;5;124;43mutf-8\u001B[39;49m\u001B[38;5;124;43m\"\u001B[39;49m\u001B[43m)\u001B[49m\u001B[43m,\u001B[49m\n\u001B[1;32m   1488\u001B[0m \u001B[43m      \u001B[49m\u001B[43mnum_outputs\u001B[49m\u001B[38;5;241;43m=\u001B[39;49m\u001B[43mnum_outputs\u001B[49m\u001B[43m,\u001B[49m\n\u001B[1;32m   1489\u001B[0m \u001B[43m      \u001B[49m\u001B[43minputs\u001B[49m\u001B[38;5;241;43m=\u001B[39;49m\u001B[43mtensor_inputs\u001B[49m\u001B[43m,\u001B[49m\n\u001B[1;32m   1490\u001B[0m \u001B[43m      \u001B[49m\u001B[43mattrs\u001B[49m\u001B[38;5;241;43m=\u001B[39;49m\u001B[43mattrs\u001B[49m\u001B[43m,\u001B[49m\n\u001B[1;32m   1491\u001B[0m \u001B[43m      \u001B[49m\u001B[43mctx\u001B[49m\u001B[38;5;241;43m=\u001B[39;49m\u001B[38;5;28;43mself\u001B[39;49m\u001B[43m,\u001B[49m\n\u001B[1;32m   1492\u001B[0m \u001B[43m  \u001B[49m\u001B[43m)\u001B[49m\n\u001B[1;32m   1493\u001B[0m \u001B[38;5;28;01melse\u001B[39;00m:\n\u001B[1;32m   1494\u001B[0m   outputs \u001B[38;5;241m=\u001B[39m execute\u001B[38;5;241m.\u001B[39mexecute_with_cancellation(\n\u001B[1;32m   1495\u001B[0m       name\u001B[38;5;241m.\u001B[39mdecode(\u001B[38;5;124m\"\u001B[39m\u001B[38;5;124mutf-8\u001B[39m\u001B[38;5;124m\"\u001B[39m),\n\u001B[1;32m   1496\u001B[0m       num_outputs\u001B[38;5;241m=\u001B[39mnum_outputs,\n\u001B[0;32m   (...)\u001B[0m\n\u001B[1;32m   1500\u001B[0m       cancellation_manager\u001B[38;5;241m=\u001B[39mcancellation_context,\n\u001B[1;32m   1501\u001B[0m   )\n",
      "File \u001B[0;32m/Library/Frameworks/Python.framework/Versions/3.9/lib/python3.9/site-packages/tensorflow/python/eager/execute.py:53\u001B[0m, in \u001B[0;36mquick_execute\u001B[0;34m(op_name, num_outputs, inputs, attrs, ctx, name)\u001B[0m\n\u001B[1;32m     51\u001B[0m \u001B[38;5;28;01mtry\u001B[39;00m:\n\u001B[1;32m     52\u001B[0m   ctx\u001B[38;5;241m.\u001B[39mensure_initialized()\n\u001B[0;32m---> 53\u001B[0m   tensors \u001B[38;5;241m=\u001B[39m \u001B[43mpywrap_tfe\u001B[49m\u001B[38;5;241;43m.\u001B[39;49m\u001B[43mTFE_Py_Execute\u001B[49m\u001B[43m(\u001B[49m\u001B[43mctx\u001B[49m\u001B[38;5;241;43m.\u001B[39;49m\u001B[43m_handle\u001B[49m\u001B[43m,\u001B[49m\u001B[43m \u001B[49m\u001B[43mdevice_name\u001B[49m\u001B[43m,\u001B[49m\u001B[43m \u001B[49m\u001B[43mop_name\u001B[49m\u001B[43m,\u001B[49m\n\u001B[1;32m     54\u001B[0m \u001B[43m                                      \u001B[49m\u001B[43minputs\u001B[49m\u001B[43m,\u001B[49m\u001B[43m \u001B[49m\u001B[43mattrs\u001B[49m\u001B[43m,\u001B[49m\u001B[43m \u001B[49m\u001B[43mnum_outputs\u001B[49m\u001B[43m)\u001B[49m\n\u001B[1;32m     55\u001B[0m \u001B[38;5;28;01mexcept\u001B[39;00m core\u001B[38;5;241m.\u001B[39m_NotOkStatusException \u001B[38;5;28;01mas\u001B[39;00m e:\n\u001B[1;32m     56\u001B[0m   \u001B[38;5;28;01mif\u001B[39;00m name \u001B[38;5;129;01mis\u001B[39;00m \u001B[38;5;129;01mnot\u001B[39;00m \u001B[38;5;28;01mNone\u001B[39;00m:\n",
      "\u001B[0;31mKeyboardInterrupt\u001B[0m: "
     ]
    }
   ],
   "execution_count": 5
  },
  {
   "metadata": {},
   "cell_type": "markdown",
   "source": [
    "# Loss evaluation\n",
    "\n",
    "Seeing how the model's loss changes by the epoch"
   ],
   "id": "28458dd6caeaf05c"
  },
  {
   "cell_type": "code",
   "source": [
    "%matplotlib inline\n",
    "plt.plot(history.history['loss'])\n",
    "plt.plot(history.history['val_loss'])\n",
    "plt.title(\"Loss\")\n",
    "plt.legend(['Train', 'Val'], loc='upper right')\n",
    "plt.ylabel('Loss')\n",
    "plt.xlabel('Epoch')"
   ],
   "metadata": {
    "collapsed": false,
    "ExecuteTime": {
     "start_time": "2024-05-18T20:22:04.074900Z"
    }
   },
   "id": "db97a7f3cc91e456",
   "outputs": [],
   "execution_count": null
  },
  {
   "metadata": {},
   "cell_type": "markdown",
   "source": [
    "# Loss evaluation\n",
    "\n",
    "Seeing how the model's loss changes by the epoch"
   ],
   "id": "47dd11a44349b4d5"
  },
  {
   "metadata": {
    "ExecuteTime": {
     "end_time": "2024-05-18T20:22:04.077444Z",
     "start_time": "2024-05-18T20:22:04.076914Z"
    }
   },
   "cell_type": "code",
   "source": [
    "%matplotlib inline\n",
    "plt.plot(history.history['accuracy'])\n",
    "plt.plot(history.history['val_accuracy'])\n",
    "plt.title(\"Accuracy\")\n",
    "plt.legend(['Train', 'Val'], loc='upper right')\n",
    "plt.ylabel('Accuracy')\n",
    "plt.xlabel('Epoch')"
   ],
   "id": "4a03b62d16638245",
   "outputs": [],
   "execution_count": null
  },
  {
   "cell_type": "markdown",
   "source": [
    "# Prediction"
   ],
   "metadata": {
    "collapsed": false
   },
   "id": "4fb3930ce2fec85d"
  },
  {
   "cell_type": "code",
   "source": [
    "prediction_word = \"hej\"\n",
    "print(f\"Text before preprocessing: {prediction_word}\")\n",
    "prediction_word = preprocess(prediction_word)\n",
    "print(f\"Text after preprocessing: {prediction_word}\")\n",
    "prediction_word = tokenizer.texts_to_sequences([prediction_word])\n",
    "prediction_word = pad_sequences(prediction_word, maxlen=input_dim)\n",
    "prediction = model.predict([prediction_word])\n",
    "output_probabilities = np.array(prediction)\n",
    "result = {}\n",
    "class_labels = np.unique(y_df.columns)\n",
    "for index, prediction in enumerate(output_probabilities[0]):\n",
    "    result.update({class_labels[index]: round(prediction * 100, 1)})\n",
    "\n",
    "# Print keys and values of the result dictionary\n",
    "for key, value in result.items():\n",
    "    print(f\"{key}: {value}\")"
   ],
   "metadata": {
    "collapsed": false,
    "ExecuteTime": {
     "start_time": "2024-05-18T20:22:04.078518Z"
    }
   },
   "id": "2af1ef5d86413ee6",
   "outputs": [],
   "execution_count": null
  },
  {
   "cell_type": "markdown",
   "source": [
    "# Save model\n",
    "Here a model can be loaded"
   ],
   "metadata": {
    "collapsed": false
   },
   "id": "7346b90cf1a2f553"
  },
  {
   "cell_type": "code",
   "source": [
    "model.save('./models/model_uralic.keras')"
   ],
   "metadata": {
    "collapsed": false,
    "ExecuteTime": {
     "start_time": "2024-05-18T20:22:04.080306Z"
    }
   },
   "id": "f103d5e7cc3146d9",
   "outputs": [],
   "execution_count": null
  },
  {
   "cell_type": "markdown",
   "source": [
    "# Load model\n",
    "Here a model can be loaded"
   ],
   "metadata": {
    "collapsed": false
   },
   "id": "e0cf8ae450614ab7"
  },
  {
   "cell_type": "code",
   "source": [
    "model = load_model('./models/model_uralic.keras')\n",
    "tokenizer_json = tokenizer.to_json()\n",
    "with open('./tokenizer_configs/tokenizer_config_uralic.json', 'w') as config_file:\n",
    "    config_file.write(json.dumps(tokenizer_json, ensure_ascii=False))"
   ],
   "metadata": {
    "collapsed": false,
    "ExecuteTime": {
     "start_time": "2024-05-18T20:22:04.081689Z"
    }
   },
   "id": "c0bbfbb51379fba0",
   "outputs": [],
   "execution_count": null
  },
  {
   "cell_type": "code",
   "outputs": [],
   "source": [],
   "metadata": {
    "collapsed": false,
    "ExecuteTime": {
     "start_time": "2024-05-18T20:22:04.082706Z"
    }
   },
   "id": "f45de99f223bed4c",
   "execution_count": null
  }
 ],
 "metadata": {
  "kernelspec": {
   "display_name": "Python 3",
   "language": "python",
   "name": "python3"
  },
  "language_info": {
   "codemirror_mode": {
    "name": "ipython",
    "version": 2
   },
   "file_extension": ".py",
   "mimetype": "text/x-python",
   "name": "python",
   "nbconvert_exporter": "python",
   "pygments_lexer": "ipython2",
   "version": "2.7.6"
  }
 },
 "nbformat": 4,
 "nbformat_minor": 5
}
