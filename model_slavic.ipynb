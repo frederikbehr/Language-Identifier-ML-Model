{
 "cells": [
  {
   "cell_type": "code",
   "id": "initial_id",
   "metadata": {
    "collapsed": true,
    "ExecuteTime": {
     "end_time": "2024-05-12T00:18:49.763080Z",
     "start_time": "2024-05-12T00:18:46.499180Z"
    }
   },
   "source": [
    "import numpy as np\n",
    "import pandas as pd\n",
    "import matplotlib.pyplot as plt\n",
    "import tensorflow as tf\n",
    "from tensorflow.keras.models import Sequential, load_model\n",
    "from tensorflow.keras.layers import Dense, Conv1D, LSTM, Dropout, Flatten\n",
    "from tensorflow.keras import optimizers\n",
    "from tensorflow.keras.preprocessing.text import Tokenizer\n",
    "from keras.src.utils import pad_sequences\n",
    "from sklearn.model_selection import train_test_split\n",
    "from custom_preprocessor import preprocess\n",
    "import json"
   ],
   "outputs": [],
   "execution_count": 1
  },
  {
   "cell_type": "markdown",
   "source": [
    "# Get data\n",
    "Pandas is used to get the data from the project directory.\n",
    "The data is a .csv file, that has been created by book texts and prepared to be listed in the file word-by-word."
   ],
   "metadata": {
    "collapsed": false
   },
   "id": "b20ed3afab281b03"
  },
  {
   "cell_type": "code",
   "source": [
    "df = pd.read_csv('./data/dataset_slavic.csv')\n",
    "df = df.sample(frac=1.0, random_state=12)\n",
    "df.head()"
   ],
   "metadata": {
    "collapsed": false,
    "ExecuteTime": {
     "end_time": "2024-05-12T00:18:49.783244Z",
     "start_time": "2024-05-12T00:18:49.762945Z"
    }
   },
   "id": "9934f095638f49f4",
   "outputs": [
    {
     "data": {
      "text/plain": "                                                   Word   Language\n9087            sa vrlo sa vrlo sa vrlo sa vrlo sa vrlo    Serbian\n420    dva i polovina dva i polovina dva i polovina dva  Bulgarian\n13458    juri je naglo juri je naglo juri je naglo juri  Slovenian\n5949       detstvi z domu detstvi z domu detstvi z domu      Czech\n1416          i tretata i tretata i tretata i tretata i  Bulgarian",
      "text/html": "<div>\n<style scoped>\n    .dataframe tbody tr th:only-of-type {\n        vertical-align: middle;\n    }\n\n    .dataframe tbody tr th {\n        vertical-align: top;\n    }\n\n    .dataframe thead th {\n        text-align: right;\n    }\n</style>\n<table border=\"1\" class=\"dataframe\">\n  <thead>\n    <tr style=\"text-align: right;\">\n      <th></th>\n      <th>Word</th>\n      <th>Language</th>\n    </tr>\n  </thead>\n  <tbody>\n    <tr>\n      <th>9087</th>\n      <td>sa vrlo sa vrlo sa vrlo sa vrlo sa vrlo</td>\n      <td>Serbian</td>\n    </tr>\n    <tr>\n      <th>420</th>\n      <td>dva i polovina dva i polovina dva i polovina dva</td>\n      <td>Bulgarian</td>\n    </tr>\n    <tr>\n      <th>13458</th>\n      <td>juri je naglo juri je naglo juri je naglo juri</td>\n      <td>Slovenian</td>\n    </tr>\n    <tr>\n      <th>5949</th>\n      <td>detstvi z domu detstvi z domu detstvi z domu</td>\n      <td>Czech</td>\n    </tr>\n    <tr>\n      <th>1416</th>\n      <td>i tretata i tretata i tretata i tretata i</td>\n      <td>Bulgarian</td>\n    </tr>\n  </tbody>\n</table>\n</div>"
     },
     "execution_count": 2,
     "metadata": {},
     "output_type": "execute_result"
    }
   ],
   "execution_count": 2
  },
  {
   "cell_type": "markdown",
   "source": [
    "# Prepare data\n",
    "Divide the data into X and y. X is input and y is the desired output.\n",
    "One-Hot Encode it, so the language is categorical. This is done with Pandas."
   ],
   "metadata": {
    "collapsed": false
   },
   "id": "e375f9241e794ae4"
  },
  {
   "cell_type": "code",
   "source": [
    "# Getting X - the input values\n",
    "X = df.iloc[:, :-1]\n",
    "X.loc[:, 'Word'] = X['Word'].astype(str)\n",
    "tokenizer = Tokenizer(char_level=True) # Used for turning the words into numbers\n",
    "tokenizer.fit_on_texts(X['Word'].tolist()) # Giving Tokenizer the data it needs to learn how to encode the words\n",
    "X_sequences = tokenizer.texts_to_sequences(X['Word'].tolist()) # Now the words are encoded into sequences\n",
    "input_dim = max(len(seq) for seq in X_sequences)\n",
    "print(f\"Input dimension: {input_dim}\")\n",
    "X = pad_sequences(\n",
    "    X_sequences, \n",
    "    maxlen=input_dim, \n",
    "    padding='post'\n",
    ") # Making all input values be of same length\n",
    "print(f\"Rows: {len(X)}\")\n",
    "\n",
    "# Getting y - the output values\n",
    "y_df = pd.get_dummies(df.iloc[:, -1:])\n",
    "y = y_df.values\n",
    "print(f\"Amount of languages to identify: {len(y[1])}\")\n",
    "\n",
    "X_train, X_val, y_train, y_val = train_test_split(X, y, test_size=0.2, random_state=42)\n",
    "X_train = X_train.reshape(X_train.shape[0], X_train.shape[1], 1)"
   ],
   "metadata": {
    "collapsed": false,
    "ExecuteTime": {
     "end_time": "2024-05-12T00:18:50.088644Z",
     "start_time": "2024-05-12T00:18:49.785820Z"
    }
   },
   "id": "ba4d86402045de27",
   "outputs": [
    {
     "name": "stdout",
     "output_type": "stream",
     "text": [
      "Input dimension: 48\n",
      "Rows: 18738\n",
      "Amount of languages to identify: 6\n"
     ]
    }
   ],
   "execution_count": 3
  },
  {
   "cell_type": "code",
   "source": [
    "model = Sequential()\n",
    "model.add(Conv1D(input_dim, 2, activation='relu'))  # Convolutional layer\n",
    "tf.keras.layers.SimpleRNN(8, activation='relu')\n",
    "model.add(LSTM(32, return_sequences=True))\n",
    "model.add(Flatten())\n",
    "model.add(Dropout(0.5))\n",
    "model.add(Dense(len(y[1]), activation='softmax'))\n",
    "adam = optimizers.Adam(learning_rate=0.01)\n",
    "model.compile(loss='categorical_crossentropy', optimizer=adam, metrics=['accuracy'])"
   ],
   "metadata": {
    "collapsed": false,
    "ExecuteTime": {
     "end_time": "2024-05-12T00:18:50.116426Z",
     "start_time": "2024-05-12T00:18:50.100438Z"
    }
   },
   "id": "c870f2fa48fe956c",
   "outputs": [],
   "execution_count": 4
  },
  {
   "cell_type": "code",
   "source": [
    "history = model.fit(X_train, y_train, validation_data=(X_val, y_val), epochs=150, batch_size=2048,verbose=1)"
   ],
   "metadata": {
    "collapsed": false,
    "ExecuteTime": {
     "end_time": "2024-05-12T00:21:51.259926Z",
     "start_time": "2024-05-12T00:18:50.113701Z"
    }
   },
   "id": "d9a29cb1ff2dcba7",
   "outputs": [
    {
     "name": "stdout",
     "output_type": "stream",
     "text": [
      "Epoch 1/150\n",
      "\u001B[1m8/8\u001B[0m \u001B[32m━━━━━━━━━━━━━━━━━━━━\u001B[0m\u001B[37m\u001B[0m \u001B[1m2s\u001B[0m 152ms/step - accuracy: 0.1665 - loss: 2.1754 - val_accuracy: 0.1705 - val_loss: 1.7939\n",
      "Epoch 2/150\n",
      "\u001B[1m8/8\u001B[0m \u001B[32m━━━━━━━━━━━━━━━━━━━━\u001B[0m\u001B[37m\u001B[0m \u001B[1m1s\u001B[0m 146ms/step - accuracy: 0.1703 - loss: 1.8069 - val_accuracy: 0.1708 - val_loss: 1.7869\n",
      "Epoch 3/150\n",
      "\u001B[1m8/8\u001B[0m \u001B[32m━━━━━━━━━━━━━━━━━━━━\u001B[0m\u001B[37m\u001B[0m \u001B[1m1s\u001B[0m 142ms/step - accuracy: 0.1864 - loss: 1.7867 - val_accuracy: 0.2089 - val_loss: 1.7779\n",
      "Epoch 4/150\n",
      "\u001B[1m8/8\u001B[0m \u001B[32m━━━━━━━━━━━━━━━━━━━━\u001B[0m\u001B[37m\u001B[0m \u001B[1m1s\u001B[0m 186ms/step - accuracy: 0.2219 - loss: 1.7753 - val_accuracy: 0.2372 - val_loss: 1.7589\n",
      "Epoch 5/150\n",
      "\u001B[1m8/8\u001B[0m \u001B[32m━━━━━━━━━━━━━━━━━━━━\u001B[0m\u001B[37m\u001B[0m \u001B[1m2s\u001B[0m 206ms/step - accuracy: 0.2404 - loss: 1.7508 - val_accuracy: 0.2481 - val_loss: 1.7192\n",
      "Epoch 6/150\n",
      "\u001B[1m8/8\u001B[0m \u001B[32m━━━━━━━━━━━━━━━━━━━━\u001B[0m\u001B[37m\u001B[0m \u001B[1m1s\u001B[0m 178ms/step - accuracy: 0.2574 - loss: 1.7223 - val_accuracy: 0.2809 - val_loss: 1.6963\n",
      "Epoch 7/150\n",
      "\u001B[1m8/8\u001B[0m \u001B[32m━━━━━━━━━━━━━━━━━━━━\u001B[0m\u001B[37m\u001B[0m \u001B[1m1s\u001B[0m 150ms/step - accuracy: 0.2846 - loss: 1.7019 - val_accuracy: 0.3116 - val_loss: 1.6716\n",
      "Epoch 8/150\n",
      "\u001B[1m8/8\u001B[0m \u001B[32m━━━━━━━━━━━━━━━━━━━━\u001B[0m\u001B[37m\u001B[0m \u001B[1m1s\u001B[0m 147ms/step - accuracy: 0.2972 - loss: 1.6786 - val_accuracy: 0.3202 - val_loss: 1.6456\n",
      "Epoch 9/150\n",
      "\u001B[1m8/8\u001B[0m \u001B[32m━━━━━━━━━━━━━━━━━━━━\u001B[0m\u001B[37m\u001B[0m \u001B[1m1s\u001B[0m 147ms/step - accuracy: 0.3080 - loss: 1.6572 - val_accuracy: 0.3367 - val_loss: 1.6245\n",
      "Epoch 10/150\n",
      "\u001B[1m8/8\u001B[0m \u001B[32m━━━━━━━━━━━━━━━━━━━━\u001B[0m\u001B[37m\u001B[0m \u001B[1m1s\u001B[0m 148ms/step - accuracy: 0.3214 - loss: 1.6409 - val_accuracy: 0.3463 - val_loss: 1.6131\n",
      "Epoch 11/150\n",
      "\u001B[1m8/8\u001B[0m \u001B[32m━━━━━━━━━━━━━━━━━━━━\u001B[0m\u001B[37m\u001B[0m \u001B[1m1s\u001B[0m 152ms/step - accuracy: 0.3255 - loss: 1.6375 - val_accuracy: 0.3551 - val_loss: 1.5990\n",
      "Epoch 12/150\n",
      "\u001B[1m8/8\u001B[0m \u001B[32m━━━━━━━━━━━━━━━━━━━━\u001B[0m\u001B[37m\u001B[0m \u001B[1m1s\u001B[0m 151ms/step - accuracy: 0.3392 - loss: 1.6110 - val_accuracy: 0.3602 - val_loss: 1.5798\n",
      "Epoch 13/150\n",
      "\u001B[1m8/8\u001B[0m \u001B[32m━━━━━━━━━━━━━━━━━━━━\u001B[0m\u001B[37m\u001B[0m \u001B[1m1s\u001B[0m 150ms/step - accuracy: 0.3505 - loss: 1.6041 - val_accuracy: 0.3477 - val_loss: 1.5951\n",
      "Epoch 14/150\n",
      "\u001B[1m8/8\u001B[0m \u001B[32m━━━━━━━━━━━━━━━━━━━━\u001B[0m\u001B[37m\u001B[0m \u001B[1m1s\u001B[0m 149ms/step - accuracy: 0.3550 - loss: 1.5992 - val_accuracy: 0.3423 - val_loss: 1.5921\n",
      "Epoch 15/150\n",
      "\u001B[1m8/8\u001B[0m \u001B[32m━━━━━━━━━━━━━━━━━━━━\u001B[0m\u001B[37m\u001B[0m \u001B[1m1s\u001B[0m 149ms/step - accuracy: 0.3549 - loss: 1.5915 - val_accuracy: 0.3647 - val_loss: 1.5659\n",
      "Epoch 16/150\n",
      "\u001B[1m8/8\u001B[0m \u001B[32m━━━━━━━━━━━━━━━━━━━━\u001B[0m\u001B[37m\u001B[0m \u001B[1m1s\u001B[0m 150ms/step - accuracy: 0.3771 - loss: 1.5626 - val_accuracy: 0.3799 - val_loss: 1.5426\n",
      "Epoch 17/150\n",
      "\u001B[1m8/8\u001B[0m \u001B[32m━━━━━━━━━━━━━━━━━━━━\u001B[0m\u001B[37m\u001B[0m \u001B[1m1s\u001B[0m 158ms/step - accuracy: 0.3794 - loss: 1.5523 - val_accuracy: 0.3631 - val_loss: 1.5538\n",
      "Epoch 18/150\n",
      "\u001B[1m8/8\u001B[0m \u001B[32m━━━━━━━━━━━━━━━━━━━━\u001B[0m\u001B[37m\u001B[0m \u001B[1m1s\u001B[0m 152ms/step - accuracy: 0.3734 - loss: 1.5558 - val_accuracy: 0.3863 - val_loss: 1.5348\n",
      "Epoch 19/150\n",
      "\u001B[1m8/8\u001B[0m \u001B[32m━━━━━━━━━━━━━━━━━━━━\u001B[0m\u001B[37m\u001B[0m \u001B[1m1s\u001B[0m 152ms/step - accuracy: 0.3889 - loss: 1.5351 - val_accuracy: 0.3879 - val_loss: 1.5268\n",
      "Epoch 20/150\n",
      "\u001B[1m8/8\u001B[0m \u001B[32m━━━━━━━━━━━━━━━━━━━━\u001B[0m\u001B[37m\u001B[0m \u001B[1m1s\u001B[0m 152ms/step - accuracy: 0.3893 - loss: 1.5253 - val_accuracy: 0.3895 - val_loss: 1.5135\n",
      "Epoch 21/150\n",
      "\u001B[1m8/8\u001B[0m \u001B[32m━━━━━━━━━━━━━━━━━━━━\u001B[0m\u001B[37m\u001B[0m \u001B[1m1s\u001B[0m 153ms/step - accuracy: 0.3903 - loss: 1.5225 - val_accuracy: 0.3999 - val_loss: 1.4973\n",
      "Epoch 22/150\n",
      "\u001B[1m8/8\u001B[0m \u001B[32m━━━━━━━━━━━━━━━━━━━━\u001B[0m\u001B[37m\u001B[0m \u001B[1m1s\u001B[0m 153ms/step - accuracy: 0.4067 - loss: 1.5044 - val_accuracy: 0.4064 - val_loss: 1.4849\n",
      "Epoch 23/150\n",
      "\u001B[1m8/8\u001B[0m \u001B[32m━━━━━━━━━━━━━━━━━━━━\u001B[0m\u001B[37m\u001B[0m \u001B[1m1s\u001B[0m 148ms/step - accuracy: 0.4111 - loss: 1.4941 - val_accuracy: 0.4061 - val_loss: 1.5012\n",
      "Epoch 24/150\n",
      "\u001B[1m8/8\u001B[0m \u001B[32m━━━━━━━━━━━━━━━━━━━━\u001B[0m\u001B[37m\u001B[0m \u001B[1m1s\u001B[0m 147ms/step - accuracy: 0.4099 - loss: 1.4877 - val_accuracy: 0.4234 - val_loss: 1.4735\n",
      "Epoch 25/150\n",
      "\u001B[1m8/8\u001B[0m \u001B[32m━━━━━━━━━━━━━━━━━━━━\u001B[0m\u001B[37m\u001B[0m \u001B[1m1s\u001B[0m 159ms/step - accuracy: 0.4181 - loss: 1.4704 - val_accuracy: 0.4280 - val_loss: 1.4548\n",
      "Epoch 26/150\n",
      "\u001B[1m8/8\u001B[0m \u001B[32m━━━━━━━━━━━━━━━━━━━━\u001B[0m\u001B[37m\u001B[0m \u001B[1m1s\u001B[0m 147ms/step - accuracy: 0.4224 - loss: 1.4643 - val_accuracy: 0.4136 - val_loss: 1.4857\n",
      "Epoch 27/150\n",
      "\u001B[1m8/8\u001B[0m \u001B[32m━━━━━━━━━━━━━━━━━━━━\u001B[0m\u001B[37m\u001B[0m \u001B[1m1s\u001B[0m 147ms/step - accuracy: 0.4267 - loss: 1.4645 - val_accuracy: 0.4264 - val_loss: 1.4510\n",
      "Epoch 28/150\n",
      "\u001B[1m8/8\u001B[0m \u001B[32m━━━━━━━━━━━━━━━━━━━━\u001B[0m\u001B[37m\u001B[0m \u001B[1m1s\u001B[0m 147ms/step - accuracy: 0.4371 - loss: 1.4395 - val_accuracy: 0.4341 - val_loss: 1.4364\n",
      "Epoch 29/150\n",
      "\u001B[1m8/8\u001B[0m \u001B[32m━━━━━━━━━━━━━━━━━━━━\u001B[0m\u001B[37m\u001B[0m \u001B[1m1s\u001B[0m 145ms/step - accuracy: 0.4374 - loss: 1.4374 - val_accuracy: 0.4442 - val_loss: 1.4230\n",
      "Epoch 30/150\n",
      "\u001B[1m8/8\u001B[0m \u001B[32m━━━━━━━━━━━━━━━━━━━━\u001B[0m\u001B[37m\u001B[0m \u001B[1m1s\u001B[0m 145ms/step - accuracy: 0.4417 - loss: 1.4218 - val_accuracy: 0.4509 - val_loss: 1.4106\n",
      "Epoch 31/150\n",
      "\u001B[1m8/8\u001B[0m \u001B[32m━━━━━━━━━━━━━━━━━━━━\u001B[0m\u001B[37m\u001B[0m \u001B[1m1s\u001B[0m 140ms/step - accuracy: 0.4432 - loss: 1.4269 - val_accuracy: 0.4464 - val_loss: 1.4180\n",
      "Epoch 32/150\n",
      "\u001B[1m8/8\u001B[0m \u001B[32m━━━━━━━━━━━━━━━━━━━━\u001B[0m\u001B[37m\u001B[0m \u001B[1m1s\u001B[0m 140ms/step - accuracy: 0.4448 - loss: 1.4150 - val_accuracy: 0.4514 - val_loss: 1.4020\n",
      "Epoch 33/150\n",
      "\u001B[1m8/8\u001B[0m \u001B[32m━━━━━━━━━━━━━━━━━━━━\u001B[0m\u001B[37m\u001B[0m \u001B[1m1s\u001B[0m 137ms/step - accuracy: 0.4580 - loss: 1.3896 - val_accuracy: 0.4605 - val_loss: 1.3824\n",
      "Epoch 34/150\n",
      "\u001B[1m8/8\u001B[0m \u001B[32m━━━━━━━━━━━━━━━━━━━━\u001B[0m\u001B[37m\u001B[0m \u001B[1m1s\u001B[0m 138ms/step - accuracy: 0.4665 - loss: 1.3755 - val_accuracy: 0.4760 - val_loss: 1.3668\n",
      "Epoch 35/150\n",
      "\u001B[1m8/8\u001B[0m \u001B[32m━━━━━━━━━━━━━━━━━━━━\u001B[0m\u001B[37m\u001B[0m \u001B[1m1s\u001B[0m 138ms/step - accuracy: 0.4755 - loss: 1.3546 - val_accuracy: 0.4811 - val_loss: 1.3446\n",
      "Epoch 36/150\n",
      "\u001B[1m8/8\u001B[0m \u001B[32m━━━━━━━━━━━━━━━━━━━━\u001B[0m\u001B[37m\u001B[0m \u001B[1m1s\u001B[0m 138ms/step - accuracy: 0.4843 - loss: 1.3397 - val_accuracy: 0.4851 - val_loss: 1.3338\n",
      "Epoch 37/150\n",
      "\u001B[1m8/8\u001B[0m \u001B[32m━━━━━━━━━━━━━━━━━━━━\u001B[0m\u001B[37m\u001B[0m \u001B[1m1s\u001B[0m 140ms/step - accuracy: 0.4812 - loss: 1.3415 - val_accuracy: 0.4907 - val_loss: 1.3238\n",
      "Epoch 38/150\n",
      "\u001B[1m8/8\u001B[0m \u001B[32m━━━━━━━━━━━━━━━━━━━━\u001B[0m\u001B[37m\u001B[0m \u001B[1m1s\u001B[0m 139ms/step - accuracy: 0.4882 - loss: 1.3143 - val_accuracy: 0.4939 - val_loss: 1.3142\n",
      "Epoch 39/150\n",
      "\u001B[1m8/8\u001B[0m \u001B[32m━━━━━━━━━━━━━━━━━━━━\u001B[0m\u001B[37m\u001B[0m \u001B[1m1s\u001B[0m 137ms/step - accuracy: 0.4925 - loss: 1.3171 - val_accuracy: 0.4925 - val_loss: 1.3078\n",
      "Epoch 40/150\n",
      "\u001B[1m8/8\u001B[0m \u001B[32m━━━━━━━━━━━━━━━━━━━━\u001B[0m\u001B[37m\u001B[0m \u001B[1m1s\u001B[0m 137ms/step - accuracy: 0.4898 - loss: 1.3027 - val_accuracy: 0.4955 - val_loss: 1.2971\n",
      "Epoch 41/150\n",
      "\u001B[1m8/8\u001B[0m \u001B[32m━━━━━━━━━━━━━━━━━━━━\u001B[0m\u001B[37m\u001B[0m \u001B[1m1s\u001B[0m 137ms/step - accuracy: 0.5046 - loss: 1.2784 - val_accuracy: 0.5069 - val_loss: 1.2842\n",
      "Epoch 42/150\n",
      "\u001B[1m8/8\u001B[0m \u001B[32m━━━━━━━━━━━━━━━━━━━━\u001B[0m\u001B[37m\u001B[0m \u001B[1m1s\u001B[0m 138ms/step - accuracy: 0.5019 - loss: 1.2864 - val_accuracy: 0.5096 - val_loss: 1.2735\n",
      "Epoch 43/150\n",
      "\u001B[1m8/8\u001B[0m \u001B[32m━━━━━━━━━━━━━━━━━━━━\u001B[0m\u001B[37m\u001B[0m \u001B[1m1s\u001B[0m 138ms/step - accuracy: 0.5121 - loss: 1.2571 - val_accuracy: 0.5192 - val_loss: 1.2503\n",
      "Epoch 44/150\n",
      "\u001B[1m8/8\u001B[0m \u001B[32m━━━━━━━━━━━━━━━━━━━━\u001B[0m\u001B[37m\u001B[0m \u001B[1m1s\u001B[0m 138ms/step - accuracy: 0.5158 - loss: 1.2504 - val_accuracy: 0.5248 - val_loss: 1.2389\n",
      "Epoch 45/150\n",
      "\u001B[1m8/8\u001B[0m \u001B[32m━━━━━━━━━━━━━━━━━━━━\u001B[0m\u001B[37m\u001B[0m \u001B[1m1s\u001B[0m 136ms/step - accuracy: 0.5270 - loss: 1.2304 - val_accuracy: 0.5256 - val_loss: 1.2290\n",
      "Epoch 46/150\n",
      "\u001B[1m8/8\u001B[0m \u001B[32m━━━━━━━━━━━━━━━━━━━━\u001B[0m\u001B[37m\u001B[0m \u001B[1m1s\u001B[0m 138ms/step - accuracy: 0.5232 - loss: 1.2331 - val_accuracy: 0.5309 - val_loss: 1.2310\n",
      "Epoch 47/150\n",
      "\u001B[1m8/8\u001B[0m \u001B[32m━━━━━━━━━━━━━━━━━━━━\u001B[0m\u001B[37m\u001B[0m \u001B[1m1s\u001B[0m 135ms/step - accuracy: 0.5210 - loss: 1.2299 - val_accuracy: 0.5293 - val_loss: 1.2201\n",
      "Epoch 48/150\n",
      "\u001B[1m8/8\u001B[0m \u001B[32m━━━━━━━━━━━━━━━━━━━━\u001B[0m\u001B[37m\u001B[0m \u001B[1m1s\u001B[0m 137ms/step - accuracy: 0.5292 - loss: 1.2189 - val_accuracy: 0.5179 - val_loss: 1.2487\n",
      "Epoch 49/150\n",
      "\u001B[1m8/8\u001B[0m \u001B[32m━━━━━━━━━━━━━━━━━━━━\u001B[0m\u001B[37m\u001B[0m \u001B[1m1s\u001B[0m 140ms/step - accuracy: 0.5209 - loss: 1.2329 - val_accuracy: 0.5342 - val_loss: 1.2218\n",
      "Epoch 50/150\n",
      "\u001B[1m8/8\u001B[0m \u001B[32m━━━━━━━━━━━━━━━━━━━━\u001B[0m\u001B[37m\u001B[0m \u001B[1m1s\u001B[0m 139ms/step - accuracy: 0.5399 - loss: 1.2022 - val_accuracy: 0.5248 - val_loss: 1.2411\n",
      "Epoch 51/150\n",
      "\u001B[1m8/8\u001B[0m \u001B[32m━━━━━━━━━━━━━━━━━━━━\u001B[0m\u001B[37m\u001B[0m \u001B[1m1s\u001B[0m 137ms/step - accuracy: 0.5313 - loss: 1.2029 - val_accuracy: 0.5411 - val_loss: 1.1970\n",
      "Epoch 52/150\n",
      "\u001B[1m8/8\u001B[0m \u001B[32m━━━━━━━━━━━━━━━━━━━━\u001B[0m\u001B[37m\u001B[0m \u001B[1m1s\u001B[0m 139ms/step - accuracy: 0.5402 - loss: 1.1862 - val_accuracy: 0.5419 - val_loss: 1.1940\n",
      "Epoch 53/150\n",
      "\u001B[1m8/8\u001B[0m \u001B[32m━━━━━━━━━━━━━━━━━━━━\u001B[0m\u001B[37m\u001B[0m \u001B[1m1s\u001B[0m 140ms/step - accuracy: 0.5439 - loss: 1.1676 - val_accuracy: 0.5515 - val_loss: 1.1717\n",
      "Epoch 54/150\n",
      "\u001B[1m8/8\u001B[0m \u001B[32m━━━━━━━━━━━━━━━━━━━━\u001B[0m\u001B[37m\u001B[0m \u001B[1m1s\u001B[0m 139ms/step - accuracy: 0.5565 - loss: 1.1630 - val_accuracy: 0.5472 - val_loss: 1.1864\n",
      "Epoch 55/150\n",
      "\u001B[1m8/8\u001B[0m \u001B[32m━━━━━━━━━━━━━━━━━━━━\u001B[0m\u001B[37m\u001B[0m \u001B[1m1s\u001B[0m 176ms/step - accuracy: 0.5524 - loss: 1.1507 - val_accuracy: 0.5456 - val_loss: 1.1751\n",
      "Epoch 56/150\n",
      "\u001B[1m8/8\u001B[0m \u001B[32m━━━━━━━━━━━━━━━━━━━━\u001B[0m\u001B[37m\u001B[0m \u001B[1m2s\u001B[0m 202ms/step - accuracy: 0.5521 - loss: 1.1646 - val_accuracy: 0.5355 - val_loss: 1.1988\n",
      "Epoch 57/150\n",
      "\u001B[1m8/8\u001B[0m \u001B[32m━━━━━━━━━━━━━━━━━━━━\u001B[0m\u001B[37m\u001B[0m \u001B[1m2s\u001B[0m 218ms/step - accuracy: 0.5506 - loss: 1.1638 - val_accuracy: 0.5518 - val_loss: 1.1789\n",
      "Epoch 58/150\n",
      "\u001B[1m8/8\u001B[0m \u001B[32m━━━━━━━━━━━━━━━━━━━━\u001B[0m\u001B[37m\u001B[0m \u001B[1m1s\u001B[0m 156ms/step - accuracy: 0.5545 - loss: 1.1482 - val_accuracy: 0.5576 - val_loss: 1.1662\n",
      "Epoch 59/150\n",
      "\u001B[1m8/8\u001B[0m \u001B[32m━━━━━━━━━━━━━━━━━━━━\u001B[0m\u001B[37m\u001B[0m \u001B[1m1s\u001B[0m 156ms/step - accuracy: 0.5658 - loss: 1.1264 - val_accuracy: 0.5486 - val_loss: 1.1937\n",
      "Epoch 60/150\n",
      "\u001B[1m8/8\u001B[0m \u001B[32m━━━━━━━━━━━━━━━━━━━━\u001B[0m\u001B[37m\u001B[0m \u001B[1m1s\u001B[0m 161ms/step - accuracy: 0.5539 - loss: 1.1501 - val_accuracy: 0.5563 - val_loss: 1.1810\n",
      "Epoch 61/150\n",
      "\u001B[1m8/8\u001B[0m \u001B[32m━━━━━━━━━━━━━━━━━━━━\u001B[0m\u001B[37m\u001B[0m \u001B[1m1s\u001B[0m 161ms/step - accuracy: 0.5667 - loss: 1.1295 - val_accuracy: 0.5667 - val_loss: 1.1448\n",
      "Epoch 62/150\n",
      "\u001B[1m8/8\u001B[0m \u001B[32m━━━━━━━━━━━━━━━━━━━━\u001B[0m\u001B[37m\u001B[0m \u001B[1m2s\u001B[0m 158ms/step - accuracy: 0.5738 - loss: 1.1129 - val_accuracy: 0.5699 - val_loss: 1.1325\n",
      "Epoch 63/150\n",
      "\u001B[1m8/8\u001B[0m \u001B[32m━━━━━━━━━━━━━━━━━━━━\u001B[0m\u001B[37m\u001B[0m \u001B[1m1s\u001B[0m 154ms/step - accuracy: 0.5818 - loss: 1.0908 - val_accuracy: 0.5707 - val_loss: 1.1265\n",
      "Epoch 64/150\n",
      "\u001B[1m8/8\u001B[0m \u001B[32m━━━━━━━━━━━━━━━━━━━━\u001B[0m\u001B[37m\u001B[0m \u001B[1m1s\u001B[0m 158ms/step - accuracy: 0.5827 - loss: 1.0994 - val_accuracy: 0.5646 - val_loss: 1.1286\n",
      "Epoch 65/150\n",
      "\u001B[1m8/8\u001B[0m \u001B[32m━━━━━━━━━━━━━━━━━━━━\u001B[0m\u001B[37m\u001B[0m \u001B[1m1s\u001B[0m 161ms/step - accuracy: 0.5886 - loss: 1.0792 - val_accuracy: 0.5790 - val_loss: 1.1133\n",
      "Epoch 66/150\n",
      "\u001B[1m8/8\u001B[0m \u001B[32m━━━━━━━━━━━━━━━━━━━━\u001B[0m\u001B[37m\u001B[0m \u001B[1m1s\u001B[0m 155ms/step - accuracy: 0.5866 - loss: 1.0753 - val_accuracy: 0.5814 - val_loss: 1.1080\n",
      "Epoch 67/150\n",
      "\u001B[1m8/8\u001B[0m \u001B[32m━━━━━━━━━━━━━━━━━━━━\u001B[0m\u001B[37m\u001B[0m \u001B[1m1s\u001B[0m 157ms/step - accuracy: 0.5899 - loss: 1.0727 - val_accuracy: 0.5824 - val_loss: 1.1066\n",
      "Epoch 68/150\n",
      "\u001B[1m8/8\u001B[0m \u001B[32m━━━━━━━━━━━━━━━━━━━━\u001B[0m\u001B[37m\u001B[0m \u001B[1m1s\u001B[0m 157ms/step - accuracy: 0.5993 - loss: 1.0488 - val_accuracy: 0.5739 - val_loss: 1.1202\n",
      "Epoch 69/150\n",
      "\u001B[1m8/8\u001B[0m \u001B[32m━━━━━━━━━━━━━━━━━━━━\u001B[0m\u001B[37m\u001B[0m \u001B[1m1s\u001B[0m 156ms/step - accuracy: 0.5861 - loss: 1.0761 - val_accuracy: 0.5723 - val_loss: 1.1277\n",
      "Epoch 70/150\n",
      "\u001B[1m8/8\u001B[0m \u001B[32m━━━━━━━━━━━━━━━━━━━━\u001B[0m\u001B[37m\u001B[0m \u001B[1m1s\u001B[0m 177ms/step - accuracy: 0.5863 - loss: 1.0750 - val_accuracy: 0.5843 - val_loss: 1.1219\n",
      "Epoch 71/150\n",
      "\u001B[1m8/8\u001B[0m \u001B[32m━━━━━━━━━━━━━━━━━━━━\u001B[0m\u001B[37m\u001B[0m \u001B[1m1s\u001B[0m 174ms/step - accuracy: 0.5927 - loss: 1.0649 - val_accuracy: 0.5776 - val_loss: 1.1209\n",
      "Epoch 72/150\n",
      "\u001B[1m8/8\u001B[0m \u001B[32m━━━━━━━━━━━━━━━━━━━━\u001B[0m\u001B[37m\u001B[0m \u001B[1m1s\u001B[0m 172ms/step - accuracy: 0.5939 - loss: 1.0526 - val_accuracy: 0.5814 - val_loss: 1.1041\n",
      "Epoch 73/150\n",
      "\u001B[1m8/8\u001B[0m \u001B[32m━━━━━━━━━━━━━━━━━━━━\u001B[0m\u001B[37m\u001B[0m \u001B[1m1s\u001B[0m 157ms/step - accuracy: 0.6021 - loss: 1.0455 - val_accuracy: 0.5856 - val_loss: 1.1009\n",
      "Epoch 74/150\n",
      "\u001B[1m8/8\u001B[0m \u001B[32m━━━━━━━━━━━━━━━━━━━━\u001B[0m\u001B[37m\u001B[0m \u001B[1m1s\u001B[0m 156ms/step - accuracy: 0.6022 - loss: 1.0394 - val_accuracy: 0.5867 - val_loss: 1.1042\n",
      "Epoch 75/150\n",
      "\u001B[1m8/8\u001B[0m \u001B[32m━━━━━━━━━━━━━━━━━━━━\u001B[0m\u001B[37m\u001B[0m \u001B[1m1s\u001B[0m 159ms/step - accuracy: 0.6057 - loss: 1.0379 - val_accuracy: 0.5920 - val_loss: 1.0935\n",
      "Epoch 76/150\n",
      "\u001B[1m8/8\u001B[0m \u001B[32m━━━━━━━━━━━━━━━━━━━━\u001B[0m\u001B[37m\u001B[0m \u001B[1m1s\u001B[0m 160ms/step - accuracy: 0.6126 - loss: 1.0308 - val_accuracy: 0.5920 - val_loss: 1.0802\n",
      "Epoch 77/150\n",
      "\u001B[1m8/8\u001B[0m \u001B[32m━━━━━━━━━━━━━━━━━━━━\u001B[0m\u001B[37m\u001B[0m \u001B[1m1s\u001B[0m 157ms/step - accuracy: 0.6118 - loss: 1.0155 - val_accuracy: 0.6017 - val_loss: 1.0716\n",
      "Epoch 78/150\n",
      "\u001B[1m8/8\u001B[0m \u001B[32m━━━━━━━━━━━━━━━━━━━━\u001B[0m\u001B[37m\u001B[0m \u001B[1m1s\u001B[0m 154ms/step - accuracy: 0.6198 - loss: 1.0038 - val_accuracy: 0.5971 - val_loss: 1.0706\n",
      "Epoch 79/150\n",
      "\u001B[1m8/8\u001B[0m \u001B[32m━━━━━━━━━━━━━━━━━━━━\u001B[0m\u001B[37m\u001B[0m \u001B[1m1s\u001B[0m 153ms/step - accuracy: 0.6200 - loss: 0.9998 - val_accuracy: 0.6003 - val_loss: 1.0799\n",
      "Epoch 80/150\n",
      "\u001B[1m8/8\u001B[0m \u001B[32m━━━━━━━━━━━━━━━━━━━━\u001B[0m\u001B[37m\u001B[0m \u001B[1m2s\u001B[0m 202ms/step - accuracy: 0.6236 - loss: 0.9911 - val_accuracy: 0.5982 - val_loss: 1.0608\n",
      "Epoch 81/150\n",
      "\u001B[1m8/8\u001B[0m \u001B[32m━━━━━━━━━━━━━━━━━━━━\u001B[0m\u001B[37m\u001B[0m \u001B[1m2s\u001B[0m 198ms/step - accuracy: 0.6285 - loss: 0.9883 - val_accuracy: 0.6094 - val_loss: 1.0634\n",
      "Epoch 82/150\n",
      "\u001B[1m8/8\u001B[0m \u001B[32m━━━━━━━━━━━━━━━━━━━━\u001B[0m\u001B[37m\u001B[0m \u001B[1m1s\u001B[0m 156ms/step - accuracy: 0.6223 - loss: 0.9941 - val_accuracy: 0.6094 - val_loss: 1.0741\n",
      "Epoch 83/150\n",
      "\u001B[1m8/8\u001B[0m \u001B[32m━━━━━━━━━━━━━━━━━━━━\u001B[0m\u001B[37m\u001B[0m \u001B[1m1s\u001B[0m 151ms/step - accuracy: 0.6277 - loss: 0.9800 - val_accuracy: 0.6051 - val_loss: 1.0741\n",
      "Epoch 84/150\n",
      "\u001B[1m8/8\u001B[0m \u001B[32m━━━━━━━━━━━━━━━━━━━━\u001B[0m\u001B[37m\u001B[0m \u001B[1m1s\u001B[0m 159ms/step - accuracy: 0.6275 - loss: 0.9774 - val_accuracy: 0.6014 - val_loss: 1.0694\n",
      "Epoch 85/150\n",
      "\u001B[1m8/8\u001B[0m \u001B[32m━━━━━━━━━━━━━━━━━━━━\u001B[0m\u001B[37m\u001B[0m \u001B[1m1s\u001B[0m 152ms/step - accuracy: 0.6290 - loss: 0.9902 - val_accuracy: 0.5961 - val_loss: 1.0810\n",
      "Epoch 86/150\n",
      "\u001B[1m8/8\u001B[0m \u001B[32m━━━━━━━━━━━━━━━━━━━━\u001B[0m\u001B[37m\u001B[0m \u001B[1m1s\u001B[0m 155ms/step - accuracy: 0.6278 - loss: 0.9870 - val_accuracy: 0.6049 - val_loss: 1.0669\n",
      "Epoch 87/150\n",
      "\u001B[1m8/8\u001B[0m \u001B[32m━━━━━━━━━━━━━━━━━━━━\u001B[0m\u001B[37m\u001B[0m \u001B[1m1s\u001B[0m 165ms/step - accuracy: 0.6280 - loss: 0.9821 - val_accuracy: 0.6049 - val_loss: 1.0536\n",
      "Epoch 88/150\n",
      "\u001B[1m8/8\u001B[0m \u001B[32m━━━━━━━━━━━━━━━━━━━━\u001B[0m\u001B[37m\u001B[0m \u001B[1m1s\u001B[0m 150ms/step - accuracy: 0.6366 - loss: 0.9587 - val_accuracy: 0.6110 - val_loss: 1.0385\n",
      "Epoch 89/150\n",
      "\u001B[1m8/8\u001B[0m \u001B[32m━━━━━━━━━━━━━━━━━━━━\u001B[0m\u001B[37m\u001B[0m \u001B[1m1s\u001B[0m 139ms/step - accuracy: 0.6380 - loss: 0.9535 - val_accuracy: 0.6054 - val_loss: 1.0563\n",
      "Epoch 90/150\n",
      "\u001B[1m8/8\u001B[0m \u001B[32m━━━━━━━━━━━━━━━━━━━━\u001B[0m\u001B[37m\u001B[0m \u001B[1m1s\u001B[0m 139ms/step - accuracy: 0.6385 - loss: 0.9533 - val_accuracy: 0.6003 - val_loss: 1.0745\n",
      "Epoch 91/150\n",
      "\u001B[1m8/8\u001B[0m \u001B[32m━━━━━━━━━━━━━━━━━━━━\u001B[0m\u001B[37m\u001B[0m \u001B[1m1s\u001B[0m 142ms/step - accuracy: 0.6361 - loss: 0.9687 - val_accuracy: 0.6099 - val_loss: 1.0486\n",
      "Epoch 92/150\n",
      "\u001B[1m8/8\u001B[0m \u001B[32m━━━━━━━━━━━━━━━━━━━━\u001B[0m\u001B[37m\u001B[0m \u001B[1m1s\u001B[0m 154ms/step - accuracy: 0.6379 - loss: 0.9618 - val_accuracy: 0.6131 - val_loss: 1.0581\n",
      "Epoch 93/150\n",
      "\u001B[1m8/8\u001B[0m \u001B[32m━━━━━━━━━━━━━━━━━━━━\u001B[0m\u001B[37m\u001B[0m \u001B[1m1s\u001B[0m 138ms/step - accuracy: 0.6422 - loss: 0.9557 - val_accuracy: 0.6147 - val_loss: 1.0476\n",
      "Epoch 94/150\n",
      "\u001B[1m8/8\u001B[0m \u001B[32m━━━━━━━━━━━━━━━━━━━━\u001B[0m\u001B[37m\u001B[0m \u001B[1m1s\u001B[0m 139ms/step - accuracy: 0.6384 - loss: 0.9430 - val_accuracy: 0.5982 - val_loss: 1.0829\n",
      "Epoch 95/150\n",
      "\u001B[1m8/8\u001B[0m \u001B[32m━━━━━━━━━━━━━━━━━━━━\u001B[0m\u001B[37m\u001B[0m \u001B[1m1s\u001B[0m 138ms/step - accuracy: 0.6426 - loss: 0.9554 - val_accuracy: 0.6113 - val_loss: 1.0452\n",
      "Epoch 96/150\n",
      "\u001B[1m8/8\u001B[0m \u001B[32m━━━━━━━━━━━━━━━━━━━━\u001B[0m\u001B[37m\u001B[0m \u001B[1m1s\u001B[0m 138ms/step - accuracy: 0.6473 - loss: 0.9328 - val_accuracy: 0.6121 - val_loss: 1.0418\n",
      "Epoch 97/150\n",
      "\u001B[1m8/8\u001B[0m \u001B[32m━━━━━━━━━━━━━━━━━━━━\u001B[0m\u001B[37m\u001B[0m \u001B[1m1s\u001B[0m 145ms/step - accuracy: 0.6398 - loss: 0.9386 - val_accuracy: 0.6134 - val_loss: 1.0590\n",
      "Epoch 98/150\n",
      "\u001B[1m8/8\u001B[0m \u001B[32m━━━━━━━━━━━━━━━━━━━━\u001B[0m\u001B[37m\u001B[0m \u001B[1m1s\u001B[0m 140ms/step - accuracy: 0.6486 - loss: 0.9337 - val_accuracy: 0.6123 - val_loss: 1.0480\n",
      "Epoch 99/150\n",
      "\u001B[1m8/8\u001B[0m \u001B[32m━━━━━━━━━━━━━━━━━━━━\u001B[0m\u001B[37m\u001B[0m \u001B[1m1s\u001B[0m 139ms/step - accuracy: 0.6466 - loss: 0.9377 - val_accuracy: 0.6083 - val_loss: 1.0614\n",
      "Epoch 100/150\n",
      "\u001B[1m8/8\u001B[0m \u001B[32m━━━━━━━━━━━━━━━━━━━━\u001B[0m\u001B[37m\u001B[0m \u001B[1m1s\u001B[0m 141ms/step - accuracy: 0.6483 - loss: 0.9292 - val_accuracy: 0.6153 - val_loss: 1.0410\n",
      "Epoch 101/150\n",
      "\u001B[1m8/8\u001B[0m \u001B[32m━━━━━━━━━━━━━━━━━━━━\u001B[0m\u001B[37m\u001B[0m \u001B[1m1s\u001B[0m 158ms/step - accuracy: 0.6547 - loss: 0.9204 - val_accuracy: 0.6190 - val_loss: 1.0456\n",
      "Epoch 102/150\n",
      "\u001B[1m8/8\u001B[0m \u001B[32m━━━━━━━━━━━━━━━━━━━━\u001B[0m\u001B[37m\u001B[0m \u001B[1m1s\u001B[0m 162ms/step - accuracy: 0.6544 - loss: 0.9118 - val_accuracy: 0.6139 - val_loss: 1.0579\n",
      "Epoch 103/150\n",
      "\u001B[1m8/8\u001B[0m \u001B[32m━━━━━━━━━━━━━━━━━━━━\u001B[0m\u001B[37m\u001B[0m \u001B[1m1s\u001B[0m 180ms/step - accuracy: 0.6589 - loss: 0.9054 - val_accuracy: 0.6209 - val_loss: 1.0326\n",
      "Epoch 104/150\n",
      "\u001B[1m8/8\u001B[0m \u001B[32m━━━━━━━━━━━━━━━━━━━━\u001B[0m\u001B[37m\u001B[0m \u001B[1m1s\u001B[0m 176ms/step - accuracy: 0.6577 - loss: 0.9085 - val_accuracy: 0.6241 - val_loss: 1.0557\n",
      "Epoch 105/150\n",
      "\u001B[1m8/8\u001B[0m \u001B[32m━━━━━━━━━━━━━━━━━━━━\u001B[0m\u001B[37m\u001B[0m \u001B[1m1s\u001B[0m 154ms/step - accuracy: 0.6649 - loss: 0.8942 - val_accuracy: 0.6195 - val_loss: 1.0465\n",
      "Epoch 106/150\n",
      "\u001B[1m8/8\u001B[0m \u001B[32m━━━━━━━━━━━━━━━━━━━━\u001B[0m\u001B[37m\u001B[0m \u001B[1m1s\u001B[0m 145ms/step - accuracy: 0.6614 - loss: 0.8961 - val_accuracy: 0.6214 - val_loss: 1.0385\n",
      "Epoch 107/150\n",
      "\u001B[1m8/8\u001B[0m \u001B[32m━━━━━━━━━━━━━━━━━━━━\u001B[0m\u001B[37m\u001B[0m \u001B[1m1s\u001B[0m 141ms/step - accuracy: 0.6677 - loss: 0.8897 - val_accuracy: 0.6313 - val_loss: 1.0287\n",
      "Epoch 108/150\n",
      "\u001B[1m8/8\u001B[0m \u001B[32m━━━━━━━━━━━━━━━━━━━━\u001B[0m\u001B[37m\u001B[0m \u001B[1m1s\u001B[0m 143ms/step - accuracy: 0.6651 - loss: 0.8833 - val_accuracy: 0.6102 - val_loss: 1.0719\n",
      "Epoch 109/150\n",
      "\u001B[1m8/8\u001B[0m \u001B[32m━━━━━━━━━━━━━━━━━━━━\u001B[0m\u001B[37m\u001B[0m \u001B[1m1s\u001B[0m 142ms/step - accuracy: 0.6587 - loss: 0.9043 - val_accuracy: 0.6214 - val_loss: 1.0431\n",
      "Epoch 110/150\n",
      "\u001B[1m8/8\u001B[0m \u001B[32m━━━━━━━━━━━━━━━━━━━━\u001B[0m\u001B[37m\u001B[0m \u001B[1m1s\u001B[0m 143ms/step - accuracy: 0.6601 - loss: 0.8872 - val_accuracy: 0.6374 - val_loss: 1.0382\n",
      "Epoch 111/150\n",
      "\u001B[1m8/8\u001B[0m \u001B[32m━━━━━━━━━━━━━━━━━━━━\u001B[0m\u001B[37m\u001B[0m \u001B[1m1s\u001B[0m 142ms/step - accuracy: 0.6737 - loss: 0.8751 - val_accuracy: 0.6337 - val_loss: 1.0168\n",
      "Epoch 112/150\n",
      "\u001B[1m8/8\u001B[0m \u001B[32m━━━━━━━━━━━━━━━━━━━━\u001B[0m\u001B[37m\u001B[0m \u001B[1m1s\u001B[0m 141ms/step - accuracy: 0.6708 - loss: 0.8755 - val_accuracy: 0.6201 - val_loss: 1.0485\n",
      "Epoch 113/150\n",
      "\u001B[1m8/8\u001B[0m \u001B[32m━━━━━━━━━━━━━━━━━━━━\u001B[0m\u001B[37m\u001B[0m \u001B[1m1s\u001B[0m 142ms/step - accuracy: 0.6673 - loss: 0.8764 - val_accuracy: 0.6310 - val_loss: 1.0236\n",
      "Epoch 114/150\n",
      "\u001B[1m8/8\u001B[0m \u001B[32m━━━━━━━━━━━━━━━━━━━━\u001B[0m\u001B[37m\u001B[0m \u001B[1m1s\u001B[0m 143ms/step - accuracy: 0.6722 - loss: 0.8654 - val_accuracy: 0.6083 - val_loss: 1.0967\n",
      "Epoch 115/150\n",
      "\u001B[1m8/8\u001B[0m \u001B[32m━━━━━━━━━━━━━━━━━━━━\u001B[0m\u001B[37m\u001B[0m \u001B[1m1s\u001B[0m 143ms/step - accuracy: 0.6672 - loss: 0.8870 - val_accuracy: 0.6326 - val_loss: 1.0380\n",
      "Epoch 116/150\n",
      "\u001B[1m8/8\u001B[0m \u001B[32m━━━━━━━━━━━━━━━━━━━━\u001B[0m\u001B[37m\u001B[0m \u001B[1m1s\u001B[0m 143ms/step - accuracy: 0.6805 - loss: 0.8396 - val_accuracy: 0.6275 - val_loss: 1.0537\n",
      "Epoch 117/150\n",
      "\u001B[1m8/8\u001B[0m \u001B[32m━━━━━━━━━━━━━━━━━━━━\u001B[0m\u001B[37m\u001B[0m \u001B[1m1s\u001B[0m 145ms/step - accuracy: 0.6813 - loss: 0.8517 - val_accuracy: 0.6235 - val_loss: 1.0337\n",
      "Epoch 118/150\n",
      "\u001B[1m8/8\u001B[0m \u001B[32m━━━━━━━━━━━━━━━━━━━━\u001B[0m\u001B[37m\u001B[0m \u001B[1m1s\u001B[0m 143ms/step - accuracy: 0.6828 - loss: 0.8588 - val_accuracy: 0.6355 - val_loss: 1.0294\n",
      "Epoch 119/150\n",
      "\u001B[1m8/8\u001B[0m \u001B[32m━━━━━━━━━━━━━━━━━━━━\u001B[0m\u001B[37m\u001B[0m \u001B[1m1s\u001B[0m 140ms/step - accuracy: 0.6767 - loss: 0.8551 - val_accuracy: 0.6278 - val_loss: 1.0541\n",
      "Epoch 120/150\n",
      "\u001B[1m8/8\u001B[0m \u001B[32m━━━━━━━━━━━━━━━━━━━━\u001B[0m\u001B[37m\u001B[0m \u001B[1m1s\u001B[0m 147ms/step - accuracy: 0.6820 - loss: 0.8477 - val_accuracy: 0.6270 - val_loss: 1.0588\n",
      "Epoch 121/150\n",
      "\u001B[1m8/8\u001B[0m \u001B[32m━━━━━━━━━━━━━━━━━━━━\u001B[0m\u001B[37m\u001B[0m \u001B[1m1s\u001B[0m 147ms/step - accuracy: 0.6768 - loss: 0.8529 - val_accuracy: 0.6353 - val_loss: 1.0289\n",
      "Epoch 122/150\n",
      "\u001B[1m8/8\u001B[0m \u001B[32m━━━━━━━━━━━━━━━━━━━━\u001B[0m\u001B[37m\u001B[0m \u001B[1m1s\u001B[0m 146ms/step - accuracy: 0.6852 - loss: 0.8358 - val_accuracy: 0.6366 - val_loss: 1.0337\n",
      "Epoch 123/150\n",
      "\u001B[1m8/8\u001B[0m \u001B[32m━━━━━━━━━━━━━━━━━━━━\u001B[0m\u001B[37m\u001B[0m \u001B[1m1s\u001B[0m 146ms/step - accuracy: 0.6942 - loss: 0.8162 - val_accuracy: 0.6318 - val_loss: 1.0429\n",
      "Epoch 124/150\n",
      "\u001B[1m8/8\u001B[0m \u001B[32m━━━━━━━━━━━━━━━━━━━━\u001B[0m\u001B[37m\u001B[0m \u001B[1m1s\u001B[0m 142ms/step - accuracy: 0.6891 - loss: 0.8327 - val_accuracy: 0.6281 - val_loss: 1.0560\n",
      "Epoch 125/150\n",
      "\u001B[1m8/8\u001B[0m \u001B[32m━━━━━━━━━━━━━━━━━━━━\u001B[0m\u001B[37m\u001B[0m \u001B[1m1s\u001B[0m 141ms/step - accuracy: 0.6911 - loss: 0.8353 - val_accuracy: 0.6318 - val_loss: 1.0564\n",
      "Epoch 126/150\n",
      "\u001B[1m8/8\u001B[0m \u001B[32m━━━━━━━━━━━━━━━━━━━━\u001B[0m\u001B[37m\u001B[0m \u001B[1m1s\u001B[0m 141ms/step - accuracy: 0.6813 - loss: 0.8350 - val_accuracy: 0.6310 - val_loss: 1.0599\n",
      "Epoch 127/150\n",
      "\u001B[1m8/8\u001B[0m \u001B[32m━━━━━━━━━━━━━━━━━━━━\u001B[0m\u001B[37m\u001B[0m \u001B[1m1s\u001B[0m 140ms/step - accuracy: 0.6913 - loss: 0.8339 - val_accuracy: 0.6374 - val_loss: 1.0522\n",
      "Epoch 128/150\n",
      "\u001B[1m8/8\u001B[0m \u001B[32m━━━━━━━━━━━━━━━━━━━━\u001B[0m\u001B[37m\u001B[0m \u001B[1m1s\u001B[0m 137ms/step - accuracy: 0.6923 - loss: 0.8212 - val_accuracy: 0.6238 - val_loss: 1.0489\n",
      "Epoch 129/150\n",
      "\u001B[1m8/8\u001B[0m \u001B[32m━━━━━━━━━━━━━━━━━━━━\u001B[0m\u001B[37m\u001B[0m \u001B[1m1s\u001B[0m 137ms/step - accuracy: 0.6877 - loss: 0.8291 - val_accuracy: 0.6243 - val_loss: 1.0431\n",
      "Epoch 130/150\n",
      "\u001B[1m8/8\u001B[0m \u001B[32m━━━━━━━━━━━━━━━━━━━━\u001B[0m\u001B[37m\u001B[0m \u001B[1m1s\u001B[0m 136ms/step - accuracy: 0.6909 - loss: 0.8319 - val_accuracy: 0.6395 - val_loss: 1.0601\n",
      "Epoch 131/150\n",
      "\u001B[1m8/8\u001B[0m \u001B[32m━━━━━━━━━━━━━━━━━━━━\u001B[0m\u001B[37m\u001B[0m \u001B[1m1s\u001B[0m 141ms/step - accuracy: 0.6893 - loss: 0.8297 - val_accuracy: 0.6347 - val_loss: 1.0364\n",
      "Epoch 132/150\n",
      "\u001B[1m8/8\u001B[0m \u001B[32m━━━━━━━━━━━━━━━━━━━━\u001B[0m\u001B[37m\u001B[0m \u001B[1m1s\u001B[0m 139ms/step - accuracy: 0.6954 - loss: 0.8066 - val_accuracy: 0.6355 - val_loss: 1.0519\n",
      "Epoch 133/150\n",
      "\u001B[1m8/8\u001B[0m \u001B[32m━━━━━━━━━━━━━━━━━━━━\u001B[0m\u001B[37m\u001B[0m \u001B[1m1s\u001B[0m 138ms/step - accuracy: 0.6921 - loss: 0.8211 - val_accuracy: 0.6185 - val_loss: 1.0835\n",
      "Epoch 134/150\n",
      "\u001B[1m8/8\u001B[0m \u001B[32m━━━━━━━━━━━━━━━━━━━━\u001B[0m\u001B[37m\u001B[0m \u001B[1m1s\u001B[0m 141ms/step - accuracy: 0.6846 - loss: 0.8320 - val_accuracy: 0.6318 - val_loss: 1.0565\n",
      "Epoch 135/150\n",
      "\u001B[1m8/8\u001B[0m \u001B[32m━━━━━━━━━━━━━━━━━━━━\u001B[0m\u001B[37m\u001B[0m \u001B[1m1s\u001B[0m 138ms/step - accuracy: 0.6976 - loss: 0.8109 - val_accuracy: 0.6275 - val_loss: 1.0625\n",
      "Epoch 136/150\n",
      "\u001B[1m8/8\u001B[0m \u001B[32m━━━━━━━━━━━━━━━━━━━━\u001B[0m\u001B[37m\u001B[0m \u001B[1m1s\u001B[0m 137ms/step - accuracy: 0.6900 - loss: 0.8178 - val_accuracy: 0.6358 - val_loss: 1.0413\n",
      "Epoch 137/150\n",
      "\u001B[1m8/8\u001B[0m \u001B[32m━━━━━━━━━━━━━━━━━━━━\u001B[0m\u001B[37m\u001B[0m \u001B[1m1s\u001B[0m 138ms/step - accuracy: 0.7018 - loss: 0.8009 - val_accuracy: 0.6305 - val_loss: 1.0709\n",
      "Epoch 138/150\n",
      "\u001B[1m8/8\u001B[0m \u001B[32m━━━━━━━━━━━━━━━━━━━━\u001B[0m\u001B[37m\u001B[0m \u001B[1m1s\u001B[0m 149ms/step - accuracy: 0.7019 - loss: 0.8017 - val_accuracy: 0.6289 - val_loss: 1.0516\n",
      "Epoch 139/150\n",
      "\u001B[1m8/8\u001B[0m \u001B[32m━━━━━━━━━━━━━━━━━━━━\u001B[0m\u001B[37m\u001B[0m \u001B[1m1s\u001B[0m 136ms/step - accuracy: 0.7001 - loss: 0.7936 - val_accuracy: 0.6278 - val_loss: 1.0517\n",
      "Epoch 140/150\n",
      "\u001B[1m8/8\u001B[0m \u001B[32m━━━━━━━━━━━━━━━━━━━━\u001B[0m\u001B[37m\u001B[0m \u001B[1m1s\u001B[0m 136ms/step - accuracy: 0.7031 - loss: 0.7855 - val_accuracy: 0.6214 - val_loss: 1.0808\n",
      "Epoch 141/150\n",
      "\u001B[1m8/8\u001B[0m \u001B[32m━━━━━━━━━━━━━━━━━━━━\u001B[0m\u001B[37m\u001B[0m \u001B[1m1s\u001B[0m 144ms/step - accuracy: 0.7096 - loss: 0.7974 - val_accuracy: 0.6241 - val_loss: 1.1073\n",
      "Epoch 142/150\n",
      "\u001B[1m8/8\u001B[0m \u001B[32m━━━━━━━━━━━━━━━━━━━━\u001B[0m\u001B[37m\u001B[0m \u001B[1m1s\u001B[0m 141ms/step - accuracy: 0.7016 - loss: 0.7904 - val_accuracy: 0.6409 - val_loss: 1.0239\n",
      "Epoch 143/150\n",
      "\u001B[1m8/8\u001B[0m \u001B[32m━━━━━━━━━━━━━━━━━━━━\u001B[0m\u001B[37m\u001B[0m \u001B[1m1s\u001B[0m 140ms/step - accuracy: 0.7059 - loss: 0.7817 - val_accuracy: 0.6387 - val_loss: 1.0533\n",
      "Epoch 144/150\n",
      "\u001B[1m8/8\u001B[0m \u001B[32m━━━━━━━━━━━━━━━━━━━━\u001B[0m\u001B[37m\u001B[0m \u001B[1m1s\u001B[0m 142ms/step - accuracy: 0.7054 - loss: 0.7872 - val_accuracy: 0.6403 - val_loss: 1.0613\n",
      "Epoch 145/150\n",
      "\u001B[1m8/8\u001B[0m \u001B[32m━━━━━━━━━━━━━━━━━━━━\u001B[0m\u001B[37m\u001B[0m \u001B[1m1s\u001B[0m 139ms/step - accuracy: 0.7089 - loss: 0.7836 - val_accuracy: 0.6243 - val_loss: 1.1106\n",
      "Epoch 146/150\n",
      "\u001B[1m8/8\u001B[0m \u001B[32m━━━━━━━━━━━━━━━━━━━━\u001B[0m\u001B[37m\u001B[0m \u001B[1m1s\u001B[0m 141ms/step - accuracy: 0.6984 - loss: 0.8056 - val_accuracy: 0.6403 - val_loss: 1.0520\n",
      "Epoch 147/150\n",
      "\u001B[1m8/8\u001B[0m \u001B[32m━━━━━━━━━━━━━━━━━━━━\u001B[0m\u001B[37m\u001B[0m \u001B[1m1s\u001B[0m 145ms/step - accuracy: 0.7011 - loss: 0.7907 - val_accuracy: 0.6321 - val_loss: 1.0550\n",
      "Epoch 148/150\n",
      "\u001B[1m8/8\u001B[0m \u001B[32m━━━━━━━━━━━━━━━━━━━━\u001B[0m\u001B[37m\u001B[0m \u001B[1m1s\u001B[0m 138ms/step - accuracy: 0.7049 - loss: 0.7953 - val_accuracy: 0.6361 - val_loss: 1.0792\n",
      "Epoch 149/150\n",
      "\u001B[1m8/8\u001B[0m \u001B[32m━━━━━━━━━━━━━━━━━━━━\u001B[0m\u001B[37m\u001B[0m \u001B[1m1s\u001B[0m 139ms/step - accuracy: 0.6990 - loss: 0.7985 - val_accuracy: 0.6379 - val_loss: 1.0454\n",
      "Epoch 150/150\n",
      "\u001B[1m8/8\u001B[0m \u001B[32m━━━━━━━━━━━━━━━━━━━━\u001B[0m\u001B[37m\u001B[0m \u001B[1m1s\u001B[0m 141ms/step - accuracy: 0.7069 - loss: 0.7712 - val_accuracy: 0.6374 - val_loss: 1.0573\n"
     ]
    }
   ],
   "execution_count": 5
  },
  {
   "metadata": {},
   "cell_type": "markdown",
   "source": [
    "# Loss evaluation\n",
    "\n",
    "Seeing how the model's loss changes by the epoch"
   ],
   "id": "28458dd6caeaf05c"
  },
  {
   "cell_type": "code",
   "source": [
    "%matplotlib inline\n",
    "plt.plot(history.history['loss'])\n",
    "plt.plot(history.history['val_loss'])\n",
    "plt.title(\"Loss\")\n",
    "plt.legend(['Train', 'Val'], loc='upper right')\n",
    "plt.ylabel('Loss')\n",
    "plt.xlabel('Epoch')"
   ],
   "metadata": {
    "collapsed": false,
    "ExecuteTime": {
     "end_time": "2024-05-12T00:21:51.375032Z",
     "start_time": "2024-05-12T00:21:51.262268Z"
    }
   },
   "id": "db97a7f3cc91e456",
   "outputs": [
    {
     "data": {
      "text/plain": "Text(0.5, 0, 'Epoch')"
     },
     "execution_count": 6,
     "metadata": {},
     "output_type": "execute_result"
    },
    {
     "data": {
      "text/plain": "<Figure size 640x480 with 1 Axes>",
      "image/png": "[encoded data removed]"
     },
     "metadata": {},
     "output_type": "display_data"
    }
   ],
   "execution_count": 6
  },
  {
   "metadata": {},
   "cell_type": "markdown",
   "source": [
    "# Loss evaluation\n",
    "\n",
    "Seeing how the model's loss changes by the epoch"
   ],
   "id": "47dd11a44349b4d5"
  },
  {
   "metadata": {
    "ExecuteTime": {
     "end_time": "2024-05-12T00:21:51.467062Z",
     "start_time": "2024-05-12T00:21:51.385301Z"
    }
   },
   "cell_type": "code",
   "source": [
    "%matplotlib inline\n",
    "plt.plot(history.history['accuracy'])\n",
    "plt.plot(history.history['val_accuracy'])\n",
    "plt.title(\"Accuracy\")\n",
    "plt.legend(['Train', 'Val'], loc='upper right')\n",
    "plt.ylabel('Accuracy')\n",
    "plt.xlabel('Epoch')"
   ],
   "id": "4a03b62d16638245",
   "outputs": [
    {
     "data": {
      "text/plain": "Text(0.5, 0, 'Epoch')"
     },
     "execution_count": 7,
     "metadata": {},
     "output_type": "execute_result"
    },
    {
     "data": {
      "text/plain": "<Figure size 640x480 with 1 Axes>",
      "image/png": "[encoded data removed]"
     },
     "metadata": {},
     "output_type": "display_data"
    }
   ],
   "execution_count": 7
  },
  {
   "cell_type": "markdown",
   "source": [
    "# Prediction"
   ],
   "metadata": {
    "collapsed": false
   },
   "id": "4fb3930ce2fec85d"
  },
  {
   "cell_type": "code",
   "source": [
    "prediction_word = \"времяпрепровождение\"\n",
    "print(f\"Text before preprocessing: {prediction_word}\")\n",
    "prediction_word = preprocess(prediction_word)\n",
    "print(f\"Text after preprocessing: {prediction_word}\")\n",
    "prediction_word = tokenizer.texts_to_sequences([prediction_word])\n",
    "prediction_word = pad_sequences(prediction_word, maxlen=input_dim)\n",
    "prediction = model.predict([prediction_word])\n",
    "output_probabilities = np.array(prediction)\n",
    "result = {}\n",
    "class_labels = np.unique(y_df.columns)\n",
    "for index, prediction in enumerate(output_probabilities[0]):\n",
    "    result.update({class_labels[index]: round(prediction * 100, 1)})\n",
    "\n",
    "# Print keys and values of the result dictionary\n",
    "for key, value in result.items():\n",
    "    print(f\"{key}: {value}\")"
   ],
   "metadata": {
    "collapsed": false,
    "ExecuteTime": {
     "end_time": "2024-05-12T00:21:51.564704Z",
     "start_time": "2024-05-12T00:21:51.470213Z"
    }
   },
   "id": "2af1ef5d86413ee6",
   "outputs": [
    {
     "name": "stdout",
     "output_type": "stream",
     "text": [
      "Text before preprocessing: времяпрепровождение\n",
      "Text after preprocessing: vremiapreprovozhdenie vremiapreprovozhdenie\n",
      "\u001B[1m1/1\u001B[0m \u001B[32m━━━━━━━━━━━━━━━━━━━━\u001B[0m\u001B[37m\u001B[0m \u001B[1m0s\u001B[0m 74ms/step\n",
      "Language_Bulgarian: 12.3\n",
      "Language_Czech: 0.0\n",
      "Language_Polish: 1.3\n",
      "Language_Russian: 86.4\n",
      "Language_Serbian: 0.0\n",
      "Language_Slovenian: 0.0\n"
     ]
    }
   ],
   "execution_count": 8
  },
  {
   "cell_type": "markdown",
   "source": [
    "# Save model\n",
    "Here a model can be loaded"
   ],
   "metadata": {
    "collapsed": false
   },
   "id": "7346b90cf1a2f553"
  },
  {
   "cell_type": "code",
   "source": [
    "model.save('./models/model_slavic.keras')\n",
    "tokenizer_json = tokenizer.to_json()\n",
    "with open('./tokenizer_configs/tokenizer_config_slavic.json', 'w') as config_file:\n",
    "    config_file.write(json.dumps(tokenizer_json, ensure_ascii=False))"
   ],
   "metadata": {
    "collapsed": false,
    "ExecuteTime": {
     "end_time": "2024-05-12T00:21:51.587374Z",
     "start_time": "2024-05-12T00:21:51.566066Z"
    }
   },
   "id": "f103d5e7cc3146d9",
   "outputs": [],
   "execution_count": 9
  },
  {
   "cell_type": "markdown",
   "source": [
    "# Load model\n",
    "Here a model can be loaded"
   ],
   "metadata": {
    "collapsed": false
   },
   "id": "e0cf8ae450614ab7"
  },
  {
   "cell_type": "code",
   "source": [
    "model = load_model('./models/model_slavic.keras')"
   ],
   "metadata": {
    "collapsed": false,
    "ExecuteTime": {
     "end_time": "2024-05-12T00:21:51.634777Z",
     "start_time": "2024-05-12T00:21:51.585929Z"
    }
   },
   "id": "c0bbfbb51379fba0",
   "outputs": [],
   "execution_count": 10
  },
  {
   "cell_type": "code",
   "outputs": [],
   "source": [],
   "metadata": {
    "collapsed": false,
    "ExecuteTime": {
     "end_time": "2024-05-12T00:21:51.636160Z",
     "start_time": "2024-05-12T00:21:51.634154Z"
    }
   },
   "id": "f45de99f223bed4c",
   "execution_count": 10
  }
 ],
 "metadata": {
  "kernelspec": {
   "display_name": "Python 3",
   "language": "python",
   "name": "python3"
  },
  "language_info": {
   "codemirror_mode": {
    "name": "ipython",
    "version": 2
   },
   "file_extension": ".py",
   "mimetype": "text/x-python",
   "name": "python",
   "nbconvert_exporter": "python",
   "pygments_lexer": "ipython2",
   "version": "2.7.6"
  }
 },
 "nbformat": 4,
 "nbformat_minor": 5
}
