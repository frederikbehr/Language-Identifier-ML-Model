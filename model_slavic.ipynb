{
 "cells": [
  {
   "cell_type": "code",
   "id": "initial_id",
   "metadata": {
    "collapsed": true,
    "ExecuteTime": {
     "end_time": "2024-05-11T02:18:33.082097Z",
     "start_time": "2024-05-11T02:18:33.056799Z"
    }
   },
   "source": [
    "import numpy as np\n",
    "import pandas as pd\n",
    "import matplotlib.pyplot as plt\n",
    "import tensorflow as tf\n",
    "from tensorflow.keras.models import Sequential, load_model\n",
    "from tensorflow.keras.layers import Dense, Conv1D, LSTM, Dropout, Flatten\n",
    "from tensorflow.keras import optimizers\n",
    "from tensorflow.keras.preprocessing.text import Tokenizer\n",
    "from keras.src.utils import pad_sequences\n",
    "from sklearn.model_selection import train_test_split\n",
    "from custom_preprocessor import preprocess"
   ],
   "outputs": [],
   "execution_count": 72
  },
  {
   "cell_type": "markdown",
   "source": [
    "# Get data\n",
    "Pandas is used to get the data from the project directory.\n",
    "The data is a .csv file, that has been created by book texts and prepared to be listed in the file word-by-word."
   ],
   "metadata": {
    "collapsed": false
   },
   "id": "b20ed3afab281b03"
  },
  {
   "cell_type": "code",
   "source": [
    "df = pd.read_csv('./data/dataset_slavic.csv')\n",
    "df = df.sample(frac=1.0, random_state=12)\n",
    "df.head()"
   ],
   "metadata": {
    "collapsed": false,
    "ExecuteTime": {
     "end_time": "2024-05-11T02:18:33.094293Z",
     "start_time": "2024-05-11T02:18:33.072704Z"
    }
   },
   "id": "9934f095638f49f4",
   "outputs": [
    {
     "data": {
      "text/plain": "                                                   Word   Language\n9087            sa vrlo sa vrlo sa vrlo sa vrlo sa vrlo    Serbian\n420    dva i polovina dva i polovina dva i polovina dva  Bulgarian\n13458    juri je naglo juri je naglo juri je naglo juri  Slovenian\n5949       detstvi z domu detstvi z domu detstvi z domu      Czech\n1416          i tretata i tretata i tretata i tretata i  Bulgarian",
      "text/html": "<div>\n<style scoped>\n    .dataframe tbody tr th:only-of-type {\n        vertical-align: middle;\n    }\n\n    .dataframe tbody tr th {\n        vertical-align: top;\n    }\n\n    .dataframe thead th {\n        text-align: right;\n    }\n</style>\n<table border=\"1\" class=\"dataframe\">\n  <thead>\n    <tr style=\"text-align: right;\">\n      <th></th>\n      <th>Word</th>\n      <th>Language</th>\n    </tr>\n  </thead>\n  <tbody>\n    <tr>\n      <th>9087</th>\n      <td>sa vrlo sa vrlo sa vrlo sa vrlo sa vrlo</td>\n      <td>Serbian</td>\n    </tr>\n    <tr>\n      <th>420</th>\n      <td>dva i polovina dva i polovina dva i polovina dva</td>\n      <td>Bulgarian</td>\n    </tr>\n    <tr>\n      <th>13458</th>\n      <td>juri je naglo juri je naglo juri je naglo juri</td>\n      <td>Slovenian</td>\n    </tr>\n    <tr>\n      <th>5949</th>\n      <td>detstvi z domu detstvi z domu detstvi z domu</td>\n      <td>Czech</td>\n    </tr>\n    <tr>\n      <th>1416</th>\n      <td>i tretata i tretata i tretata i tretata i</td>\n      <td>Bulgarian</td>\n    </tr>\n  </tbody>\n</table>\n</div>"
     },
     "execution_count": 73,
     "metadata": {},
     "output_type": "execute_result"
    }
   ],
   "execution_count": 73
  },
  {
   "cell_type": "markdown",
   "source": [
    "# Prepare data\n",
    "Divide the data into X and y. X is input and y is the desired output.\n",
    "One-Hot Encode it, so the language is categorical. This is done with Pandas."
   ],
   "metadata": {
    "collapsed": false
   },
   "id": "e375f9241e794ae4"
  },
  {
   "cell_type": "code",
   "source": [
    "# Getting X - the input values\n",
    "X = df.iloc[:, :-1]\n",
    "X.loc[:, 'Word'] = X['Word'].astype(str)\n",
    "tokenizer = Tokenizer(char_level=True) # Used for turning the words into numbers\n",
    "tokenizer.fit_on_texts(X['Word'].tolist()) # Giving Tokenizer the data it needs to learn how to encode the words\n",
    "X_sequences = tokenizer.texts_to_sequences(X['Word'].tolist()) # Now the words are encoded into sequences\n",
    "input_dim = max(len(seq) for seq in X_sequences)\n",
    "print(f\"Input dimension: {input_dim}\")\n",
    "X = pad_sequences(\n",
    "    X_sequences, \n",
    "    maxlen=input_dim, \n",
    "    padding='post'\n",
    ") # Making all input values be of same length\n",
    "print(f\"Rows: {len(X)}\")\n",
    "\n",
    "# Getting y - the output values\n",
    "y_df = pd.get_dummies(df.iloc[:, -1:])\n",
    "y = y_df.values\n",
    "print(f\"Amount of languages to identify: {len(y[1])}\")\n",
    "\n",
    "X_train, X_val, y_train, y_val = train_test_split(X, y, test_size=0.2, random_state=42)\n",
    "X_train = X_train.reshape(X_train.shape[0], X_train.shape[1], 1)"
   ],
   "metadata": {
    "collapsed": false,
    "ExecuteTime": {
     "end_time": "2024-05-11T02:18:33.333721Z",
     "start_time": "2024-05-11T02:18:33.093994Z"
    }
   },
   "id": "ba4d86402045de27",
   "outputs": [
    {
     "name": "stdout",
     "output_type": "stream",
     "text": [
      "Input dimension: 48\n",
      "Rows: 18738\n",
      "Amount of languages to identify: 6\n"
     ]
    }
   ],
   "execution_count": 74
  },
  {
   "cell_type": "code",
   "source": [
    "model = Sequential()\n",
    "model.add(Conv1D(input_dim, 2, activation='relu'))  # Convolutional layer\n",
    "tf.keras.layers.SimpleRNN(8, activation='relu')\n",
    "model.add(LSTM(32, return_sequences=True))\n",
    "model.add(Flatten())\n",
    "model.add(Dropout(0.5))\n",
    "model.add(Dense(len(y[1]), activation='softmax'))\n",
    "adam = optimizers.Adam(learning_rate=0.01)\n",
    "model.compile(loss='categorical_crossentropy', optimizer=adam, metrics=['accuracy'])"
   ],
   "metadata": {
    "collapsed": false,
    "ExecuteTime": {
     "end_time": "2024-05-11T02:18:33.342314Z",
     "start_time": "2024-05-11T02:18:33.334836Z"
    }
   },
   "id": "c870f2fa48fe956c",
   "outputs": [],
   "execution_count": 75
  },
  {
   "cell_type": "code",
   "source": [
    "history = model.fit(X_train, y_train, validation_data=(X_val, y_val), epochs=150, batch_size=2048,verbose=1)"
   ],
   "metadata": {
    "collapsed": false,
    "ExecuteTime": {
     "end_time": "2024-05-11T02:21:24.126783Z",
     "start_time": "2024-05-11T02:18:33.344161Z"
    }
   },
   "id": "d9a29cb1ff2dcba7",
   "outputs": [
    {
     "name": "stdout",
     "output_type": "stream",
     "text": [
      "Epoch 1/150\n",
      "\u001B[1m8/8\u001B[0m \u001B[32m━━━━━━━━━━━━━━━━━━━━\u001B[0m\u001B[37m\u001B[0m \u001B[1m2s\u001B[0m 147ms/step - accuracy: 0.1650 - loss: 2.2413 - val_accuracy: 0.1700 - val_loss: 1.8247\n",
      "Epoch 2/150\n",
      "\u001B[1m8/8\u001B[0m \u001B[32m━━━━━━━━━━━━━━━━━━━━\u001B[0m\u001B[37m\u001B[0m \u001B[1m1s\u001B[0m 138ms/step - accuracy: 0.1793 - loss: 1.8240 - val_accuracy: 0.1734 - val_loss: 1.8051\n",
      "Epoch 3/150\n",
      "\u001B[1m8/8\u001B[0m \u001B[32m━━━━━━━━━━━━━━━━━━━━\u001B[0m\u001B[37m\u001B[0m \u001B[1m1s\u001B[0m 137ms/step - accuracy: 0.1906 - loss: 1.7905 - val_accuracy: 0.2711 - val_loss: 1.7709\n",
      "Epoch 4/150\n",
      "\u001B[1m8/8\u001B[0m \u001B[32m━━━━━━━━━━━━━━━━━━━━\u001B[0m\u001B[37m\u001B[0m \u001B[1m1s\u001B[0m 136ms/step - accuracy: 0.2459 - loss: 1.7706 - val_accuracy: 0.2556 - val_loss: 1.7535\n",
      "Epoch 5/150\n",
      "\u001B[1m8/8\u001B[0m \u001B[32m━━━━━━━━━━━━━━━━━━━━\u001B[0m\u001B[37m\u001B[0m \u001B[1m1s\u001B[0m 136ms/step - accuracy: 0.2680 - loss: 1.7457 - val_accuracy: 0.2911 - val_loss: 1.7119\n",
      "Epoch 6/150\n",
      "\u001B[1m8/8\u001B[0m \u001B[32m━━━━━━━━━━━━━━━━━━━━\u001B[0m\u001B[37m\u001B[0m \u001B[1m1s\u001B[0m 136ms/step - accuracy: 0.2825 - loss: 1.7150 - val_accuracy: 0.3108 - val_loss: 1.6836\n",
      "Epoch 7/150\n",
      "\u001B[1m8/8\u001B[0m \u001B[32m━━━━━━━━━━━━━━━━━━━━\u001B[0m\u001B[37m\u001B[0m \u001B[1m1s\u001B[0m 137ms/step - accuracy: 0.3054 - loss: 1.6861 - val_accuracy: 0.3231 - val_loss: 1.6535\n",
      "Epoch 8/150\n",
      "\u001B[1m8/8\u001B[0m \u001B[32m━━━━━━━━━━━━━━━━━━━━\u001B[0m\u001B[37m\u001B[0m \u001B[1m1s\u001B[0m 137ms/step - accuracy: 0.3091 - loss: 1.6633 - val_accuracy: 0.3298 - val_loss: 1.6313\n",
      "Epoch 9/150\n",
      "\u001B[1m8/8\u001B[0m \u001B[32m━━━━━━━━━━━━━━━━━━━━\u001B[0m\u001B[37m\u001B[0m \u001B[1m1s\u001B[0m 137ms/step - accuracy: 0.3194 - loss: 1.6502 - val_accuracy: 0.3031 - val_loss: 1.6516\n",
      "Epoch 10/150\n",
      "\u001B[1m8/8\u001B[0m \u001B[32m━━━━━━━━━━━━━━━━━━━━\u001B[0m\u001B[37m\u001B[0m \u001B[1m1s\u001B[0m 137ms/step - accuracy: 0.3108 - loss: 1.6608 - val_accuracy: 0.3338 - val_loss: 1.6243\n",
      "Epoch 11/150\n",
      "\u001B[1m8/8\u001B[0m \u001B[32m━━━━━━━━━━━━━━━━━━━━\u001B[0m\u001B[37m\u001B[0m \u001B[1m1s\u001B[0m 138ms/step - accuracy: 0.3313 - loss: 1.6284 - val_accuracy: 0.3453 - val_loss: 1.6024\n",
      "Epoch 12/150\n",
      "\u001B[1m8/8\u001B[0m \u001B[32m━━━━━━━━━━━━━━━━━━━━\u001B[0m\u001B[37m\u001B[0m \u001B[1m1s\u001B[0m 137ms/step - accuracy: 0.3395 - loss: 1.6164 - val_accuracy: 0.3562 - val_loss: 1.5916\n",
      "Epoch 13/150\n",
      "\u001B[1m8/8\u001B[0m \u001B[32m━━━━━━━━━━━━━━━━━━━━\u001B[0m\u001B[37m\u001B[0m \u001B[1m1s\u001B[0m 142ms/step - accuracy: 0.3463 - loss: 1.6069 - val_accuracy: 0.3407 - val_loss: 1.5922\n",
      "Epoch 14/150\n",
      "\u001B[1m8/8\u001B[0m \u001B[32m━━━━━━━━━━━━━━━━━━━━\u001B[0m\u001B[37m\u001B[0m \u001B[1m1s\u001B[0m 137ms/step - accuracy: 0.3476 - loss: 1.6086 - val_accuracy: 0.3623 - val_loss: 1.5901\n",
      "Epoch 15/150\n",
      "\u001B[1m8/8\u001B[0m \u001B[32m━━━━━━━━━━━━━━━━━━━━\u001B[0m\u001B[37m\u001B[0m \u001B[1m1s\u001B[0m 137ms/step - accuracy: 0.3574 - loss: 1.5853 - val_accuracy: 0.3666 - val_loss: 1.5668\n",
      "Epoch 16/150\n",
      "\u001B[1m8/8\u001B[0m \u001B[32m━━━━━━━━━━━━━━━━━━━━\u001B[0m\u001B[37m\u001B[0m \u001B[1m1s\u001B[0m 137ms/step - accuracy: 0.3612 - loss: 1.5772 - val_accuracy: 0.3679 - val_loss: 1.5677\n",
      "Epoch 17/150\n",
      "\u001B[1m8/8\u001B[0m \u001B[32m━━━━━━━━━━━━━━━━━━━━\u001B[0m\u001B[37m\u001B[0m \u001B[1m1s\u001B[0m 137ms/step - accuracy: 0.3684 - loss: 1.5705 - val_accuracy: 0.3719 - val_loss: 1.5527\n",
      "Epoch 18/150\n",
      "\u001B[1m8/8\u001B[0m \u001B[32m━━━━━━━━━━━━━━━━━━━━\u001B[0m\u001B[37m\u001B[0m \u001B[1m1s\u001B[0m 145ms/step - accuracy: 0.3721 - loss: 1.5534 - val_accuracy: 0.3783 - val_loss: 1.5454\n",
      "Epoch 19/150\n",
      "\u001B[1m8/8\u001B[0m \u001B[32m━━━━━━━━━━━━━━━━━━━━\u001B[0m\u001B[37m\u001B[0m \u001B[1m1s\u001B[0m 137ms/step - accuracy: 0.3783 - loss: 1.5495 - val_accuracy: 0.3645 - val_loss: 1.5612\n",
      "Epoch 20/150\n",
      "\u001B[1m8/8\u001B[0m \u001B[32m━━━━━━━━━━━━━━━━━━━━\u001B[0m\u001B[37m\u001B[0m \u001B[1m1s\u001B[0m 136ms/step - accuracy: 0.3710 - loss: 1.5595 - val_accuracy: 0.3853 - val_loss: 1.5411\n",
      "Epoch 21/150\n",
      "\u001B[1m8/8\u001B[0m \u001B[32m━━━━━━━━━━━━━━━━━━━━\u001B[0m\u001B[37m\u001B[0m \u001B[1m1s\u001B[0m 139ms/step - accuracy: 0.3818 - loss: 1.5423 - val_accuracy: 0.3853 - val_loss: 1.5249\n",
      "Epoch 22/150\n",
      "\u001B[1m8/8\u001B[0m \u001B[32m━━━━━━━━━━━━━━━━━━━━\u001B[0m\u001B[37m\u001B[0m \u001B[1m1s\u001B[0m 137ms/step - accuracy: 0.3946 - loss: 1.5199 - val_accuracy: 0.3797 - val_loss: 1.5168\n",
      "Epoch 23/150\n",
      "\u001B[1m8/8\u001B[0m \u001B[32m━━━━━━━━━━━━━━━━━━━━\u001B[0m\u001B[37m\u001B[0m \u001B[1m1s\u001B[0m 153ms/step - accuracy: 0.3960 - loss: 1.5082 - val_accuracy: 0.3927 - val_loss: 1.5059\n",
      "Epoch 24/150\n",
      "\u001B[1m8/8\u001B[0m \u001B[32m━━━━━━━━━━━━━━━━━━━━\u001B[0m\u001B[37m\u001B[0m \u001B[1m1s\u001B[0m 184ms/step - accuracy: 0.4089 - loss: 1.5015 - val_accuracy: 0.4042 - val_loss: 1.4903\n",
      "Epoch 25/150\n",
      "\u001B[1m8/8\u001B[0m \u001B[32m━━━━━━━━━━━━━━━━━━━━\u001B[0m\u001B[37m\u001B[0m \u001B[1m1s\u001B[0m 171ms/step - accuracy: 0.4058 - loss: 1.4989 - val_accuracy: 0.4085 - val_loss: 1.4820\n",
      "Epoch 26/150\n",
      "\u001B[1m8/8\u001B[0m \u001B[32m━━━━━━━━━━━━━━━━━━━━\u001B[0m\u001B[37m\u001B[0m \u001B[1m1s\u001B[0m 152ms/step - accuracy: 0.4171 - loss: 1.4839 - val_accuracy: 0.4029 - val_loss: 1.4733\n",
      "Epoch 27/150\n",
      "\u001B[1m8/8\u001B[0m \u001B[32m━━━━━━━━━━━━━━━━━━━━\u001B[0m\u001B[37m\u001B[0m \u001B[1m1s\u001B[0m 137ms/step - accuracy: 0.4211 - loss: 1.4779 - val_accuracy: 0.3858 - val_loss: 1.5188\n",
      "Epoch 28/150\n",
      "\u001B[1m8/8\u001B[0m \u001B[32m━━━━━━━━━━━━━━━━━━━━\u001B[0m\u001B[37m\u001B[0m \u001B[1m1s\u001B[0m 137ms/step - accuracy: 0.3986 - loss: 1.5107 - val_accuracy: 0.3957 - val_loss: 1.4919\n",
      "Epoch 29/150\n",
      "\u001B[1m8/8\u001B[0m \u001B[32m━━━━━━━━━━━━━━━━━━━━\u001B[0m\u001B[37m\u001B[0m \u001B[1m1s\u001B[0m 142ms/step - accuracy: 0.4173 - loss: 1.4717 - val_accuracy: 0.4216 - val_loss: 1.4608\n",
      "Epoch 30/150\n",
      "\u001B[1m8/8\u001B[0m \u001B[32m━━━━━━━━━━━━━━━━━━━━\u001B[0m\u001B[37m\u001B[0m \u001B[1m1s\u001B[0m 142ms/step - accuracy: 0.4275 - loss: 1.4525 - val_accuracy: 0.4341 - val_loss: 1.4429\n",
      "Epoch 31/150\n",
      "\u001B[1m8/8\u001B[0m \u001B[32m━━━━━━━━━━━━━━━━━━━━\u001B[0m\u001B[37m\u001B[0m \u001B[1m1s\u001B[0m 137ms/step - accuracy: 0.4399 - loss: 1.4265 - val_accuracy: 0.4333 - val_loss: 1.4311\n",
      "Epoch 32/150\n",
      "\u001B[1m8/8\u001B[0m \u001B[32m━━━━━━━━━━━━━━━━━━━━\u001B[0m\u001B[37m\u001B[0m \u001B[1m1s\u001B[0m 138ms/step - accuracy: 0.4391 - loss: 1.4291 - val_accuracy: 0.4480 - val_loss: 1.4070\n",
      "Epoch 33/150\n",
      "\u001B[1m8/8\u001B[0m \u001B[32m━━━━━━━━━━━━━━━━━━━━\u001B[0m\u001B[37m\u001B[0m \u001B[1m1s\u001B[0m 137ms/step - accuracy: 0.4543 - loss: 1.3994 - val_accuracy: 0.4397 - val_loss: 1.4097\n",
      "Epoch 34/150\n",
      "\u001B[1m8/8\u001B[0m \u001B[32m━━━━━━━━━━━━━━━━━━━━\u001B[0m\u001B[37m\u001B[0m \u001B[1m1s\u001B[0m 136ms/step - accuracy: 0.4534 - loss: 1.3972 - val_accuracy: 0.4562 - val_loss: 1.3984\n",
      "Epoch 35/150\n",
      "\u001B[1m8/8\u001B[0m \u001B[32m━━━━━━━━━━━━━━━━━━━━\u001B[0m\u001B[37m\u001B[0m \u001B[1m1s\u001B[0m 137ms/step - accuracy: 0.4481 - loss: 1.3944 - val_accuracy: 0.4392 - val_loss: 1.4129\n",
      "Epoch 36/150\n",
      "\u001B[1m8/8\u001B[0m \u001B[32m━━━━━━━━━━━━━━━━━━━━\u001B[0m\u001B[37m\u001B[0m \u001B[1m1s\u001B[0m 137ms/step - accuracy: 0.4561 - loss: 1.3885 - val_accuracy: 0.4664 - val_loss: 1.3667\n",
      "Epoch 37/150\n",
      "\u001B[1m8/8\u001B[0m \u001B[32m━━━━━━━━━━━━━━━━━━━━\u001B[0m\u001B[37m\u001B[0m \u001B[1m1s\u001B[0m 139ms/step - accuracy: 0.4702 - loss: 1.3581 - val_accuracy: 0.4488 - val_loss: 1.3953\n",
      "Epoch 38/150\n",
      "\u001B[1m8/8\u001B[0m \u001B[32m━━━━━━━━━━━━━━━━━━━━\u001B[0m\u001B[37m\u001B[0m \u001B[1m1s\u001B[0m 136ms/step - accuracy: 0.4557 - loss: 1.3822 - val_accuracy: 0.4699 - val_loss: 1.3700\n",
      "Epoch 39/150\n",
      "\u001B[1m8/8\u001B[0m \u001B[32m━━━━━━━━━━━━━━━━━━━━\u001B[0m\u001B[37m\u001B[0m \u001B[1m1s\u001B[0m 140ms/step - accuracy: 0.4627 - loss: 1.3716 - val_accuracy: 0.4736 - val_loss: 1.3502\n",
      "Epoch 40/150\n",
      "\u001B[1m8/8\u001B[0m \u001B[32m━━━━━━━━━━━━━━━━━━━━\u001B[0m\u001B[37m\u001B[0m \u001B[1m1s\u001B[0m 138ms/step - accuracy: 0.4830 - loss: 1.3364 - val_accuracy: 0.4829 - val_loss: 1.3316\n",
      "Epoch 41/150\n",
      "\u001B[1m8/8\u001B[0m \u001B[32m━━━━━━━━━━━━━━━━━━━━\u001B[0m\u001B[37m\u001B[0m \u001B[1m1s\u001B[0m 139ms/step - accuracy: 0.4822 - loss: 1.3236 - val_accuracy: 0.4672 - val_loss: 1.3654\n",
      "Epoch 42/150\n",
      "\u001B[1m8/8\u001B[0m \u001B[32m━━━━━━━━━━━━━━━━━━━━\u001B[0m\u001B[37m\u001B[0m \u001B[1m1s\u001B[0m 136ms/step - accuracy: 0.4771 - loss: 1.3270 - val_accuracy: 0.4704 - val_loss: 1.3417\n",
      "Epoch 43/150\n",
      "\u001B[1m8/8\u001B[0m \u001B[32m━━━━━━━━━━━━━━━━━━━━\u001B[0m\u001B[37m\u001B[0m \u001B[1m1s\u001B[0m 136ms/step - accuracy: 0.4858 - loss: 1.3062 - val_accuracy: 0.4960 - val_loss: 1.3124\n",
      "Epoch 44/150\n",
      "\u001B[1m8/8\u001B[0m \u001B[32m━━━━━━━━━━━━━━━━━━━━\u001B[0m\u001B[37m\u001B[0m \u001B[1m1s\u001B[0m 136ms/step - accuracy: 0.5017 - loss: 1.2896 - val_accuracy: 0.4981 - val_loss: 1.2992\n",
      "Epoch 45/150\n",
      "\u001B[1m8/8\u001B[0m \u001B[32m━━━━━━━━━━━━━━━━━━━━\u001B[0m\u001B[37m\u001B[0m \u001B[1m1s\u001B[0m 136ms/step - accuracy: 0.4990 - loss: 1.2902 - val_accuracy: 0.4931 - val_loss: 1.3085\n",
      "Epoch 46/150\n",
      "\u001B[1m8/8\u001B[0m \u001B[32m━━━━━━━━━━━━━━━━━━━━\u001B[0m\u001B[37m\u001B[0m \u001B[1m1s\u001B[0m 136ms/step - accuracy: 0.5059 - loss: 1.2796 - val_accuracy: 0.4741 - val_loss: 1.3340\n",
      "Epoch 47/150\n",
      "\u001B[1m8/8\u001B[0m \u001B[32m━━━━━━━━━━━━━━━━━━━━\u001B[0m\u001B[37m\u001B[0m \u001B[1m1s\u001B[0m 136ms/step - accuracy: 0.4842 - loss: 1.3291 - val_accuracy: 0.4707 - val_loss: 1.3486\n",
      "Epoch 48/150\n",
      "\u001B[1m8/8\u001B[0m \u001B[32m━━━━━━━━━━━━━━━━━━━━\u001B[0m\u001B[37m\u001B[0m \u001B[1m1s\u001B[0m 138ms/step - accuracy: 0.4913 - loss: 1.2936 - val_accuracy: 0.4995 - val_loss: 1.2950\n",
      "Epoch 49/150\n",
      "\u001B[1m8/8\u001B[0m \u001B[32m━━━━━━━━━━━━━━━━━━━━\u001B[0m\u001B[37m\u001B[0m \u001B[1m1s\u001B[0m 137ms/step - accuracy: 0.5066 - loss: 1.2607 - val_accuracy: 0.5099 - val_loss: 1.2686\n",
      "Epoch 50/150\n",
      "\u001B[1m8/8\u001B[0m \u001B[32m━━━━━━━━━━━━━━━━━━━━\u001B[0m\u001B[37m\u001B[0m \u001B[1m1s\u001B[0m 148ms/step - accuracy: 0.5210 - loss: 1.2398 - val_accuracy: 0.5072 - val_loss: 1.2669\n",
      "Epoch 51/150\n",
      "\u001B[1m8/8\u001B[0m \u001B[32m━━━━━━━━━━━━━━━━━━━━\u001B[0m\u001B[37m\u001B[0m \u001B[1m1s\u001B[0m 162ms/step - accuracy: 0.5094 - loss: 1.2562 - val_accuracy: 0.5109 - val_loss: 1.2623\n",
      "Epoch 52/150\n",
      "\u001B[1m8/8\u001B[0m \u001B[32m━━━━━━━━━━━━━━━━━━━━\u001B[0m\u001B[37m\u001B[0m \u001B[1m1s\u001B[0m 157ms/step - accuracy: 0.5241 - loss: 1.2237 - val_accuracy: 0.5213 - val_loss: 1.2394\n",
      "Epoch 53/150\n",
      "\u001B[1m8/8\u001B[0m \u001B[32m━━━━━━━━━━━━━━━━━━━━\u001B[0m\u001B[37m\u001B[0m \u001B[1m1s\u001B[0m 149ms/step - accuracy: 0.5167 - loss: 1.2299 - val_accuracy: 0.5131 - val_loss: 1.2541\n",
      "Epoch 54/150\n",
      "\u001B[1m8/8\u001B[0m \u001B[32m━━━━━━━━━━━━━━━━━━━━\u001B[0m\u001B[37m\u001B[0m \u001B[1m1s\u001B[0m 137ms/step - accuracy: 0.5303 - loss: 1.2078 - val_accuracy: 0.5211 - val_loss: 1.2360\n",
      "Epoch 55/150\n",
      "\u001B[1m8/8\u001B[0m \u001B[32m━━━━━━━━━━━━━━━━━━━━\u001B[0m\u001B[37m\u001B[0m \u001B[1m1s\u001B[0m 135ms/step - accuracy: 0.5290 - loss: 1.1972 - val_accuracy: 0.5293 - val_loss: 1.2206\n",
      "Epoch 56/150\n",
      "\u001B[1m8/8\u001B[0m \u001B[32m━━━━━━━━━━━━━━━━━━━━\u001B[0m\u001B[37m\u001B[0m \u001B[1m1s\u001B[0m 136ms/step - accuracy: 0.5469 - loss: 1.1719 - val_accuracy: 0.5227 - val_loss: 1.2341\n",
      "Epoch 57/150\n",
      "\u001B[1m8/8\u001B[0m \u001B[32m━━━━━━━━━━━━━━━━━━━━\u001B[0m\u001B[37m\u001B[0m \u001B[1m1s\u001B[0m 137ms/step - accuracy: 0.5321 - loss: 1.2055 - val_accuracy: 0.5211 - val_loss: 1.2607\n",
      "Epoch 58/150\n",
      "\u001B[1m8/8\u001B[0m \u001B[32m━━━━━━━━━━━━━━━━━━━━\u001B[0m\u001B[37m\u001B[0m \u001B[1m1s\u001B[0m 135ms/step - accuracy: 0.5328 - loss: 1.2092 - val_accuracy: 0.5269 - val_loss: 1.2227\n",
      "Epoch 59/150\n",
      "\u001B[1m8/8\u001B[0m \u001B[32m━━━━━━━━━━━━━━━━━━━━\u001B[0m\u001B[37m\u001B[0m \u001B[1m1s\u001B[0m 136ms/step - accuracy: 0.5436 - loss: 1.1861 - val_accuracy: 0.5232 - val_loss: 1.2395\n",
      "Epoch 60/150\n",
      "\u001B[1m8/8\u001B[0m \u001B[32m━━━━━━━━━━━━━━━━━━━━\u001B[0m\u001B[37m\u001B[0m \u001B[1m1s\u001B[0m 136ms/step - accuracy: 0.5409 - loss: 1.1890 - val_accuracy: 0.5376 - val_loss: 1.1939\n",
      "Epoch 61/150\n",
      "\u001B[1m8/8\u001B[0m \u001B[32m━━━━━━━━━━━━━━━━━━━━\u001B[0m\u001B[37m\u001B[0m \u001B[1m1s\u001B[0m 138ms/step - accuracy: 0.5537 - loss: 1.1605 - val_accuracy: 0.5403 - val_loss: 1.1932\n",
      "Epoch 62/150\n",
      "\u001B[1m8/8\u001B[0m \u001B[32m━━━━━━━━━━━━━━━━━━━━\u001B[0m\u001B[37m\u001B[0m \u001B[1m1s\u001B[0m 137ms/step - accuracy: 0.5604 - loss: 1.1544 - val_accuracy: 0.5408 - val_loss: 1.1920\n",
      "Epoch 63/150\n",
      "\u001B[1m8/8\u001B[0m \u001B[32m━━━━━━━━━━━━━━━━━━━━\u001B[0m\u001B[37m\u001B[0m \u001B[1m1s\u001B[0m 149ms/step - accuracy: 0.5594 - loss: 1.1434 - val_accuracy: 0.5432 - val_loss: 1.2036\n",
      "Epoch 64/150\n",
      "\u001B[1m8/8\u001B[0m \u001B[32m━━━━━━━━━━━━━━━━━━━━\u001B[0m\u001B[37m\u001B[0m \u001B[1m1s\u001B[0m 143ms/step - accuracy: 0.5657 - loss: 1.1404 - val_accuracy: 0.5275 - val_loss: 1.2160\n",
      "Epoch 65/150\n",
      "\u001B[1m8/8\u001B[0m \u001B[32m━━━━━━━━━━━━━━━━━━━━\u001B[0m\u001B[37m\u001B[0m \u001B[1m2s\u001B[0m 207ms/step - accuracy: 0.5644 - loss: 1.1398 - val_accuracy: 0.5363 - val_loss: 1.2101\n",
      "Epoch 66/150\n",
      "\u001B[1m8/8\u001B[0m \u001B[32m━━━━━━━━━━━━━━━━━━━━\u001B[0m\u001B[37m\u001B[0m \u001B[1m1s\u001B[0m 161ms/step - accuracy: 0.5573 - loss: 1.1495 - val_accuracy: 0.5419 - val_loss: 1.1817\n",
      "Epoch 67/150\n",
      "\u001B[1m8/8\u001B[0m \u001B[32m━━━━━━━━━━━━━━━━━━━━\u001B[0m\u001B[37m\u001B[0m \u001B[1m1s\u001B[0m 140ms/step - accuracy: 0.5750 - loss: 1.1034 - val_accuracy: 0.5467 - val_loss: 1.1737\n",
      "Epoch 68/150\n",
      "\u001B[1m8/8\u001B[0m \u001B[32m━━━━━━━━━━━━━━━━━━━━\u001B[0m\u001B[37m\u001B[0m \u001B[1m1s\u001B[0m 139ms/step - accuracy: 0.5798 - loss: 1.0950 - val_accuracy: 0.5237 - val_loss: 1.2339\n",
      "Epoch 69/150\n",
      "\u001B[1m8/8\u001B[0m \u001B[32m━━━━━━━━━━━━━━━━━━━━\u001B[0m\u001B[37m\u001B[0m \u001B[1m1s\u001B[0m 138ms/step - accuracy: 0.5589 - loss: 1.1356 - val_accuracy: 0.5355 - val_loss: 1.2354\n",
      "Epoch 70/150\n",
      "\u001B[1m8/8\u001B[0m \u001B[32m━━━━━━━━━━━━━━━━━━━━\u001B[0m\u001B[37m\u001B[0m \u001B[1m1s\u001B[0m 146ms/step - accuracy: 0.5708 - loss: 1.1199 - val_accuracy: 0.5568 - val_loss: 1.1571\n",
      "Epoch 71/150\n",
      "\u001B[1m8/8\u001B[0m \u001B[32m━━━━━━━━━━━━━━━━━━━━\u001B[0m\u001B[37m\u001B[0m \u001B[1m1s\u001B[0m 138ms/step - accuracy: 0.5889 - loss: 1.0813 - val_accuracy: 0.5592 - val_loss: 1.1636\n",
      "Epoch 72/150\n",
      "\u001B[1m8/8\u001B[0m \u001B[32m━━━━━━━━━━━━━━━━━━━━\u001B[0m\u001B[37m\u001B[0m \u001B[1m1s\u001B[0m 136ms/step - accuracy: 0.5822 - loss: 1.0887 - val_accuracy: 0.5528 - val_loss: 1.1651\n",
      "Epoch 73/150\n",
      "\u001B[1m8/8\u001B[0m \u001B[32m━━━━━━━━━━━━━━━━━━━━\u001B[0m\u001B[37m\u001B[0m \u001B[1m1s\u001B[0m 138ms/step - accuracy: 0.5915 - loss: 1.0683 - val_accuracy: 0.5616 - val_loss: 1.1559\n",
      "Epoch 74/150\n",
      "\u001B[1m8/8\u001B[0m \u001B[32m━━━━━━━━━━━━━━━━━━━━\u001B[0m\u001B[37m\u001B[0m \u001B[1m1s\u001B[0m 137ms/step - accuracy: 0.5886 - loss: 1.0717 - val_accuracy: 0.5600 - val_loss: 1.1515\n",
      "Epoch 75/150\n",
      "\u001B[1m8/8\u001B[0m \u001B[32m━━━━━━━━━━━━━━━━━━━━\u001B[0m\u001B[37m\u001B[0m \u001B[1m1s\u001B[0m 138ms/step - accuracy: 0.5965 - loss: 1.0558 - val_accuracy: 0.5619 - val_loss: 1.1428\n",
      "Epoch 76/150\n",
      "\u001B[1m8/8\u001B[0m \u001B[32m━━━━━━━━━━━━━━━━━━━━\u001B[0m\u001B[37m\u001B[0m \u001B[1m1s\u001B[0m 137ms/step - accuracy: 0.5947 - loss: 1.0591 - val_accuracy: 0.5670 - val_loss: 1.1202\n",
      "Epoch 77/150\n",
      "\u001B[1m8/8\u001B[0m \u001B[32m━━━━━━━━━━━━━━━━━━━━\u001B[0m\u001B[37m\u001B[0m \u001B[1m1s\u001B[0m 138ms/step - accuracy: 0.6039 - loss: 1.0325 - val_accuracy: 0.5659 - val_loss: 1.1430\n",
      "Epoch 78/150\n",
      "\u001B[1m8/8\u001B[0m \u001B[32m━━━━━━━━━━━━━━━━━━━━\u001B[0m\u001B[37m\u001B[0m \u001B[1m1s\u001B[0m 137ms/step - accuracy: 0.6040 - loss: 1.0291 - val_accuracy: 0.5726 - val_loss: 1.1301\n",
      "Epoch 79/150\n",
      "\u001B[1m8/8\u001B[0m \u001B[32m━━━━━━━━━━━━━━━━━━━━\u001B[0m\u001B[37m\u001B[0m \u001B[1m1s\u001B[0m 138ms/step - accuracy: 0.6048 - loss: 1.0358 - val_accuracy: 0.5718 - val_loss: 1.1455\n",
      "Epoch 80/150\n",
      "\u001B[1m8/8\u001B[0m \u001B[32m━━━━━━━━━━━━━━━━━━━━\u001B[0m\u001B[37m\u001B[0m \u001B[1m1s\u001B[0m 137ms/step - accuracy: 0.6101 - loss: 1.0420 - val_accuracy: 0.5550 - val_loss: 1.1642\n",
      "Epoch 81/150\n",
      "\u001B[1m8/8\u001B[0m \u001B[32m━━━━━━━━━━━━━━━━━━━━\u001B[0m\u001B[37m\u001B[0m \u001B[1m1s\u001B[0m 138ms/step - accuracy: 0.5985 - loss: 1.0477 - val_accuracy: 0.5747 - val_loss: 1.1343\n",
      "Epoch 82/150\n",
      "\u001B[1m8/8\u001B[0m \u001B[32m━━━━━━━━━━━━━━━━━━━━\u001B[0m\u001B[37m\u001B[0m \u001B[1m1s\u001B[0m 136ms/step - accuracy: 0.6143 - loss: 1.0241 - val_accuracy: 0.5614 - val_loss: 1.1512\n",
      "Epoch 83/150\n",
      "\u001B[1m8/8\u001B[0m \u001B[32m━━━━━━━━━━━━━━━━━━━━\u001B[0m\u001B[37m\u001B[0m \u001B[1m1s\u001B[0m 140ms/step - accuracy: 0.6133 - loss: 1.0163 - val_accuracy: 0.5643 - val_loss: 1.1420\n",
      "Epoch 84/150\n",
      "\u001B[1m8/8\u001B[0m \u001B[32m━━━━━━━━━━━━━━━━━━━━\u001B[0m\u001B[37m\u001B[0m \u001B[1m1s\u001B[0m 175ms/step - accuracy: 0.6145 - loss: 1.0135 - val_accuracy: 0.5702 - val_loss: 1.1266\n",
      "Epoch 85/150\n",
      "\u001B[1m8/8\u001B[0m \u001B[32m━━━━━━━━━━━━━━━━━━━━\u001B[0m\u001B[37m\u001B[0m \u001B[1m1s\u001B[0m 166ms/step - accuracy: 0.6115 - loss: 1.0186 - val_accuracy: 0.5747 - val_loss: 1.1367\n",
      "Epoch 86/150\n",
      "\u001B[1m8/8\u001B[0m \u001B[32m━━━━━━━━━━━━━━━━━━━━\u001B[0m\u001B[37m\u001B[0m \u001B[1m1s\u001B[0m 177ms/step - accuracy: 0.6188 - loss: 1.0086 - val_accuracy: 0.5779 - val_loss: 1.1166\n",
      "Epoch 87/150\n",
      "\u001B[1m8/8\u001B[0m \u001B[32m━━━━━━━━━━━━━━━━━━━━\u001B[0m\u001B[37m\u001B[0m \u001B[1m1s\u001B[0m 160ms/step - accuracy: 0.6232 - loss: 0.9936 - val_accuracy: 0.5782 - val_loss: 1.1332\n",
      "Epoch 88/150\n",
      "\u001B[1m8/8\u001B[0m \u001B[32m━━━━━━━━━━━━━━━━━━━━\u001B[0m\u001B[37m\u001B[0m \u001B[1m1s\u001B[0m 159ms/step - accuracy: 0.6291 - loss: 0.9872 - val_accuracy: 0.5827 - val_loss: 1.1293\n",
      "Epoch 89/150\n",
      "\u001B[1m8/8\u001B[0m \u001B[32m━━━━━━━━━━━━━━━━━━━━\u001B[0m\u001B[37m\u001B[0m \u001B[1m1s\u001B[0m 144ms/step - accuracy: 0.6255 - loss: 0.9846 - val_accuracy: 0.5816 - val_loss: 1.1426\n",
      "Epoch 90/150\n",
      "\u001B[1m8/8\u001B[0m \u001B[32m━━━━━━━━━━━━━━━━━━━━\u001B[0m\u001B[37m\u001B[0m \u001B[1m1s\u001B[0m 141ms/step - accuracy: 0.6273 - loss: 0.9854 - val_accuracy: 0.5691 - val_loss: 1.1525\n",
      "Epoch 91/150\n",
      "\u001B[1m8/8\u001B[0m \u001B[32m━━━━━━━━━━━━━━━━━━━━\u001B[0m\u001B[37m\u001B[0m \u001B[1m1s\u001B[0m 138ms/step - accuracy: 0.6248 - loss: 0.9847 - val_accuracy: 0.5923 - val_loss: 1.0930\n",
      "Epoch 92/150\n",
      "\u001B[1m8/8\u001B[0m \u001B[32m━━━━━━━━━━━━━━━━━━━━\u001B[0m\u001B[37m\u001B[0m \u001B[1m1s\u001B[0m 140ms/step - accuracy: 0.6319 - loss: 0.9722 - val_accuracy: 0.5907 - val_loss: 1.0782\n",
      "Epoch 93/150\n",
      "\u001B[1m8/8\u001B[0m \u001B[32m━━━━━━━━━━━━━━━━━━━━\u001B[0m\u001B[37m\u001B[0m \u001B[1m1s\u001B[0m 141ms/step - accuracy: 0.6411 - loss: 0.9429 - val_accuracy: 0.6009 - val_loss: 1.0837\n",
      "Epoch 94/150\n",
      "\u001B[1m8/8\u001B[0m \u001B[32m━━━━━━━━━━━━━━━━━━━━\u001B[0m\u001B[37m\u001B[0m \u001B[1m1s\u001B[0m 141ms/step - accuracy: 0.6477 - loss: 0.9314 - val_accuracy: 0.5816 - val_loss: 1.1227\n",
      "Epoch 95/150\n",
      "\u001B[1m8/8\u001B[0m \u001B[32m━━━━━━━━━━━━━━━━━━━━\u001B[0m\u001B[37m\u001B[0m \u001B[1m1s\u001B[0m 142ms/step - accuracy: 0.6276 - loss: 0.9813 - val_accuracy: 0.5699 - val_loss: 1.1525\n",
      "Epoch 96/150\n",
      "\u001B[1m8/8\u001B[0m \u001B[32m━━━━━━━━━━━━━━━━━━━━\u001B[0m\u001B[37m\u001B[0m \u001B[1m1s\u001B[0m 141ms/step - accuracy: 0.6285 - loss: 0.9746 - val_accuracy: 0.5835 - val_loss: 1.1079\n",
      "Epoch 97/150\n",
      "\u001B[1m8/8\u001B[0m \u001B[32m━━━━━━━━━━━━━━━━━━━━\u001B[0m\u001B[37m\u001B[0m \u001B[1m1s\u001B[0m 140ms/step - accuracy: 0.6401 - loss: 0.9569 - val_accuracy: 0.5926 - val_loss: 1.0896\n",
      "Epoch 98/150\n",
      "\u001B[1m8/8\u001B[0m \u001B[32m━━━━━━━━━━━━━━━━━━━━\u001B[0m\u001B[37m\u001B[0m \u001B[1m1s\u001B[0m 139ms/step - accuracy: 0.6444 - loss: 0.9465 - val_accuracy: 0.5880 - val_loss: 1.0886\n",
      "Epoch 99/150\n",
      "\u001B[1m8/8\u001B[0m \u001B[32m━━━━━━━━━━━━━━━━━━━━\u001B[0m\u001B[37m\u001B[0m \u001B[1m1s\u001B[0m 140ms/step - accuracy: 0.6475 - loss: 0.9428 - val_accuracy: 0.5798 - val_loss: 1.1323\n",
      "Epoch 100/150\n",
      "\u001B[1m8/8\u001B[0m \u001B[32m━━━━━━━━━━━━━━━━━━━━\u001B[0m\u001B[37m\u001B[0m \u001B[1m1s\u001B[0m 139ms/step - accuracy: 0.6434 - loss: 0.9471 - val_accuracy: 0.5979 - val_loss: 1.0866\n",
      "Epoch 101/150\n",
      "\u001B[1m8/8\u001B[0m \u001B[32m━━━━━━━━━━━━━━━━━━━━\u001B[0m\u001B[37m\u001B[0m \u001B[1m1s\u001B[0m 139ms/step - accuracy: 0.6465 - loss: 0.9452 - val_accuracy: 0.5899 - val_loss: 1.1085\n",
      "Epoch 102/150\n",
      "\u001B[1m8/8\u001B[0m \u001B[32m━━━━━━━━━━━━━━━━━━━━\u001B[0m\u001B[37m\u001B[0m \u001B[1m1s\u001B[0m 141ms/step - accuracy: 0.6476 - loss: 0.9293 - val_accuracy: 0.6067 - val_loss: 1.0593\n",
      "Epoch 103/150\n",
      "\u001B[1m8/8\u001B[0m \u001B[32m━━━━━━━━━━━━━━━━━━━━\u001B[0m\u001B[37m\u001B[0m \u001B[1m1s\u001B[0m 141ms/step - accuracy: 0.6626 - loss: 0.9032 - val_accuracy: 0.6059 - val_loss: 1.0839\n",
      "Epoch 104/150\n",
      "\u001B[1m8/8\u001B[0m \u001B[32m━━━━━━━━━━━━━━━━━━━━\u001B[0m\u001B[37m\u001B[0m \u001B[1m1s\u001B[0m 141ms/step - accuracy: 0.6557 - loss: 0.9048 - val_accuracy: 0.6081 - val_loss: 1.0608\n",
      "Epoch 105/150\n",
      "\u001B[1m8/8\u001B[0m \u001B[32m━━━━━━━━━━━━━━━━━━━━\u001B[0m\u001B[37m\u001B[0m \u001B[1m1s\u001B[0m 142ms/step - accuracy: 0.6634 - loss: 0.8911 - val_accuracy: 0.6139 - val_loss: 1.0749\n",
      "Epoch 106/150\n",
      "\u001B[1m8/8\u001B[0m \u001B[32m━━━━━━━━━━━━━━━━━━━━\u001B[0m\u001B[37m\u001B[0m \u001B[1m1s\u001B[0m 141ms/step - accuracy: 0.6520 - loss: 0.9282 - val_accuracy: 0.5880 - val_loss: 1.1184\n",
      "Epoch 107/150\n",
      "\u001B[1m8/8\u001B[0m \u001B[32m━━━━━━━━━━━━━━━━━━━━\u001B[0m\u001B[37m\u001B[0m \u001B[1m1s\u001B[0m 141ms/step - accuracy: 0.6398 - loss: 0.9480 - val_accuracy: 0.5947 - val_loss: 1.1048\n",
      "Epoch 108/150\n",
      "\u001B[1m8/8\u001B[0m \u001B[32m━━━━━━━━━━━━━━━━━━━━\u001B[0m\u001B[37m\u001B[0m \u001B[1m1s\u001B[0m 139ms/step - accuracy: 0.6590 - loss: 0.9077 - val_accuracy: 0.6049 - val_loss: 1.0782\n",
      "Epoch 109/150\n",
      "\u001B[1m8/8\u001B[0m \u001B[32m━━━━━━━━━━━━━━━━━━━━\u001B[0m\u001B[37m\u001B[0m \u001B[1m1s\u001B[0m 137ms/step - accuracy: 0.6612 - loss: 0.8952 - val_accuracy: 0.5963 - val_loss: 1.1149\n",
      "Epoch 110/150\n",
      "\u001B[1m8/8\u001B[0m \u001B[32m━━━━━━━━━━━━━━━━━━━━\u001B[0m\u001B[37m\u001B[0m \u001B[1m1s\u001B[0m 136ms/step - accuracy: 0.6591 - loss: 0.8986 - val_accuracy: 0.6155 - val_loss: 1.0417\n",
      "Epoch 111/150\n",
      "\u001B[1m8/8\u001B[0m \u001B[32m━━━━━━━━━━━━━━━━━━━━\u001B[0m\u001B[37m\u001B[0m \u001B[1m1s\u001B[0m 137ms/step - accuracy: 0.6617 - loss: 0.8969 - val_accuracy: 0.6003 - val_loss: 1.0860\n",
      "Epoch 112/150\n",
      "\u001B[1m8/8\u001B[0m \u001B[32m━━━━━━━━━━━━━━━━━━━━\u001B[0m\u001B[37m\u001B[0m \u001B[1m1s\u001B[0m 151ms/step - accuracy: 0.6705 - loss: 0.8847 - val_accuracy: 0.6065 - val_loss: 1.0914\n",
      "Epoch 113/150\n",
      "\u001B[1m8/8\u001B[0m \u001B[32m━━━━━━━━━━━━━━━━━━━━\u001B[0m\u001B[37m\u001B[0m \u001B[1m1s\u001B[0m 138ms/step - accuracy: 0.6705 - loss: 0.8858 - val_accuracy: 0.6147 - val_loss: 1.0593\n",
      "Epoch 114/150\n",
      "\u001B[1m8/8\u001B[0m \u001B[32m━━━━━━━━━━━━━━━━━━━━\u001B[0m\u001B[37m\u001B[0m \u001B[1m1s\u001B[0m 138ms/step - accuracy: 0.6723 - loss: 0.8611 - val_accuracy: 0.6075 - val_loss: 1.0890\n",
      "Epoch 115/150\n",
      "\u001B[1m8/8\u001B[0m \u001B[32m━━━━━━━━━━━━━━━━━━━━\u001B[0m\u001B[37m\u001B[0m \u001B[1m1s\u001B[0m 137ms/step - accuracy: 0.6750 - loss: 0.8665 - val_accuracy: 0.6270 - val_loss: 1.0435\n",
      "Epoch 116/150\n",
      "\u001B[1m8/8\u001B[0m \u001B[32m━━━━━━━━━━━━━━━━━━━━\u001B[0m\u001B[37m\u001B[0m \u001B[1m1s\u001B[0m 137ms/step - accuracy: 0.6829 - loss: 0.8553 - val_accuracy: 0.6206 - val_loss: 1.0446\n",
      "Epoch 117/150\n",
      "\u001B[1m8/8\u001B[0m \u001B[32m━━━━━━━━━━━━━━━━━━━━\u001B[0m\u001B[37m\u001B[0m \u001B[1m1s\u001B[0m 137ms/step - accuracy: 0.6825 - loss: 0.8565 - val_accuracy: 0.6259 - val_loss: 1.0413\n",
      "Epoch 118/150\n",
      "\u001B[1m8/8\u001B[0m \u001B[32m━━━━━━━━━━━━━━━━━━━━\u001B[0m\u001B[37m\u001B[0m \u001B[1m1s\u001B[0m 136ms/step - accuracy: 0.6859 - loss: 0.8348 - val_accuracy: 0.6278 - val_loss: 1.0369\n",
      "Epoch 119/150\n",
      "\u001B[1m8/8\u001B[0m \u001B[32m━━━━━━━━━━━━━━━━━━━━\u001B[0m\u001B[37m\u001B[0m \u001B[1m1s\u001B[0m 136ms/step - accuracy: 0.6938 - loss: 0.8136 - val_accuracy: 0.6254 - val_loss: 1.0506\n",
      "Epoch 120/150\n",
      "\u001B[1m8/8\u001B[0m \u001B[32m━━━━━━━━━━━━━━━━━━━━\u001B[0m\u001B[37m\u001B[0m \u001B[1m1s\u001B[0m 138ms/step - accuracy: 0.6879 - loss: 0.8305 - val_accuracy: 0.6265 - val_loss: 1.0438\n",
      "Epoch 121/150\n",
      "\u001B[1m8/8\u001B[0m \u001B[32m━━━━━━━━━━━━━━━━━━━━\u001B[0m\u001B[37m\u001B[0m \u001B[1m1s\u001B[0m 138ms/step - accuracy: 0.6928 - loss: 0.8325 - val_accuracy: 0.6222 - val_loss: 1.0598\n",
      "Epoch 122/150\n",
      "\u001B[1m8/8\u001B[0m \u001B[32m━━━━━━━━━━━━━━━━━━━━\u001B[0m\u001B[37m\u001B[0m \u001B[1m1s\u001B[0m 137ms/step - accuracy: 0.6925 - loss: 0.8337 - val_accuracy: 0.6281 - val_loss: 1.0498\n",
      "Epoch 123/150\n",
      "\u001B[1m8/8\u001B[0m \u001B[32m━━━━━━━━━━━━━━━━━━━━\u001B[0m\u001B[37m\u001B[0m \u001B[1m1s\u001B[0m 137ms/step - accuracy: 0.6933 - loss: 0.8329 - val_accuracy: 0.6315 - val_loss: 1.0323\n",
      "Epoch 124/150\n",
      "\u001B[1m8/8\u001B[0m \u001B[32m━━━━━━━━━━━━━━━━━━━━\u001B[0m\u001B[37m\u001B[0m \u001B[1m1s\u001B[0m 137ms/step - accuracy: 0.6931 - loss: 0.8169 - val_accuracy: 0.6177 - val_loss: 1.0634\n",
      "Epoch 125/150\n",
      "\u001B[1m8/8\u001B[0m \u001B[32m━━━━━━━━━━━━━━━━━━━━\u001B[0m\u001B[37m\u001B[0m \u001B[1m1s\u001B[0m 137ms/step - accuracy: 0.6988 - loss: 0.8108 - val_accuracy: 0.6254 - val_loss: 1.0540\n",
      "Epoch 126/150\n",
      "\u001B[1m8/8\u001B[0m \u001B[32m━━━━━━━━━━━━━━━━━━━━\u001B[0m\u001B[37m\u001B[0m \u001B[1m1s\u001B[0m 137ms/step - accuracy: 0.6955 - loss: 0.8135 - val_accuracy: 0.6219 - val_loss: 1.0593\n",
      "Epoch 127/150\n",
      "\u001B[1m8/8\u001B[0m \u001B[32m━━━━━━━━━━━━━━━━━━━━\u001B[0m\u001B[37m\u001B[0m \u001B[1m1s\u001B[0m 136ms/step - accuracy: 0.6892 - loss: 0.8295 - val_accuracy: 0.6297 - val_loss: 1.0347\n",
      "Epoch 128/150\n",
      "\u001B[1m8/8\u001B[0m \u001B[32m━━━━━━━━━━━━━━━━━━━━\u001B[0m\u001B[37m\u001B[0m \u001B[1m1s\u001B[0m 136ms/step - accuracy: 0.7022 - loss: 0.7969 - val_accuracy: 0.6262 - val_loss: 1.0611\n",
      "Epoch 129/150\n",
      "\u001B[1m8/8\u001B[0m \u001B[32m━━━━━━━━━━━━━━━━━━━━\u001B[0m\u001B[37m\u001B[0m \u001B[1m1s\u001B[0m 137ms/step - accuracy: 0.6969 - loss: 0.8097 - val_accuracy: 0.6350 - val_loss: 1.0437\n",
      "Epoch 130/150\n",
      "\u001B[1m8/8\u001B[0m \u001B[32m━━━━━━━━━━━━━━━━━━━━\u001B[0m\u001B[37m\u001B[0m \u001B[1m1s\u001B[0m 136ms/step - accuracy: 0.6978 - loss: 0.8146 - val_accuracy: 0.6217 - val_loss: 1.0611\n",
      "Epoch 131/150\n",
      "\u001B[1m8/8\u001B[0m \u001B[32m━━━━━━━━━━━━━━━━━━━━\u001B[0m\u001B[37m\u001B[0m \u001B[1m1s\u001B[0m 137ms/step - accuracy: 0.6900 - loss: 0.8275 - val_accuracy: 0.6182 - val_loss: 1.0692\n",
      "Epoch 132/150\n",
      "\u001B[1m8/8\u001B[0m \u001B[32m━━━━━━━━━━━━━━━━━━━━\u001B[0m\u001B[37m\u001B[0m \u001B[1m1s\u001B[0m 138ms/step - accuracy: 0.7009 - loss: 0.8057 - val_accuracy: 0.6339 - val_loss: 1.0215\n",
      "Epoch 133/150\n",
      "\u001B[1m8/8\u001B[0m \u001B[32m━━━━━━━━━━━━━━━━━━━━\u001B[0m\u001B[37m\u001B[0m \u001B[1m1s\u001B[0m 137ms/step - accuracy: 0.7057 - loss: 0.7919 - val_accuracy: 0.6369 - val_loss: 1.0324\n",
      "Epoch 134/150\n",
      "\u001B[1m8/8\u001B[0m \u001B[32m━━━━━━━━━━━━━━━━━━━━\u001B[0m\u001B[37m\u001B[0m \u001B[1m1s\u001B[0m 138ms/step - accuracy: 0.7017 - loss: 0.7979 - val_accuracy: 0.6398 - val_loss: 1.0409\n",
      "Epoch 135/150\n",
      "\u001B[1m8/8\u001B[0m \u001B[32m━━━━━━━━━━━━━━━━━━━━\u001B[0m\u001B[37m\u001B[0m \u001B[1m1s\u001B[0m 136ms/step - accuracy: 0.7103 - loss: 0.7869 - val_accuracy: 0.6334 - val_loss: 1.0540\n",
      "Epoch 136/150\n",
      "\u001B[1m8/8\u001B[0m \u001B[32m━━━━━━━━━━━━━━━━━━━━\u001B[0m\u001B[37m\u001B[0m \u001B[1m1s\u001B[0m 138ms/step - accuracy: 0.7031 - loss: 0.7908 - val_accuracy: 0.6227 - val_loss: 1.0623\n",
      "Epoch 137/150\n",
      "\u001B[1m8/8\u001B[0m \u001B[32m━━━━━━━━━━━━━━━━━━━━\u001B[0m\u001B[37m\u001B[0m \u001B[1m1s\u001B[0m 136ms/step - accuracy: 0.6968 - loss: 0.8010 - val_accuracy: 0.6262 - val_loss: 1.0308\n",
      "Epoch 138/150\n",
      "\u001B[1m8/8\u001B[0m \u001B[32m━━━━━━━━━━━━━━━━━━━━\u001B[0m\u001B[37m\u001B[0m \u001B[1m1s\u001B[0m 137ms/step - accuracy: 0.7036 - loss: 0.7808 - val_accuracy: 0.6435 - val_loss: 1.0300\n",
      "Epoch 139/150\n",
      "\u001B[1m8/8\u001B[0m \u001B[32m━━━━━━━━━━━━━━━━━━━━\u001B[0m\u001B[37m\u001B[0m \u001B[1m1s\u001B[0m 138ms/step - accuracy: 0.7074 - loss: 0.7736 - val_accuracy: 0.6411 - val_loss: 1.0375\n",
      "Epoch 140/150\n",
      "\u001B[1m8/8\u001B[0m \u001B[32m━━━━━━━━━━━━━━━━━━━━\u001B[0m\u001B[37m\u001B[0m \u001B[1m1s\u001B[0m 137ms/step - accuracy: 0.7192 - loss: 0.7488 - val_accuracy: 0.6417 - val_loss: 1.0253\n",
      "Epoch 141/150\n",
      "\u001B[1m8/8\u001B[0m \u001B[32m━━━━━━━━━━━━━━━━━━━━\u001B[0m\u001B[37m\u001B[0m \u001B[1m1s\u001B[0m 137ms/step - accuracy: 0.7170 - loss: 0.7574 - val_accuracy: 0.6462 - val_loss: 1.0271\n",
      "Epoch 142/150\n",
      "\u001B[1m8/8\u001B[0m \u001B[32m━━━━━━━━━━━━━━━━━━━━\u001B[0m\u001B[37m\u001B[0m \u001B[1m1s\u001B[0m 137ms/step - accuracy: 0.7195 - loss: 0.7527 - val_accuracy: 0.6273 - val_loss: 1.0622\n",
      "Epoch 143/150\n",
      "\u001B[1m8/8\u001B[0m \u001B[32m━━━━━━━━━━━━━━━━━━━━\u001B[0m\u001B[37m\u001B[0m \u001B[1m1s\u001B[0m 139ms/step - accuracy: 0.7140 - loss: 0.7631 - val_accuracy: 0.6478 - val_loss: 1.0308\n",
      "Epoch 144/150\n",
      "\u001B[1m8/8\u001B[0m \u001B[32m━━━━━━━━━━━━━━━━━━━━\u001B[0m\u001B[37m\u001B[0m \u001B[1m1s\u001B[0m 137ms/step - accuracy: 0.7173 - loss: 0.7600 - val_accuracy: 0.6249 - val_loss: 1.0659\n",
      "Epoch 145/150\n",
      "\u001B[1m8/8\u001B[0m \u001B[32m━━━━━━━━━━━━━━━━━━━━\u001B[0m\u001B[37m\u001B[0m \u001B[1m1s\u001B[0m 137ms/step - accuracy: 0.7111 - loss: 0.7834 - val_accuracy: 0.6371 - val_loss: 1.0337\n",
      "Epoch 146/150\n",
      "\u001B[1m8/8\u001B[0m \u001B[32m━━━━━━━━━━━━━━━━━━━━\u001B[0m\u001B[37m\u001B[0m \u001B[1m1s\u001B[0m 137ms/step - accuracy: 0.7175 - loss: 0.7513 - val_accuracy: 0.6470 - val_loss: 1.0354\n",
      "Epoch 147/150\n",
      "\u001B[1m8/8\u001B[0m \u001B[32m━━━━━━━━━━━━━━━━━━━━\u001B[0m\u001B[37m\u001B[0m \u001B[1m1s\u001B[0m 137ms/step - accuracy: 0.7275 - loss: 0.7312 - val_accuracy: 0.6299 - val_loss: 1.0873\n",
      "Epoch 148/150\n",
      "\u001B[1m8/8\u001B[0m \u001B[32m━━━━━━━━━━━━━━━━━━━━\u001B[0m\u001B[37m\u001B[0m \u001B[1m1s\u001B[0m 137ms/step - accuracy: 0.7132 - loss: 0.7611 - val_accuracy: 0.6249 - val_loss: 1.0872\n",
      "Epoch 149/150\n",
      "\u001B[1m8/8\u001B[0m \u001B[32m━━━━━━━━━━━━━━━━━━━━\u001B[0m\u001B[37m\u001B[0m \u001B[1m1s\u001B[0m 138ms/step - accuracy: 0.7049 - loss: 0.7827 - val_accuracy: 0.6345 - val_loss: 1.0713\n",
      "Epoch 150/150\n",
      "\u001B[1m8/8\u001B[0m \u001B[32m━━━━━━━━━━━━━━━━━━━━\u001B[0m\u001B[37m\u001B[0m \u001B[1m1s\u001B[0m 137ms/step - accuracy: 0.7132 - loss: 0.7655 - val_accuracy: 0.6379 - val_loss: 1.0616\n"
     ]
    }
   ],
   "execution_count": 76
  },
  {
   "metadata": {},
   "cell_type": "markdown",
   "source": [
    "# Loss evaluation\n",
    "\n",
    "Seeing how the model's loss changes by the epoch"
   ],
   "id": "28458dd6caeaf05c"
  },
  {
   "cell_type": "code",
   "source": [
    "%matplotlib inline\n",
    "plt.plot(history.history['loss'])\n",
    "plt.plot(history.history['val_loss'])\n",
    "plt.title(\"Loss\")\n",
    "plt.legend(['Train', 'Val'], loc='upper right')\n",
    "plt.ylabel('Loss')\n",
    "plt.xlabel('Epoch')"
   ],
   "metadata": {
    "collapsed": false,
    "ExecuteTime": {
     "end_time": "2024-05-11T02:21:24.236142Z",
     "start_time": "2024-05-11T02:21:24.142198Z"
    }
   },
   "id": "db97a7f3cc91e456",
   "outputs": [
    {
     "data": {
      "text/plain": "Text(0.5, 0, 'Epoch')"
     },
     "execution_count": 77,
     "metadata": {},
     "output_type": "execute_result"
    },
    {
     "data": {
      "text/plain": "<Figure size 640x480 with 1 Axes>",
      "image/png": "[encoded data removed]"
     },
     "metadata": {},
     "output_type": "display_data"
    }
   ],
   "execution_count": 77
  },
  {
   "metadata": {},
   "cell_type": "markdown",
   "source": [
    "# Loss evaluation\n",
    "\n",
    "Seeing how the model's loss changes by the epoch"
   ],
   "id": "47dd11a44349b4d5"
  },
  {
   "metadata": {
    "ExecuteTime": {
     "end_time": "2024-05-11T02:21:24.337294Z",
     "start_time": "2024-05-11T02:21:24.241802Z"
    }
   },
   "cell_type": "code",
   "source": [
    "%matplotlib inline\n",
    "plt.plot(history.history['accuracy'])\n",
    "plt.plot(history.history['val_accuracy'])\n",
    "plt.title(\"Accuracy\")\n",
    "plt.legend(['Train', 'Val'], loc='upper right')\n",
    "plt.ylabel('Accuracy')\n",
    "plt.xlabel('Epoch')"
   ],
   "id": "4a03b62d16638245",
   "outputs": [
    {
     "data": {
      "text/plain": "Text(0.5, 0, 'Epoch')"
     },
     "execution_count": 78,
     "metadata": {},
     "output_type": "execute_result"
    },
    {
     "data": {
      "text/plain": "<Figure size 640x480 with 1 Axes>",
      "image/png": "[encoded data removed]"
     },
     "metadata": {},
     "output_type": "display_data"
    }
   ],
   "execution_count": 78
  },
  {
   "cell_type": "markdown",
   "source": [
    "# Prediction"
   ],
   "metadata": {
    "collapsed": false
   },
   "id": "4fb3930ce2fec85d"
  },
  {
   "cell_type": "code",
   "source": [
    "prediction_word = \"времяпрепровождение\"\n",
    "print(f\"Text before preprocessing: {prediction_word}\")\n",
    "prediction_word = preprocess(prediction_word)\n",
    "print(f\"Text after preprocessing: {prediction_word}\")\n",
    "prediction_word = tokenizer.texts_to_sequences([prediction_word])\n",
    "prediction_word = pad_sequences(prediction_word, maxlen=input_dim)\n",
    "prediction = model.predict([prediction_word])\n",
    "output_probabilities = np.array(prediction)\n",
    "result = {}\n",
    "class_labels = np.unique(y_df.columns)\n",
    "for index, prediction in enumerate(output_probabilities[0]):\n",
    "    result.update({class_labels[index]: round(prediction * 100, 1)})\n",
    "\n",
    "# Print keys and values of the result dictionary\n",
    "for key, value in result.items():\n",
    "    print(f\"{key}: {value}\")"
   ],
   "metadata": {
    "collapsed": false,
    "ExecuteTime": {
     "end_time": "2024-05-11T13:12:03.029014Z",
     "start_time": "2024-05-11T13:12:02.989946Z"
    }
   },
   "id": "2af1ef5d86413ee6",
   "outputs": [
    {
     "name": "stdout",
     "output_type": "stream",
     "text": [
      "Text before preprocessing: времяпрепровождение\n",
      "Text after preprocessing: vremiapreprovozhdenie vremiapreprovozhdenie\n",
      "\u001B[1m1/1\u001B[0m \u001B[32m━━━━━━━━━━━━━━━━━━━━\u001B[0m\u001B[37m\u001B[0m \u001B[1m0s\u001B[0m 13ms/step\n",
      "Language_Bulgarian: 4.9\n",
      "Language_Czech: 0.0\n",
      "Language_Polish: 8.5\n",
      "Language_Russian: 86.5\n",
      "Language_Serbian: 0.1\n",
      "Language_Slovenian: 0.0\n"
     ]
    }
   ],
   "execution_count": 87
  },
  {
   "cell_type": "markdown",
   "source": [
    "# Save model\n",
    "Here a model can be loaded"
   ],
   "metadata": {
    "collapsed": false
   },
   "id": "7346b90cf1a2f553"
  },
  {
   "cell_type": "code",
   "source": [
    "model.save('./models/model_slavic.keras')"
   ],
   "metadata": {
    "collapsed": false,
    "ExecuteTime": {
     "end_time": "2024-05-11T02:21:24.484209Z",
     "start_time": "2024-05-11T02:21:24.460047Z"
    }
   },
   "id": "f103d5e7cc3146d9",
   "outputs": [],
   "execution_count": 80
  },
  {
   "cell_type": "markdown",
   "source": [
    "# Load model\n",
    "Here a model can be loaded"
   ],
   "metadata": {
    "collapsed": false
   },
   "id": "e0cf8ae450614ab7"
  },
  {
   "cell_type": "code",
   "source": [
    "model = load_model('./models/model_slavic.keras')"
   ],
   "metadata": {
    "collapsed": false,
    "ExecuteTime": {
     "end_time": "2024-05-11T02:21:24.524678Z",
     "start_time": "2024-05-11T02:21:24.477863Z"
    }
   },
   "id": "c0bbfbb51379fba0",
   "outputs": [],
   "execution_count": 81
  },
  {
   "cell_type": "code",
   "outputs": [],
   "source": [],
   "metadata": {
    "collapsed": false,
    "ExecuteTime": {
     "end_time": "2024-05-11T02:21:24.532124Z",
     "start_time": "2024-05-11T02:21:24.528353Z"
    }
   },
   "id": "f45de99f223bed4c",
   "execution_count": 81
  }
 ],
 "metadata": {
  "kernelspec": {
   "display_name": "Python 3",
   "language": "python",
   "name": "python3"
  },
  "language_info": {
   "codemirror_mode": {
    "name": "ipython",
    "version": 2
   },
   "file_extension": ".py",
   "mimetype": "text/x-python",
   "name": "python",
   "nbconvert_exporter": "python",
   "pygments_lexer": "ipython2",
   "version": "2.7.6"
  }
 },
 "nbformat": 4,
 "nbformat_minor": 5
}
