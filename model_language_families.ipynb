{
 "cells": [
  {
   "cell_type": "code",
   "id": "initial_id",
   "metadata": {
    "collapsed": true,
    "ExecuteTime": {
     "end_time": "2024-05-10T16:05:42.386547Z",
     "start_time": "2024-05-10T16:05:42.378397Z"
    }
   },
   "source": [
    "import numpy as np\n",
    "import pandas as pd\n",
    "import matplotlib.pyplot as plt\n",
    "import tensorflow as tf\n",
    "from tensorflow.keras.models import Sequential, load_model\n",
    "from tensorflow.keras.layers import Dense, Conv1D, LSTM, Dropout, Flatten\n",
    "from tensorflow.keras import optimizers\n",
    "from tensorflow.keras.preprocessing.text import Tokenizer\n",
    "from keras.src.utils import pad_sequences\n",
    "from sklearn.model_selection import train_test_split\n",
    "from custom_preprocessor import preprocess"
   ],
   "outputs": [],
   "execution_count": 5
  },
  {
   "cell_type": "markdown",
   "source": [
    "# Get data\n",
    "Pandas is used to get the data from the project directory.\n",
    "The data is a .csv file, that has been created by book texts and prepared to be listed in the file word-by-word."
   ],
   "metadata": {
    "collapsed": false
   },
   "id": "b20ed3afab281b03"
  },
  {
   "cell_type": "code",
   "source": [
    "df = pd.read_csv('./data/dataset_families.csv')\n",
    "df = df.sample(frac=1.0, random_state=12)\n",
    "df.head()"
   ],
   "metadata": {
    "collapsed": false,
    "ExecuteTime": {
     "end_time": "2024-05-10T16:05:42.471685Z",
     "start_time": "2024-05-10T16:05:42.382932Z"
    }
   },
   "id": "9934f095638f49f4",
   "outputs": [
    {
     "data": {
      "text/plain": "                               Word Language Family\n45885   pressaient elles appelaient         Romance\n146714          hyreni rozhazuje je          Slavic\n141522              odehral tehda v          Slavic\n65000          te equivocas severus         Romance\n80966            die genossenschaft        Germanic",
      "text/html": "<div>\n<style scoped>\n    .dataframe tbody tr th:only-of-type {\n        vertical-align: middle;\n    }\n\n    .dataframe tbody tr th {\n        vertical-align: top;\n    }\n\n    .dataframe thead th {\n        text-align: right;\n    }\n</style>\n<table border=\"1\" class=\"dataframe\">\n  <thead>\n    <tr style=\"text-align: right;\">\n      <th></th>\n      <th>Word</th>\n      <th>Language Family</th>\n    </tr>\n  </thead>\n  <tbody>\n    <tr>\n      <th>45885</th>\n      <td>pressaient elles appelaient</td>\n      <td>Romance</td>\n    </tr>\n    <tr>\n      <th>146714</th>\n      <td>hyreni rozhazuje je</td>\n      <td>Slavic</td>\n    </tr>\n    <tr>\n      <th>141522</th>\n      <td>odehral tehda v</td>\n      <td>Slavic</td>\n    </tr>\n    <tr>\n      <th>65000</th>\n      <td>te equivocas severus</td>\n      <td>Romance</td>\n    </tr>\n    <tr>\n      <th>80966</th>\n      <td>die genossenschaft</td>\n      <td>Germanic</td>\n    </tr>\n  </tbody>\n</table>\n</div>"
     },
     "execution_count": 6,
     "metadata": {},
     "output_type": "execute_result"
    }
   ],
   "execution_count": 6
  },
  {
   "cell_type": "markdown",
   "source": [
    "# Prepare data\n",
    "Divide the data into X and y. X is input and y is the desired output.\n",
    "One-Hot Encode it, so the language is categorical. This is done with Pandas."
   ],
   "metadata": {
    "collapsed": false
   },
   "id": "e375f9241e794ae4"
  },
  {
   "cell_type": "code",
   "source": [
    "# Getting X - the input values\n",
    "X = df.iloc[:, :-1]\n",
    "X.loc[:, 'Word'] = X['Word'].astype(str)\n",
    "tokenizer = Tokenizer(char_level=True) # Used for turning the words into numbers\n",
    "tokenizer.fit_on_texts(X['Word'].tolist()) # Giving Tokenizer the data it needs to learn how to encode the words\n",
    "X_sequences = tokenizer.texts_to_sequences(X['Word'].tolist()) # Now the words are encoded into sequences\n",
    "input_dim = max(len(seq) for seq in X_sequences)\n",
    "X = pad_sequences(\n",
    "    X_sequences, \n",
    "    maxlen=input_dim, \n",
    "    padding='post'\n",
    ") # Making all input values be of same length\n",
    "print(f\"Rows: {len(X)}\")\n",
    "\n",
    "# Getting y - the output values\n",
    "y_df = pd.get_dummies(df.iloc[:, -1:])\n",
    "y = y_df.values\n",
    "print(f\"Amount of languages to identify: {len(y[1])}\")\n",
    "\n",
    "X_train, X_val, y_train, y_val = train_test_split(X, y, test_size=0.2, random_state=42)\n",
    "X_train = X_train.reshape(X_train.shape[0], X_train.shape[1], 1)"
   ],
   "metadata": {
    "collapsed": false,
    "ExecuteTime": {
     "end_time": "2024-05-10T16:05:44.060952Z",
     "start_time": "2024-05-10T16:05:42.475709Z"
    }
   },
   "id": "ba4d86402045de27",
   "outputs": [
    {
     "name": "stdout",
     "output_type": "stream",
     "text": [
      "Rows: 187795\n",
      "Amount of languages to identify: 5\n"
     ]
    }
   ],
   "execution_count": 7
  },
  {
   "cell_type": "code",
   "source": [
    "model = Sequential()\n",
    "model.add(Conv1D(input_dim, 2, activation='relu'))  # Convolutional layer\n",
    "tf.keras.layers.SimpleRNN(8, activation='relu')\n",
    "model.add(LSTM(64, return_sequences=True))\n",
    "model.add(Flatten())\n",
    "model.add(Dropout(0.5))\n",
    "model.add(Dense(len(y[1]), activation='softmax'))\n",
    "adam = optimizers.Adam(learning_rate=0.01)\n",
    "model.compile(loss='categorical_crossentropy', optimizer=adam, metrics=['accuracy'])"
   ],
   "metadata": {
    "collapsed": false,
    "ExecuteTime": {
     "end_time": "2024-05-10T16:05:44.093234Z",
     "start_time": "2024-05-10T16:05:44.074276Z"
    }
   },
   "id": "c870f2fa48fe956c",
   "outputs": [],
   "execution_count": 8
  },
  {
   "cell_type": "code",
   "source": [
    "history = model.fit(X_train, y_train, validation_data=(X_val, y_val), epochs=50, batch_size=2048,verbose=1)"
   ],
   "metadata": {
    "collapsed": false,
    "ExecuteTime": {
     "end_time": "2024-05-10T16:17:08.879245Z",
     "start_time": "2024-05-10T16:05:44.093963Z"
    }
   },
   "id": "d9a29cb1ff2dcba7",
   "outputs": [
    {
     "name": "stdout",
     "output_type": "stream",
     "text": [
      "Epoch 1/50\n",
      "\u001B[1m74/74\u001B[0m \u001B[32m━━━━━━━━━━━━━━━━━━━━\u001B[0m\u001B[37m\u001B[0m \u001B[1m14s\u001B[0m 182ms/step - accuracy: 0.2875 - loss: 1.6659 - val_accuracy: 0.4278 - val_loss: 1.3547\n",
      "Epoch 2/50\n",
      "\u001B[1m74/74\u001B[0m \u001B[32m━━━━━━━━━━━━━━━━━━━━\u001B[0m\u001B[37m\u001B[0m \u001B[1m14s\u001B[0m 183ms/step - accuracy: 0.4323 - loss: 1.3392 - val_accuracy: 0.4731 - val_loss: 1.2579\n",
      "Epoch 3/50\n",
      "\u001B[1m74/74\u001B[0m \u001B[32m━━━━━━━━━━━━━━━━━━━━\u001B[0m\u001B[37m\u001B[0m \u001B[1m13s\u001B[0m 176ms/step - accuracy: 0.4788 - loss: 1.2536 - val_accuracy: 0.5315 - val_loss: 1.1488\n",
      "Epoch 4/50\n",
      "\u001B[1m74/74\u001B[0m \u001B[32m━━━━━━━━━━━━━━━━━━━━\u001B[0m\u001B[37m\u001B[0m \u001B[1m13s\u001B[0m 177ms/step - accuracy: 0.5308 - loss: 1.1507 - val_accuracy: 0.5812 - val_loss: 1.0443\n",
      "Epoch 5/50\n",
      "\u001B[1m74/74\u001B[0m \u001B[32m━━━━━━━━━━━━━━━━━━━━\u001B[0m\u001B[37m\u001B[0m \u001B[1m13s\u001B[0m 177ms/step - accuracy: 0.5864 - loss: 1.0400 - val_accuracy: 0.6224 - val_loss: 0.9576\n",
      "Epoch 6/50\n",
      "\u001B[1m74/74\u001B[0m \u001B[32m━━━━━━━━━━━━━━━━━━━━\u001B[0m\u001B[37m\u001B[0m \u001B[1m13s\u001B[0m 174ms/step - accuracy: 0.6287 - loss: 0.9495 - val_accuracy: 0.6691 - val_loss: 0.8547\n",
      "Epoch 7/50\n",
      "\u001B[1m74/74\u001B[0m \u001B[32m━━━━━━━━━━━━━━━━━━━━\u001B[0m\u001B[37m\u001B[0m \u001B[1m13s\u001B[0m 175ms/step - accuracy: 0.6730 - loss: 0.8508 - val_accuracy: 0.7089 - val_loss: 0.7671\n",
      "Epoch 8/50\n",
      "\u001B[1m74/74\u001B[0m \u001B[32m━━━━━━━━━━━━━━━━━━━━\u001B[0m\u001B[37m\u001B[0m \u001B[1m14s\u001B[0m 182ms/step - accuracy: 0.7019 - loss: 0.7808 - val_accuracy: 0.7291 - val_loss: 0.7102\n",
      "Epoch 9/50\n",
      "\u001B[1m74/74\u001B[0m \u001B[32m━━━━━━━━━━━━━━━━━━━━\u001B[0m\u001B[37m\u001B[0m \u001B[1m14s\u001B[0m 194ms/step - accuracy: 0.7301 - loss: 0.7170 - val_accuracy: 0.7493 - val_loss: 0.6667\n",
      "Epoch 10/50\n",
      "\u001B[1m74/74\u001B[0m \u001B[32m━━━━━━━━━━━━━━━━━━━━\u001B[0m\u001B[37m\u001B[0m \u001B[1m14s\u001B[0m 184ms/step - accuracy: 0.7529 - loss: 0.6587 - val_accuracy: 0.7788 - val_loss: 0.5969\n",
      "Epoch 11/50\n",
      "\u001B[1m74/74\u001B[0m \u001B[32m━━━━━━━━━━━━━━━━━━━━\u001B[0m\u001B[37m\u001B[0m \u001B[1m14s\u001B[0m 183ms/step - accuracy: 0.7769 - loss: 0.5996 - val_accuracy: 0.7936 - val_loss: 0.5610\n",
      "Epoch 12/50\n",
      "\u001B[1m74/74\u001B[0m \u001B[32m━━━━━━━━━━━━━━━━━━━━\u001B[0m\u001B[37m\u001B[0m \u001B[1m13s\u001B[0m 177ms/step - accuracy: 0.7966 - loss: 0.5555 - val_accuracy: 0.7982 - val_loss: 0.5543\n",
      "Epoch 13/50\n",
      "\u001B[1m74/74\u001B[0m \u001B[32m━━━━━━━━━━━━━━━━━━━━\u001B[0m\u001B[37m\u001B[0m \u001B[1m14s\u001B[0m 184ms/step - accuracy: 0.8042 - loss: 0.5316 - val_accuracy: 0.8113 - val_loss: 0.5207\n",
      "Epoch 14/50\n",
      "\u001B[1m74/74\u001B[0m \u001B[32m━━━━━━━━━━━━━━━━━━━━\u001B[0m\u001B[37m\u001B[0m \u001B[1m14s\u001B[0m 186ms/step - accuracy: 0.8173 - loss: 0.5003 - val_accuracy: 0.8291 - val_loss: 0.4744\n",
      "Epoch 15/50\n",
      "\u001B[1m74/74\u001B[0m \u001B[32m━━━━━━━━━━━━━━━━━━━━\u001B[0m\u001B[37m\u001B[0m \u001B[1m14s\u001B[0m 184ms/step - accuracy: 0.8247 - loss: 0.4852 - val_accuracy: 0.8399 - val_loss: 0.4488\n",
      "Epoch 16/50\n",
      "\u001B[1m74/74\u001B[0m \u001B[32m━━━━━━━━━━━━━━━━━━━━\u001B[0m\u001B[37m\u001B[0m \u001B[1m13s\u001B[0m 178ms/step - accuracy: 0.8361 - loss: 0.4521 - val_accuracy: 0.8421 - val_loss: 0.4412\n",
      "Epoch 17/50\n",
      "\u001B[1m74/74\u001B[0m \u001B[32m━━━━━━━━━━━━━━━━━━━━\u001B[0m\u001B[37m\u001B[0m \u001B[1m13s\u001B[0m 177ms/step - accuracy: 0.8444 - loss: 0.4270 - val_accuracy: 0.8458 - val_loss: 0.4278\n",
      "Epoch 18/50\n",
      "\u001B[1m74/74\u001B[0m \u001B[32m━━━━━━━━━━━━━━━━━━━━\u001B[0m\u001B[37m\u001B[0m \u001B[1m14s\u001B[0m 190ms/step - accuracy: 0.8542 - loss: 0.4052 - val_accuracy: 0.8481 - val_loss: 0.4298\n",
      "Epoch 19/50\n",
      "\u001B[1m74/74\u001B[0m \u001B[32m━━━━━━━━━━━━━━━━━━━━\u001B[0m\u001B[37m\u001B[0m \u001B[1m13s\u001B[0m 180ms/step - accuracy: 0.8533 - loss: 0.4074 - val_accuracy: 0.8577 - val_loss: 0.4021\n",
      "Epoch 20/50\n",
      "\u001B[1m74/74\u001B[0m \u001B[32m━━━━━━━━━━━━━━━━━━━━\u001B[0m\u001B[37m\u001B[0m \u001B[1m13s\u001B[0m 182ms/step - accuracy: 0.8627 - loss: 0.3836 - val_accuracy: 0.8540 - val_loss: 0.4110\n",
      "Epoch 21/50\n",
      "\u001B[1m74/74\u001B[0m \u001B[32m━━━━━━━━━━━━━━━━━━━━\u001B[0m\u001B[37m\u001B[0m \u001B[1m13s\u001B[0m 174ms/step - accuracy: 0.8690 - loss: 0.3688 - val_accuracy: 0.8647 - val_loss: 0.3833\n",
      "Epoch 22/50\n",
      "\u001B[1m74/74\u001B[0m \u001B[32m━━━━━━━━━━━━━━━━━━━━\u001B[0m\u001B[37m\u001B[0m \u001B[1m14s\u001B[0m 185ms/step - accuracy: 0.8719 - loss: 0.3607 - val_accuracy: 0.8497 - val_loss: 0.4259\n",
      "Epoch 23/50\n",
      "\u001B[1m74/74\u001B[0m \u001B[32m━━━━━━━━━━━━━━━━━━━━\u001B[0m\u001B[37m\u001B[0m \u001B[1m14s\u001B[0m 182ms/step - accuracy: 0.8708 - loss: 0.3612 - val_accuracy: 0.8663 - val_loss: 0.3876\n",
      "Epoch 24/50\n",
      "\u001B[1m74/74\u001B[0m \u001B[32m━━━━━━━━━━━━━━━━━━━━\u001B[0m\u001B[37m\u001B[0m \u001B[1m14s\u001B[0m 184ms/step - accuracy: 0.8799 - loss: 0.3399 - val_accuracy: 0.8632 - val_loss: 0.3885\n",
      "Epoch 25/50\n",
      "\u001B[1m74/74\u001B[0m \u001B[32m━━━━━━━━━━━━━━━━━━━━\u001B[0m\u001B[37m\u001B[0m \u001B[1m13s\u001B[0m 178ms/step - accuracy: 0.8815 - loss: 0.3344 - val_accuracy: 0.8744 - val_loss: 0.3623\n",
      "Epoch 26/50\n",
      "\u001B[1m74/74\u001B[0m \u001B[32m━━━━━━━━━━━━━━━━━━━━\u001B[0m\u001B[37m\u001B[0m \u001B[1m13s\u001B[0m 176ms/step - accuracy: 0.8865 - loss: 0.3218 - val_accuracy: 0.8666 - val_loss: 0.3888\n",
      "Epoch 27/50\n",
      "\u001B[1m74/74\u001B[0m \u001B[32m━━━━━━━━━━━━━━━━━━━━\u001B[0m\u001B[37m\u001B[0m \u001B[1m14s\u001B[0m 193ms/step - accuracy: 0.8858 - loss: 0.3213 - val_accuracy: 0.8774 - val_loss: 0.3600\n",
      "Epoch 28/50\n",
      "\u001B[1m74/74\u001B[0m \u001B[32m━━━━━━━━━━━━━━━━━━━━\u001B[0m\u001B[37m\u001B[0m \u001B[1m14s\u001B[0m 184ms/step - accuracy: 0.8928 - loss: 0.3032 - val_accuracy: 0.8715 - val_loss: 0.3698\n",
      "Epoch 29/50\n",
      "\u001B[1m74/74\u001B[0m \u001B[32m━━━━━━━━━━━━━━━━━━━━\u001B[0m\u001B[37m\u001B[0m \u001B[1m14s\u001B[0m 183ms/step - accuracy: 0.8900 - loss: 0.3132 - val_accuracy: 0.8759 - val_loss: 0.3579\n",
      "Epoch 30/50\n",
      "\u001B[1m74/74\u001B[0m \u001B[32m━━━━━━━━━━━━━━━━━━━━\u001B[0m\u001B[37m\u001B[0m \u001B[1m13s\u001B[0m 176ms/step - accuracy: 0.8926 - loss: 0.3044 - val_accuracy: 0.8854 - val_loss: 0.3369\n",
      "Epoch 31/50\n",
      "\u001B[1m74/74\u001B[0m \u001B[32m━━━━━━━━━━━━━━━━━━━━\u001B[0m\u001B[37m\u001B[0m \u001B[1m15s\u001B[0m 203ms/step - accuracy: 0.8974 - loss: 0.2922 - val_accuracy: 0.8838 - val_loss: 0.3434\n",
      "Epoch 32/50\n",
      "\u001B[1m74/74\u001B[0m \u001B[32m━━━━━━━━━━━━━━━━━━━━\u001B[0m\u001B[37m\u001B[0m \u001B[1m16s\u001B[0m 217ms/step - accuracy: 0.8932 - loss: 0.3013 - val_accuracy: 0.8826 - val_loss: 0.3430\n",
      "Epoch 33/50\n",
      "\u001B[1m74/74\u001B[0m \u001B[32m━━━━━━━━━━━━━━━━━━━━\u001B[0m\u001B[37m\u001B[0m \u001B[1m14s\u001B[0m 190ms/step - accuracy: 0.9017 - loss: 0.2775 - val_accuracy: 0.8849 - val_loss: 0.3436\n",
      "Epoch 34/50\n",
      "\u001B[1m74/74\u001B[0m \u001B[32m━━━━━━━━━━━━━━━━━━━━\u001B[0m\u001B[37m\u001B[0m \u001B[1m13s\u001B[0m 178ms/step - accuracy: 0.9047 - loss: 0.2715 - val_accuracy: 0.8889 - val_loss: 0.3240\n",
      "Epoch 35/50\n",
      "\u001B[1m74/74\u001B[0m \u001B[32m━━━━━━━━━━━━━━━━━━━━\u001B[0m\u001B[37m\u001B[0m \u001B[1m14s\u001B[0m 196ms/step - accuracy: 0.9021 - loss: 0.2804 - val_accuracy: 0.8829 - val_loss: 0.3423\n",
      "Epoch 36/50\n",
      "\u001B[1m74/74\u001B[0m \u001B[32m━━━━━━━━━━━━━━━━━━━━\u001B[0m\u001B[37m\u001B[0m \u001B[1m15s\u001B[0m 204ms/step - accuracy: 0.9025 - loss: 0.2784 - val_accuracy: 0.8799 - val_loss: 0.3518\n",
      "Epoch 37/50\n",
      "\u001B[1m74/74\u001B[0m \u001B[32m━━━━━━━━━━━━━━━━━━━━\u001B[0m\u001B[37m\u001B[0m \u001B[1m16s\u001B[0m 217ms/step - accuracy: 0.9037 - loss: 0.2737 - val_accuracy: 0.8883 - val_loss: 0.3287\n",
      "Epoch 38/50\n",
      "\u001B[1m74/74\u001B[0m \u001B[32m━━━━━━━━━━━━━━━━━━━━\u001B[0m\u001B[37m\u001B[0m \u001B[1m14s\u001B[0m 194ms/step - accuracy: 0.9073 - loss: 0.2635 - val_accuracy: 0.8923 - val_loss: 0.3211\n",
      "Epoch 39/50\n",
      "\u001B[1m74/74\u001B[0m \u001B[32m━━━━━━━━━━━━━━━━━━━━\u001B[0m\u001B[37m\u001B[0m \u001B[1m14s\u001B[0m 184ms/step - accuracy: 0.9096 - loss: 0.2580 - val_accuracy: 0.8876 - val_loss: 0.3269\n",
      "Epoch 40/50\n",
      "\u001B[1m74/74\u001B[0m \u001B[32m━━━━━━━━━━━━━━━━━━━━\u001B[0m\u001B[37m\u001B[0m \u001B[1m14s\u001B[0m 182ms/step - accuracy: 0.9080 - loss: 0.2629 - val_accuracy: 0.8915 - val_loss: 0.3352\n",
      "Epoch 41/50\n",
      "\u001B[1m74/74\u001B[0m \u001B[32m━━━━━━━━━━━━━━━━━━━━\u001B[0m\u001B[37m\u001B[0m \u001B[1m14s\u001B[0m 185ms/step - accuracy: 0.9086 - loss: 0.2595 - val_accuracy: 0.8831 - val_loss: 0.3480\n",
      "Epoch 42/50\n",
      "\u001B[1m74/74\u001B[0m \u001B[32m━━━━━━━━━━━━━━━━━━━━\u001B[0m\u001B[37m\u001B[0m \u001B[1m13s\u001B[0m 178ms/step - accuracy: 0.9101 - loss: 0.2577 - val_accuracy: 0.8809 - val_loss: 0.3651\n",
      "Epoch 43/50\n",
      "\u001B[1m74/74\u001B[0m \u001B[32m━━━━━━━━━━━━━━━━━━━━\u001B[0m\u001B[37m\u001B[0m \u001B[1m13s\u001B[0m 175ms/step - accuracy: 0.9109 - loss: 0.2534 - val_accuracy: 0.8896 - val_loss: 0.3206\n",
      "Epoch 44/50\n",
      "\u001B[1m74/74\u001B[0m \u001B[32m━━━━━━━━━━━━━━━━━━━━\u001B[0m\u001B[37m\u001B[0m \u001B[1m14s\u001B[0m 190ms/step - accuracy: 0.9100 - loss: 0.2557 - val_accuracy: 0.8862 - val_loss: 0.3454\n",
      "Epoch 45/50\n",
      "\u001B[1m74/74\u001B[0m \u001B[32m━━━━━━━━━━━━━━━━━━━━\u001B[0m\u001B[37m\u001B[0m \u001B[1m14s\u001B[0m 184ms/step - accuracy: 0.9133 - loss: 0.2471 - val_accuracy: 0.8898 - val_loss: 0.3279\n",
      "Epoch 46/50\n",
      "\u001B[1m74/74\u001B[0m \u001B[32m━━━━━━━━━━━━━━━━━━━━\u001B[0m\u001B[37m\u001B[0m \u001B[1m14s\u001B[0m 183ms/step - accuracy: 0.9139 - loss: 0.2449 - val_accuracy: 0.8884 - val_loss: 0.3373\n",
      "Epoch 47/50\n",
      "\u001B[1m74/74\u001B[0m \u001B[32m━━━━━━━━━━━━━━━━━━━━\u001B[0m\u001B[37m\u001B[0m \u001B[1m13s\u001B[0m 177ms/step - accuracy: 0.9128 - loss: 0.2475 - val_accuracy: 0.8865 - val_loss: 0.3494\n",
      "Epoch 48/50\n",
      "\u001B[1m74/74\u001B[0m \u001B[32m━━━━━━━━━━━━━━━━━━━━\u001B[0m\u001B[37m\u001B[0m \u001B[1m14s\u001B[0m 188ms/step - accuracy: 0.9149 - loss: 0.2404 - val_accuracy: 0.8910 - val_loss: 0.3425\n",
      "Epoch 49/50\n",
      "\u001B[1m74/74\u001B[0m \u001B[32m━━━━━━━━━━━━━━━━━━━━\u001B[0m\u001B[37m\u001B[0m \u001B[1m13s\u001B[0m 181ms/step - accuracy: 0.9157 - loss: 0.2429 - val_accuracy: 0.8921 - val_loss: 0.3279\n",
      "Epoch 50/50\n",
      "\u001B[1m74/74\u001B[0m \u001B[32m━━━━━━━━━━━━━━━━━━━━\u001B[0m\u001B[37m\u001B[0m \u001B[1m14s\u001B[0m 185ms/step - accuracy: 0.9163 - loss: 0.2375 - val_accuracy: 0.8922 - val_loss: 0.3244\n"
     ]
    }
   ],
   "execution_count": 9
  },
  {
   "metadata": {},
   "cell_type": "markdown",
   "source": [
    "# Loss evaluation\n",
    "\n",
    "Seeing how the model's loss changes by the epoch"
   ],
   "id": "28458dd6caeaf05c"
  },
  {
   "cell_type": "code",
   "source": [
    "%matplotlib inline\n",
    "plt.plot(history.history['loss'])\n",
    "plt.plot(history.history['val_loss'])\n",
    "plt.title(\"Loss\")\n",
    "plt.legend(['Train', 'Val'], loc='upper right')\n",
    "plt.ylabel('Loss')\n",
    "plt.xlabel('Epoch')"
   ],
   "metadata": {
    "collapsed": false,
    "ExecuteTime": {
     "end_time": "2024-05-10T16:17:15.015326Z",
     "start_time": "2024-05-10T16:17:14.916661Z"
    }
   },
   "id": "db97a7f3cc91e456",
   "outputs": [
    {
     "data": {
      "text/plain": "Text(0.5, 0, 'Epoch')"
     },
     "execution_count": 15,
     "metadata": {},
     "output_type": "execute_result"
    },
    {
     "data": {
      "text/plain": "<Figure size 640x480 with 1 Axes>",
      "image/png": "[encoded data removed]"
     },
     "metadata": {},
     "output_type": "display_data"
    }
   ],
   "execution_count": 15
  },
  {
   "metadata": {},
   "cell_type": "markdown",
   "source": [
    "# Loss evaluation\n",
    "\n",
    "Seeing how the model's loss changes by the epoch"
   ],
   "id": "47dd11a44349b4d5"
  },
  {
   "metadata": {
    "ExecuteTime": {
     "end_time": "2024-05-10T16:17:09.098531Z",
     "start_time": "2024-05-10T16:17:09.005077Z"
    }
   },
   "cell_type": "code",
   "source": [
    "%matplotlib inline\n",
    "plt.plot(history.history['accuracy'])\n",
    "plt.plot(history.history['val_accuracy'])\n",
    "plt.title(\"Accuracy\")\n",
    "plt.legend(['Train', 'Val'], loc='upper right')\n",
    "plt.ylabel('Accuracy')\n",
    "plt.xlabel('Epoch')"
   ],
   "id": "4a03b62d16638245",
   "outputs": [
    {
     "data": {
      "text/plain": "Text(0.5, 0, 'Epoch')"
     },
     "execution_count": 11,
     "metadata": {},
     "output_type": "execute_result"
    },
    {
     "data": {
      "text/plain": "<Figure size 640x480 with 1 Axes>",
      "image/png": "[encoded data removed]"
     },
     "metadata": {},
     "output_type": "display_data"
    }
   ],
   "execution_count": 11
  },
  {
   "cell_type": "markdown",
   "source": [
    "# Prediction"
   ],
   "metadata": {
    "collapsed": false
   },
   "id": "4fb3930ce2fec85d"
  },
  {
   "cell_type": "code",
   "source": [
    "prediction_word = \"Hvaðan eru tygum Hvaðan eru tygum Hvaðan eru tygum\"\n",
    "print(f\"Text before preprocessing: {prediction_word}\")\n",
    "prediction_word = preprocess(prediction_word)\n",
    "print(f\"Text after preprocessing: {prediction_word}\")\n",
    "prediction_word = tokenizer.texts_to_sequences([prediction_word])\n",
    "prediction_word = pad_sequences(prediction_word, maxlen=input_dim)\n",
    "prediction = model.predict([prediction_word])\n",
    "output_probabilities = np.array(prediction)\n",
    "result = {}\n",
    "class_labels = np.unique(y_df.columns)\n",
    "for index, prediction in enumerate(output_probabilities[0]):\n",
    "    result.update({class_labels[index]: round(prediction * 100, 1)})\n",
    "\n",
    "# Print keys and values of the result dictionary\n",
    "for key, value in result.items():\n",
    "    print(f\"{key}: {value}\")"
   ],
   "metadata": {
    "collapsed": false,
    "ExecuteTime": {
     "end_time": "2024-05-10T16:17:58.254460Z",
     "start_time": "2024-05-10T16:17:58.149272Z"
    }
   },
   "id": "2af1ef5d86413ee6",
   "outputs": [
    {
     "name": "stdout",
     "output_type": "stream",
     "text": [
      "Text before preprocessing: Hvaðan eru tygum Hvaðan eru tygum Hvaðan eru tygum\n",
      "Text after preprocessing: hvadan eru tygum hvadan eru tygum hvadan eru tygum\n",
      "\u001B[1m1/1\u001B[0m \u001B[32m━━━━━━━━━━━━━━━━━━━━\u001B[0m\u001B[37m\u001B[0m \u001B[1m0s\u001B[0m 79ms/step\n",
      "Language Family_Germanic: 58.3\n",
      "Language Family_Hellenic: 0.0\n",
      "Language Family_Romance: 0.1\n",
      "Language Family_Slavic: 17.1\n",
      "Language Family_Uralic: 24.4\n"
     ]
    }
   ],
   "execution_count": 16
  },
  {
   "cell_type": "markdown",
   "source": [
    "# Save model\n",
    "Here a model can be loaded"
   ],
   "metadata": {
    "collapsed": false
   },
   "id": "7346b90cf1a2f553"
  },
  {
   "cell_type": "code",
   "source": [
    "model.save('./model_lang_families.keras')"
   ],
   "metadata": {
    "collapsed": false,
    "ExecuteTime": {
     "end_time": "2024-05-10T16:17:09.244550Z",
     "start_time": "2024-05-10T16:17:09.211205Z"
    }
   },
   "id": "f103d5e7cc3146d9",
   "outputs": [],
   "execution_count": 13
  },
  {
   "cell_type": "markdown",
   "source": [
    "# Load model\n",
    "Here a model can be loaded"
   ],
   "metadata": {
    "collapsed": false
   },
   "id": "e0cf8ae450614ab7"
  },
  {
   "cell_type": "code",
   "source": [
    "model = load_model('./model_lang_families.keras')"
   ],
   "metadata": {
    "collapsed": false,
    "ExecuteTime": {
     "end_time": "2024-05-10T16:17:09.287152Z",
     "start_time": "2024-05-10T16:17:09.234348Z"
    }
   },
   "id": "c0bbfbb51379fba0",
   "outputs": [],
   "execution_count": 14
  }
 ],
 "metadata": {
  "kernelspec": {
   "display_name": "Python 3",
   "language": "python",
   "name": "python3"
  },
  "language_info": {
   "codemirror_mode": {
    "name": "ipython",
    "version": 2
   },
   "file_extension": ".py",
   "mimetype": "text/x-python",
   "name": "python",
   "nbconvert_exporter": "python",
   "pygments_lexer": "ipython2",
   "version": "2.7.6"
  }
 },
 "nbformat": 4,
 "nbformat_minor": 5
}
