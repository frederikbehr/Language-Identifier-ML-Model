{
 "cells": [
  {
   "cell_type": "code",
   "id": "initial_id",
   "metadata": {
    "collapsed": true,
    "ExecuteTime": {
     "end_time": "2024-05-11T23:33:16.045772Z",
     "start_time": "2024-05-11T23:33:12.798385Z"
    }
   },
   "source": [
    "import numpy as np\n",
    "import pandas as pd\n",
    "import matplotlib.pyplot as plt\n",
    "import tensorflow as tf\n",
    "from tensorflow.keras.models import Sequential, load_model\n",
    "from tensorflow.keras.layers import Dense, Conv1D, LSTM, Dropout, Flatten\n",
    "from tensorflow.keras import optimizers\n",
    "from tensorflow.keras.preprocessing.text import Tokenizer\n",
    "from keras.src.utils import pad_sequences\n",
    "from sklearn.model_selection import train_test_split\n",
    "from custom_preprocessor import preprocess\n",
    "import json"
   ],
   "outputs": [],
   "execution_count": 3
  },
  {
   "cell_type": "markdown",
   "source": [
    "# Get data\n",
    "Pandas is used to get the data from the project directory.\n",
    "The data is a .csv file, that has been created by book texts and prepared to be listed in the file word-by-word."
   ],
   "metadata": {
    "collapsed": false
   },
   "id": "b20ed3afab281b03"
  },
  {
   "cell_type": "code",
   "source": [
    "df = pd.read_csv('./data/dataset_families.csv')\n",
    "df = df.sample(frac=1.0, random_state=12)\n",
    "df.head()"
   ],
   "metadata": {
    "collapsed": false,
    "ExecuteTime": {
     "end_time": "2024-05-11T23:33:35.966630Z",
     "start_time": "2024-05-11T23:33:35.875814Z"
    }
   },
   "id": "9934f095638f49f4",
   "outputs": [
    {
     "data": {
      "text/plain": "                               Word Language Family\n45885   pressaient elles appelaient         Romance\n146714          hyreni rozhazuje je          Slavic\n141522              odehral tehda v          Slavic\n65000          te equivocas severus         Romance\n80966            die genossenschaft        Germanic",
      "text/html": "<div>\n<style scoped>\n    .dataframe tbody tr th:only-of-type {\n        vertical-align: middle;\n    }\n\n    .dataframe tbody tr th {\n        vertical-align: top;\n    }\n\n    .dataframe thead th {\n        text-align: right;\n    }\n</style>\n<table border=\"1\" class=\"dataframe\">\n  <thead>\n    <tr style=\"text-align: right;\">\n      <th></th>\n      <th>Word</th>\n      <th>Language Family</th>\n    </tr>\n  </thead>\n  <tbody>\n    <tr>\n      <th>45885</th>\n      <td>pressaient elles appelaient</td>\n      <td>Romance</td>\n    </tr>\n    <tr>\n      <th>146714</th>\n      <td>hyreni rozhazuje je</td>\n      <td>Slavic</td>\n    </tr>\n    <tr>\n      <th>141522</th>\n      <td>odehral tehda v</td>\n      <td>Slavic</td>\n    </tr>\n    <tr>\n      <th>65000</th>\n      <td>te equivocas severus</td>\n      <td>Romance</td>\n    </tr>\n    <tr>\n      <th>80966</th>\n      <td>die genossenschaft</td>\n      <td>Germanic</td>\n    </tr>\n  </tbody>\n</table>\n</div>"
     },
     "execution_count": 6,
     "metadata": {},
     "output_type": "execute_result"
    }
   ],
   "execution_count": 6
  },
  {
   "cell_type": "markdown",
   "source": [
    "# Prepare data\n",
    "Divide the data into X and y. X is input and y is the desired output.\n",
    "One-Hot Encode it, so the language is categorical. This is done with Pandas."
   ],
   "metadata": {
    "collapsed": false
   },
   "id": "e375f9241e794ae4"
  },
  {
   "cell_type": "code",
   "source": [
    "# Getting X - the input values\n",
    "X = df.iloc[:, :-1]\n",
    "X.loc[:, 'Word'] = X['Word'].astype(str)\n",
    "tokenizer = Tokenizer(char_level=True) # Used for turning the words into numbers\n",
    "tokenizer.fit_on_texts(X['Word'].tolist()) # Giving Tokenizer the data it needs to learn how to encode the words\n",
    "X_sequences = tokenizer.texts_to_sequences(X['Word'].tolist()) # Now the words are encoded into sequences\n",
    "input_dim = max(len(seq) for seq in X_sequences)\n",
    "print(input_dim)\n",
    "X = pad_sequences(\n",
    "    X_sequences, \n",
    "    maxlen=input_dim, \n",
    "    padding='post'\n",
    ") # Making all input values be of same length\n",
    "print(f\"Rows: {len(X)}\")\n",
    "\n",
    "# Getting y - the output values\n",
    "y_df = pd.get_dummies(df.iloc[:, -1:])\n",
    "y = y_df.values\n",
    "print(f\"Amount of languages to identify: {len(y[1])}\")\n",
    "\n",
    "X_train, X_val, y_train, y_val = train_test_split(X, y, test_size=0.2, random_state=42)\n",
    "X_train = X_train.reshape(X_train.shape[0], X_train.shape[1], 1)"
   ],
   "metadata": {
    "collapsed": false,
    "ExecuteTime": {
     "end_time": "2024-05-11T23:33:39.157776Z",
     "start_time": "2024-05-11T23:33:37.867881Z"
    }
   },
   "id": "ba4d86402045de27",
   "outputs": [
    {
     "name": "stdout",
     "output_type": "stream",
     "text": [
      "40\n",
      "Rows: 187795\n",
      "Amount of languages to identify: 5\n"
     ]
    }
   ],
   "execution_count": 7
  },
  {
   "cell_type": "code",
   "source": [
    "model = Sequential()\n",
    "model.add(Conv1D(input_dim, 2, activation='relu'))  # Convolutional layer\n",
    "tf.keras.layers.SimpleRNN(8, activation='relu')\n",
    "model.add(LSTM(64, return_sequences=True))\n",
    "model.add(Flatten())\n",
    "model.add(Dropout(0.5))\n",
    "model.add(Dense(len(y[1]), activation='softmax'))\n",
    "adam = optimizers.Adam(learning_rate=0.01)\n",
    "model.compile(loss='categorical_crossentropy', optimizer=adam, metrics=['accuracy'])"
   ],
   "metadata": {
    "collapsed": false,
    "ExecuteTime": {
     "end_time": "2024-05-11T21:18:55.315419Z",
     "start_time": "2024-05-11T21:18:55.303332Z"
    }
   },
   "id": "c870f2fa48fe956c",
   "outputs": [],
   "execution_count": 32
  },
  {
   "cell_type": "code",
   "source": [
    "history = model.fit(X_train, y_train, validation_data=(X_val, y_val), epochs=50, batch_size=2048,verbose=1)"
   ],
   "metadata": {
    "collapsed": false,
    "ExecuteTime": {
     "end_time": "2024-05-11T21:30:32.417279Z",
     "start_time": "2024-05-11T21:18:55.315952Z"
    }
   },
   "id": "d9a29cb1ff2dcba7",
   "outputs": [
    {
     "name": "stdout",
     "output_type": "stream",
     "text": [
      "Epoch 1/50\n",
      "\u001B[1m74/74\u001B[0m \u001B[32m━━━━━━━━━━━━━━━━━━━━\u001B[0m\u001B[37m\u001B[0m \u001B[1m15s\u001B[0m 190ms/step - accuracy: 0.2841 - loss: 1.6864 - val_accuracy: 0.4192 - val_loss: 1.3571\n",
      "Epoch 2/50\n",
      "\u001B[1m74/74\u001B[0m \u001B[32m━━━━━━━━━━━━━━━━━━━━\u001B[0m\u001B[37m\u001B[0m \u001B[1m13s\u001B[0m 175ms/step - accuracy: 0.4330 - loss: 1.3321 - val_accuracy: 0.4803 - val_loss: 1.2467\n",
      "Epoch 3/50\n",
      "\u001B[1m74/74\u001B[0m \u001B[32m━━━━━━━━━━━━━━━━━━━━\u001B[0m\u001B[37m\u001B[0m \u001B[1m13s\u001B[0m 180ms/step - accuracy: 0.4843 - loss: 1.2395 - val_accuracy: 0.5397 - val_loss: 1.1314\n",
      "Epoch 4/50\n",
      "\u001B[1m74/74\u001B[0m \u001B[32m━━━━━━━━━━━━━━━━━━━━\u001B[0m\u001B[37m\u001B[0m \u001B[1m13s\u001B[0m 180ms/step - accuracy: 0.5392 - loss: 1.1339 - val_accuracy: 0.5856 - val_loss: 1.0385\n",
      "Epoch 5/50\n",
      "\u001B[1m74/74\u001B[0m \u001B[32m━━━━━━━━━━━━━━━━━━━━\u001B[0m\u001B[37m\u001B[0m \u001B[1m13s\u001B[0m 178ms/step - accuracy: 0.5775 - loss: 1.0575 - val_accuracy: 0.6164 - val_loss: 0.9760\n",
      "Epoch 6/50\n",
      "\u001B[1m74/74\u001B[0m \u001B[32m━━━━━━━━━━━━━━━━━━━━\u001B[0m\u001B[37m\u001B[0m \u001B[1m13s\u001B[0m 180ms/step - accuracy: 0.6164 - loss: 0.9770 - val_accuracy: 0.6470 - val_loss: 0.9029\n",
      "Epoch 7/50\n",
      "\u001B[1m74/74\u001B[0m \u001B[32m━━━━━━━━━━━━━━━━━━━━\u001B[0m\u001B[37m\u001B[0m \u001B[1m13s\u001B[0m 180ms/step - accuracy: 0.6453 - loss: 0.9105 - val_accuracy: 0.6663 - val_loss: 0.8584\n",
      "Epoch 8/50\n",
      "\u001B[1m74/74\u001B[0m \u001B[32m━━━━━━━━━━━━━━━━━━━━\u001B[0m\u001B[37m\u001B[0m \u001B[1m15s\u001B[0m 199ms/step - accuracy: 0.6763 - loss: 0.8395 - val_accuracy: 0.7151 - val_loss: 0.7491\n",
      "Epoch 9/50\n",
      "\u001B[1m74/74\u001B[0m \u001B[32m━━━━━━━━━━━━━━━━━━━━\u001B[0m\u001B[37m\u001B[0m \u001B[1m14s\u001B[0m 186ms/step - accuracy: 0.7164 - loss: 0.7474 - val_accuracy: 0.7348 - val_loss: 0.7075\n",
      "Epoch 10/50\n",
      "\u001B[1m74/74\u001B[0m \u001B[32m━━━━━━━━━━━━━━━━━━━━\u001B[0m\u001B[37m\u001B[0m \u001B[1m15s\u001B[0m 209ms/step - accuracy: 0.7395 - loss: 0.6890 - val_accuracy: 0.7368 - val_loss: 0.6940\n",
      "Epoch 11/50\n",
      "\u001B[1m74/74\u001B[0m \u001B[32m━━━━━━━━━━━━━━━━━━━━\u001B[0m\u001B[37m\u001B[0m \u001B[1m13s\u001B[0m 176ms/step - accuracy: 0.7570 - loss: 0.6483 - val_accuracy: 0.7890 - val_loss: 0.5716\n",
      "Epoch 12/50\n",
      "\u001B[1m74/74\u001B[0m \u001B[32m━━━━━━━━━━━━━━━━━━━━\u001B[0m\u001B[37m\u001B[0m \u001B[1m15s\u001B[0m 197ms/step - accuracy: 0.7760 - loss: 0.6015 - val_accuracy: 0.7893 - val_loss: 0.5706\n",
      "Epoch 13/50\n",
      "\u001B[1m74/74\u001B[0m \u001B[32m━━━━━━━━━━━━━━━━━━━━\u001B[0m\u001B[37m\u001B[0m \u001B[1m14s\u001B[0m 188ms/step - accuracy: 0.7940 - loss: 0.5589 - val_accuracy: 0.7971 - val_loss: 0.5481\n",
      "Epoch 14/50\n",
      "\u001B[1m74/74\u001B[0m \u001B[32m━━━━━━━━━━━━━━━━━━━━\u001B[0m\u001B[37m\u001B[0m \u001B[1m14s\u001B[0m 188ms/step - accuracy: 0.8091 - loss: 0.5228 - val_accuracy: 0.8168 - val_loss: 0.5031\n",
      "Epoch 15/50\n",
      "\u001B[1m74/74\u001B[0m \u001B[32m━━━━━━━━━━━━━━━━━━━━\u001B[0m\u001B[37m\u001B[0m \u001B[1m13s\u001B[0m 178ms/step - accuracy: 0.8195 - loss: 0.4939 - val_accuracy: 0.8239 - val_loss: 0.4832\n",
      "Epoch 16/50\n",
      "\u001B[1m74/74\u001B[0m \u001B[32m━━━━━━━━━━━━━━━━━━━━\u001B[0m\u001B[37m\u001B[0m \u001B[1m14s\u001B[0m 185ms/step - accuracy: 0.8291 - loss: 0.4694 - val_accuracy: 0.8344 - val_loss: 0.4556\n",
      "Epoch 17/50\n",
      "\u001B[1m74/74\u001B[0m \u001B[32m━━━━━━━━━━━━━━━━━━━━\u001B[0m\u001B[37m\u001B[0m \u001B[1m15s\u001B[0m 197ms/step - accuracy: 0.8312 - loss: 0.4621 - val_accuracy: 0.8359 - val_loss: 0.4557\n",
      "Epoch 18/50\n",
      "\u001B[1m74/74\u001B[0m \u001B[32m━━━━━━━━━━━━━━━━━━━━\u001B[0m\u001B[37m\u001B[0m \u001B[1m14s\u001B[0m 191ms/step - accuracy: 0.8414 - loss: 0.4390 - val_accuracy: 0.8361 - val_loss: 0.4532\n",
      "Epoch 19/50\n",
      "\u001B[1m74/74\u001B[0m \u001B[32m━━━━━━━━━━━━━━━━━━━━\u001B[0m\u001B[37m\u001B[0m \u001B[1m14s\u001B[0m 186ms/step - accuracy: 0.8495 - loss: 0.4170 - val_accuracy: 0.8486 - val_loss: 0.4269\n",
      "Epoch 20/50\n",
      "\u001B[1m74/74\u001B[0m \u001B[32m━━━━━━━━━━━━━━━━━━━━\u001B[0m\u001B[37m\u001B[0m \u001B[1m13s\u001B[0m 181ms/step - accuracy: 0.8505 - loss: 0.4151 - val_accuracy: 0.8519 - val_loss: 0.4131\n",
      "Epoch 21/50\n",
      "\u001B[1m74/74\u001B[0m \u001B[32m━━━━━━━━━━━━━━━━━━━━\u001B[0m\u001B[37m\u001B[0m \u001B[1m15s\u001B[0m 199ms/step - accuracy: 0.8574 - loss: 0.3953 - val_accuracy: 0.8531 - val_loss: 0.4129\n",
      "Epoch 22/50\n",
      "\u001B[1m74/74\u001B[0m \u001B[32m━━━━━━━━━━━━━━━━━━━━\u001B[0m\u001B[37m\u001B[0m \u001B[1m14s\u001B[0m 187ms/step - accuracy: 0.8616 - loss: 0.3846 - val_accuracy: 0.8624 - val_loss: 0.3889\n",
      "Epoch 23/50\n",
      "\u001B[1m74/74\u001B[0m \u001B[32m━━━━━━━━━━━━━━━━━━━━\u001B[0m\u001B[37m\u001B[0m \u001B[1m14s\u001B[0m 187ms/step - accuracy: 0.8666 - loss: 0.3718 - val_accuracy: 0.8573 - val_loss: 0.3996\n",
      "Epoch 24/50\n",
      "\u001B[1m74/74\u001B[0m \u001B[32m━━━━━━━━━━━━━━━━━━━━\u001B[0m\u001B[37m\u001B[0m \u001B[1m13s\u001B[0m 176ms/step - accuracy: 0.8702 - loss: 0.3625 - val_accuracy: 0.8654 - val_loss: 0.3908\n",
      "Epoch 25/50\n",
      "\u001B[1m74/74\u001B[0m \u001B[32m━━━━━━━━━━━━━━━━━━━━\u001B[0m\u001B[37m\u001B[0m \u001B[1m16s\u001B[0m 211ms/step - accuracy: 0.8777 - loss: 0.3473 - val_accuracy: 0.8681 - val_loss: 0.3755\n",
      "Epoch 26/50\n",
      "\u001B[1m74/74\u001B[0m \u001B[32m━━━━━━━━━━━━━━━━━━━━\u001B[0m\u001B[37m\u001B[0m \u001B[1m14s\u001B[0m 193ms/step - accuracy: 0.8778 - loss: 0.3415 - val_accuracy: 0.8745 - val_loss: 0.3541\n",
      "Epoch 27/50\n",
      "\u001B[1m74/74\u001B[0m \u001B[32m━━━━━━━━━━━━━━━━━━━━\u001B[0m\u001B[37m\u001B[0m \u001B[1m14s\u001B[0m 193ms/step - accuracy: 0.8814 - loss: 0.3359 - val_accuracy: 0.8717 - val_loss: 0.3673\n",
      "Epoch 28/50\n",
      "\u001B[1m74/74\u001B[0m \u001B[32m━━━━━━━━━━━━━━━━━━━━\u001B[0m\u001B[37m\u001B[0m \u001B[1m13s\u001B[0m 177ms/step - accuracy: 0.8827 - loss: 0.3293 - val_accuracy: 0.8747 - val_loss: 0.3555\n",
      "Epoch 29/50\n",
      "\u001B[1m74/74\u001B[0m \u001B[32m━━━━━━━━━━━━━━━━━━━━\u001B[0m\u001B[37m\u001B[0m \u001B[1m14s\u001B[0m 192ms/step - accuracy: 0.8871 - loss: 0.3175 - val_accuracy: 0.8784 - val_loss: 0.3433\n",
      "Epoch 30/50\n",
      "\u001B[1m74/74\u001B[0m \u001B[32m━━━━━━━━━━━━━━━━━━━━\u001B[0m\u001B[37m\u001B[0m \u001B[1m14s\u001B[0m 185ms/step - accuracy: 0.8894 - loss: 0.3117 - val_accuracy: 0.8799 - val_loss: 0.3508\n",
      "Epoch 31/50\n",
      "\u001B[1m74/74\u001B[0m \u001B[32m━━━━━━━━━━━━━━━━━━━━\u001B[0m\u001B[37m\u001B[0m \u001B[1m14s\u001B[0m 186ms/step - accuracy: 0.8945 - loss: 0.2977 - val_accuracy: 0.8770 - val_loss: 0.3498\n",
      "Epoch 32/50\n",
      "\u001B[1m74/74\u001B[0m \u001B[32m━━━━━━━━━━━━━━━━━━━━\u001B[0m\u001B[37m\u001B[0m \u001B[1m14s\u001B[0m 194ms/step - accuracy: 0.8910 - loss: 0.3063 - val_accuracy: 0.8794 - val_loss: 0.3462\n",
      "Epoch 33/50\n",
      "\u001B[1m74/74\u001B[0m \u001B[32m━━━━━━━━━━━━━━━━━━━━\u001B[0m\u001B[37m\u001B[0m \u001B[1m14s\u001B[0m 182ms/step - accuracy: 0.8954 - loss: 0.2962 - val_accuracy: 0.8835 - val_loss: 0.3407\n",
      "Epoch 34/50\n",
      "\u001B[1m74/74\u001B[0m \u001B[32m━━━━━━━━━━━━━━━━━━━━\u001B[0m\u001B[37m\u001B[0m \u001B[1m13s\u001B[0m 182ms/step - accuracy: 0.8960 - loss: 0.2930 - val_accuracy: 0.8784 - val_loss: 0.3474\n",
      "Epoch 35/50\n",
      "\u001B[1m74/74\u001B[0m \u001B[32m━━━━━━━━━━━━━━━━━━━━\u001B[0m\u001B[37m\u001B[0m \u001B[1m14s\u001B[0m 183ms/step - accuracy: 0.8987 - loss: 0.2849 - val_accuracy: 0.8821 - val_loss: 0.3483\n",
      "Epoch 36/50\n",
      "\u001B[1m74/74\u001B[0m \u001B[32m━━━━━━━━━━━━━━━━━━━━\u001B[0m\u001B[37m\u001B[0m \u001B[1m13s\u001B[0m 181ms/step - accuracy: 0.8981 - loss: 0.2852 - val_accuracy: 0.8793 - val_loss: 0.3523\n",
      "Epoch 37/50\n",
      "\u001B[1m74/74\u001B[0m \u001B[32m━━━━━━━━━━━━━━━━━━━━\u001B[0m\u001B[37m\u001B[0m \u001B[1m14s\u001B[0m 189ms/step - accuracy: 0.9015 - loss: 0.2786 - val_accuracy: 0.8880 - val_loss: 0.3344\n",
      "Epoch 38/50\n",
      "\u001B[1m74/74\u001B[0m \u001B[32m━━━━━━━━━━━━━━━━━━━━\u001B[0m\u001B[37m\u001B[0m \u001B[1m15s\u001B[0m 198ms/step - accuracy: 0.9051 - loss: 0.2700 - val_accuracy: 0.8781 - val_loss: 0.3584\n",
      "Epoch 39/50\n",
      "\u001B[1m74/74\u001B[0m \u001B[32m━━━━━━━━━━━━━━━━━━━━\u001B[0m\u001B[37m\u001B[0m \u001B[1m13s\u001B[0m 182ms/step - accuracy: 0.9033 - loss: 0.2743 - val_accuracy: 0.8796 - val_loss: 0.3544\n",
      "Epoch 40/50\n",
      "\u001B[1m74/74\u001B[0m \u001B[32m━━━━━━━━━━━━━━━━━━━━\u001B[0m\u001B[37m\u001B[0m \u001B[1m14s\u001B[0m 183ms/step - accuracy: 0.9050 - loss: 0.2661 - val_accuracy: 0.8846 - val_loss: 0.3356\n",
      "Epoch 41/50\n",
      "\u001B[1m74/74\u001B[0m \u001B[32m━━━━━━━━━━━━━━━━━━━━\u001B[0m\u001B[37m\u001B[0m \u001B[1m14s\u001B[0m 183ms/step - accuracy: 0.9083 - loss: 0.2613 - val_accuracy: 0.8899 - val_loss: 0.3236\n",
      "Epoch 42/50\n",
      "\u001B[1m74/74\u001B[0m \u001B[32m━━━━━━━━━━━━━━━━━━━━\u001B[0m\u001B[37m\u001B[0m \u001B[1m14s\u001B[0m 191ms/step - accuracy: 0.9096 - loss: 0.2557 - val_accuracy: 0.8900 - val_loss: 0.3278\n",
      "Epoch 43/50\n",
      "\u001B[1m74/74\u001B[0m \u001B[32m━━━━━━━━━━━━━━━━━━━━\u001B[0m\u001B[37m\u001B[0m \u001B[1m15s\u001B[0m 199ms/step - accuracy: 0.9107 - loss: 0.2519 - val_accuracy: 0.8812 - val_loss: 0.3563\n",
      "Epoch 44/50\n",
      "\u001B[1m74/74\u001B[0m \u001B[32m━━━━━━━━━━━━━━━━━━━━\u001B[0m\u001B[37m\u001B[0m \u001B[1m15s\u001B[0m 207ms/step - accuracy: 0.9072 - loss: 0.2636 - val_accuracy: 0.8842 - val_loss: 0.3487\n",
      "Epoch 45/50\n",
      "\u001B[1m74/74\u001B[0m \u001B[32m━━━━━━━━━━━━━━━━━━━━\u001B[0m\u001B[37m\u001B[0m \u001B[1m14s\u001B[0m 185ms/step - accuracy: 0.9126 - loss: 0.2491 - val_accuracy: 0.8893 - val_loss: 0.3309\n",
      "Epoch 46/50\n",
      "\u001B[1m74/74\u001B[0m \u001B[32m━━━━━━━━━━━━━━━━━━━━\u001B[0m\u001B[37m\u001B[0m \u001B[1m13s\u001B[0m 182ms/step - accuracy: 0.9110 - loss: 0.2545 - val_accuracy: 0.8909 - val_loss: 0.3237\n",
      "Epoch 47/50\n",
      "\u001B[1m74/74\u001B[0m \u001B[32m━━━━━━━━━━━━━━━━━━━━\u001B[0m\u001B[37m\u001B[0m \u001B[1m15s\u001B[0m 202ms/step - accuracy: 0.9136 - loss: 0.2433 - val_accuracy: 0.8881 - val_loss: 0.3289\n",
      "Epoch 48/50\n",
      "\u001B[1m74/74\u001B[0m \u001B[32m━━━━━━━━━━━━━━━━━━━━\u001B[0m\u001B[37m\u001B[0m \u001B[1m14s\u001B[0m 192ms/step - accuracy: 0.9127 - loss: 0.2510 - val_accuracy: 0.8911 - val_loss: 0.3294\n",
      "Epoch 49/50\n",
      "\u001B[1m74/74\u001B[0m \u001B[32m━━━━━━━━━━━━━━━━━━━━\u001B[0m\u001B[37m\u001B[0m \u001B[1m14s\u001B[0m 189ms/step - accuracy: 0.9159 - loss: 0.2373 - val_accuracy: 0.8950 - val_loss: 0.3183\n",
      "Epoch 50/50\n",
      "\u001B[1m74/74\u001B[0m \u001B[32m━━━━━━━━━━━━━━━━━━━━\u001B[0m\u001B[37m\u001B[0m \u001B[1m14s\u001B[0m 188ms/step - accuracy: 0.9192 - loss: 0.2306 - val_accuracy: 0.8904 - val_loss: 0.3284\n"
     ]
    }
   ],
   "execution_count": 33
  },
  {
   "metadata": {},
   "cell_type": "markdown",
   "source": [
    "# Loss evaluation\n",
    "\n",
    "Seeing how the model's loss changes by the epoch"
   ],
   "id": "28458dd6caeaf05c"
  },
  {
   "cell_type": "code",
   "source": [
    "%matplotlib inline\n",
    "plt.plot(history.history['loss'])\n",
    "plt.plot(history.history['val_loss'])\n",
    "plt.title(\"Loss\")\n",
    "plt.legend(['Train', 'Val'], loc='upper right')\n",
    "plt.ylabel('Loss')\n",
    "plt.xlabel('Epoch')"
   ],
   "metadata": {
    "collapsed": false,
    "ExecuteTime": {
     "end_time": "2024-05-11T21:30:32.545470Z",
     "start_time": "2024-05-11T21:30:32.420247Z"
    }
   },
   "id": "db97a7f3cc91e456",
   "outputs": [
    {
     "data": {
      "text/plain": "Text(0.5, 0, 'Epoch')"
     },
     "execution_count": 34,
     "metadata": {},
     "output_type": "execute_result"
    },
    {
     "data": {
      "text/plain": "<Figure size 640x480 with 1 Axes>",
      "image/png": "[encoded data removed]"
     },
     "metadata": {},
     "output_type": "display_data"
    }
   ],
   "execution_count": 34
  },
  {
   "metadata": {},
   "cell_type": "markdown",
   "source": [
    "# Loss evaluation\n",
    "\n",
    "Seeing how the model's loss changes by the epoch"
   ],
   "id": "47dd11a44349b4d5"
  },
  {
   "metadata": {
    "ExecuteTime": {
     "end_time": "2024-05-11T21:30:32.643508Z",
     "start_time": "2024-05-11T21:30:32.553355Z"
    }
   },
   "cell_type": "code",
   "source": [
    "%matplotlib inline\n",
    "plt.plot(history.history['accuracy'])\n",
    "plt.plot(history.history['val_accuracy'])\n",
    "plt.title(\"Accuracy\")\n",
    "plt.legend(['Train', 'Val'], loc='upper right')\n",
    "plt.ylabel('Accuracy')\n",
    "plt.xlabel('Epoch')"
   ],
   "id": "4a03b62d16638245",
   "outputs": [
    {
     "data": {
      "text/plain": "Text(0.5, 0, 'Epoch')"
     },
     "execution_count": 35,
     "metadata": {},
     "output_type": "execute_result"
    },
    {
     "data": {
      "text/plain": "<Figure size 640x480 with 1 Axes>",
      "image/png": "[encoded data removed]"
     },
     "metadata": {},
     "output_type": "display_data"
    }
   ],
   "execution_count": 35
  },
  {
   "cell_type": "markdown",
   "source": [
    "# Prediction"
   ],
   "metadata": {
    "collapsed": false
   },
   "id": "4fb3930ce2fec85d"
  },
  {
   "cell_type": "code",
   "source": [
    "prediction_word = (\"puedo escribir el archivo\")\n",
    "print(f\"Text before preprocessing: {prediction_word}\")\n",
    "prediction_word = preprocess(prediction_word)\n",
    "print(f\"Text after preprocessing: {prediction_word}\")\n",
    "prediction_word = tokenizer.texts_to_sequences([prediction_word])\n",
    "prediction_word = pad_sequences(prediction_word, maxlen=input_dim)\n",
    "prediction = model.predict([prediction_word])\n",
    "output_probabilities = np.array(prediction)\n",
    "result = {}\n",
    "class_labels = np.unique(y_df.columns)\n",
    "for index, prediction in enumerate(output_probabilities[0]):\n",
    "    result.update({class_labels[index]: round(prediction * 100, 1)})\n",
    "\n",
    "# Print keys and values of the result dictionary\n",
    "for key, value in result.items():\n",
    "    print(f\"{key}: {value}%\")"
   ],
   "metadata": {
    "collapsed": false,
    "ExecuteTime": {
     "end_time": "2024-05-12T00:48:01.597215Z",
     "start_time": "2024-05-12T00:48:01.561437Z"
    }
   },
   "id": "2af1ef5d86413ee6",
   "outputs": [
    {
     "name": "stdout",
     "output_type": "stream",
     "text": [
      "Text before preprocessing: puedo escribir el archivo\n",
      "Text after preprocessing: puedo escribir el archivo puedo escribir el\n",
      "\u001B[1m1/1\u001B[0m \u001B[32m━━━━━━━━━━━━━━━━━━━━\u001B[0m\u001B[37m\u001B[0m \u001B[1m0s\u001B[0m 12ms/step\n",
      "Language Family_Germanic: 0.0%\n",
      "Language Family_Hellenic: 0.0%\n",
      "Language Family_Romance: 99.7%\n",
      "Language Family_Slavic: 0.3%\n",
      "Language Family_Uralic: 0.0%\n"
     ]
    }
   ],
   "execution_count": 13
  },
  {
   "cell_type": "markdown",
   "source": [
    "# Save model\n",
    "Here a model can be loaded"
   ],
   "metadata": {
    "collapsed": false
   },
   "id": "7346b90cf1a2f553"
  },
  {
   "cell_type": "code",
   "source": [
    "model.save('./models/model_families.keras')\n",
    "tokenizer_json = tokenizer.to_json()\n",
    "with open('./tokenizer_configs/tokenizer_config_families.json', 'w') as config_file:\n",
    "    config_file.write(json.dumps(tokenizer_json, ensure_ascii=False))"
   ],
   "metadata": {
    "collapsed": false,
    "ExecuteTime": {
     "end_time": "2024-05-11T23:35:41.638631Z",
     "start_time": "2024-05-11T23:35:41.625375Z"
    }
   },
   "id": "f103d5e7cc3146d9",
   "outputs": [],
   "execution_count": 10
  },
  {
   "cell_type": "markdown",
   "source": [
    "# Load model\n",
    "Here a model can be loaded"
   ],
   "metadata": {
    "collapsed": false
   },
   "id": "e0cf8ae450614ab7"
  },
  {
   "cell_type": "code",
   "source": [
    "model = load_model('./models/model_families.keras')"
   ],
   "metadata": {
    "collapsed": false,
    "ExecuteTime": {
     "end_time": "2024-05-11T23:33:20.034685Z",
     "start_time": "2024-05-11T23:33:19.961385Z"
    }
   },
   "id": "c0bbfbb51379fba0",
   "outputs": [],
   "execution_count": 4
  },
  {
   "cell_type": "code",
   "outputs": [],
   "source": [],
   "metadata": {
    "collapsed": false,
    "ExecuteTime": {
     "end_time": "2024-05-11T21:30:32.835881Z",
     "start_time": "2024-05-11T21:30:32.832037Z"
    }
   },
   "id": "7b0a77db229de458",
   "execution_count": 38
  }
 ],
 "metadata": {
  "kernelspec": {
   "display_name": "Python 3",
   "language": "python",
   "name": "python3"
  },
  "language_info": {
   "codemirror_mode": {
    "name": "ipython",
    "version": 2
   },
   "file_extension": ".py",
   "mimetype": "text/x-python",
   "name": "python",
   "nbconvert_exporter": "python",
   "pygments_lexer": "ipython2",
   "version": "2.7.6"
  }
 },
 "nbformat": 4,
 "nbformat_minor": 5
}
