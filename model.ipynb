{
 "cells": [
  {
   "cell_type": "code",
   "execution_count": 307,
   "id": "initial_id",
   "metadata": {
    "collapsed": true,
    "ExecuteTime": {
     "end_time": "2024-05-08T16:15:47.875500Z",
     "start_time": "2024-05-08T16:15:47.857783Z"
    }
   },
   "outputs": [],
   "source": [
    "import numpy as np\n",
    "import pandas as pd\n",
    "import matplotlib.pyplot as plt\n",
    "import seaborn as sns\n",
    "import tensorflow as tf\n",
    "from tensorflow.keras.models import Sequential\n",
    "from tensorflow.keras.layers import Dense, Embedding, Conv1D, GlobalMaxPooling1D\n",
    "from tensorflow.keras import optimizers\n",
    "from tensorflow.keras.preprocessing.text import Tokenizer\n",
    "from keras.src.utils import pad_sequences\n",
    "from sklearn.model_selection import train_test_split"
   ]
  },
  {
   "cell_type": "markdown",
   "source": [
    "# Get data\n",
    "Pandas is used to get the data from the project directory.\n",
    "The data is a .csv file, that has been created by book texts and prepared to be listed in the file word-by-word."
   ],
   "metadata": {
    "collapsed": false
   },
   "id": "b20ed3afab281b03"
  },
  {
   "cell_type": "code",
   "outputs": [
    {
     "data": {
      "text/plain": "                                                    Word Language\n72269  gründler hufvudstupa rusade in i verkstaden oc...  Swedish\n77723  lo consultaré y te informaré de qué sucedió ex...  Spanish\n12942                    dumbledore led them in a few of  English\n24075  page | 170 harry potter and the prisoner of az...  English\n71984  en brännande rodnad sprang vid dessa fadrens o...  Swedish",
      "text/html": "<div>\n<style scoped>\n    .dataframe tbody tr th:only-of-type {\n        vertical-align: middle;\n    }\n\n    .dataframe tbody tr th {\n        vertical-align: top;\n    }\n\n    .dataframe thead th {\n        text-align: right;\n    }\n</style>\n<table border=\"1\" class=\"dataframe\">\n  <thead>\n    <tr style=\"text-align: right;\">\n      <th></th>\n      <th>Word</th>\n      <th>Language</th>\n    </tr>\n  </thead>\n  <tbody>\n    <tr>\n      <th>72269</th>\n      <td>gründler hufvudstupa rusade in i verkstaden oc...</td>\n      <td>Swedish</td>\n    </tr>\n    <tr>\n      <th>77723</th>\n      <td>lo consultaré y te informaré de qué sucedió ex...</td>\n      <td>Spanish</td>\n    </tr>\n    <tr>\n      <th>12942</th>\n      <td>dumbledore led them in a few of</td>\n      <td>English</td>\n    </tr>\n    <tr>\n      <th>24075</th>\n      <td>page | 170 harry potter and the prisoner of az...</td>\n      <td>English</td>\n    </tr>\n    <tr>\n      <th>71984</th>\n      <td>en brännande rodnad sprang vid dessa fadrens o...</td>\n      <td>Swedish</td>\n    </tr>\n  </tbody>\n</table>\n</div>"
     },
     "execution_count": 308,
     "metadata": {},
     "output_type": "execute_result"
    }
   ],
   "source": [
    "df = pd.read_csv('dataset.csv')\n",
    "df = df.sample(frac=1.0, random_state=42)\n",
    "df.head()"
   ],
   "metadata": {
    "collapsed": false,
    "ExecuteTime": {
     "end_time": "2024-05-08T16:15:47.932449Z",
     "start_time": "2024-05-08T16:15:47.861403Z"
    }
   },
   "id": "9934f095638f49f4",
   "execution_count": 308
  },
  {
   "cell_type": "markdown",
   "source": [
    "# Prepare data\n",
    "Divide the data into X and y. X is input and y is the desired output.\n",
    "One-Hot Encode it, so the language is categorical. This is done with Pandas."
   ],
   "metadata": {
    "collapsed": false
   },
   "id": "e375f9241e794ae4"
  },
  {
   "cell_type": "code",
   "outputs": [
    {
     "name": "stdout",
     "output_type": "stream",
     "text": [
      "Rows: 82662\n",
      "Amount of languages to identify: 7\n"
     ]
    }
   ],
   "source": [
    "# Getting X - the input values\n",
    "X = df.iloc[:, :-1]\n",
    "X.loc[:, 'Word'] = X['Word'].astype(str)\n",
    "tokenizer = Tokenizer(char_level=True) # Used for turning the words into numbers\n",
    "tokenizer.fit_on_texts(X['Word'].tolist()) # Giving Tokenizer the data it needs to learn how to encode the words\n",
    "X_sequences = tokenizer.texts_to_sequences(X['Word'].tolist()) # Now the words are encoded into sequences\n",
    "input_dim = max(len(seq) for seq in X_sequences)\n",
    "X = pad_sequences(\n",
    "    X_sequences, \n",
    "    maxlen=input_dim, \n",
    "    padding='post'\n",
    ") # Making all input values be of same length\n",
    "print(f\"Rows: {len(X)}\")\n",
    "\n",
    "# Getting y - the output values\n",
    "y = df.iloc[:, -1:]\n",
    "y = pd.get_dummies(y).values\n",
    "print(f\"Amount of languages to identify: {len(y[1])}\")\n",
    "\n",
    "X_train, X_val, y_train, y_val = train_test_split(X, y, test_size=0.2, random_state=42)\n",
    "X_train = X_train.reshape(X_train.shape[0], X_train.shape[1], 1)"
   ],
   "metadata": {
    "collapsed": false,
    "ExecuteTime": {
     "end_time": "2024-05-08T16:15:49.248506Z",
     "start_time": "2024-05-08T16:15:47.936449Z"
    }
   },
   "id": "ba4d86402045de27",
   "execution_count": 309
  },
  {
   "cell_type": "code",
   "outputs": [],
   "source": [
    "model = Sequential()\n",
    "model.add(Conv1D(128, 6, activation='relu'))  # Convolutional layer\n",
    "model.add(GlobalMaxPooling1D())  # Pooling layer\n",
    "model.add(Dense(128, activation='relu'))  # Dense layer\n",
    "model.add(Dense(128, activation='relu'))  # Dense layer\n",
    "model.add(Dense(128, activation='relu'))  # Dense layer\n",
    "model.add(Dense(len(y[1]), activation='softmax'))\n",
    "adam = optimizers.Adam(learning_rate=0.005)\n",
    "model.compile(loss='categorical_crossentropy', optimizer=adam, metrics=['accuracy', 'categorical_crossentropy'])"
   ],
   "metadata": {
    "collapsed": false,
    "ExecuteTime": {
     "end_time": "2024-05-08T16:15:49.256809Z",
     "start_time": "2024-05-08T16:15:49.253284Z"
    }
   },
   "id": "c870f2fa48fe956c",
   "execution_count": 310
  },
  {
   "cell_type": "code",
   "outputs": [
    {
     "name": "stdout",
     "output_type": "stream",
     "text": [
      "Epoch 1/5\n",
      "\u001B[1m67/67\u001B[0m \u001B[32m━━━━━━━━━━━━━━━━━━━━\u001B[0m\u001B[37m\u001B[0m \u001B[1m13s\u001B[0m 179ms/step - accuracy: 0.4857 - categorical_crossentropy: 1.5856 - loss: 1.5856 - val_accuracy: 0.6033 - val_categorical_crossentropy: 1.1995 - val_loss: 1.1995\n",
      "Epoch 2/5\n",
      "\u001B[1m67/67\u001B[0m \u001B[32m━━━━━━━━━━━━━━━━━━━━\u001B[0m\u001B[37m\u001B[0m \u001B[1m12s\u001B[0m 176ms/step - accuracy: 0.6213 - categorical_crossentropy: 1.1603 - loss: 1.1603 - val_accuracy: 0.6124 - val_categorical_crossentropy: 1.1566 - val_loss: 1.1566\n",
      "Epoch 3/5\n",
      "\u001B[1m67/67\u001B[0m \u001B[32m━━━━━━━━━━━━━━━━━━━━\u001B[0m\u001B[37m\u001B[0m \u001B[1m12s\u001B[0m 180ms/step - accuracy: 0.6508 - categorical_crossentropy: 1.0871 - loss: 1.0871 - val_accuracy: 0.6817 - val_categorical_crossentropy: 0.9739 - val_loss: 0.9739\n",
      "Epoch 4/5\n",
      "\u001B[1m67/67\u001B[0m \u001B[32m━━━━━━━━━━━━━━━━━━━━\u001B[0m\u001B[37m\u001B[0m \u001B[1m11s\u001B[0m 170ms/step - accuracy: 0.6898 - categorical_crossentropy: 0.9521 - loss: 0.9521 - val_accuracy: 0.6806 - val_categorical_crossentropy: 0.9580 - val_loss: 0.9580\n",
      "Epoch 5/5\n",
      "\u001B[1m67/67\u001B[0m \u001B[32m━━━━━━━━━━━━━━━━━━━━\u001B[0m\u001B[37m\u001B[0m \u001B[1m12s\u001B[0m 183ms/step - accuracy: 0.6970 - categorical_crossentropy: 0.9286 - loss: 0.9286 - val_accuracy: 0.6888 - val_categorical_crossentropy: 0.9142 - val_loss: 0.9142\n"
     ]
    }
   ],
   "source": [
    "history = model.fit(X_train, y_train, validation_data=(X_val, y_val), epochs=128, batch_size=1000,verbose=1)"
   ],
   "metadata": {
    "collapsed": false,
    "ExecuteTime": {
     "end_time": "2024-05-08T16:16:49.878199Z",
     "start_time": "2024-05-08T16:15:49.259022Z"
    }
   },
   "id": "d9a29cb1ff2dcba7",
   "execution_count": 311
  },
  {
   "cell_type": "code",
   "outputs": [
    {
     "data": {
      "text/plain": "Text(0.5, 0, 'Epoch')"
     },
     "execution_count": 312,
     "metadata": {},
     "output_type": "execute_result"
    },
    {
     "data": {
      "text/plain": "<Figure size 640x480 with 1 Axes>",
      "image/png": "[encoded data removed]"
     },
     "metadata": {},
     "output_type": "display_data"
    }
   ],
   "source": [
    "%matplotlib inline\n",
    "plt.plot(history.history['loss'])\n",
    "plt.plot(history.history['val_loss'])\n",
    "plt.title(\"Model's MSE\")\n",
    "plt.legend(['Train', 'Val'], loc='upper right')\n",
    "plt.ylabel('MSE')\n",
    "plt.xlabel('Epoch')"
   ],
   "metadata": {
    "collapsed": false,
    "ExecuteTime": {
     "end_time": "2024-05-08T16:16:49.991788Z",
     "start_time": "2024-05-08T16:16:49.893811Z"
    }
   },
   "id": "db97a7f3cc91e456",
   "execution_count": 312
  },
  {
   "cell_type": "markdown",
   "source": [
    "# Prediction"
   ],
   "metadata": {
    "collapsed": false
   },
   "id": "4fb3930ce2fec85d"
  },
  {
   "cell_type": "code",
   "outputs": [
    {
     "name": "stdout",
     "output_type": "stream",
     "text": [
      "\u001B[1m1/1\u001B[0m \u001B[32m━━━━━━━━━━━━━━━━━━━━\u001B[0m\u001B[37m\u001B[0m \u001B[1m0s\u001B[0m 37ms/step\n",
      "Swedish - 13.8%\n",
      "Spanish - 5.1%\n",
      "English - 4.6%\n",
      "Danish - 5.6%\n",
      "French - 6.4%\n",
      "Italian - 60.4%\n",
      "Norwegian - 4.0%\n"
     ]
    }
   ],
   "source": [
    "prediction_word = \"español\"\n",
    "prediction_word = tokenizer.texts_to_sequences([prediction_word])\n",
    "prediction_word = pad_sequences(prediction_word, maxlen=input_dim)\n",
    "prediction = model.predict([prediction_word])\n",
    "output_probabilities = np.array(prediction)\n",
    "\n",
    "result = []\n",
    "class_labels = df.iloc[:, -1].unique()\n",
    "for index, prediction in enumerate(output_probabilities[0]):\n",
    "    result.append(f\"{class_labels[index]} - {round(prediction*100, 1)}%\")\n",
    "\n",
    "for r in result:\n",
    "    print(r)\n"
   ],
   "metadata": {
    "collapsed": false,
    "ExecuteTime": {
     "end_time": "2024-05-08T16:16:50.064758Z",
     "start_time": "2024-05-08T16:16:49.992863Z"
    }
   },
   "id": "2af1ef5d86413ee6",
   "execution_count": 313
  },
  {
   "cell_type": "code",
   "outputs": [],
   "source": [],
   "metadata": {
    "collapsed": false,
    "ExecuteTime": {
     "end_time": "2024-05-08T16:16:50.067989Z",
     "start_time": "2024-05-08T16:16:50.065523Z"
    }
   },
   "id": "f103d5e7cc3146d9",
   "execution_count": 313
  }
 ],
 "metadata": {
  "kernelspec": {
   "display_name": "Python 3",
   "language": "python",
   "name": "python3"
  },
  "language_info": {
   "codemirror_mode": {
    "name": "ipython",
    "version": 2
   },
   "file_extension": ".py",
   "mimetype": "text/x-python",
   "name": "python",
   "nbconvert_exporter": "python",
   "pygments_lexer": "ipython2",
   "version": "2.7.6"
  }
 },
 "nbformat": 4,
 "nbformat_minor": 5
}
