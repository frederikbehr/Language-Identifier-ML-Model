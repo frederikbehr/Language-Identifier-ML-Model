{
 "cells": [
  {
   "cell_type": "code",
   "execution_count": 13,
   "id": "initial_id",
   "metadata": {
    "collapsed": true,
    "ExecuteTime": {
     "end_time": "2024-05-07T22:49:21.665322Z",
     "start_time": "2024-05-07T22:49:20.939380Z"
    }
   },
   "outputs": [],
   "source": [
    "import numpy as np\n",
    "import pandas as pd\n",
    "import matplotlib.pyplot as plt\n",
    "import tensorflow as tf\n",
    "from sklearn.preprocessing import OneHotEncoder"
   ]
  },
  {
   "cell_type": "markdown",
   "source": [
    "# Get data"
   ],
   "metadata": {
    "collapsed": false
   },
   "id": "b20ed3afab281b03"
  },
  {
   "cell_type": "code",
   "outputs": [
    {
     "data": {
      "text/plain": "     Word Language\n0   DELLO  Italian\n1  STESSO  Italian\n2  AUTORE  Italian\n3     Ora  Italian\n4  sempre  Italian",
      "text/html": "<div>\n<style scoped>\n    .dataframe tbody tr th:only-of-type {\n        vertical-align: middle;\n    }\n\n    .dataframe tbody tr th {\n        vertical-align: top;\n    }\n\n    .dataframe thead th {\n        text-align: right;\n    }\n</style>\n<table border=\"1\" class=\"dataframe\">\n  <thead>\n    <tr style=\"text-align: right;\">\n      <th></th>\n      <th>Word</th>\n      <th>Language</th>\n    </tr>\n  </thead>\n  <tbody>\n    <tr>\n      <th>0</th>\n      <td>DELLO</td>\n      <td>Italian</td>\n    </tr>\n    <tr>\n      <th>1</th>\n      <td>STESSO</td>\n      <td>Italian</td>\n    </tr>\n    <tr>\n      <th>2</th>\n      <td>AUTORE</td>\n      <td>Italian</td>\n    </tr>\n    <tr>\n      <th>3</th>\n      <td>Ora</td>\n      <td>Italian</td>\n    </tr>\n    <tr>\n      <th>4</th>\n      <td>sempre</td>\n      <td>Italian</td>\n    </tr>\n  </tbody>\n</table>\n</div>"
     },
     "execution_count": 14,
     "metadata": {},
     "output_type": "execute_result"
    }
   ],
   "source": [
    "df = pd.read_csv('dataset.csv')\n",
    "df.head()"
   ],
   "metadata": {
    "collapsed": false,
    "ExecuteTime": {
     "end_time": "2024-05-07T22:49:21.698642Z",
     "start_time": "2024-05-07T22:49:21.668178Z"
    }
   },
   "id": "9934f095638f49f4",
   "execution_count": 14
  },
  {
   "cell_type": "markdown",
   "source": [
    "# Prepare data\n",
    "One-Hot Encode it, so the language is categorical"
   ],
   "metadata": {
    "collapsed": false
   },
   "id": "e375f9241e794ae4"
  },
  {
   "cell_type": "code",
   "outputs": [
    {
     "name": "stdout",
     "output_type": "stream",
     "text": [
      "            Word Language       Language\n",
      "0          DELLO  Italian    (0, 3)\\t1.0\n",
      "1         STESSO  Italian    (0, 3)\\t1.0\n",
      "2         AUTORE  Italian    (0, 3)\\t1.0\n",
      "3            Ora  Italian    (0, 3)\\t1.0\n",
      "4         sempre  Italian    (0, 3)\\t1.0\n",
      "...          ...      ...            ...\n",
      "79097      halla  Spanish    (0, 5)\\t1.0\n",
      "79098   contacto  Spanish    (0, 5)\\t1.0\n",
      "79099      Estar  Spanish    (0, 5)\\t1.0\n",
      "79100  Comprobar  Spanish    (0, 5)\\t1.0\n",
      "79101  picotazos  Spanish    (0, 5)\\t1.0\n",
      "\n",
      "[79102 rows x 3 columns]\n"
     ]
    }
   ],
   "source": [
    "# Extract the language column\n",
    "language_labels = df['Language']\n",
    "\n",
    "# Initialize OneHotEncoder\n",
    "encoder = OneHotEncoder()\n",
    "\n",
    "# Reshape the language labels to a 2D array\n",
    "language_labels_reshaped = language_labels.values.reshape(-1, 1)\n",
    "\n",
    "# Fit and transform the language labels\n",
    "onehot_encoded = encoder.fit_transform(language_labels_reshaped)\n",
    "\n",
    "# Convert one-hot encoded array into DataFrame with appropriate column names\n",
    "onehot_df = pd.DataFrame(onehot_encoded, columns=['Language'])\n",
    "\n",
    "# Concatenate the one-hot encoded DataFrame with the original DataFrame\n",
    "df_encoded = pd.concat([df, onehot_df], axis=1)\n",
    "\n",
    "print(df_encoded)"
   ],
   "metadata": {
    "collapsed": false,
    "ExecuteTime": {
     "end_time": "2024-05-07T22:52:36.702981Z",
     "start_time": "2024-05-07T22:52:35.355879Z"
    }
   },
   "id": "ba4d86402045de27",
   "execution_count": 19
  },
  {
   "cell_type": "code",
   "outputs": [],
   "source": [],
   "metadata": {
    "collapsed": false
   },
   "id": "c870f2fa48fe956c"
  }
 ],
 "metadata": {
  "kernelspec": {
   "display_name": "Python 3",
   "language": "python",
   "name": "python3"
  },
  "language_info": {
   "codemirror_mode": {
    "name": "ipython",
    "version": 2
   },
   "file_extension": ".py",
   "mimetype": "text/x-python",
   "name": "python",
   "nbconvert_exporter": "python",
   "pygments_lexer": "ipython2",
   "version": "2.7.6"
  }
 },
 "nbformat": 4,
 "nbformat_minor": 5
}
