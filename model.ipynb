{
 "cells": [
  {
   "cell_type": "code",
   "id": "initial_id",
   "metadata": {
    "collapsed": true,
    "ExecuteTime": {
     "end_time": "2024-05-08T16:19:50.848524Z",
     "start_time": "2024-05-08T16:19:50.841933Z"
    }
   },
   "source": [
    "import numpy as np\n",
    "import pandas as pd\n",
    "import matplotlib.pyplot as plt\n",
    "import seaborn as sns\n",
    "import tensorflow as tf\n",
    "from tensorflow.keras.models import Sequential\n",
    "from tensorflow.keras.layers import Dense, Embedding, Conv1D, GlobalMaxPooling1D\n",
    "from tensorflow.keras import optimizers\n",
    "from tensorflow.keras.preprocessing.text import Tokenizer\n",
    "from keras.src.utils import pad_sequences\n",
    "from sklearn.model_selection import train_test_split"
   ],
   "outputs": [],
   "execution_count": 17
  },
  {
   "cell_type": "markdown",
   "source": [
    "# Get data\n",
    "Pandas is used to get the data from the project directory.\n",
    "The data is a .csv file, that has been created by book texts and prepared to be listed in the file word-by-word."
   ],
   "metadata": {
    "collapsed": false
   },
   "id": "b20ed3afab281b03"
  },
  {
   "cell_type": "code",
   "source": [
    "df = pd.read_csv('dataset.csv')\n",
    "df = df.sample(frac=1.0, random_state=42)\n",
    "df.head()"
   ],
   "metadata": {
    "collapsed": false,
    "ExecuteTime": {
     "end_time": "2024-05-08T16:19:50.972412Z",
     "start_time": "2024-05-08T16:19:50.871467Z"
    }
   },
   "id": "9934f095638f49f4",
   "outputs": [
    {
     "data": {
      "text/plain": [
       "                                                    Word Language\n",
       "72269  gründler hufvudstupa rusade in i verkstaden oc...  Swedish\n",
       "77723  lo consultaré y te informaré de qué sucedió ex...  Spanish\n",
       "12942                    dumbledore led them in a few of  English\n",
       "24075  page | 170 harry potter and the prisoner of az...  English\n",
       "71984  en brännande rodnad sprang vid dessa fadrens o...  Swedish"
      ],
      "text/html": [
       "<div>\n",
       "<style scoped>\n",
       "    .dataframe tbody tr th:only-of-type {\n",
       "        vertical-align: middle;\n",
       "    }\n",
       "\n",
       "    .dataframe tbody tr th {\n",
       "        vertical-align: top;\n",
       "    }\n",
       "\n",
       "    .dataframe thead th {\n",
       "        text-align: right;\n",
       "    }\n",
       "</style>\n",
       "<table border=\"1\" class=\"dataframe\">\n",
       "  <thead>\n",
       "    <tr style=\"text-align: right;\">\n",
       "      <th></th>\n",
       "      <th>Word</th>\n",
       "      <th>Language</th>\n",
       "    </tr>\n",
       "  </thead>\n",
       "  <tbody>\n",
       "    <tr>\n",
       "      <th>72269</th>\n",
       "      <td>gründler hufvudstupa rusade in i verkstaden oc...</td>\n",
       "      <td>Swedish</td>\n",
       "    </tr>\n",
       "    <tr>\n",
       "      <th>77723</th>\n",
       "      <td>lo consultaré y te informaré de qué sucedió ex...</td>\n",
       "      <td>Spanish</td>\n",
       "    </tr>\n",
       "    <tr>\n",
       "      <th>12942</th>\n",
       "      <td>dumbledore led them in a few of</td>\n",
       "      <td>English</td>\n",
       "    </tr>\n",
       "    <tr>\n",
       "      <th>24075</th>\n",
       "      <td>page | 170 harry potter and the prisoner of az...</td>\n",
       "      <td>English</td>\n",
       "    </tr>\n",
       "    <tr>\n",
       "      <th>71984</th>\n",
       "      <td>en brännande rodnad sprang vid dessa fadrens o...</td>\n",
       "      <td>Swedish</td>\n",
       "    </tr>\n",
       "  </tbody>\n",
       "</table>\n",
       "</div>"
      ]
     },
     "execution_count": 18,
     "metadata": {},
     "output_type": "execute_result"
    }
   ],
   "execution_count": 18
  },
  {
   "cell_type": "markdown",
   "source": [
    "# Prepare data\n",
    "Divide the data into X and y. X is input and y is the desired output.\n",
    "One-Hot Encode it, so the language is categorical. This is done with Pandas."
   ],
   "metadata": {
    "collapsed": false
   },
   "id": "e375f9241e794ae4"
  },
  {
   "cell_type": "code",
   "source": [
    "# Getting X - the input values\n",
    "X = df.iloc[:, :-1]\n",
    "X.loc[:, 'Word'] = X['Word'].astype(str)\n",
    "tokenizer = Tokenizer(char_level=True) # Used for turning the words into numbers\n",
    "tokenizer.fit_on_texts(X['Word'].tolist()) # Giving Tokenizer the data it needs to learn how to encode the words\n",
    "X_sequences = tokenizer.texts_to_sequences(X['Word'].tolist()) # Now the words are encoded into sequences\n",
    "input_dim = max(len(seq) for seq in X_sequences)\n",
    "X = pad_sequences(\n",
    "    X_sequences, \n",
    "    maxlen=input_dim, \n",
    "    padding='post'\n",
    ") # Making all input values be of same length\n",
    "print(f\"Rows: {len(X)}\")\n",
    "\n",
    "# Getting y - the output values\n",
    "y = df.iloc[:, -1:]\n",
    "y = pd.get_dummies(y).values\n",
    "print(f\"Amount of languages to identify: {len(y[1])}\")\n",
    "\n",
    "X_train, X_val, y_train, y_val = train_test_split(X, y, test_size=0.2, random_state=42)\n",
    "X_train = X_train.reshape(X_train.shape[0], X_train.shape[1], 1)"
   ],
   "metadata": {
    "collapsed": false,
    "ExecuteTime": {
     "end_time": "2024-05-08T16:19:52.752947Z",
     "start_time": "2024-05-08T16:19:50.974409Z"
    }
   },
   "id": "ba4d86402045de27",
   "outputs": [
    {
     "name": "stdout",
     "output_type": "stream",
     "text": [
      "Rows: 82662\n",
      "Amount of languages to identify: 7\n"
     ]
    }
   ],
   "execution_count": 19
  },
  {
   "cell_type": "code",
   "source": [
    "model = Sequential()\n",
    "model.add(Conv1D(128, 6, activation='relu'))  # Convolutional layer\n",
    "model.add(GlobalMaxPooling1D())  # Pooling layer\n",
    "model.add(Dense(128, activation='relu'))  # Dense layer\n",
    "model.add(Dense(128, activation='relu'))  # Dense layer\n",
    "model.add(Dense(128, activation='relu'))  # Dense layer\n",
    "model.add(Dense(len(y[1]), activation='softmax'))\n",
    "adam = optimizers.Adam(learning_rate=0.005)\n",
    "model.compile(loss='categorical_crossentropy', optimizer=adam, metrics=['accuracy', 'categorical_crossentropy'])"
   ],
   "metadata": {
    "collapsed": false,
    "ExecuteTime": {
     "end_time": "2024-05-08T16:19:52.766728Z",
     "start_time": "2024-05-08T16:19:52.753947Z"
    }
   },
   "id": "c870f2fa48fe956c",
   "outputs": [],
   "execution_count": 20
  },
  {
   "cell_type": "code",
   "source": [
    "history = model.fit(X_train, y_train, validation_data=(X_val, y_val), epochs=128, batch_size=1000,verbose=1)"
   ],
   "metadata": {
    "collapsed": false,
    "ExecuteTime": {
     "end_time": "2024-05-08T17:11:35.541563Z",
     "start_time": "2024-05-08T16:19:52.768726Z"
    }
   },
   "id": "d9a29cb1ff2dcba7",
   "outputs": [
    {
     "name": "stdout",
     "output_type": "stream",
     "text": [
      "Epoch 1/128\n",
      "\u001B[1m67/67\u001B[0m \u001B[32m━━━━━━━━━━━━━━━━━━━━\u001B[0m\u001B[37m\u001B[0m \u001B[1m27s\u001B[0m 379ms/step - accuracy: 0.4652 - categorical_crossentropy: 1.7413 - loss: 1.7413 - val_accuracy: 0.6016 - val_categorical_crossentropy: 1.2081 - val_loss: 1.2081\n",
      "Epoch 2/128\n",
      "\u001B[1m67/67\u001B[0m \u001B[32m━━━━━━━━━━━━━━━━━━━━\u001B[0m\u001B[37m\u001B[0m \u001B[1m25s\u001B[0m 372ms/step - accuracy: 0.6142 - categorical_crossentropy: 1.1816 - loss: 1.1816 - val_accuracy: 0.6573 - val_categorical_crossentropy: 1.0840 - val_loss: 1.0840\n",
      "Epoch 3/128\n",
      "\u001B[1m67/67\u001B[0m \u001B[32m━━━━━━━━━━━━━━━━━━━━\u001B[0m\u001B[37m\u001B[0m \u001B[1m25s\u001B[0m 366ms/step - accuracy: 0.6484 - categorical_crossentropy: 1.0910 - loss: 1.0910 - val_accuracy: 0.6471 - val_categorical_crossentropy: 1.0715 - val_loss: 1.0715\n",
      "Epoch 4/128\n",
      "\u001B[1m67/67\u001B[0m \u001B[32m━━━━━━━━━━━━━━━━━━━━\u001B[0m\u001B[37m\u001B[0m \u001B[1m25s\u001B[0m 366ms/step - accuracy: 0.6721 - categorical_crossentropy: 0.9977 - loss: 0.9977 - val_accuracy: 0.6998 - val_categorical_crossentropy: 0.9038 - val_loss: 0.9038\n",
      "Epoch 5/128\n",
      "\u001B[1m67/67\u001B[0m \u001B[32m━━━━━━━━━━━━━━━━━━━━\u001B[0m\u001B[37m\u001B[0m \u001B[1m25s\u001B[0m 369ms/step - accuracy: 0.7002 - categorical_crossentropy: 0.9051 - loss: 0.9051 - val_accuracy: 0.7010 - val_categorical_crossentropy: 0.9018 - val_loss: 0.9018\n",
      "Epoch 6/128\n",
      "\u001B[1m67/67\u001B[0m \u001B[32m━━━━━━━━━━━━━━━━━━━━\u001B[0m\u001B[37m\u001B[0m \u001B[1m25s\u001B[0m 371ms/step - accuracy: 0.7157 - categorical_crossentropy: 0.8574 - loss: 0.8574 - val_accuracy: 0.7181 - val_categorical_crossentropy: 0.8445 - val_loss: 0.8445\n",
      "Epoch 7/128\n",
      "\u001B[1m67/67\u001B[0m \u001B[32m━━━━━━━━━━━━━━━━━━━━\u001B[0m\u001B[37m\u001B[0m \u001B[1m25s\u001B[0m 370ms/step - accuracy: 0.7275 - categorical_crossentropy: 0.8216 - loss: 0.8216 - val_accuracy: 0.7220 - val_categorical_crossentropy: 0.8239 - val_loss: 0.8239\n",
      "Epoch 8/128\n",
      "\u001B[1m67/67\u001B[0m \u001B[32m━━━━━━━━━━━━━━━━━━━━\u001B[0m\u001B[37m\u001B[0m \u001B[1m25s\u001B[0m 368ms/step - accuracy: 0.7304 - categorical_crossentropy: 0.8075 - loss: 0.8075 - val_accuracy: 0.7210 - val_categorical_crossentropy: 0.8299 - val_loss: 0.8299\n",
      "Epoch 9/128\n",
      "\u001B[1m67/67\u001B[0m \u001B[32m━━━━━━━━━━━━━━━━━━━━\u001B[0m\u001B[37m\u001B[0m \u001B[1m25s\u001B[0m 369ms/step - accuracy: 0.7191 - categorical_crossentropy: 0.8454 - loss: 0.8454 - val_accuracy: 0.7371 - val_categorical_crossentropy: 0.7893 - val_loss: 0.7893\n",
      "Epoch 10/128\n",
      "\u001B[1m67/67\u001B[0m \u001B[32m━━━━━━━━━━━━━━━━━━━━\u001B[0m\u001B[37m\u001B[0m \u001B[1m25s\u001B[0m 370ms/step - accuracy: 0.7471 - categorical_crossentropy: 0.7582 - loss: 0.7582 - val_accuracy: 0.7345 - val_categorical_crossentropy: 0.7865 - val_loss: 0.7865\n",
      "Epoch 11/128\n",
      "\u001B[1m67/67\u001B[0m \u001B[32m━━━━━━━━━━━━━━━━━━━━\u001B[0m\u001B[37m\u001B[0m \u001B[1m25s\u001B[0m 370ms/step - accuracy: 0.7497 - categorical_crossentropy: 0.7478 - loss: 0.7478 - val_accuracy: 0.7533 - val_categorical_crossentropy: 0.7374 - val_loss: 0.7374\n",
      "Epoch 12/128\n",
      "\u001B[1m67/67\u001B[0m \u001B[32m━━━━━━━━━━━━━━━━━━━━\u001B[0m\u001B[37m\u001B[0m \u001B[1m25s\u001B[0m 374ms/step - accuracy: 0.7558 - categorical_crossentropy: 0.7233 - loss: 0.7233 - val_accuracy: 0.7581 - val_categorical_crossentropy: 0.7260 - val_loss: 0.7260\n",
      "Epoch 13/128\n",
      "\u001B[1m67/67\u001B[0m \u001B[32m━━━━━━━━━━━━━━━━━━━━\u001B[0m\u001B[37m\u001B[0m \u001B[1m25s\u001B[0m 373ms/step - accuracy: 0.7615 - categorical_crossentropy: 0.7112 - loss: 0.7112 - val_accuracy: 0.6922 - val_categorical_crossentropy: 0.8924 - val_loss: 0.8924\n",
      "Epoch 14/128\n",
      "\u001B[1m67/67\u001B[0m \u001B[32m━━━━━━━━━━━━━━━━━━━━\u001B[0m\u001B[37m\u001B[0m \u001B[1m25s\u001B[0m 372ms/step - accuracy: 0.7458 - categorical_crossentropy: 0.7556 - loss: 0.7556 - val_accuracy: 0.7538 - val_categorical_crossentropy: 0.7411 - val_loss: 0.7411\n",
      "Epoch 15/128\n",
      "\u001B[1m67/67\u001B[0m \u001B[32m━━━━━━━━━━━━━━━━━━━━\u001B[0m\u001B[37m\u001B[0m \u001B[1m25s\u001B[0m 370ms/step - accuracy: 0.7615 - categorical_crossentropy: 0.7113 - loss: 0.7113 - val_accuracy: 0.7523 - val_categorical_crossentropy: 0.7346 - val_loss: 0.7346\n",
      "Epoch 16/128\n",
      "\u001B[1m67/67\u001B[0m \u001B[32m━━━━━━━━━━━━━━━━━━━━\u001B[0m\u001B[37m\u001B[0m \u001B[1m25s\u001B[0m 368ms/step - accuracy: 0.7646 - categorical_crossentropy: 0.6980 - loss: 0.6980 - val_accuracy: 0.7586 - val_categorical_crossentropy: 0.7162 - val_loss: 0.7162\n",
      "Epoch 17/128\n",
      "\u001B[1m67/67\u001B[0m \u001B[32m━━━━━━━━━━━━━━━━━━━━\u001B[0m\u001B[37m\u001B[0m \u001B[1m25s\u001B[0m 369ms/step - accuracy: 0.7751 - categorical_crossentropy: 0.6649 - loss: 0.6649 - val_accuracy: 0.7032 - val_categorical_crossentropy: 0.8496 - val_loss: 0.8496\n",
      "Epoch 18/128\n",
      "\u001B[1m67/67\u001B[0m \u001B[32m━━━━━━━━━━━━━━━━━━━━\u001B[0m\u001B[37m\u001B[0m \u001B[1m25s\u001B[0m 369ms/step - accuracy: 0.7670 - categorical_crossentropy: 0.6869 - loss: 0.6869 - val_accuracy: 0.7670 - val_categorical_crossentropy: 0.6965 - val_loss: 0.6965\n",
      "Epoch 19/128\n",
      "\u001B[1m67/67\u001B[0m \u001B[32m━━━━━━━━━━━━━━━━━━━━\u001B[0m\u001B[37m\u001B[0m \u001B[1m25s\u001B[0m 369ms/step - accuracy: 0.7720 - categorical_crossentropy: 0.6665 - loss: 0.6665 - val_accuracy: 0.7761 - val_categorical_crossentropy: 0.6593 - val_loss: 0.6593\n",
      "Epoch 20/128\n",
      "\u001B[1m67/67\u001B[0m \u001B[32m━━━━━━━━━━━━━━━━━━━━\u001B[0m\u001B[37m\u001B[0m \u001B[1m25s\u001B[0m 369ms/step - accuracy: 0.7852 - categorical_crossentropy: 0.6336 - loss: 0.6336 - val_accuracy: 0.7570 - val_categorical_crossentropy: 0.7047 - val_loss: 0.7047\n",
      "Epoch 21/128\n",
      "\u001B[1m67/67\u001B[0m \u001B[32m━━━━━━━━━━━━━━━━━━━━\u001B[0m\u001B[37m\u001B[0m \u001B[1m25s\u001B[0m 369ms/step - accuracy: 0.7724 - categorical_crossentropy: 0.6600 - loss: 0.6600 - val_accuracy: 0.7353 - val_categorical_crossentropy: 0.7676 - val_loss: 0.7676\n",
      "Epoch 22/128\n",
      "\u001B[1m67/67\u001B[0m \u001B[32m━━━━━━━━━━━━━━━━━━━━\u001B[0m\u001B[37m\u001B[0m \u001B[1m25s\u001B[0m 369ms/step - accuracy: 0.7816 - categorical_crossentropy: 0.6426 - loss: 0.6426 - val_accuracy: 0.7809 - val_categorical_crossentropy: 0.6517 - val_loss: 0.6517\n",
      "Epoch 23/128\n",
      "\u001B[1m67/67\u001B[0m \u001B[32m━━━━━━━━━━━━━━━━━━━━\u001B[0m\u001B[37m\u001B[0m \u001B[1m25s\u001B[0m 369ms/step - accuracy: 0.7894 - categorical_crossentropy: 0.6159 - loss: 0.6159 - val_accuracy: 0.7786 - val_categorical_crossentropy: 0.6659 - val_loss: 0.6659\n",
      "Epoch 24/128\n",
      "\u001B[1m67/67\u001B[0m \u001B[32m━━━━━━━━━━━━━━━━━━━━\u001B[0m\u001B[37m\u001B[0m \u001B[1m25s\u001B[0m 369ms/step - accuracy: 0.7904 - categorical_crossentropy: 0.6070 - loss: 0.6070 - val_accuracy: 0.7747 - val_categorical_crossentropy: 0.6677 - val_loss: 0.6677\n",
      "Epoch 25/128\n",
      "\u001B[1m67/67\u001B[0m \u001B[32m━━━━━━━━━━━━━━━━━━━━\u001B[0m\u001B[37m\u001B[0m \u001B[1m25s\u001B[0m 369ms/step - accuracy: 0.7896 - categorical_crossentropy: 0.6211 - loss: 0.6211 - val_accuracy: 0.7842 - val_categorical_crossentropy: 0.6385 - val_loss: 0.6385\n",
      "Epoch 26/128\n",
      "\u001B[1m67/67\u001B[0m \u001B[32m━━━━━━━━━━━━━━━━━━━━\u001B[0m\u001B[37m\u001B[0m \u001B[1m25s\u001B[0m 369ms/step - accuracy: 0.7971 - categorical_crossentropy: 0.5942 - loss: 0.5942 - val_accuracy: 0.7850 - val_categorical_crossentropy: 0.6226 - val_loss: 0.6226\n",
      "Epoch 27/128\n",
      "\u001B[1m67/67\u001B[0m \u001B[32m━━━━━━━━━━━━━━━━━━━━\u001B[0m\u001B[37m\u001B[0m \u001B[1m25s\u001B[0m 369ms/step - accuracy: 0.8016 - categorical_crossentropy: 0.5760 - loss: 0.5760 - val_accuracy: 0.7659 - val_categorical_crossentropy: 0.7308 - val_loss: 0.7308\n",
      "Epoch 28/128\n",
      "\u001B[1m67/67\u001B[0m \u001B[32m━━━━━━━━━━━━━━━━━━━━\u001B[0m\u001B[37m\u001B[0m \u001B[1m25s\u001B[0m 369ms/step - accuracy: 0.7958 - categorical_crossentropy: 0.5986 - loss: 0.5986 - val_accuracy: 0.7927 - val_categorical_crossentropy: 0.6195 - val_loss: 0.6195\n",
      "Epoch 29/128\n",
      "\u001B[1m67/67\u001B[0m \u001B[32m━━━━━━━━━━━━━━━━━━━━\u001B[0m\u001B[37m\u001B[0m \u001B[1m25s\u001B[0m 369ms/step - accuracy: 0.7957 - categorical_crossentropy: 0.5987 - loss: 0.5987 - val_accuracy: 0.7860 - val_categorical_crossentropy: 0.6370 - val_loss: 0.6370\n",
      "Epoch 30/128\n",
      "\u001B[1m67/67\u001B[0m \u001B[32m━━━━━━━━━━━━━━━━━━━━\u001B[0m\u001B[37m\u001B[0m \u001B[1m25s\u001B[0m 369ms/step - accuracy: 0.8061 - categorical_crossentropy: 0.5628 - loss: 0.5628 - val_accuracy: 0.7912 - val_categorical_crossentropy: 0.6064 - val_loss: 0.6064\n",
      "Epoch 31/128\n",
      "\u001B[1m67/67\u001B[0m \u001B[32m━━━━━━━━━━━━━━━━━━━━\u001B[0m\u001B[37m\u001B[0m \u001B[1m25s\u001B[0m 371ms/step - accuracy: 0.8094 - categorical_crossentropy: 0.5520 - loss: 0.5520 - val_accuracy: 0.7862 - val_categorical_crossentropy: 0.6230 - val_loss: 0.6230\n",
      "Epoch 32/128\n",
      "\u001B[1m67/67\u001B[0m \u001B[32m━━━━━━━━━━━━━━━━━━━━\u001B[0m\u001B[37m\u001B[0m \u001B[1m25s\u001B[0m 370ms/step - accuracy: 0.8031 - categorical_crossentropy: 0.5661 - loss: 0.5661 - val_accuracy: 0.7501 - val_categorical_crossentropy: 0.7244 - val_loss: 0.7244\n",
      "Epoch 33/128\n",
      "\u001B[1m67/67\u001B[0m \u001B[32m━━━━━━━━━━━━━━━━━━━━\u001B[0m\u001B[37m\u001B[0m \u001B[1m25s\u001B[0m 370ms/step - accuracy: 0.8038 - categorical_crossentropy: 0.5683 - loss: 0.5683 - val_accuracy: 0.7936 - val_categorical_crossentropy: 0.6102 - val_loss: 0.6102\n",
      "Epoch 34/128\n",
      "\u001B[1m67/67\u001B[0m \u001B[32m━━━━━━━━━━━━━━━━━━━━\u001B[0m\u001B[37m\u001B[0m \u001B[1m25s\u001B[0m 369ms/step - accuracy: 0.8139 - categorical_crossentropy: 0.5413 - loss: 0.5413 - val_accuracy: 0.7993 - val_categorical_crossentropy: 0.5985 - val_loss: 0.5985\n",
      "Epoch 35/128\n",
      "\u001B[1m67/67\u001B[0m \u001B[32m━━━━━━━━━━━━━━━━━━━━\u001B[0m\u001B[37m\u001B[0m \u001B[1m25s\u001B[0m 369ms/step - accuracy: 0.8110 - categorical_crossentropy: 0.5417 - loss: 0.5417 - val_accuracy: 0.7924 - val_categorical_crossentropy: 0.6244 - val_loss: 0.6244\n",
      "Epoch 36/128\n",
      "\u001B[1m67/67\u001B[0m \u001B[32m━━━━━━━━━━━━━━━━━━━━\u001B[0m\u001B[37m\u001B[0m \u001B[1m25s\u001B[0m 371ms/step - accuracy: 0.8111 - categorical_crossentropy: 0.5470 - loss: 0.5470 - val_accuracy: 0.7922 - val_categorical_crossentropy: 0.6139 - val_loss: 0.6139\n",
      "Epoch 37/128\n",
      "\u001B[1m67/67\u001B[0m \u001B[32m━━━━━━━━━━━━━━━━━━━━\u001B[0m\u001B[37m\u001B[0m \u001B[1m25s\u001B[0m 372ms/step - accuracy: 0.8175 - categorical_crossentropy: 0.5282 - loss: 0.5282 - val_accuracy: 0.8019 - val_categorical_crossentropy: 0.5803 - val_loss: 0.5803\n",
      "Epoch 38/128\n",
      "\u001B[1m67/67\u001B[0m \u001B[32m━━━━━━━━━━━━━━━━━━━━\u001B[0m\u001B[37m\u001B[0m \u001B[1m25s\u001B[0m 371ms/step - accuracy: 0.8183 - categorical_crossentropy: 0.5254 - loss: 0.5254 - val_accuracy: 0.7822 - val_categorical_crossentropy: 0.7148 - val_loss: 0.7148\n",
      "Epoch 39/128\n",
      "\u001B[1m67/67\u001B[0m \u001B[32m━━━━━━━━━━━━━━━━━━━━\u001B[0m\u001B[37m\u001B[0m \u001B[1m24s\u001B[0m 358ms/step - accuracy: 0.8038 - categorical_crossentropy: 0.5715 - loss: 0.5715 - val_accuracy: 0.7975 - val_categorical_crossentropy: 0.5921 - val_loss: 0.5921\n",
      "Epoch 40/128\n",
      "\u001B[1m67/67\u001B[0m \u001B[32m━━━━━━━━━━━━━━━━━━━━\u001B[0m\u001B[37m\u001B[0m \u001B[1m24s\u001B[0m 358ms/step - accuracy: 0.8173 - categorical_crossentropy: 0.5281 - loss: 0.5281 - val_accuracy: 0.7827 - val_categorical_crossentropy: 0.6282 - val_loss: 0.6282\n",
      "Epoch 41/128\n",
      "\u001B[1m67/67\u001B[0m \u001B[32m━━━━━━━━━━━━━━━━━━━━\u001B[0m\u001B[37m\u001B[0m \u001B[1m24s\u001B[0m 358ms/step - accuracy: 0.8177 - categorical_crossentropy: 0.5218 - loss: 0.5218 - val_accuracy: 0.8090 - val_categorical_crossentropy: 0.5585 - val_loss: 0.5585\n",
      "Epoch 42/128\n",
      "\u001B[1m67/67\u001B[0m \u001B[32m━━━━━━━━━━━━━━━━━━━━\u001B[0m\u001B[37m\u001B[0m \u001B[1m24s\u001B[0m 358ms/step - accuracy: 0.8251 - categorical_crossentropy: 0.5038 - loss: 0.5038 - val_accuracy: 0.7714 - val_categorical_crossentropy: 0.6693 - val_loss: 0.6693\n",
      "Epoch 43/128\n",
      "\u001B[1m67/67\u001B[0m \u001B[32m━━━━━━━━━━━━━━━━━━━━\u001B[0m\u001B[37m\u001B[0m \u001B[1m24s\u001B[0m 357ms/step - accuracy: 0.8157 - categorical_crossentropy: 0.5304 - loss: 0.5304 - val_accuracy: 0.8115 - val_categorical_crossentropy: 0.5593 - val_loss: 0.5593\n",
      "Epoch 44/128\n",
      "\u001B[1m67/67\u001B[0m \u001B[32m━━━━━━━━━━━━━━━━━━━━\u001B[0m\u001B[37m\u001B[0m \u001B[1m24s\u001B[0m 358ms/step - accuracy: 0.8254 - categorical_crossentropy: 0.4961 - loss: 0.4961 - val_accuracy: 0.8080 - val_categorical_crossentropy: 0.5565 - val_loss: 0.5565\n",
      "Epoch 45/128\n",
      "\u001B[1m67/67\u001B[0m \u001B[32m━━━━━━━━━━━━━━━━━━━━\u001B[0m\u001B[37m\u001B[0m \u001B[1m24s\u001B[0m 358ms/step - accuracy: 0.8275 - categorical_crossentropy: 0.4985 - loss: 0.4985 - val_accuracy: 0.7993 - val_categorical_crossentropy: 0.5992 - val_loss: 0.5992\n",
      "Epoch 46/128\n",
      "\u001B[1m67/67\u001B[0m \u001B[32m━━━━━━━━━━━━━━━━━━━━\u001B[0m\u001B[37m\u001B[0m \u001B[1m24s\u001B[0m 358ms/step - accuracy: 0.8225 - categorical_crossentropy: 0.5103 - loss: 0.5103 - val_accuracy: 0.7907 - val_categorical_crossentropy: 0.6215 - val_loss: 0.6215\n",
      "Epoch 47/128\n",
      "\u001B[1m67/67\u001B[0m \u001B[32m━━━━━━━━━━━━━━━━━━━━\u001B[0m\u001B[37m\u001B[0m \u001B[1m24s\u001B[0m 358ms/step - accuracy: 0.8253 - categorical_crossentropy: 0.4994 - loss: 0.4994 - val_accuracy: 0.8107 - val_categorical_crossentropy: 0.5460 - val_loss: 0.5460\n",
      "Epoch 48/128\n",
      "\u001B[1m67/67\u001B[0m \u001B[32m━━━━━━━━━━━━━━━━━━━━\u001B[0m\u001B[37m\u001B[0m \u001B[1m24s\u001B[0m 357ms/step - accuracy: 0.8300 - categorical_crossentropy: 0.4869 - loss: 0.4869 - val_accuracy: 0.7876 - val_categorical_crossentropy: 0.6287 - val_loss: 0.6287\n",
      "Epoch 49/128\n",
      "\u001B[1m67/67\u001B[0m \u001B[32m━━━━━━━━━━━━━━━━━━━━\u001B[0m\u001B[37m\u001B[0m \u001B[1m24s\u001B[0m 358ms/step - accuracy: 0.8247 - categorical_crossentropy: 0.5101 - loss: 0.5101 - val_accuracy: 0.8129 - val_categorical_crossentropy: 0.5622 - val_loss: 0.5622\n",
      "Epoch 50/128\n",
      "\u001B[1m67/67\u001B[0m \u001B[32m━━━━━━━━━━━━━━━━━━━━\u001B[0m\u001B[37m\u001B[0m \u001B[1m24s\u001B[0m 359ms/step - accuracy: 0.8290 - categorical_crossentropy: 0.4923 - loss: 0.4923 - val_accuracy: 0.7929 - val_categorical_crossentropy: 0.6209 - val_loss: 0.6209\n",
      "Epoch 51/128\n",
      "\u001B[1m67/67\u001B[0m \u001B[32m━━━━━━━━━━━━━━━━━━━━\u001B[0m\u001B[37m\u001B[0m \u001B[1m24s\u001B[0m 360ms/step - accuracy: 0.8268 - categorical_crossentropy: 0.4996 - loss: 0.4996 - val_accuracy: 0.8150 - val_categorical_crossentropy: 0.5486 - val_loss: 0.5486\n",
      "Epoch 52/128\n",
      "\u001B[1m67/67\u001B[0m \u001B[32m━━━━━━━━━━━━━━━━━━━━\u001B[0m\u001B[37m\u001B[0m \u001B[1m24s\u001B[0m 360ms/step - accuracy: 0.8346 - categorical_crossentropy: 0.4711 - loss: 0.4711 - val_accuracy: 0.7971 - val_categorical_crossentropy: 0.5790 - val_loss: 0.5790\n",
      "Epoch 53/128\n",
      "\u001B[1m67/67\u001B[0m \u001B[32m━━━━━━━━━━━━━━━━━━━━\u001B[0m\u001B[37m\u001B[0m \u001B[1m24s\u001B[0m 357ms/step - accuracy: 0.8339 - categorical_crossentropy: 0.4759 - loss: 0.4759 - val_accuracy: 0.8133 - val_categorical_crossentropy: 0.5491 - val_loss: 0.5491\n",
      "Epoch 54/128\n",
      "\u001B[1m67/67\u001B[0m \u001B[32m━━━━━━━━━━━━━━━━━━━━\u001B[0m\u001B[37m\u001B[0m \u001B[1m24s\u001B[0m 358ms/step - accuracy: 0.8381 - categorical_crossentropy: 0.4611 - loss: 0.4611 - val_accuracy: 0.8160 - val_categorical_crossentropy: 0.5331 - val_loss: 0.5331\n",
      "Epoch 55/128\n",
      "\u001B[1m67/67\u001B[0m \u001B[32m━━━━━━━━━━━━━━━━━━━━\u001B[0m\u001B[37m\u001B[0m \u001B[1m24s\u001B[0m 359ms/step - accuracy: 0.8401 - categorical_crossentropy: 0.4623 - loss: 0.4623 - val_accuracy: 0.8169 - val_categorical_crossentropy: 0.5470 - val_loss: 0.5470\n",
      "Epoch 56/128\n",
      "\u001B[1m67/67\u001B[0m \u001B[32m━━━━━━━━━━━━━━━━━━━━\u001B[0m\u001B[37m\u001B[0m \u001B[1m24s\u001B[0m 358ms/step - accuracy: 0.8375 - categorical_crossentropy: 0.4701 - loss: 0.4701 - val_accuracy: 0.8010 - val_categorical_crossentropy: 0.5938 - val_loss: 0.5938\n",
      "Epoch 57/128\n",
      "\u001B[1m67/67\u001B[0m \u001B[32m━━━━━━━━━━━━━━━━━━━━\u001B[0m\u001B[37m\u001B[0m \u001B[1m24s\u001B[0m 357ms/step - accuracy: 0.8333 - categorical_crossentropy: 0.4740 - loss: 0.4740 - val_accuracy: 0.7971 - val_categorical_crossentropy: 0.6167 - val_loss: 0.6167\n",
      "Epoch 58/128\n",
      "\u001B[1m67/67\u001B[0m \u001B[32m━━━━━━━━━━━━━━━━━━━━\u001B[0m\u001B[37m\u001B[0m \u001B[1m24s\u001B[0m 358ms/step - accuracy: 0.8315 - categorical_crossentropy: 0.4807 - loss: 0.4807 - val_accuracy: 0.7883 - val_categorical_crossentropy: 0.6227 - val_loss: 0.6227\n",
      "Epoch 59/128\n",
      "\u001B[1m67/67\u001B[0m \u001B[32m━━━━━━━━━━━━━━━━━━━━\u001B[0m\u001B[37m\u001B[0m \u001B[1m24s\u001B[0m 358ms/step - accuracy: 0.8359 - categorical_crossentropy: 0.4718 - loss: 0.4718 - val_accuracy: 0.8181 - val_categorical_crossentropy: 0.5532 - val_loss: 0.5532\n",
      "Epoch 60/128\n",
      "\u001B[1m67/67\u001B[0m \u001B[32m━━━━━━━━━━━━━━━━━━━━\u001B[0m\u001B[37m\u001B[0m \u001B[1m24s\u001B[0m 357ms/step - accuracy: 0.8386 - categorical_crossentropy: 0.4583 - loss: 0.4583 - val_accuracy: 0.8104 - val_categorical_crossentropy: 0.5534 - val_loss: 0.5534\n",
      "Epoch 61/128\n",
      "\u001B[1m67/67\u001B[0m \u001B[32m━━━━━━━━━━━━━━━━━━━━\u001B[0m\u001B[37m\u001B[0m \u001B[1m24s\u001B[0m 358ms/step - accuracy: 0.8350 - categorical_crossentropy: 0.4672 - loss: 0.4672 - val_accuracy: 0.8011 - val_categorical_crossentropy: 0.5921 - val_loss: 0.5921\n",
      "Epoch 62/128\n",
      "\u001B[1m67/67\u001B[0m \u001B[32m━━━━━━━━━━━━━━━━━━━━\u001B[0m\u001B[37m\u001B[0m \u001B[1m24s\u001B[0m 357ms/step - accuracy: 0.8375 - categorical_crossentropy: 0.4644 - loss: 0.4644 - val_accuracy: 0.8046 - val_categorical_crossentropy: 0.5841 - val_loss: 0.5841\n",
      "Epoch 63/128\n",
      "\u001B[1m67/67\u001B[0m \u001B[32m━━━━━━━━━━━━━━━━━━━━\u001B[0m\u001B[37m\u001B[0m \u001B[1m24s\u001B[0m 358ms/step - accuracy: 0.8408 - categorical_crossentropy: 0.4554 - loss: 0.4554 - val_accuracy: 0.8032 - val_categorical_crossentropy: 0.5967 - val_loss: 0.5967\n",
      "Epoch 64/128\n",
      "\u001B[1m67/67\u001B[0m \u001B[32m━━━━━━━━━━━━━━━━━━━━\u001B[0m\u001B[37m\u001B[0m \u001B[1m24s\u001B[0m 358ms/step - accuracy: 0.8421 - categorical_crossentropy: 0.4502 - loss: 0.4502 - val_accuracy: 0.8158 - val_categorical_crossentropy: 0.5374 - val_loss: 0.5374\n",
      "Epoch 65/128\n",
      "\u001B[1m67/67\u001B[0m \u001B[32m━━━━━━━━━━━━━━━━━━━━\u001B[0m\u001B[37m\u001B[0m \u001B[1m24s\u001B[0m 358ms/step - accuracy: 0.8409 - categorical_crossentropy: 0.4545 - loss: 0.4545 - val_accuracy: 0.8225 - val_categorical_crossentropy: 0.5273 - val_loss: 0.5273\n",
      "Epoch 66/128\n",
      "\u001B[1m67/67\u001B[0m \u001B[32m━━━━━━━━━━━━━━━━━━━━\u001B[0m\u001B[37m\u001B[0m \u001B[1m24s\u001B[0m 357ms/step - accuracy: 0.8493 - categorical_crossentropy: 0.4332 - loss: 0.4332 - val_accuracy: 0.8158 - val_categorical_crossentropy: 0.5590 - val_loss: 0.5590\n",
      "Epoch 67/128\n",
      "\u001B[1m67/67\u001B[0m \u001B[32m━━━━━━━━━━━━━━━━━━━━\u001B[0m\u001B[37m\u001B[0m \u001B[1m24s\u001B[0m 357ms/step - accuracy: 0.8458 - categorical_crossentropy: 0.4423 - loss: 0.4423 - val_accuracy: 0.8201 - val_categorical_crossentropy: 0.5337 - val_loss: 0.5337\n",
      "Epoch 68/128\n",
      "\u001B[1m67/67\u001B[0m \u001B[32m━━━━━━━━━━━━━━━━━━━━\u001B[0m\u001B[37m\u001B[0m \u001B[1m24s\u001B[0m 357ms/step - accuracy: 0.8412 - categorical_crossentropy: 0.4537 - loss: 0.4537 - val_accuracy: 0.8109 - val_categorical_crossentropy: 0.5662 - val_loss: 0.5662\n",
      "Epoch 69/128\n",
      "\u001B[1m67/67\u001B[0m \u001B[32m━━━━━━━━━━━━━━━━━━━━\u001B[0m\u001B[37m\u001B[0m \u001B[1m24s\u001B[0m 357ms/step - accuracy: 0.8384 - categorical_crossentropy: 0.4573 - loss: 0.4573 - val_accuracy: 0.8222 - val_categorical_crossentropy: 0.5410 - val_loss: 0.5410\n",
      "Epoch 70/128\n",
      "\u001B[1m67/67\u001B[0m \u001B[32m━━━━━━━━━━━━━━━━━━━━\u001B[0m\u001B[37m\u001B[0m \u001B[1m24s\u001B[0m 357ms/step - accuracy: 0.8446 - categorical_crossentropy: 0.4395 - loss: 0.4395 - val_accuracy: 0.7997 - val_categorical_crossentropy: 0.6009 - val_loss: 0.6009\n",
      "Epoch 71/128\n",
      "\u001B[1m67/67\u001B[0m \u001B[32m━━━━━━━━━━━━━━━━━━━━\u001B[0m\u001B[37m\u001B[0m \u001B[1m24s\u001B[0m 358ms/step - accuracy: 0.8318 - categorical_crossentropy: 0.4834 - loss: 0.4834 - val_accuracy: 0.8100 - val_categorical_crossentropy: 0.5743 - val_loss: 0.5743\n",
      "Epoch 72/128\n",
      "\u001B[1m67/67\u001B[0m \u001B[32m━━━━━━━━━━━━━━━━━━━━\u001B[0m\u001B[37m\u001B[0m \u001B[1m24s\u001B[0m 358ms/step - accuracy: 0.8431 - categorical_crossentropy: 0.4450 - loss: 0.4450 - val_accuracy: 0.7925 - val_categorical_crossentropy: 0.6444 - val_loss: 0.6444\n",
      "Epoch 73/128\n",
      "\u001B[1m67/67\u001B[0m \u001B[32m━━━━━━━━━━━━━━━━━━━━\u001B[0m\u001B[37m\u001B[0m \u001B[1m24s\u001B[0m 358ms/step - accuracy: 0.8224 - categorical_crossentropy: 0.5154 - loss: 0.5154 - val_accuracy: 0.8116 - val_categorical_crossentropy: 0.5497 - val_loss: 0.5497\n",
      "Epoch 74/128\n",
      "\u001B[1m67/67\u001B[0m \u001B[32m━━━━━━━━━━━━━━━━━━━━\u001B[0m\u001B[37m\u001B[0m \u001B[1m24s\u001B[0m 358ms/step - accuracy: 0.8441 - categorical_crossentropy: 0.4381 - loss: 0.4381 - val_accuracy: 0.8164 - val_categorical_crossentropy: 0.5401 - val_loss: 0.5401\n",
      "Epoch 75/128\n",
      "\u001B[1m67/67\u001B[0m \u001B[32m━━━━━━━━━━━━━━━━━━━━\u001B[0m\u001B[37m\u001B[0m \u001B[1m24s\u001B[0m 358ms/step - accuracy: 0.8509 - categorical_crossentropy: 0.4251 - loss: 0.4251 - val_accuracy: 0.8158 - val_categorical_crossentropy: 0.5540 - val_loss: 0.5540\n",
      "Epoch 76/128\n",
      "\u001B[1m67/67\u001B[0m \u001B[32m━━━━━━━━━━━━━━━━━━━━\u001B[0m\u001B[37m\u001B[0m \u001B[1m24s\u001B[0m 358ms/step - accuracy: 0.8494 - categorical_crossentropy: 0.4259 - loss: 0.4259 - val_accuracy: 0.8196 - val_categorical_crossentropy: 0.5520 - val_loss: 0.5520\n",
      "Epoch 77/128\n",
      "\u001B[1m67/67\u001B[0m \u001B[32m━━━━━━━━━━━━━━━━━━━━\u001B[0m\u001B[37m\u001B[0m \u001B[1m24s\u001B[0m 358ms/step - accuracy: 0.8503 - categorical_crossentropy: 0.4220 - loss: 0.4220 - val_accuracy: 0.8263 - val_categorical_crossentropy: 0.5204 - val_loss: 0.5204\n",
      "Epoch 78/128\n",
      "\u001B[1m67/67\u001B[0m \u001B[32m━━━━━━━━━━━━━━━━━━━━\u001B[0m\u001B[37m\u001B[0m \u001B[1m24s\u001B[0m 358ms/step - accuracy: 0.8499 - categorical_crossentropy: 0.4277 - loss: 0.4277 - val_accuracy: 0.8226 - val_categorical_crossentropy: 0.5305 - val_loss: 0.5305\n",
      "Epoch 79/128\n",
      "\u001B[1m67/67\u001B[0m \u001B[32m━━━━━━━━━━━━━━━━━━━━\u001B[0m\u001B[37m\u001B[0m \u001B[1m24s\u001B[0m 358ms/step - accuracy: 0.8502 - categorical_crossentropy: 0.4232 - loss: 0.4232 - val_accuracy: 0.8272 - val_categorical_crossentropy: 0.5223 - val_loss: 0.5223\n",
      "Epoch 80/128\n",
      "\u001B[1m67/67\u001B[0m \u001B[32m━━━━━━━━━━━━━━━━━━━━\u001B[0m\u001B[37m\u001B[0m \u001B[1m24s\u001B[0m 357ms/step - accuracy: 0.8564 - categorical_crossentropy: 0.4103 - loss: 0.4103 - val_accuracy: 0.8068 - val_categorical_crossentropy: 0.5668 - val_loss: 0.5668\n",
      "Epoch 81/128\n",
      "\u001B[1m67/67\u001B[0m \u001B[32m━━━━━━━━━━━━━━━━━━━━\u001B[0m\u001B[37m\u001B[0m \u001B[1m24s\u001B[0m 358ms/step - accuracy: 0.8460 - categorical_crossentropy: 0.4307 - loss: 0.4307 - val_accuracy: 0.8243 - val_categorical_crossentropy: 0.5260 - val_loss: 0.5260\n",
      "Epoch 82/128\n",
      "\u001B[1m67/67\u001B[0m \u001B[32m━━━━━━━━━━━━━━━━━━━━\u001B[0m\u001B[37m\u001B[0m \u001B[1m24s\u001B[0m 357ms/step - accuracy: 0.8487 - categorical_crossentropy: 0.4357 - loss: 0.4357 - val_accuracy: 0.8185 - val_categorical_crossentropy: 0.5528 - val_loss: 0.5528\n",
      "Epoch 83/128\n",
      "\u001B[1m67/67\u001B[0m \u001B[32m━━━━━━━━━━━━━━━━━━━━\u001B[0m\u001B[37m\u001B[0m \u001B[1m24s\u001B[0m 364ms/step - accuracy: 0.8501 - categorical_crossentropy: 0.4277 - loss: 0.4277 - val_accuracy: 0.8240 - val_categorical_crossentropy: 0.5330 - val_loss: 0.5330\n",
      "Epoch 84/128\n",
      "\u001B[1m67/67\u001B[0m \u001B[32m━━━━━━━━━━━━━━━━━━━━\u001B[0m\u001B[37m\u001B[0m \u001B[1m24s\u001B[0m 359ms/step - accuracy: 0.8578 - categorical_crossentropy: 0.4039 - loss: 0.4039 - val_accuracy: 0.8123 - val_categorical_crossentropy: 0.5840 - val_loss: 0.5840\n",
      "Epoch 85/128\n",
      "\u001B[1m67/67\u001B[0m \u001B[32m━━━━━━━━━━━━━━━━━━━━\u001B[0m\u001B[37m\u001B[0m \u001B[1m24s\u001B[0m 357ms/step - accuracy: 0.8414 - categorical_crossentropy: 0.4481 - loss: 0.4481 - val_accuracy: 0.8124 - val_categorical_crossentropy: 0.5588 - val_loss: 0.5588\n",
      "Epoch 86/128\n",
      "\u001B[1m67/67\u001B[0m \u001B[32m━━━━━━━━━━━━━━━━━━━━\u001B[0m\u001B[37m\u001B[0m \u001B[1m24s\u001B[0m 361ms/step - accuracy: 0.8524 - categorical_crossentropy: 0.4142 - loss: 0.4142 - val_accuracy: 0.8068 - val_categorical_crossentropy: 0.5728 - val_loss: 0.5728\n",
      "Epoch 87/128\n",
      "\u001B[1m67/67\u001B[0m \u001B[32m━━━━━━━━━━━━━━━━━━━━\u001B[0m\u001B[37m\u001B[0m \u001B[1m24s\u001B[0m 358ms/step - accuracy: 0.8423 - categorical_crossentropy: 0.4477 - loss: 0.4477 - val_accuracy: 0.8170 - val_categorical_crossentropy: 0.5643 - val_loss: 0.5643\n",
      "Epoch 88/128\n",
      "\u001B[1m67/67\u001B[0m \u001B[32m━━━━━━━━━━━━━━━━━━━━\u001B[0m\u001B[37m\u001B[0m \u001B[1m24s\u001B[0m 357ms/step - accuracy: 0.8541 - categorical_crossentropy: 0.4096 - loss: 0.4096 - val_accuracy: 0.8241 - val_categorical_crossentropy: 0.5300 - val_loss: 0.5300\n",
      "Epoch 89/128\n",
      "\u001B[1m67/67\u001B[0m \u001B[32m━━━━━━━━━━━━━━━━━━━━\u001B[0m\u001B[37m\u001B[0m \u001B[1m24s\u001B[0m 357ms/step - accuracy: 0.8571 - categorical_crossentropy: 0.4029 - loss: 0.4029 - val_accuracy: 0.8215 - val_categorical_crossentropy: 0.5574 - val_loss: 0.5574\n",
      "Epoch 90/128\n",
      "\u001B[1m67/67\u001B[0m \u001B[32m━━━━━━━━━━━━━━━━━━━━\u001B[0m\u001B[37m\u001B[0m \u001B[1m24s\u001B[0m 359ms/step - accuracy: 0.8510 - categorical_crossentropy: 0.4147 - loss: 0.4147 - val_accuracy: 0.8285 - val_categorical_crossentropy: 0.5279 - val_loss: 0.5279\n",
      "Epoch 91/128\n",
      "\u001B[1m67/67\u001B[0m \u001B[32m━━━━━━━━━━━━━━━━━━━━\u001B[0m\u001B[37m\u001B[0m \u001B[1m24s\u001B[0m 360ms/step - accuracy: 0.8581 - categorical_crossentropy: 0.4020 - loss: 0.4020 - val_accuracy: 0.8300 - val_categorical_crossentropy: 0.5238 - val_loss: 0.5238\n",
      "Epoch 92/128\n",
      "\u001B[1m67/67\u001B[0m \u001B[32m━━━━━━━━━━━━━━━━━━━━\u001B[0m\u001B[37m\u001B[0m \u001B[1m24s\u001B[0m 358ms/step - accuracy: 0.8557 - categorical_crossentropy: 0.4039 - loss: 0.4039 - val_accuracy: 0.8182 - val_categorical_crossentropy: 0.5350 - val_loss: 0.5350\n",
      "Epoch 93/128\n",
      "\u001B[1m67/67\u001B[0m \u001B[32m━━━━━━━━━━━━━━━━━━━━\u001B[0m\u001B[37m\u001B[0m \u001B[1m24s\u001B[0m 358ms/step - accuracy: 0.8526 - categorical_crossentropy: 0.4125 - loss: 0.4125 - val_accuracy: 0.8122 - val_categorical_crossentropy: 0.5811 - val_loss: 0.5811\n",
      "Epoch 94/128\n",
      "\u001B[1m67/67\u001B[0m \u001B[32m━━━━━━━━━━━━━━━━━━━━\u001B[0m\u001B[37m\u001B[0m \u001B[1m24s\u001B[0m 358ms/step - accuracy: 0.8532 - categorical_crossentropy: 0.4143 - loss: 0.4143 - val_accuracy: 0.8311 - val_categorical_crossentropy: 0.5199 - val_loss: 0.5199\n",
      "Epoch 95/128\n",
      "\u001B[1m67/67\u001B[0m \u001B[32m━━━━━━━━━━━━━━━━━━━━\u001B[0m\u001B[37m\u001B[0m \u001B[1m24s\u001B[0m 357ms/step - accuracy: 0.8558 - categorical_crossentropy: 0.4089 - loss: 0.4089 - val_accuracy: 0.8244 - val_categorical_crossentropy: 0.5501 - val_loss: 0.5501\n",
      "Epoch 96/128\n",
      "\u001B[1m67/67\u001B[0m \u001B[32m━━━━━━━━━━━━━━━━━━━━\u001B[0m\u001B[37m\u001B[0m \u001B[1m24s\u001B[0m 358ms/step - accuracy: 0.8511 - categorical_crossentropy: 0.4217 - loss: 0.4217 - val_accuracy: 0.8298 - val_categorical_crossentropy: 0.5164 - val_loss: 0.5164\n",
      "Epoch 97/128\n",
      "\u001B[1m67/67\u001B[0m \u001B[32m━━━━━━━━━━━━━━━━━━━━\u001B[0m\u001B[37m\u001B[0m \u001B[1m24s\u001B[0m 357ms/step - accuracy: 0.8609 - categorical_crossentropy: 0.3909 - loss: 0.3909 - val_accuracy: 0.8291 - val_categorical_crossentropy: 0.5314 - val_loss: 0.5314\n",
      "Epoch 98/128\n",
      "\u001B[1m67/67\u001B[0m \u001B[32m━━━━━━━━━━━━━━━━━━━━\u001B[0m\u001B[37m\u001B[0m \u001B[1m24s\u001B[0m 357ms/step - accuracy: 0.8575 - categorical_crossentropy: 0.4004 - loss: 0.4004 - val_accuracy: 0.8233 - val_categorical_crossentropy: 0.5400 - val_loss: 0.5400\n",
      "Epoch 99/128\n",
      "\u001B[1m67/67\u001B[0m \u001B[32m━━━━━━━━━━━━━━━━━━━━\u001B[0m\u001B[37m\u001B[0m \u001B[1m24s\u001B[0m 357ms/step - accuracy: 0.8629 - categorical_crossentropy: 0.3840 - loss: 0.3840 - val_accuracy: 0.8225 - val_categorical_crossentropy: 0.5659 - val_loss: 0.5659\n",
      "Epoch 100/128\n",
      "\u001B[1m67/67\u001B[0m \u001B[32m━━━━━━━━━━━━━━━━━━━━\u001B[0m\u001B[37m\u001B[0m \u001B[1m24s\u001B[0m 357ms/step - accuracy: 0.8628 - categorical_crossentropy: 0.3915 - loss: 0.3915 - val_accuracy: 0.8270 - val_categorical_crossentropy: 0.5365 - val_loss: 0.5365\n",
      "Epoch 101/128\n",
      "\u001B[1m67/67\u001B[0m \u001B[32m━━━━━━━━━━━━━━━━━━━━\u001B[0m\u001B[37m\u001B[0m \u001B[1m24s\u001B[0m 358ms/step - accuracy: 0.8567 - categorical_crossentropy: 0.4007 - loss: 0.4007 - val_accuracy: 0.8266 - val_categorical_crossentropy: 0.5273 - val_loss: 0.5273\n",
      "Epoch 102/128\n",
      "\u001B[1m67/67\u001B[0m \u001B[32m━━━━━━━━━━━━━━━━━━━━\u001B[0m\u001B[37m\u001B[0m \u001B[1m24s\u001B[0m 357ms/step - accuracy: 0.8639 - categorical_crossentropy: 0.3815 - loss: 0.3815 - val_accuracy: 0.8225 - val_categorical_crossentropy: 0.5356 - val_loss: 0.5356\n",
      "Epoch 103/128\n",
      "\u001B[1m67/67\u001B[0m \u001B[32m━━━━━━━━━━━━━━━━━━━━\u001B[0m\u001B[37m\u001B[0m \u001B[1m24s\u001B[0m 358ms/step - accuracy: 0.8515 - categorical_crossentropy: 0.4201 - loss: 0.4201 - val_accuracy: 0.8316 - val_categorical_crossentropy: 0.5253 - val_loss: 0.5253\n",
      "Epoch 104/128\n",
      "\u001B[1m67/67\u001B[0m \u001B[32m━━━━━━━━━━━━━━━━━━━━\u001B[0m\u001B[37m\u001B[0m \u001B[1m24s\u001B[0m 358ms/step - accuracy: 0.8649 - categorical_crossentropy: 0.3795 - loss: 0.3795 - val_accuracy: 0.8211 - val_categorical_crossentropy: 0.5755 - val_loss: 0.5755\n",
      "Epoch 105/128\n",
      "\u001B[1m67/67\u001B[0m \u001B[32m━━━━━━━━━━━━━━━━━━━━\u001B[0m\u001B[37m\u001B[0m \u001B[1m24s\u001B[0m 358ms/step - accuracy: 0.8566 - categorical_crossentropy: 0.4035 - loss: 0.4035 - val_accuracy: 0.8203 - val_categorical_crossentropy: 0.5498 - val_loss: 0.5498\n",
      "Epoch 106/128\n",
      "\u001B[1m67/67\u001B[0m \u001B[32m━━━━━━━━━━━━━━━━━━━━\u001B[0m\u001B[37m\u001B[0m \u001B[1m24s\u001B[0m 357ms/step - accuracy: 0.8548 - categorical_crossentropy: 0.4089 - loss: 0.4089 - val_accuracy: 0.8167 - val_categorical_crossentropy: 0.5729 - val_loss: 0.5729\n",
      "Epoch 107/128\n",
      "\u001B[1m67/67\u001B[0m \u001B[32m━━━━━━━━━━━━━━━━━━━━\u001B[0m\u001B[37m\u001B[0m \u001B[1m24s\u001B[0m 359ms/step - accuracy: 0.8590 - categorical_crossentropy: 0.3919 - loss: 0.3919 - val_accuracy: 0.8314 - val_categorical_crossentropy: 0.5290 - val_loss: 0.5290\n",
      "Epoch 108/128\n",
      "\u001B[1m67/67\u001B[0m \u001B[32m━━━━━━━━━━━━━━━━━━━━\u001B[0m\u001B[37m\u001B[0m \u001B[1m24s\u001B[0m 357ms/step - accuracy: 0.8618 - categorical_crossentropy: 0.3836 - loss: 0.3836 - val_accuracy: 0.8309 - val_categorical_crossentropy: 0.5300 - val_loss: 0.5300\n",
      "Epoch 109/128\n",
      "\u001B[1m67/67\u001B[0m \u001B[32m━━━━━━━━━━━━━━━━━━━━\u001B[0m\u001B[37m\u001B[0m \u001B[1m24s\u001B[0m 358ms/step - accuracy: 0.8570 - categorical_crossentropy: 0.4036 - loss: 0.4036 - val_accuracy: 0.8143 - val_categorical_crossentropy: 0.5937 - val_loss: 0.5937\n",
      "Epoch 110/128\n",
      "\u001B[1m67/67\u001B[0m \u001B[32m━━━━━━━━━━━━━━━━━━━━\u001B[0m\u001B[37m\u001B[0m \u001B[1m24s\u001B[0m 358ms/step - accuracy: 0.8562 - categorical_crossentropy: 0.4065 - loss: 0.4065 - val_accuracy: 0.8068 - val_categorical_crossentropy: 0.5903 - val_loss: 0.5903\n",
      "Epoch 111/128\n",
      "\u001B[1m67/67\u001B[0m \u001B[32m━━━━━━━━━━━━━━━━━━━━\u001B[0m\u001B[37m\u001B[0m \u001B[1m24s\u001B[0m 358ms/step - accuracy: 0.8582 - categorical_crossentropy: 0.4012 - loss: 0.4012 - val_accuracy: 0.8305 - val_categorical_crossentropy: 0.5229 - val_loss: 0.5229\n",
      "Epoch 112/128\n",
      "\u001B[1m67/67\u001B[0m \u001B[32m━━━━━━━━━━━━━━━━━━━━\u001B[0m\u001B[37m\u001B[0m \u001B[1m24s\u001B[0m 360ms/step - accuracy: 0.8628 - categorical_crossentropy: 0.3869 - loss: 0.3869 - val_accuracy: 0.8252 - val_categorical_crossentropy: 0.5508 - val_loss: 0.5508\n",
      "Epoch 113/128\n",
      "\u001B[1m67/67\u001B[0m \u001B[32m━━━━━━━━━━━━━━━━━━━━\u001B[0m\u001B[37m\u001B[0m \u001B[1m24s\u001B[0m 359ms/step - accuracy: 0.8646 - categorical_crossentropy: 0.3758 - loss: 0.3758 - val_accuracy: 0.8216 - val_categorical_crossentropy: 0.5865 - val_loss: 0.5865\n",
      "Epoch 114/128\n",
      "\u001B[1m67/67\u001B[0m \u001B[32m━━━━━━━━━━━━━━━━━━━━\u001B[0m\u001B[37m\u001B[0m \u001B[1m24s\u001B[0m 358ms/step - accuracy: 0.8545 - categorical_crossentropy: 0.4059 - loss: 0.4059 - val_accuracy: 0.8237 - val_categorical_crossentropy: 0.5483 - val_loss: 0.5483\n",
      "Epoch 115/128\n",
      "\u001B[1m67/67\u001B[0m \u001B[32m━━━━━━━━━━━━━━━━━━━━\u001B[0m\u001B[37m\u001B[0m \u001B[1m24s\u001B[0m 359ms/step - accuracy: 0.8617 - categorical_crossentropy: 0.3840 - loss: 0.3840 - val_accuracy: 0.8300 - val_categorical_crossentropy: 0.5438 - val_loss: 0.5438\n",
      "Epoch 116/128\n",
      "\u001B[1m67/67\u001B[0m \u001B[32m━━━━━━━━━━━━━━━━━━━━\u001B[0m\u001B[37m\u001B[0m \u001B[1m24s\u001B[0m 357ms/step - accuracy: 0.8645 - categorical_crossentropy: 0.3792 - loss: 0.3792 - val_accuracy: 0.8279 - val_categorical_crossentropy: 0.5454 - val_loss: 0.5454\n",
      "Epoch 117/128\n",
      "\u001B[1m67/67\u001B[0m \u001B[32m━━━━━━━━━━━━━━━━━━━━\u001B[0m\u001B[37m\u001B[0m \u001B[1m24s\u001B[0m 357ms/step - accuracy: 0.8573 - categorical_crossentropy: 0.4021 - loss: 0.4021 - val_accuracy: 0.8234 - val_categorical_crossentropy: 0.5601 - val_loss: 0.5601\n",
      "Epoch 118/128\n",
      "\u001B[1m67/67\u001B[0m \u001B[32m━━━━━━━━━━━━━━━━━━━━\u001B[0m\u001B[37m\u001B[0m \u001B[1m24s\u001B[0m 358ms/step - accuracy: 0.8590 - categorical_crossentropy: 0.3935 - loss: 0.3935 - val_accuracy: 0.8173 - val_categorical_crossentropy: 0.5559 - val_loss: 0.5559\n",
      "Epoch 119/128\n",
      "\u001B[1m67/67\u001B[0m \u001B[32m━━━━━━━━━━━━━━━━━━━━\u001B[0m\u001B[37m\u001B[0m \u001B[1m24s\u001B[0m 358ms/step - accuracy: 0.8649 - categorical_crossentropy: 0.3782 - loss: 0.3782 - val_accuracy: 0.8226 - val_categorical_crossentropy: 0.5708 - val_loss: 0.5708\n",
      "Epoch 120/128\n",
      "\u001B[1m67/67\u001B[0m \u001B[32m━━━━━━━━━━━━━━━━━━━━\u001B[0m\u001B[37m\u001B[0m \u001B[1m24s\u001B[0m 358ms/step - accuracy: 0.8671 - categorical_crossentropy: 0.3737 - loss: 0.3737 - val_accuracy: 0.8218 - val_categorical_crossentropy: 0.5991 - val_loss: 0.5991\n",
      "Epoch 121/128\n",
      "\u001B[1m67/67\u001B[0m \u001B[32m━━━━━━━━━━━━━━━━━━━━\u001B[0m\u001B[37m\u001B[0m \u001B[1m24s\u001B[0m 358ms/step - accuracy: 0.8614 - categorical_crossentropy: 0.3881 - loss: 0.3881 - val_accuracy: 0.8328 - val_categorical_crossentropy: 0.5334 - val_loss: 0.5334\n",
      "Epoch 122/128\n",
      "\u001B[1m67/67\u001B[0m \u001B[32m━━━━━━━━━━━━━━━━━━━━\u001B[0m\u001B[37m\u001B[0m \u001B[1m24s\u001B[0m 359ms/step - accuracy: 0.8656 - categorical_crossentropy: 0.3763 - loss: 0.3763 - val_accuracy: 0.8245 - val_categorical_crossentropy: 0.5616 - val_loss: 0.5616\n",
      "Epoch 123/128\n",
      "\u001B[1m67/67\u001B[0m \u001B[32m━━━━━━━━━━━━━━━━━━━━\u001B[0m\u001B[37m\u001B[0m \u001B[1m24s\u001B[0m 358ms/step - accuracy: 0.8663 - categorical_crossentropy: 0.3822 - loss: 0.3822 - val_accuracy: 0.8183 - val_categorical_crossentropy: 0.5682 - val_loss: 0.5682\n",
      "Epoch 124/128\n",
      "\u001B[1m67/67\u001B[0m \u001B[32m━━━━━━━━━━━━━━━━━━━━\u001B[0m\u001B[37m\u001B[0m \u001B[1m24s\u001B[0m 358ms/step - accuracy: 0.8609 - categorical_crossentropy: 0.4003 - loss: 0.4003 - val_accuracy: 0.8303 - val_categorical_crossentropy: 0.5380 - val_loss: 0.5380\n",
      "Epoch 125/128\n",
      "\u001B[1m67/67\u001B[0m \u001B[32m━━━━━━━━━━━━━━━━━━━━\u001B[0m\u001B[37m\u001B[0m \u001B[1m24s\u001B[0m 359ms/step - accuracy: 0.8677 - categorical_crossentropy: 0.3706 - loss: 0.3706 - val_accuracy: 0.8289 - val_categorical_crossentropy: 0.5466 - val_loss: 0.5466\n",
      "Epoch 126/128\n",
      "\u001B[1m67/67\u001B[0m \u001B[32m━━━━━━━━━━━━━━━━━━━━\u001B[0m\u001B[37m\u001B[0m \u001B[1m24s\u001B[0m 358ms/step - accuracy: 0.8703 - categorical_crossentropy: 0.3661 - loss: 0.3661 - val_accuracy: 0.8260 - val_categorical_crossentropy: 0.5537 - val_loss: 0.5537\n",
      "Epoch 127/128\n",
      "\u001B[1m67/67\u001B[0m \u001B[32m━━━━━━━━━━━━━━━━━━━━\u001B[0m\u001B[37m\u001B[0m \u001B[1m24s\u001B[0m 359ms/step - accuracy: 0.8652 - categorical_crossentropy: 0.3771 - loss: 0.3771 - val_accuracy: 0.8385 - val_categorical_crossentropy: 0.5095 - val_loss: 0.5095\n",
      "Epoch 128/128\n",
      "\u001B[1m67/67\u001B[0m \u001B[32m━━━━━━━━━━━━━━━━━━━━\u001B[0m\u001B[37m\u001B[0m \u001B[1m24s\u001B[0m 358ms/step - accuracy: 0.8636 - categorical_crossentropy: 0.3796 - loss: 0.3796 - val_accuracy: 0.8316 - val_categorical_crossentropy: 0.5355 - val_loss: 0.5355\n"
     ]
    }
   ],
   "execution_count": 21
  },
  {
   "cell_type": "code",
   "source": [
    "%matplotlib inline\n",
    "plt.plot(history.history['loss'])\n",
    "plt.plot(history.history['val_loss'])\n",
    "plt.title(\"Model's MSE\")\n",
    "plt.legend(['Train', 'Val'], loc='upper right')\n",
    "plt.ylabel('MSE')\n",
    "plt.xlabel('Epoch')"
   ],
   "metadata": {
    "collapsed": false,
    "ExecuteTime": {
     "end_time": "2024-05-08T17:11:35.843165Z",
     "start_time": "2024-05-08T17:11:35.541563Z"
    }
   },
   "id": "db97a7f3cc91e456",
   "outputs": [
    {
     "data": {
      "text/plain": [
       "Text(0.5, 0, 'Epoch')"
      ]
     },
     "execution_count": 22,
     "metadata": {},
     "output_type": "execute_result"
    },
    {
     "data": {
      "text/plain": [
       "<Figure size 640x480 with 1 Axes>"
      ],
      "image/png": "[encoded data removed]"
     },
     "metadata": {},
     "output_type": "display_data"
    }
   ],
   "execution_count": 22
  },
  {
   "cell_type": "markdown",
   "source": [
    "# Prediction"
   ],
   "metadata": {
    "collapsed": false
   },
   "id": "4fb3930ce2fec85d"
  },
  {
   "cell_type": "code",
   "source": [
    "prediction_word = \"jeg er en sur mand\"\n",
    "prediction_word = tokenizer.texts_to_sequences([prediction_word])\n",
    "prediction_word = pad_sequences(prediction_word, maxlen=input_dim)\n",
    "prediction = model.predict([prediction_word])\n",
    "output_probabilities = np.array(prediction)\n",
    "\n",
    "result = []\n",
    "class_labels = df.iloc[:, -1].unique()\n",
    "for index, prediction in enumerate(output_probabilities[0]):\n",
    "    result.append(f\"{class_labels[index]} - {round(prediction*100, 1)}%\")\n",
    "\n",
    "for r in result:\n",
    "    print(r)\n"
   ],
   "metadata": {
    "collapsed": false,
    "ExecuteTime": {
     "end_time": "2024-05-08T17:37:45.950920Z",
     "start_time": "2024-05-08T17:37:45.884405Z"
    }
   },
   "id": "2af1ef5d86413ee6",
   "outputs": [
    {
     "name": "stdout",
     "output_type": "stream",
     "text": [
      "\u001B[1m1/1\u001B[0m \u001B[32m━━━━━━━━━━━━━━━━━━━━\u001B[0m\u001B[37m\u001B[0m \u001B[1m0s\u001B[0m 15ms/step\n",
      "Swedish - 13.7%\n",
      "Spanish - 0.0%\n",
      "English - 0.5%\n",
      "Danish - 0.0%\n",
      "French - 85.7%\n",
      "Italian - 0.0%\n",
      "Norwegian - 0.0%\n"
     ]
    }
   ],
   "execution_count": 25
  },
  {
   "cell_type": "code",
   "source": "model.save('./model.keras')",
   "metadata": {
    "collapsed": false,
    "ExecuteTime": {
     "end_time": "2024-05-08T17:44:21.256785Z",
     "start_time": "2024-05-08T17:44:21.229353Z"
    }
   },
   "id": "f103d5e7cc3146d9",
   "outputs": [],
   "execution_count": 29
  }
 ],
 "metadata": {
  "kernelspec": {
   "display_name": "Python 3",
   "language": "python",
   "name": "python3"
  },
  "language_info": {
   "codemirror_mode": {
    "name": "ipython",
    "version": 2
   },
   "file_extension": ".py",
   "mimetype": "text/x-python",
   "name": "python",
   "nbconvert_exporter": "python",
   "pygments_lexer": "ipython2",
   "version": "2.7.6"
  }
 },
 "nbformat": 4,
 "nbformat_minor": 5
}
