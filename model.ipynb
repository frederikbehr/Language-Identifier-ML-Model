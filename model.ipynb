{
 "cells": [
  {
   "cell_type": "code",
   "id": "initial_id",
   "metadata": {
    "collapsed": true,
    "ExecuteTime": {
     "end_time": "2024-05-09T22:44:18.162222Z",
     "start_time": "2024-05-09T22:44:18.154918Z"
    }
   },
   "source": [
    "import numpy as np\n",
    "import pandas as pd\n",
    "import matplotlib.pyplot as plt\n",
    "import seaborn as sns\n",
    "import tensorflow as tf\n",
    "from tensorflow.keras.models import Sequential\n",
    "from tensorflow.keras.layers import Dense, Embedding, Conv1D, GlobalMaxPooling1D, LSTM, Dropout, GlobalAveragePooling1D, BatchNormalization, Flatten, Reshape\n",
    "from tensorflow.keras import optimizers\n",
    "from tensorflow.keras.preprocessing.text import Tokenizer\n",
    "from keras.src.utils import pad_sequences\n",
    "from sklearn.model_selection import train_test_split\n",
    "from custom_preprocessor import preprocess"
   ],
   "outputs": [],
   "execution_count": 303
  },
  {
   "cell_type": "markdown",
   "source": [
    "# Get data\n",
    "Pandas is used to get the data from the project directory.\n",
    "The data is a .csv file, that has been created by book texts and prepared to be listed in the file word-by-word."
   ],
   "metadata": {
    "collapsed": false
   },
   "id": "b20ed3afab281b03"
  },
  {
   "cell_type": "code",
   "source": [
    "df = pd.read_csv('dataset.csv')\n",
    "df = df.sample(frac=1.0, random_state=12)\n",
    "df.head()"
   ],
   "metadata": {
    "collapsed": false,
    "ExecuteTime": {
     "end_time": "2024-05-09T22:36:42.582008Z",
     "start_time": "2024-05-09T22:36:42.519630Z"
    }
   },
   "id": "9934f095638f49f4",
   "outputs": [
    {
     "data": {
      "text/plain": "                        Word  Language\n49479          augustin cria   Romance\n28118      mellontiko barono  Hellenic\n55116  incartade put advenir   Romance\n53284     lampe eclairait la   Romance\n1460           mas dinetai e  Hellenic",
      "text/html": "<div>\n<style scoped>\n    .dataframe tbody tr th:only-of-type {\n        vertical-align: middle;\n    }\n\n    .dataframe tbody tr th {\n        vertical-align: top;\n    }\n\n    .dataframe thead th {\n        text-align: right;\n    }\n</style>\n<table border=\"1\" class=\"dataframe\">\n  <thead>\n    <tr style=\"text-align: right;\">\n      <th></th>\n      <th>Word</th>\n      <th>Language</th>\n    </tr>\n  </thead>\n  <tbody>\n    <tr>\n      <th>49479</th>\n      <td>augustin cria</td>\n      <td>Romance</td>\n    </tr>\n    <tr>\n      <th>28118</th>\n      <td>mellontiko barono</td>\n      <td>Hellenic</td>\n    </tr>\n    <tr>\n      <th>55116</th>\n      <td>incartade put advenir</td>\n      <td>Romance</td>\n    </tr>\n    <tr>\n      <th>53284</th>\n      <td>lampe eclairait la</td>\n      <td>Romance</td>\n    </tr>\n    <tr>\n      <th>1460</th>\n      <td>mas dinetai e</td>\n      <td>Hellenic</td>\n    </tr>\n  </tbody>\n</table>\n</div>"
     },
     "execution_count": 285,
     "metadata": {},
     "output_type": "execute_result"
    }
   ],
   "execution_count": 285
  },
  {
   "cell_type": "markdown",
   "source": [
    "# Prepare data\n",
    "Divide the data into X and y. X is input and y is the desired output.\n",
    "One-Hot Encode it, so the language is categorical. This is done with Pandas."
   ],
   "metadata": {
    "collapsed": false
   },
   "id": "e375f9241e794ae4"
  },
  {
   "cell_type": "code",
   "source": [
    "# Getting X - the input values\n",
    "X = df.iloc[:, :-1]\n",
    "X.loc[:, 'Word'] = X['Word'].astype(str)\n",
    "tokenizer = Tokenizer(char_level=True) # Used for turning the words into numbers\n",
    "tokenizer.fit_on_texts(X['Word'].tolist()) # Giving Tokenizer the data it needs to learn how to encode the words\n",
    "X_sequences = tokenizer.texts_to_sequences(X['Word'].tolist()) # Now the words are encoded into sequences\n",
    "input_dim = max(len(seq) for seq in X_sequences)\n",
    "X = pad_sequences(\n",
    "    X_sequences, \n",
    "    maxlen=input_dim, \n",
    "    padding='post'\n",
    ") # Making all input values be of same length\n",
    "print(f\"Rows: {len(X)}\")\n",
    "\n",
    "# Getting y - the output values\n",
    "y_df = pd.get_dummies(df.iloc[:, -1:])\n",
    "y = y_df.values\n",
    "print(f\"Amount of languages to identify: {len(y[1])}\")\n",
    "\n",
    "X_train, X_val, y_train, y_val = train_test_split(X, y, test_size=0.2, random_state=42)\n",
    "X_train = X_train.reshape(X_train.shape[0], X_train.shape[1], 1)"
   ],
   "metadata": {
    "collapsed": false,
    "ExecuteTime": {
     "end_time": "2024-05-09T22:36:43.946101Z",
     "start_time": "2024-05-09T22:36:42.585816Z"
    }
   },
   "id": "ba4d86402045de27",
   "outputs": [
    {
     "name": "stdout",
     "output_type": "stream",
     "text": [
      "Rows: 128408\n",
      "Amount of languages to identify: 4\n"
     ]
    }
   ],
   "execution_count": 286
  },
  {
   "cell_type": "code",
   "source": [
    "model = Sequential()\n",
    "model.add(Conv1D(input_dim, (input_dim/2).__ceil__(), activation='relu'))  # Convolutional layer\n",
    "tf.keras.layers.SimpleRNN(12, activation='relu')\n",
    "model.add(LSTM(128, return_sequences=True))\n",
    "model.add(Flatten())\n",
    "model.add(Dropout(0.5))\n",
    "model.add(Dense(len(y[1]), activation='softmax'))\n",
    "adam = optimizers.Adam(learning_rate=0.01)\n",
    "model.compile(loss='categorical_crossentropy', optimizer=adam, metrics=['accuracy'])"
   ],
   "metadata": {
    "collapsed": false,
    "ExecuteTime": {
     "end_time": "2024-05-09T22:36:43.956052Z",
     "start_time": "2024-05-09T22:36:43.947648Z"
    }
   },
   "id": "c870f2fa48fe956c",
   "outputs": [],
   "execution_count": 287
  },
  {
   "cell_type": "code",
   "source": [
    "history = model.fit(X_train, y_train, validation_data=(X_val, y_val), epochs=30, batch_size=2048,verbose=1)"
   ],
   "metadata": {
    "collapsed": false,
    "ExecuteTime": {
     "end_time": "2024-05-09T22:40:07.710896Z",
     "start_time": "2024-05-09T22:36:43.957539Z"
    }
   },
   "id": "d9a29cb1ff2dcba7",
   "outputs": [
    {
     "name": "stdout",
     "output_type": "stream",
     "text": [
      "Epoch 1/30\n",
      "\u001B[1m51/51\u001B[0m \u001B[32m━━━━━━━━━━━━━━━━━━━━\u001B[0m\u001B[37m\u001B[0m \u001B[1m8s\u001B[0m 141ms/step - accuracy: 0.2869 - loss: 1.5618 - val_accuracy: 0.3005 - val_loss: 1.3539\n",
      "Epoch 2/30\n",
      "\u001B[1m51/51\u001B[0m \u001B[32m━━━━━━━━━━━━━━━━━━━━\u001B[0m\u001B[37m\u001B[0m \u001B[1m7s\u001B[0m 134ms/step - accuracy: 0.3754 - loss: 1.2949 - val_accuracy: 0.4627 - val_loss: 1.1750\n",
      "Epoch 3/30\n",
      "\u001B[1m51/51\u001B[0m \u001B[32m━━━━━━━━━━━━━━━━━━━━\u001B[0m\u001B[37m\u001B[0m \u001B[1m7s\u001B[0m 134ms/step - accuracy: 0.4797 - loss: 1.1496 - val_accuracy: 0.4949 - val_loss: 1.1227\n",
      "Epoch 4/30\n",
      "\u001B[1m51/51\u001B[0m \u001B[32m━━━━━━━━━━━━━━━━━━━━\u001B[0m\u001B[37m\u001B[0m \u001B[1m7s\u001B[0m 133ms/step - accuracy: 0.5103 - loss: 1.1020 - val_accuracy: 0.5343 - val_loss: 1.0606\n",
      "Epoch 5/30\n",
      "\u001B[1m51/51\u001B[0m \u001B[32m━━━━━━━━━━━━━━━━━━━━\u001B[0m\u001B[37m\u001B[0m \u001B[1m7s\u001B[0m 134ms/step - accuracy: 0.5357 - loss: 1.0599 - val_accuracy: 0.5259 - val_loss: 1.0778\n",
      "Epoch 6/30\n",
      "\u001B[1m51/51\u001B[0m \u001B[32m━━━━━━━━━━━━━━━━━━━━\u001B[0m\u001B[37m\u001B[0m \u001B[1m7s\u001B[0m 133ms/step - accuracy: 0.5413 - loss: 1.0490 - val_accuracy: 0.5762 - val_loss: 0.9880\n",
      "Epoch 7/30\n",
      "\u001B[1m51/51\u001B[0m \u001B[32m━━━━━━━━━━━━━━━━━━━━\u001B[0m\u001B[37m\u001B[0m \u001B[1m6s\u001B[0m 122ms/step - accuracy: 0.5617 - loss: 1.0122 - val_accuracy: 0.5988 - val_loss: 0.9493\n",
      "Epoch 8/30\n",
      "\u001B[1m51/51\u001B[0m \u001B[32m━━━━━━━━━━━━━━━━━━━━\u001B[0m\u001B[37m\u001B[0m \u001B[1m6s\u001B[0m 126ms/step - accuracy: 0.5877 - loss: 0.9675 - val_accuracy: 0.6209 - val_loss: 0.9049\n",
      "Epoch 9/30\n",
      "\u001B[1m51/51\u001B[0m \u001B[32m━━━━━━━━━━━━━━━━━━━━\u001B[0m\u001B[37m\u001B[0m \u001B[1m6s\u001B[0m 125ms/step - accuracy: 0.6091 - loss: 0.9266 - val_accuracy: 0.6358 - val_loss: 0.8752\n",
      "Epoch 10/30\n",
      "\u001B[1m51/51\u001B[0m \u001B[32m━━━━━━━━━━━━━━━━━━━━\u001B[0m\u001B[37m\u001B[0m \u001B[1m7s\u001B[0m 143ms/step - accuracy: 0.6401 - loss: 0.8639 - val_accuracy: 0.6674 - val_loss: 0.8098\n",
      "Epoch 11/30\n",
      "\u001B[1m51/51\u001B[0m \u001B[32m━━━━━━━━━━━━━━━━━━━━\u001B[0m\u001B[37m\u001B[0m \u001B[1m7s\u001B[0m 133ms/step - accuracy: 0.6602 - loss: 0.8254 - val_accuracy: 0.6773 - val_loss: 0.7846\n",
      "Epoch 12/30\n",
      "\u001B[1m51/51\u001B[0m \u001B[32m━━━━━━━━━━━━━━━━━━━━\u001B[0m\u001B[37m\u001B[0m \u001B[1m7s\u001B[0m 133ms/step - accuracy: 0.6882 - loss: 0.7675 - val_accuracy: 0.7015 - val_loss: 0.7422\n",
      "Epoch 13/30\n",
      "\u001B[1m51/51\u001B[0m \u001B[32m━━━━━━━━━━━━━━━━━━━━\u001B[0m\u001B[37m\u001B[0m \u001B[1m8s\u001B[0m 163ms/step - accuracy: 0.7146 - loss: 0.7113 - val_accuracy: 0.7252 - val_loss: 0.6881\n",
      "Epoch 14/30\n",
      "\u001B[1m51/51\u001B[0m \u001B[32m━━━━━━━━━━━━━━━━━━━━\u001B[0m\u001B[37m\u001B[0m \u001B[1m8s\u001B[0m 148ms/step - accuracy: 0.7393 - loss: 0.6580 - val_accuracy: 0.7468 - val_loss: 0.6428\n",
      "Epoch 15/30\n",
      "\u001B[1m51/51\u001B[0m \u001B[32m━━━━━━━━━━━━━━━━━━━━\u001B[0m\u001B[37m\u001B[0m \u001B[1m8s\u001B[0m 152ms/step - accuracy: 0.7582 - loss: 0.6162 - val_accuracy: 0.7662 - val_loss: 0.6025\n",
      "Epoch 16/30\n",
      "\u001B[1m51/51\u001B[0m \u001B[32m━━━━━━━━━━━━━━━━━━━━\u001B[0m\u001B[37m\u001B[0m \u001B[1m7s\u001B[0m 138ms/step - accuracy: 0.7807 - loss: 0.5643 - val_accuracy: 0.7696 - val_loss: 0.6083\n",
      "Epoch 17/30\n",
      "\u001B[1m51/51\u001B[0m \u001B[32m━━━━━━━━━━━━━━━━━━━━\u001B[0m\u001B[37m\u001B[0m \u001B[1m7s\u001B[0m 131ms/step - accuracy: 0.7911 - loss: 0.5423 - val_accuracy: 0.7930 - val_loss: 0.5401\n",
      "Epoch 18/30\n",
      "\u001B[1m51/51\u001B[0m \u001B[32m━━━━━━━━━━━━━━━━━━━━\u001B[0m\u001B[37m\u001B[0m \u001B[1m7s\u001B[0m 128ms/step - accuracy: 0.8118 - loss: 0.4932 - val_accuracy: 0.8000 - val_loss: 0.5246\n",
      "Epoch 19/30\n",
      "\u001B[1m51/51\u001B[0m \u001B[32m━━━━━━━━━━━━━━━━━━━━\u001B[0m\u001B[37m\u001B[0m \u001B[1m7s\u001B[0m 127ms/step - accuracy: 0.8263 - loss: 0.4529 - val_accuracy: 0.7991 - val_loss: 0.5364\n",
      "Epoch 20/30\n",
      "\u001B[1m51/51\u001B[0m \u001B[32m━━━━━━━━━━━━━━━━━━━━\u001B[0m\u001B[37m\u001B[0m \u001B[1m7s\u001B[0m 129ms/step - accuracy: 0.8325 - loss: 0.4429 - val_accuracy: 0.7994 - val_loss: 0.5178\n",
      "Epoch 21/30\n",
      "\u001B[1m51/51\u001B[0m \u001B[32m━━━━━━━━━━━━━━━━━━━━\u001B[0m\u001B[37m\u001B[0m \u001B[1m6s\u001B[0m 126ms/step - accuracy: 0.8419 - loss: 0.4216 - val_accuracy: 0.8143 - val_loss: 0.5108\n",
      "Epoch 22/30\n",
      "\u001B[1m51/51\u001B[0m \u001B[32m━━━━━━━━━━━━━━━━━━━━\u001B[0m\u001B[37m\u001B[0m \u001B[1m7s\u001B[0m 139ms/step - accuracy: 0.8573 - loss: 0.3789 - val_accuracy: 0.8238 - val_loss: 0.4761\n",
      "Epoch 23/30\n",
      "\u001B[1m51/51\u001B[0m \u001B[32m━━━━━━━━━━━━━━━━━━━━\u001B[0m\u001B[37m\u001B[0m \u001B[1m6s\u001B[0m 125ms/step - accuracy: 0.8642 - loss: 0.3652 - val_accuracy: 0.8181 - val_loss: 0.4854\n",
      "Epoch 24/30\n",
      "\u001B[1m51/51\u001B[0m \u001B[32m━━━━━━━━━━━━━━━━━━━━\u001B[0m\u001B[37m\u001B[0m \u001B[1m6s\u001B[0m 125ms/step - accuracy: 0.8623 - loss: 0.3636 - val_accuracy: 0.8235 - val_loss: 0.4848\n",
      "Epoch 25/30\n",
      "\u001B[1m51/51\u001B[0m \u001B[32m━━━━━━━━━━━━━━━━━━━━\u001B[0m\u001B[37m\u001B[0m \u001B[1m6s\u001B[0m 125ms/step - accuracy: 0.8736 - loss: 0.3399 - val_accuracy: 0.8257 - val_loss: 0.4877\n",
      "Epoch 26/30\n",
      "\u001B[1m51/51\u001B[0m \u001B[32m━━━━━━━━━━━━━━━━━━━━\u001B[0m\u001B[37m\u001B[0m \u001B[1m6s\u001B[0m 126ms/step - accuracy: 0.8813 - loss: 0.3168 - val_accuracy: 0.8336 - val_loss: 0.4720\n",
      "Epoch 27/30\n",
      "\u001B[1m51/51\u001B[0m \u001B[32m━━━━━━━━━━━━━━━━━━━━\u001B[0m\u001B[37m\u001B[0m \u001B[1m6s\u001B[0m 126ms/step - accuracy: 0.8890 - loss: 0.2996 - val_accuracy: 0.8288 - val_loss: 0.4929\n",
      "Epoch 28/30\n",
      "\u001B[1m51/51\u001B[0m \u001B[32m━━━━━━━━━━━━━━━━━━━━\u001B[0m\u001B[37m\u001B[0m \u001B[1m6s\u001B[0m 125ms/step - accuracy: 0.8921 - loss: 0.2898 - val_accuracy: 0.8365 - val_loss: 0.4706\n",
      "Epoch 29/30\n",
      "\u001B[1m51/51\u001B[0m \u001B[32m━━━━━━━━━━━━━━━━━━━━\u001B[0m\u001B[37m\u001B[0m \u001B[1m6s\u001B[0m 125ms/step - accuracy: 0.8962 - loss: 0.2766 - val_accuracy: 0.8411 - val_loss: 0.4528\n",
      "Epoch 30/30\n",
      "\u001B[1m51/51\u001B[0m \u001B[32m━━━━━━━━━━━━━━━━━━━━\u001B[0m\u001B[37m\u001B[0m \u001B[1m6s\u001B[0m 125ms/step - accuracy: 0.8997 - loss: 0.2706 - val_accuracy: 0.8341 - val_loss: 0.4834\n"
     ]
    }
   ],
   "execution_count": 288
  },
  {
   "cell_type": "code",
   "source": [
    "%matplotlib inline\n",
    "plt.plot(history.history['loss'])\n",
    "plt.plot(history.history['val_loss'])\n",
    "plt.title(\"Loss\")\n",
    "plt.legend(['Train', 'Val'], loc='upper right')\n",
    "plt.ylabel('Loss')\n",
    "plt.xlabel('Epoch')"
   ],
   "metadata": {
    "collapsed": false,
    "ExecuteTime": {
     "end_time": "2024-05-09T22:40:07.837873Z",
     "start_time": "2024-05-09T22:40:07.725417Z"
    }
   },
   "id": "db97a7f3cc91e456",
   "outputs": [
    {
     "data": {
      "text/plain": "Text(0.5, 0, 'Epoch')"
     },
     "execution_count": 289,
     "metadata": {},
     "output_type": "execute_result"
    },
    {
     "data": {
      "text/plain": "<Figure size 640x480 with 1 Axes>",
      "image/png": "[encoded data removed]"
     },
     "metadata": {},
     "output_type": "display_data"
    }
   ],
   "execution_count": 289
  },
  {
   "cell_type": "markdown",
   "source": [
    "# Prediction"
   ],
   "metadata": {
    "collapsed": false
   },
   "id": "4fb3930ce2fec85d"
  },
  {
   "cell_type": "code",
   "source": [
    "prediction_word = \"\"\n",
    "prediction_word = preprocess(prediction_word)\n",
    "prediction_word = tokenizer.texts_to_sequences([prediction_word])\n",
    "prediction_word = pad_sequences(prediction_word, maxlen=input_dim)\n",
    "prediction = model.predict([prediction_word])\n",
    "output_probabilities = np.array(prediction)\n",
    "result = {}\n",
    "class_labels = np.unique(y_df.columns)\n",
    "for index, prediction in enumerate(output_probabilities[0]):\n",
    "    result.update({class_labels[index]: round(prediction * 100, 1)})\n",
    "\n",
    "# Print keys and values of the result dictionary\n",
    "for key, value in result.items():\n",
    "    print(f\"{key}: {value}\")"
   ],
   "metadata": {
    "collapsed": false,
    "ExecuteTime": {
     "end_time": "2024-05-09T22:45:45.919716Z",
     "start_time": "2024-05-09T22:45:45.884825Z"
    }
   },
   "id": "2af1ef5d86413ee6",
   "outputs": [
    {
     "name": "stdout",
     "output_type": "stream",
     "text": [
      "\u001B[1m1/1\u001B[0m \u001B[32m━━━━━━━━━━━━━━━━━━━━\u001B[0m\u001B[37m\u001B[0m \u001B[1m0s\u001B[0m 12ms/step\n",
      "Language_Germanic: 82.8\n",
      "Language_Hellenic: 0.0\n",
      "Language_Romance: 17.2\n",
      "Language_Slavic: 0.0\n"
     ]
    }
   ],
   "execution_count": 309
  },
  {
   "cell_type": "code",
   "source": "model.save('./model.keras')",
   "metadata": {
    "collapsed": false,
    "ExecuteTime": {
     "end_time": "2024-05-09T22:40:07.960242Z",
     "start_time": "2024-05-09T22:40:07.946460Z"
    }
   },
   "id": "f103d5e7cc3146d9",
   "outputs": [],
   "execution_count": 291
  },
  {
   "cell_type": "code",
   "outputs": [],
   "source": [],
   "metadata": {
    "collapsed": false,
    "ExecuteTime": {
     "end_time": "2024-05-09T22:40:07.963891Z",
     "start_time": "2024-05-09T22:40:07.960829Z"
    }
   },
   "id": "c0bbfbb51379fba0",
   "execution_count": 291
  }
 ],
 "metadata": {
  "kernelspec": {
   "display_name": "Python 3",
   "language": "python",
   "name": "python3"
  },
  "language_info": {
   "codemirror_mode": {
    "name": "ipython",
    "version": 2
   },
   "file_extension": ".py",
   "mimetype": "text/x-python",
   "name": "python",
   "nbconvert_exporter": "python",
   "pygments_lexer": "ipython2",
   "version": "2.7.6"
  }
 },
 "nbformat": 4,
 "nbformat_minor": 5
}
