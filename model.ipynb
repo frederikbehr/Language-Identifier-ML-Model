{
 "cells": [
  {
   "cell_type": "code",
   "id": "initial_id",
   "metadata": {
    "collapsed": true,
    "ExecuteTime": {
     "end_time": "2024-05-09T01:33:11.013888Z",
     "start_time": "2024-05-09T01:33:11.006413Z"
    }
   },
   "source": [
    "import numpy as np\n",
    "import pandas as pd\n",
    "import matplotlib.pyplot as plt\n",
    "import seaborn as sns\n",
    "import tensorflow as tf\n",
    "from tensorflow.keras.models import Sequential\n",
    "from tensorflow.keras.layers import Dense, Embedding, Conv1D, GlobalMaxPooling1D, LSTM, Dropout\n",
    "from tensorflow.keras import optimizers\n",
    "from tensorflow.keras.preprocessing.text import Tokenizer\n",
    "from keras.src.utils import pad_sequences\n",
    "from sklearn.model_selection import train_test_split"
   ],
   "outputs": [],
   "execution_count": 845
  },
  {
   "cell_type": "markdown",
   "source": [
    "# Get data\n",
    "Pandas is used to get the data from the project directory.\n",
    "The data is a .csv file, that has been created by book texts and prepared to be listed in the file word-by-word."
   ],
   "metadata": {
    "collapsed": false
   },
   "id": "b20ed3afab281b03"
  },
  {
   "cell_type": "code",
   "source": [
    "df = pd.read_csv('dataset.csv')\n",
    "df = df.sample(frac=1.0, random_state=42)\n",
    "df.head()"
   ],
   "metadata": {
    "collapsed": false,
    "ExecuteTime": {
     "end_time": "2024-05-09T01:33:11.062489Z",
     "start_time": "2024-05-09T01:33:11.010337Z"
    }
   },
   "id": "9934f095638f49f4",
   "outputs": [
    {
     "data": {
      "text/plain": "                                                Word Language\n24443  doors and were in the car speeding toward the  English\n13609                    questi li ha in custodia un  Italian\n43979        jeg henter mine udtryk fra mine daglige   Danish\n33611                   εσύ θα τα βρεις με την έστερ    Greek\n44954              nå gør han det? sagde ravn gnaven   Danish",
      "text/html": "<div>\n<style scoped>\n    .dataframe tbody tr th:only-of-type {\n        vertical-align: middle;\n    }\n\n    .dataframe tbody tr th {\n        vertical-align: top;\n    }\n\n    .dataframe thead th {\n        text-align: right;\n    }\n</style>\n<table border=\"1\" class=\"dataframe\">\n  <thead>\n    <tr style=\"text-align: right;\">\n      <th></th>\n      <th>Word</th>\n      <th>Language</th>\n    </tr>\n  </thead>\n  <tbody>\n    <tr>\n      <th>24443</th>\n      <td>doors and were in the car speeding toward the</td>\n      <td>English</td>\n    </tr>\n    <tr>\n      <th>13609</th>\n      <td>questi li ha in custodia un</td>\n      <td>Italian</td>\n    </tr>\n    <tr>\n      <th>43979</th>\n      <td>jeg henter mine udtryk fra mine daglige</td>\n      <td>Danish</td>\n    </tr>\n    <tr>\n      <th>33611</th>\n      <td>εσύ θα τα βρεις με την έστερ</td>\n      <td>Greek</td>\n    </tr>\n    <tr>\n      <th>44954</th>\n      <td>nå gør han det? sagde ravn gnaven</td>\n      <td>Danish</td>\n    </tr>\n  </tbody>\n</table>\n</div>"
     },
     "execution_count": 846,
     "metadata": {},
     "output_type": "execute_result"
    }
   ],
   "execution_count": 846
  },
  {
   "cell_type": "markdown",
   "source": [
    "# Prepare data\n",
    "Divide the data into X and y. X is input and y is the desired output.\n",
    "One-Hot Encode it, so the language is categorical. This is done with Pandas."
   ],
   "metadata": {
    "collapsed": false
   },
   "id": "e375f9241e794ae4"
  },
  {
   "cell_type": "code",
   "source": [
    "# Getting X - the input values\n",
    "X = df.iloc[:, :-1]\n",
    "X.loc[:, 'Word'] = X['Word'].astype(str)\n",
    "tokenizer = Tokenizer(char_level=True) # Used for turning the words into numbers\n",
    "tokenizer.fit_on_texts(X['Word'].tolist()) # Giving Tokenizer the data it needs to learn how to encode the words\n",
    "X_sequences = tokenizer.texts_to_sequences(X['Word'].tolist()) # Now the words are encoded into sequences\n",
    "input_dim = max(len(seq) for seq in X_sequences)\n",
    "X = pad_sequences(\n",
    "    X_sequences, \n",
    "    maxlen=input_dim, \n",
    "    padding='post'\n",
    ") # Making all input values be of same length\n",
    "print(f\"Rows: {len(X)}\")\n",
    "\n",
    "# Getting y - the output values\n",
    "y_pre_training = df.iloc[:, -1:]\n",
    "y = pd.get_dummies(y_pre_training).values\n",
    "print(f\"Amount of languages to identify: {len(y[1])}\")\n",
    "\n",
    "X_train, X_val, y_train, y_val = train_test_split(X, y, test_size=0.2, random_state=42)\n",
    "X_train = X_train.reshape(X_train.shape[0], X_train.shape[1], 1)"
   ],
   "metadata": {
    "collapsed": false,
    "ExecuteTime": {
     "end_time": "2024-05-09T01:33:11.673510Z",
     "start_time": "2024-05-09T01:33:11.065738Z"
    }
   },
   "id": "ba4d86402045de27",
   "outputs": [
    {
     "name": "stdout",
     "output_type": "stream",
     "text": [
      "Rows: 60119\n",
      "Amount of languages to identify: 13\n"
     ]
    }
   ],
   "execution_count": 847
  },
  {
   "cell_type": "code",
   "source": [
    "model = Sequential()\n",
    "model.add(Conv1D(input_dim, 13, activation='relu'))  # Convolutional layer\n",
    "tf.keras.layers.SimpleRNN(10, activation='relu'),\n",
    "tf.keras.layers.SimpleRNN(64, activation='relu'),\n",
    "model.add(LSTM(64, return_sequences=True))\n",
    "model.add(GlobalMaxPooling1D())  # Pooling layer\n",
    "model.add(Dense(64, activation='relu'))  # Dense layer\n",
    "model.add(Dense(64, activation='relu'))  # Dense layer\n",
    "model.add(Dense(64, activation='relu'))  # Dense layer\n",
    "model.add(Dropout(0.6))\n",
    "model.add(Dense(len(y[1]), activation='softmax'))\n",
    "adam = optimizers.Adam(learning_rate=0.001)\n",
    "model.compile(loss='categorical_crossentropy', optimizer=adam, metrics=['accuracy', 'categorical_crossentropy'])"
   ],
   "metadata": {
    "collapsed": false,
    "ExecuteTime": {
     "end_time": "2024-05-09T01:33:11.686967Z",
     "start_time": "2024-05-09T01:33:11.676686Z"
    }
   },
   "id": "c870f2fa48fe956c",
   "outputs": [],
   "execution_count": 848
  },
  {
   "cell_type": "code",
   "source": [
    "history = model.fit(X_train, y_train, validation_data=(X_val, y_val), epochs=20, batch_size=512,verbose=1)"
   ],
   "metadata": {
    "collapsed": false,
    "ExecuteTime": {
     "end_time": "2024-05-09T01:36:11.127173Z",
     "start_time": "2024-05-09T01:33:11.688716Z"
    }
   },
   "id": "d9a29cb1ff2dcba7",
   "outputs": [
    {
     "name": "stdout",
     "output_type": "stream",
     "text": [
      "Epoch 1/20\n",
      "\u001B[1m94/94\u001B[0m \u001B[32m━━━━━━━━━━━━━━━━━━━━\u001B[0m\u001B[37m\u001B[0m \u001B[1m10s\u001B[0m 97ms/step - accuracy: 0.2768 - categorical_crossentropy: 2.2918 - loss: 2.2918 - val_accuracy: 0.4592 - val_categorical_crossentropy: 1.7266 - val_loss: 1.7266\n",
      "Epoch 2/20\n",
      "\u001B[1m94/94\u001B[0m \u001B[32m━━━━━━━━━━━━━━━━━━━━\u001B[0m\u001B[37m\u001B[0m \u001B[1m9s\u001B[0m 97ms/step - accuracy: 0.4446 - categorical_crossentropy: 1.7725 - loss: 1.7725 - val_accuracy: 0.4870 - val_categorical_crossentropy: 1.6033 - val_loss: 1.6033\n",
      "Epoch 3/20\n",
      "\u001B[1m94/94\u001B[0m \u001B[32m━━━━━━━━━━━━━━━━━━━━\u001B[0m\u001B[37m\u001B[0m \u001B[1m9s\u001B[0m 95ms/step - accuracy: 0.4698 - categorical_crossentropy: 1.6738 - loss: 1.6738 - val_accuracy: 0.4874 - val_categorical_crossentropy: 1.5687 - val_loss: 1.5687\n",
      "Epoch 4/20\n",
      "\u001B[1m94/94\u001B[0m \u001B[32m━━━━━━━━━━━━━━━━━━━━\u001B[0m\u001B[37m\u001B[0m \u001B[1m9s\u001B[0m 91ms/step - accuracy: 0.4802 - categorical_crossentropy: 1.6108 - loss: 1.6108 - val_accuracy: 0.4938 - val_categorical_crossentropy: 1.5277 - val_loss: 1.5277\n",
      "Epoch 5/20\n",
      "\u001B[1m94/94\u001B[0m \u001B[32m━━━━━━━━━━━━━━━━━━━━\u001B[0m\u001B[37m\u001B[0m \u001B[1m9s\u001B[0m 91ms/step - accuracy: 0.4961 - categorical_crossentropy: 1.5615 - loss: 1.5615 - val_accuracy: 0.5183 - val_categorical_crossentropy: 1.4662 - val_loss: 1.4662\n",
      "Epoch 6/20\n",
      "\u001B[1m94/94\u001B[0m \u001B[32m━━━━━━━━━━━━━━━━━━━━\u001B[0m\u001B[37m\u001B[0m \u001B[1m9s\u001B[0m 91ms/step - accuracy: 0.5052 - categorical_crossentropy: 1.5175 - loss: 1.5175 - val_accuracy: 0.5272 - val_categorical_crossentropy: 1.4480 - val_loss: 1.4480\n",
      "Epoch 7/20\n",
      "\u001B[1m94/94\u001B[0m \u001B[32m━━━━━━━━━━━━━━━━━━━━\u001B[0m\u001B[37m\u001B[0m \u001B[1m9s\u001B[0m 98ms/step - accuracy: 0.5185 - categorical_crossentropy: 1.4888 - loss: 1.4888 - val_accuracy: 0.5444 - val_categorical_crossentropy: 1.3891 - val_loss: 1.3891\n",
      "Epoch 8/20\n",
      "\u001B[1m94/94\u001B[0m \u001B[32m━━━━━━━━━━━━━━━━━━━━\u001B[0m\u001B[37m\u001B[0m \u001B[1m9s\u001B[0m 98ms/step - accuracy: 0.5309 - categorical_crossentropy: 1.4400 - loss: 1.4400 - val_accuracy: 0.5405 - val_categorical_crossentropy: 1.3972 - val_loss: 1.3972\n",
      "Epoch 9/20\n",
      "\u001B[1m94/94\u001B[0m \u001B[32m━━━━━━━━━━━━━━━━━━━━\u001B[0m\u001B[37m\u001B[0m \u001B[1m9s\u001B[0m 96ms/step - accuracy: 0.5389 - categorical_crossentropy: 1.4189 - loss: 1.4189 - val_accuracy: 0.5581 - val_categorical_crossentropy: 1.3439 - val_loss: 1.3439\n",
      "Epoch 10/20\n",
      "\u001B[1m94/94\u001B[0m \u001B[32m━━━━━━━━━━━━━━━━━━━━\u001B[0m\u001B[37m\u001B[0m \u001B[1m9s\u001B[0m 92ms/step - accuracy: 0.5479 - categorical_crossentropy: 1.3826 - loss: 1.3826 - val_accuracy: 0.5680 - val_categorical_crossentropy: 1.3140 - val_loss: 1.3140\n",
      "Epoch 11/20\n",
      "\u001B[1m94/94\u001B[0m \u001B[32m━━━━━━━━━━━━━━━━━━━━\u001B[0m\u001B[37m\u001B[0m \u001B[1m9s\u001B[0m 92ms/step - accuracy: 0.5622 - categorical_crossentropy: 1.3498 - loss: 1.3498 - val_accuracy: 0.5676 - val_categorical_crossentropy: 1.3006 - val_loss: 1.3006\n",
      "Epoch 12/20\n",
      "\u001B[1m94/94\u001B[0m \u001B[32m━━━━━━━━━━━━━━━━━━━━\u001B[0m\u001B[37m\u001B[0m \u001B[1m9s\u001B[0m 93ms/step - accuracy: 0.5688 - categorical_crossentropy: 1.3188 - loss: 1.3188 - val_accuracy: 0.5730 - val_categorical_crossentropy: 1.3257 - val_loss: 1.3257\n",
      "Epoch 13/20\n",
      "\u001B[1m94/94\u001B[0m \u001B[32m━━━━━━━━━━━━━━━━━━━━\u001B[0m\u001B[37m\u001B[0m \u001B[1m9s\u001B[0m 93ms/step - accuracy: 0.5741 - categorical_crossentropy: 1.2955 - loss: 1.2955 - val_accuracy: 0.5937 - val_categorical_crossentropy: 1.2287 - val_loss: 1.2287\n",
      "Epoch 14/20\n",
      "\u001B[1m94/94\u001B[0m \u001B[32m━━━━━━━━━━━━━━━━━━━━\u001B[0m\u001B[37m\u001B[0m \u001B[1m9s\u001B[0m 96ms/step - accuracy: 0.5847 - categorical_crossentropy: 1.2673 - loss: 1.2673 - val_accuracy: 0.6000 - val_categorical_crossentropy: 1.2121 - val_loss: 1.2121\n",
      "Epoch 15/20\n",
      "\u001B[1m94/94\u001B[0m \u001B[32m━━━━━━━━━━━━━━━━━━━━\u001B[0m\u001B[37m\u001B[0m \u001B[1m10s\u001B[0m 103ms/step - accuracy: 0.5934 - categorical_crossentropy: 1.2284 - loss: 1.2284 - val_accuracy: 0.6042 - val_categorical_crossentropy: 1.1981 - val_loss: 1.1981\n",
      "Epoch 16/20\n",
      "\u001B[1m94/94\u001B[0m \u001B[32m━━━━━━━━━━━━━━━━━━━━\u001B[0m\u001B[37m\u001B[0m \u001B[1m9s\u001B[0m 99ms/step - accuracy: 0.5961 - categorical_crossentropy: 1.2228 - loss: 1.2228 - val_accuracy: 0.5962 - val_categorical_crossentropy: 1.2037 - val_loss: 1.2037\n",
      "Epoch 17/20\n",
      "\u001B[1m94/94\u001B[0m \u001B[32m━━━━━━━━━━━━━━━━━━━━\u001B[0m\u001B[37m\u001B[0m \u001B[1m9s\u001B[0m 93ms/step - accuracy: 0.5975 - categorical_crossentropy: 1.2115 - loss: 1.2115 - val_accuracy: 0.6081 - val_categorical_crossentropy: 1.1704 - val_loss: 1.1704\n",
      "Epoch 18/20\n",
      "\u001B[1m94/94\u001B[0m \u001B[32m━━━━━━━━━━━━━━━━━━━━\u001B[0m\u001B[37m\u001B[0m \u001B[1m9s\u001B[0m 93ms/step - accuracy: 0.6075 - categorical_crossentropy: 1.1851 - loss: 1.1851 - val_accuracy: 0.6171 - val_categorical_crossentropy: 1.1453 - val_loss: 1.1453\n",
      "Epoch 19/20\n",
      "\u001B[1m94/94\u001B[0m \u001B[32m━━━━━━━━━━━━━━━━━━━━\u001B[0m\u001B[37m\u001B[0m \u001B[1m9s\u001B[0m 97ms/step - accuracy: 0.6160 - categorical_crossentropy: 1.1576 - loss: 1.1576 - val_accuracy: 0.6188 - val_categorical_crossentropy: 1.1392 - val_loss: 1.1392\n",
      "Epoch 20/20\n",
      "\u001B[1m94/94\u001B[0m \u001B[32m━━━━━━━━━━━━━━━━━━━━\u001B[0m\u001B[37m\u001B[0m \u001B[1m9s\u001B[0m 93ms/step - accuracy: 0.6216 - categorical_crossentropy: 1.1443 - loss: 1.1443 - val_accuracy: 0.6257 - val_categorical_crossentropy: 1.1028 - val_loss: 1.1028\n"
     ]
    }
   ],
   "execution_count": 849
  },
  {
   "cell_type": "code",
   "source": [
    "%matplotlib inline\n",
    "plt.plot(history.history['loss'])\n",
    "plt.plot(history.history['val_loss'])\n",
    "plt.title(\"Model's MSE\")\n",
    "plt.legend(['Train', 'Val'], loc='upper right')\n",
    "plt.ylabel('Loss')\n",
    "plt.xlabel('Epoch')"
   ],
   "metadata": {
    "collapsed": false,
    "ExecuteTime": {
     "end_time": "2024-05-09T01:36:11.285253Z",
     "start_time": "2024-05-09T01:36:11.143797Z"
    }
   },
   "id": "db97a7f3cc91e456",
   "outputs": [
    {
     "data": {
      "text/plain": "Text(0.5, 0, 'Epoch')"
     },
     "execution_count": 850,
     "metadata": {},
     "output_type": "execute_result"
    },
    {
     "data": {
      "text/plain": "<Figure size 640x480 with 1 Axes>",
      "image/png": "[encoded data removed]"
     },
     "metadata": {},
     "output_type": "display_data"
    }
   ],
   "execution_count": 850
  },
  {
   "cell_type": "markdown",
   "source": [
    "# Prediction"
   ],
   "metadata": {
    "collapsed": false
   },
   "id": "4fb3930ce2fec85d"
  },
  {
   "cell_type": "code",
   "source": [
    "prediction_word = \"också en kvinna\"\n",
    "prediction_word = tokenizer.texts_to_sequences([prediction_word])\n",
    "prediction_word = pad_sequences(prediction_word, maxlen=input_dim)\n",
    "prediction = model.predict([prediction_word])\n",
    "output_probabilities = np.array(prediction)\n",
    "\n",
    "result = []\n",
    "class_labels = np.unique(y_pre_training)\n",
    "for index, prediction in enumerate(output_probabilities[0]):\n",
    "    result.append(f\"{class_labels[index]} - {round(prediction*100, 1)}%\")\n",
    "\n",
    "for r in result:\n",
    "    print(r)\n"
   ],
   "metadata": {
    "collapsed": false,
    "ExecuteTime": {
     "end_time": "2024-05-09T01:36:11.452034Z",
     "start_time": "2024-05-09T01:36:11.288297Z"
    }
   },
   "id": "2af1ef5d86413ee6",
   "outputs": [
    {
     "name": "stdout",
     "output_type": "stream",
     "text": [
      "\u001B[1m1/1\u001B[0m \u001B[32m━━━━━━━━━━━━━━━━━━━━\u001B[0m\u001B[37m\u001B[0m \u001B[1m0s\u001B[0m 106ms/step\n",
      "Danish - 39.9%\n",
      "Dutch - 3.4%\n",
      "English - 9.8%\n",
      "French - 0.7%\n",
      "German - 3.7%\n",
      "Greek - 0.0%\n",
      "Italian - 0.6%\n",
      "Norwegian - 27.0%\n",
      "Polish - 1.0%\n",
      "Portuguese - 0.3%\n",
      "Russian - 0.0%\n",
      "Spanish - 2.5%\n",
      "Swedish - 10.9%\n"
     ]
    }
   ],
   "execution_count": 851
  },
  {
   "cell_type": "code",
   "source": "model.save('./model.keras')",
   "metadata": {
    "collapsed": false,
    "ExecuteTime": {
     "end_time": "2024-05-09T01:36:11.465457Z",
     "start_time": "2024-05-09T01:36:11.444871Z"
    }
   },
   "id": "f103d5e7cc3146d9",
   "outputs": [],
   "execution_count": 852
  }
 ],
 "metadata": {
  "kernelspec": {
   "display_name": "Python 3",
   "language": "python",
   "name": "python3"
  },
  "language_info": {
   "codemirror_mode": {
    "name": "ipython",
    "version": 2
   },
   "file_extension": ".py",
   "mimetype": "text/x-python",
   "name": "python",
   "nbconvert_exporter": "python",
   "pygments_lexer": "ipython2",
   "version": "2.7.6"
  }
 },
 "nbformat": 4,
 "nbformat_minor": 5
}
