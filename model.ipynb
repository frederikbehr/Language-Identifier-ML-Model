{
 "cells": [
  {
   "cell_type": "code",
   "id": "initial_id",
   "metadata": {
    "collapsed": true,
    "ExecuteTime": {
     "end_time": "2024-05-09T23:31:34.827745Z",
     "start_time": "2024-05-09T23:31:34.823984Z"
    }
   },
   "source": [
    "import numpy as np\n",
    "import pandas as pd\n",
    "import matplotlib.pyplot as plt\n",
    "import seaborn as sns\n",
    "import tensorflow as tf\n",
    "from tensorflow.keras.models import Sequential\n",
    "from tensorflow.keras.layers import Dense, Embedding, Conv1D, GlobalMaxPooling1D, LSTM, Dropout, GlobalAveragePooling1D, BatchNormalization, Flatten, Reshape\n",
    "from tensorflow.keras import optimizers\n",
    "from tensorflow.keras.preprocessing.text import Tokenizer\n",
    "from keras.src.utils import pad_sequences\n",
    "from sklearn.model_selection import train_test_split\n",
    "from custom_preprocessor import preprocess"
   ],
   "outputs": [],
   "execution_count": 39
  },
  {
   "cell_type": "markdown",
   "source": [
    "# Get data\n",
    "Pandas is used to get the data from the project directory.\n",
    "The data is a .csv file, that has been created by book texts and prepared to be listed in the file word-by-word."
   ],
   "metadata": {
    "collapsed": false
   },
   "id": "b20ed3afab281b03"
  },
  {
   "cell_type": "code",
   "source": [
    "df = pd.read_csv('dataset.csv')\n",
    "df = df.sample(frac=1.0, random_state=12)\n",
    "df.head()"
   ],
   "metadata": {
    "collapsed": false,
    "ExecuteTime": {
     "end_time": "2024-05-09T23:31:34.959332Z",
     "start_time": "2024-05-09T23:31:34.862062Z"
    }
   },
   "id": "9934f095638f49f4",
   "outputs": [
    {
     "data": {
      "text/plain": [
       "                        Word  Language\n",
       "49479          augustin cria   Romance\n",
       "28118      mellontiko barono  Hellenic\n",
       "55116  incartade put advenir   Romance\n",
       "53284     lampe eclairait la   Romance\n",
       "1460           mas dinetai e  Hellenic"
      ],
      "text/html": [
       "<div>\n",
       "<style scoped>\n",
       "    .dataframe tbody tr th:only-of-type {\n",
       "        vertical-align: middle;\n",
       "    }\n",
       "\n",
       "    .dataframe tbody tr th {\n",
       "        vertical-align: top;\n",
       "    }\n",
       "\n",
       "    .dataframe thead th {\n",
       "        text-align: right;\n",
       "    }\n",
       "</style>\n",
       "<table border=\"1\" class=\"dataframe\">\n",
       "  <thead>\n",
       "    <tr style=\"text-align: right;\">\n",
       "      <th></th>\n",
       "      <th>Word</th>\n",
       "      <th>Language</th>\n",
       "    </tr>\n",
       "  </thead>\n",
       "  <tbody>\n",
       "    <tr>\n",
       "      <th>49479</th>\n",
       "      <td>augustin cria</td>\n",
       "      <td>Romance</td>\n",
       "    </tr>\n",
       "    <tr>\n",
       "      <th>28118</th>\n",
       "      <td>mellontiko barono</td>\n",
       "      <td>Hellenic</td>\n",
       "    </tr>\n",
       "    <tr>\n",
       "      <th>55116</th>\n",
       "      <td>incartade put advenir</td>\n",
       "      <td>Romance</td>\n",
       "    </tr>\n",
       "    <tr>\n",
       "      <th>53284</th>\n",
       "      <td>lampe eclairait la</td>\n",
       "      <td>Romance</td>\n",
       "    </tr>\n",
       "    <tr>\n",
       "      <th>1460</th>\n",
       "      <td>mas dinetai e</td>\n",
       "      <td>Hellenic</td>\n",
       "    </tr>\n",
       "  </tbody>\n",
       "</table>\n",
       "</div>"
      ]
     },
     "execution_count": 40,
     "metadata": {},
     "output_type": "execute_result"
    }
   ],
   "execution_count": 40
  },
  {
   "cell_type": "markdown",
   "source": [
    "# Prepare data\n",
    "Divide the data into X and y. X is input and y is the desired output.\n",
    "One-Hot Encode it, so the language is categorical. This is done with Pandas."
   ],
   "metadata": {
    "collapsed": false
   },
   "id": "e375f9241e794ae4"
  },
  {
   "cell_type": "code",
   "source": [
    "# Getting X - the input values\n",
    "X = df.iloc[:, :-1]\n",
    "X.loc[:, 'Word'] = X['Word'].astype(str)\n",
    "tokenizer = Tokenizer(char_level=True) # Used for turning the words into numbers\n",
    "tokenizer.fit_on_texts(X['Word'].tolist()) # Giving Tokenizer the data it needs to learn how to encode the words\n",
    "X_sequences = tokenizer.texts_to_sequences(X['Word'].tolist()) # Now the words are encoded into sequences\n",
    "input_dim = max(len(seq) for seq in X_sequences)\n",
    "X = pad_sequences(\n",
    "    X_sequences, \n",
    "    maxlen=input_dim, \n",
    "    padding='post'\n",
    ") # Making all input values be of same length\n",
    "print(f\"Rows: {len(X)}\")\n",
    "\n",
    "# Getting y - the output values\n",
    "y_df = pd.get_dummies(df.iloc[:, -1:])\n",
    "y = y_df.values\n",
    "print(f\"Amount of languages to identify: {len(y[1])}\")\n",
    "\n",
    "X_train, X_val, y_train, y_val = train_test_split(X, y, test_size=0.2, random_state=42)\n",
    "X_train = X_train.reshape(X_train.shape[0], X_train.shape[1], 1)"
   ],
   "metadata": {
    "collapsed": false,
    "ExecuteTime": {
     "end_time": "2024-05-09T23:31:36.338032Z",
     "start_time": "2024-05-09T23:31:34.960331Z"
    }
   },
   "id": "ba4d86402045de27",
   "outputs": [
    {
     "name": "stdout",
     "output_type": "stream",
     "text": [
      "Rows: 128408\n",
      "Amount of languages to identify: 4\n"
     ]
    }
   ],
   "execution_count": 41
  },
  {
   "cell_type": "code",
   "source": [
    "model = Sequential()\n",
    "model.add(Conv1D(input_dim, 2, activation='relu'))  # Convolutional layer\n",
    "tf.keras.layers.SimpleRNN(12, activation='relu')\n",
    "model.add(LSTM(256, return_sequences=True))\n",
    "model.add(Flatten())\n",
    "model.add(Dropout(0.5))\n",
    "model.add(Dense(len(y[1]), activation='softmax'))\n",
    "adam = optimizers.Adam(learning_rate=0.01)\n",
    "model.compile(loss='categorical_crossentropy', optimizer=adam, metrics=['accuracy'])"
   ],
   "metadata": {
    "collapsed": false,
    "ExecuteTime": {
     "end_time": "2024-05-09T23:32:21.813993Z",
     "start_time": "2024-05-09T23:32:21.793501Z"
    }
   },
   "id": "c870f2fa48fe956c",
   "outputs": [],
   "execution_count": 44
  },
  {
   "cell_type": "code",
   "source": "history = model.fit(X_train, y_train, validation_data=(X_val, y_val), epochs=100, batch_size=2048,verbose=1)",
   "metadata": {
    "collapsed": false,
    "ExecuteTime": {
     "end_time": "2024-05-10T00:37:47.913922Z",
     "start_time": "2024-05-09T23:32:22.122776Z"
    }
   },
   "id": "d9a29cb1ff2dcba7",
   "outputs": [
    {
     "name": "stdout",
     "output_type": "stream",
     "text": [
      "Epoch 1/100\n",
      "\u001B[1m51/51\u001B[0m \u001B[32m━━━━━━━━━━━━━━━━━━━━\u001B[0m\u001B[37m\u001B[0m \u001B[1m41s\u001B[0m 767ms/step - accuracy: 0.3197 - loss: 2.3433 - val_accuracy: 0.4707 - val_loss: 1.1577\n",
      "Epoch 2/100\n",
      "\u001B[1m51/51\u001B[0m \u001B[32m━━━━━━━━━━━━━━━━━━━━\u001B[0m\u001B[37m\u001B[0m \u001B[1m39s\u001B[0m 760ms/step - accuracy: 0.4878 - loss: 1.1304 - val_accuracy: 0.4655 - val_loss: 1.1506\n",
      "Epoch 3/100\n",
      "\u001B[1m51/51\u001B[0m \u001B[32m━━━━━━━━━━━━━━━━━━━━\u001B[0m\u001B[37m\u001B[0m \u001B[1m39s\u001B[0m 758ms/step - accuracy: 0.4973 - loss: 1.1135 - val_accuracy: 0.5302 - val_loss: 1.0585\n",
      "Epoch 4/100\n",
      "\u001B[1m51/51\u001B[0m \u001B[32m━━━━━━━━━━━━━━━━━━━━\u001B[0m\u001B[37m\u001B[0m \u001B[1m39s\u001B[0m 759ms/step - accuracy: 0.5330 - loss: 1.0559 - val_accuracy: 0.5591 - val_loss: 1.0112\n",
      "Epoch 5/100\n",
      "\u001B[1m51/51\u001B[0m \u001B[32m━━━━━━━━━━━━━━━━━━━━\u001B[0m\u001B[37m\u001B[0m \u001B[1m39s\u001B[0m 760ms/step - accuracy: 0.5493 - loss: 1.0316 - val_accuracy: 0.5215 - val_loss: 1.0722\n",
      "Epoch 6/100\n",
      "\u001B[1m51/51\u001B[0m \u001B[32m━━━━━━━━━━━━━━━━━━━━\u001B[0m\u001B[37m\u001B[0m \u001B[1m39s\u001B[0m 760ms/step - accuracy: 0.5639 - loss: 1.0066 - val_accuracy: 0.4238 - val_loss: 1.2677\n",
      "Epoch 7/100\n",
      "\u001B[1m51/51\u001B[0m \u001B[32m━━━━━━━━━━━━━━━━━━━━\u001B[0m\u001B[37m\u001B[0m \u001B[1m39s\u001B[0m 763ms/step - accuracy: 0.5076 - loss: 1.0995 - val_accuracy: 0.5920 - val_loss: 0.9512\n",
      "Epoch 8/100\n",
      "\u001B[1m51/51\u001B[0m \u001B[32m━━━━━━━━━━━━━━━━━━━━\u001B[0m\u001B[37m\u001B[0m \u001B[1m39s\u001B[0m 762ms/step - accuracy: 0.5948 - loss: 0.9454 - val_accuracy: 0.6306 - val_loss: 0.8710\n",
      "Epoch 9/100\n",
      "\u001B[1m51/51\u001B[0m \u001B[32m━━━━━━━━━━━━━━━━━━━━\u001B[0m\u001B[37m\u001B[0m \u001B[1m39s\u001B[0m 766ms/step - accuracy: 0.6196 - loss: 0.9031 - val_accuracy: 0.6547 - val_loss: 0.8251\n",
      "Epoch 10/100\n",
      "\u001B[1m51/51\u001B[0m \u001B[32m━━━━━━━━━━━━━━━━━━━━\u001B[0m\u001B[37m\u001B[0m \u001B[1m39s\u001B[0m 764ms/step - accuracy: 0.6615 - loss: 0.8113 - val_accuracy: 0.6711 - val_loss: 0.7946\n",
      "Epoch 11/100\n",
      "\u001B[1m51/51\u001B[0m \u001B[32m━━━━━━━━━━━━━━━━━━━━\u001B[0m\u001B[37m\u001B[0m \u001B[1m39s\u001B[0m 765ms/step - accuracy: 0.6894 - loss: 0.7616 - val_accuracy: 0.7144 - val_loss: 0.6998\n",
      "Epoch 12/100\n",
      "\u001B[1m51/51\u001B[0m \u001B[32m━━━━━━━━━━━━━━━━━━━━\u001B[0m\u001B[37m\u001B[0m \u001B[1m39s\u001B[0m 767ms/step - accuracy: 0.7193 - loss: 0.6944 - val_accuracy: 0.7342 - val_loss: 0.6623\n",
      "Epoch 13/100\n",
      "\u001B[1m51/51\u001B[0m \u001B[32m━━━━━━━━━━━━━━━━━━━━\u001B[0m\u001B[37m\u001B[0m \u001B[1m39s\u001B[0m 768ms/step - accuracy: 0.7412 - loss: 0.6439 - val_accuracy: 0.7524 - val_loss: 0.6204\n",
      "Epoch 14/100\n",
      "\u001B[1m51/51\u001B[0m \u001B[32m━━━━━━━━━━━━━━━━━━━━\u001B[0m\u001B[37m\u001B[0m \u001B[1m39s\u001B[0m 771ms/step - accuracy: 0.7695 - loss: 0.5864 - val_accuracy: 0.7873 - val_loss: 0.5460\n",
      "Epoch 15/100\n",
      "\u001B[1m51/51\u001B[0m \u001B[32m━━━━━━━━━━━━━━━━━━━━\u001B[0m\u001B[37m\u001B[0m \u001B[1m39s\u001B[0m 770ms/step - accuracy: 0.7854 - loss: 0.5466 - val_accuracy: 0.7858 - val_loss: 0.5518\n",
      "Epoch 16/100\n",
      "\u001B[1m51/51\u001B[0m \u001B[32m━━━━━━━━━━━━━━━━━━━━\u001B[0m\u001B[37m\u001B[0m \u001B[1m39s\u001B[0m 766ms/step - accuracy: 0.8126 - loss: 0.4859 - val_accuracy: 0.8225 - val_loss: 0.4636\n",
      "Epoch 17/100\n",
      "\u001B[1m51/51\u001B[0m \u001B[32m━━━━━━━━━━━━━━━━━━━━\u001B[0m\u001B[37m\u001B[0m \u001B[1m39s\u001B[0m 769ms/step - accuracy: 0.8360 - loss: 0.4298 - val_accuracy: 0.8403 - val_loss: 0.4193\n",
      "Epoch 18/100\n",
      "\u001B[1m51/51\u001B[0m \u001B[32m━━━━━━━━━━━━━━━━━━━━\u001B[0m\u001B[37m\u001B[0m \u001B[1m39s\u001B[0m 765ms/step - accuracy: 0.8499 - loss: 0.3975 - val_accuracy: 0.8476 - val_loss: 0.4081\n",
      "Epoch 19/100\n",
      "\u001B[1m51/51\u001B[0m \u001B[32m━━━━━━━━━━━━━━━━━━━━\u001B[0m\u001B[37m\u001B[0m \u001B[1m39s\u001B[0m 769ms/step - accuracy: 0.8624 - loss: 0.3665 - val_accuracy: 0.8415 - val_loss: 0.4279\n",
      "Epoch 20/100\n",
      "\u001B[1m51/51\u001B[0m \u001B[32m━━━━━━━━━━━━━━━━━━━━\u001B[0m\u001B[37m\u001B[0m \u001B[1m39s\u001B[0m 771ms/step - accuracy: 0.8719 - loss: 0.3396 - val_accuracy: 0.8648 - val_loss: 0.3676\n",
      "Epoch 21/100\n",
      "\u001B[1m51/51\u001B[0m \u001B[32m━━━━━━━━━━━━━━━━━━━━\u001B[0m\u001B[37m\u001B[0m \u001B[1m39s\u001B[0m 767ms/step - accuracy: 0.8897 - loss: 0.2964 - val_accuracy: 0.8750 - val_loss: 0.3440\n",
      "Epoch 22/100\n",
      "\u001B[1m51/51\u001B[0m \u001B[32m━━━━━━━━━━━━━━━━━━━━\u001B[0m\u001B[37m\u001B[0m \u001B[1m39s\u001B[0m 769ms/step - accuracy: 0.8976 - loss: 0.2795 - val_accuracy: 0.8764 - val_loss: 0.3307\n",
      "Epoch 23/100\n",
      "\u001B[1m51/51\u001B[0m \u001B[32m━━━━━━━━━━━━━━━━━━━━\u001B[0m\u001B[37m\u001B[0m \u001B[1m39s\u001B[0m 767ms/step - accuracy: 0.9041 - loss: 0.2606 - val_accuracy: 0.8849 - val_loss: 0.3134\n",
      "Epoch 24/100\n",
      "\u001B[1m51/51\u001B[0m \u001B[32m━━━━━━━━━━━━━━━━━━━━\u001B[0m\u001B[37m\u001B[0m \u001B[1m39s\u001B[0m 768ms/step - accuracy: 0.9139 - loss: 0.2320 - val_accuracy: 0.8640 - val_loss: 0.4027\n",
      "Epoch 25/100\n",
      "\u001B[1m51/51\u001B[0m \u001B[32m━━━━━━━━━━━━━━━━━━━━\u001B[0m\u001B[37m\u001B[0m \u001B[1m39s\u001B[0m 773ms/step - accuracy: 0.9188 - loss: 0.2232 - val_accuracy: 0.8843 - val_loss: 0.3358\n",
      "Epoch 26/100\n",
      "\u001B[1m51/51\u001B[0m \u001B[32m━━━━━━━━━━━━━━━━━━━━\u001B[0m\u001B[37m\u001B[0m \u001B[1m39s\u001B[0m 770ms/step - accuracy: 0.9221 - loss: 0.2154 - val_accuracy: 0.8969 - val_loss: 0.3045\n",
      "Epoch 27/100\n",
      "\u001B[1m51/51\u001B[0m \u001B[32m━━━━━━━━━━━━━━━━━━━━\u001B[0m\u001B[37m\u001B[0m \u001B[1m39s\u001B[0m 767ms/step - accuracy: 0.9338 - loss: 0.1788 - val_accuracy: 0.8936 - val_loss: 0.3197\n",
      "Epoch 28/100\n",
      "\u001B[1m51/51\u001B[0m \u001B[32m━━━━━━━━━━━━━━━━━━━━\u001B[0m\u001B[37m\u001B[0m \u001B[1m39s\u001B[0m 768ms/step - accuracy: 0.9386 - loss: 0.1704 - val_accuracy: 0.8894 - val_loss: 0.3441\n",
      "Epoch 29/100\n",
      "\u001B[1m51/51\u001B[0m \u001B[32m━━━━━━━━━━━━━━━━━━━━\u001B[0m\u001B[37m\u001B[0m \u001B[1m40s\u001B[0m 781ms/step - accuracy: 0.9450 - loss: 0.1530 - val_accuracy: 0.8948 - val_loss: 0.3194\n",
      "Epoch 30/100\n",
      "\u001B[1m51/51\u001B[0m \u001B[32m━━━━━━━━━━━━━━━━━━━━\u001B[0m\u001B[37m\u001B[0m \u001B[1m39s\u001B[0m 774ms/step - accuracy: 0.9431 - loss: 0.1567 - val_accuracy: 0.8968 - val_loss: 0.3149\n",
      "Epoch 31/100\n",
      "\u001B[1m51/51\u001B[0m \u001B[32m━━━━━━━━━━━━━━━━━━━━\u001B[0m\u001B[37m\u001B[0m \u001B[1m39s\u001B[0m 773ms/step - accuracy: 0.9492 - loss: 0.1405 - val_accuracy: 0.9011 - val_loss: 0.3251\n",
      "Epoch 32/100\n",
      "\u001B[1m51/51\u001B[0m \u001B[32m━━━━━━━━━━━━━━━━━━━━\u001B[0m\u001B[37m\u001B[0m \u001B[1m39s\u001B[0m 773ms/step - accuracy: 0.9534 - loss: 0.1300 - val_accuracy: 0.8867 - val_loss: 0.3934\n",
      "Epoch 33/100\n",
      "\u001B[1m51/51\u001B[0m \u001B[32m━━━━━━━━━━━━━━━━━━━━\u001B[0m\u001B[37m\u001B[0m \u001B[1m39s\u001B[0m 774ms/step - accuracy: 0.9509 - loss: 0.1363 - val_accuracy: 0.9000 - val_loss: 0.3238\n",
      "Epoch 34/100\n",
      "\u001B[1m51/51\u001B[0m \u001B[32m━━━━━━━━━━━━━━━━━━━━\u001B[0m\u001B[37m\u001B[0m \u001B[1m39s\u001B[0m 770ms/step - accuracy: 0.9531 - loss: 0.1283 - val_accuracy: 0.9026 - val_loss: 0.3347\n",
      "Epoch 35/100\n",
      "\u001B[1m51/51\u001B[0m \u001B[32m━━━━━━━━━━━━━━━━━━━━\u001B[0m\u001B[37m\u001B[0m \u001B[1m39s\u001B[0m 773ms/step - accuracy: 0.9613 - loss: 0.1065 - val_accuracy: 0.9059 - val_loss: 0.3077\n",
      "Epoch 36/100\n",
      "\u001B[1m51/51\u001B[0m \u001B[32m━━━━━━━━━━━━━━━━━━━━\u001B[0m\u001B[37m\u001B[0m \u001B[1m39s\u001B[0m 769ms/step - accuracy: 0.9639 - loss: 0.1010 - val_accuracy: 0.9136 - val_loss: 0.2994\n",
      "Epoch 37/100\n",
      "\u001B[1m51/51\u001B[0m \u001B[32m━━━━━━━━━━━━━━━━━━━━\u001B[0m\u001B[37m\u001B[0m \u001B[1m39s\u001B[0m 768ms/step - accuracy: 0.9680 - loss: 0.0890 - val_accuracy: 0.9069 - val_loss: 0.3448\n",
      "Epoch 38/100\n",
      "\u001B[1m51/51\u001B[0m \u001B[32m━━━━━━━━━━━━━━━━━━━━\u001B[0m\u001B[37m\u001B[0m \u001B[1m39s\u001B[0m 769ms/step - accuracy: 0.9679 - loss: 0.0908 - val_accuracy: 0.9031 - val_loss: 0.3612\n",
      "Epoch 39/100\n",
      "\u001B[1m51/51\u001B[0m \u001B[32m━━━━━━━━━━━━━━━━━━━━\u001B[0m\u001B[37m\u001B[0m \u001B[1m40s\u001B[0m 776ms/step - accuracy: 0.9692 - loss: 0.0855 - val_accuracy: 0.9026 - val_loss: 0.3774\n",
      "Epoch 40/100\n",
      "\u001B[1m51/51\u001B[0m \u001B[32m━━━━━━━━━━━━━━━━━━━━\u001B[0m\u001B[37m\u001B[0m \u001B[1m40s\u001B[0m 777ms/step - accuracy: 0.9725 - loss: 0.0771 - val_accuracy: 0.9125 - val_loss: 0.3317\n",
      "Epoch 41/100\n",
      "\u001B[1m51/51\u001B[0m \u001B[32m━━━━━━━━━━━━━━━━━━━━\u001B[0m\u001B[37m\u001B[0m \u001B[1m39s\u001B[0m 772ms/step - accuracy: 0.9743 - loss: 0.0736 - val_accuracy: 0.9074 - val_loss: 0.3836\n",
      "Epoch 42/100\n",
      "\u001B[1m51/51\u001B[0m \u001B[32m━━━━━━━━━━━━━━━━━━━━\u001B[0m\u001B[37m\u001B[0m \u001B[1m39s\u001B[0m 769ms/step - accuracy: 0.9754 - loss: 0.0698 - val_accuracy: 0.9124 - val_loss: 0.3281\n",
      "Epoch 43/100\n",
      "\u001B[1m51/51\u001B[0m \u001B[32m━━━━━━━━━━━━━━━━━━━━\u001B[0m\u001B[37m\u001B[0m \u001B[1m39s\u001B[0m 769ms/step - accuracy: 0.9756 - loss: 0.0704 - val_accuracy: 0.9029 - val_loss: 0.4070\n",
      "Epoch 44/100\n",
      "\u001B[1m51/51\u001B[0m \u001B[32m━━━━━━━━━━━━━━━━━━━━\u001B[0m\u001B[37m\u001B[0m \u001B[1m39s\u001B[0m 768ms/step - accuracy: 0.9729 - loss: 0.0775 - val_accuracy: 0.9064 - val_loss: 0.3900\n",
      "Epoch 45/100\n",
      "\u001B[1m51/51\u001B[0m \u001B[32m━━━━━━━━━━━━━━━━━━━━\u001B[0m\u001B[37m\u001B[0m \u001B[1m40s\u001B[0m 778ms/step - accuracy: 0.9757 - loss: 0.0670 - val_accuracy: 0.9106 - val_loss: 0.3617\n",
      "Epoch 46/100\n",
      "\u001B[1m51/51\u001B[0m \u001B[32m━━━━━━━━━━━━━━━━━━━━\u001B[0m\u001B[37m\u001B[0m \u001B[1m39s\u001B[0m 770ms/step - accuracy: 0.9778 - loss: 0.0610 - val_accuracy: 0.9097 - val_loss: 0.3748\n",
      "Epoch 47/100\n",
      "\u001B[1m51/51\u001B[0m \u001B[32m━━━━━━━━━━━━━━━━━━━━\u001B[0m\u001B[37m\u001B[0m \u001B[1m39s\u001B[0m 770ms/step - accuracy: 0.9595 - loss: 0.1147 - val_accuracy: 0.9145 - val_loss: 0.3644\n",
      "Epoch 48/100\n",
      "\u001B[1m51/51\u001B[0m \u001B[32m━━━━━━━━━━━━━━━━━━━━\u001B[0m\u001B[37m\u001B[0m \u001B[1m39s\u001B[0m 769ms/step - accuracy: 0.9804 - loss: 0.0550 - val_accuracy: 0.9095 - val_loss: 0.3704\n",
      "Epoch 49/100\n",
      "\u001B[1m51/51\u001B[0m \u001B[32m━━━━━━━━━━━━━━━━━━━━\u001B[0m\u001B[37m\u001B[0m \u001B[1m40s\u001B[0m 775ms/step - accuracy: 0.9810 - loss: 0.0560 - val_accuracy: 0.9006 - val_loss: 0.4426\n",
      "Epoch 50/100\n",
      "\u001B[1m51/51\u001B[0m \u001B[32m━━━━━━━━━━━━━━━━━━━━\u001B[0m\u001B[37m\u001B[0m \u001B[1m39s\u001B[0m 772ms/step - accuracy: 0.9810 - loss: 0.0576 - val_accuracy: 0.9136 - val_loss: 0.3870\n",
      "Epoch 51/100\n",
      "\u001B[1m51/51\u001B[0m \u001B[32m━━━━━━━━━━━━━━━━━━━━\u001B[0m\u001B[37m\u001B[0m \u001B[1m39s\u001B[0m 770ms/step - accuracy: 0.9808 - loss: 0.0544 - val_accuracy: 0.9174 - val_loss: 0.3789\n",
      "Epoch 52/100\n",
      "\u001B[1m51/51\u001B[0m \u001B[32m━━━━━━━━━━━━━━━━━━━━\u001B[0m\u001B[37m\u001B[0m \u001B[1m39s\u001B[0m 771ms/step - accuracy: 0.9850 - loss: 0.0433 - val_accuracy: 0.9141 - val_loss: 0.3876\n",
      "Epoch 53/100\n",
      "\u001B[1m51/51\u001B[0m \u001B[32m━━━━━━━━━━━━━━━━━━━━\u001B[0m\u001B[37m\u001B[0m \u001B[1m39s\u001B[0m 769ms/step - accuracy: 0.9852 - loss: 0.0429 - val_accuracy: 0.9135 - val_loss: 0.3833\n",
      "Epoch 54/100\n",
      "\u001B[1m51/51\u001B[0m \u001B[32m━━━━━━━━━━━━━━━━━━━━\u001B[0m\u001B[37m\u001B[0m \u001B[1m39s\u001B[0m 772ms/step - accuracy: 0.9813 - loss: 0.0551 - val_accuracy: 0.9098 - val_loss: 0.3779\n",
      "Epoch 55/100\n",
      "\u001B[1m51/51\u001B[0m \u001B[32m━━━━━━━━━━━━━━━━━━━━\u001B[0m\u001B[37m\u001B[0m \u001B[1m39s\u001B[0m 769ms/step - accuracy: 0.9837 - loss: 0.0475 - val_accuracy: 0.9174 - val_loss: 0.3666\n",
      "Epoch 56/100\n",
      "\u001B[1m51/51\u001B[0m \u001B[32m━━━━━━━━━━━━━━━━━━━━\u001B[0m\u001B[37m\u001B[0m \u001B[1m39s\u001B[0m 769ms/step - accuracy: 0.9845 - loss: 0.0431 - val_accuracy: 0.9167 - val_loss: 0.4043\n",
      "Epoch 57/100\n",
      "\u001B[1m51/51\u001B[0m \u001B[32m━━━━━━━━━━━━━━━━━━━━\u001B[0m\u001B[37m\u001B[0m \u001B[1m39s\u001B[0m 769ms/step - accuracy: 0.9845 - loss: 0.0427 - val_accuracy: 0.9181 - val_loss: 0.4158\n",
      "Epoch 58/100\n",
      "\u001B[1m51/51\u001B[0m \u001B[32m━━━━━━━━━━━━━━━━━━━━\u001B[0m\u001B[37m\u001B[0m \u001B[1m39s\u001B[0m 771ms/step - accuracy: 0.9850 - loss: 0.0430 - val_accuracy: 0.9177 - val_loss: 0.3709\n",
      "Epoch 59/100\n",
      "\u001B[1m51/51\u001B[0m \u001B[32m━━━━━━━━━━━━━━━━━━━━\u001B[0m\u001B[37m\u001B[0m \u001B[1m39s\u001B[0m 767ms/step - accuracy: 0.9852 - loss: 0.0424 - val_accuracy: 0.9136 - val_loss: 0.4024\n",
      "Epoch 60/100\n",
      "\u001B[1m51/51\u001B[0m \u001B[32m━━━━━━━━━━━━━━━━━━━━\u001B[0m\u001B[37m\u001B[0m \u001B[1m39s\u001B[0m 768ms/step - accuracy: 0.9800 - loss: 0.0567 - val_accuracy: 0.9190 - val_loss: 0.3912\n",
      "Epoch 61/100\n",
      "\u001B[1m51/51\u001B[0m \u001B[32m━━━━━━━━━━━━━━━━━━━━\u001B[0m\u001B[37m\u001B[0m \u001B[1m39s\u001B[0m 768ms/step - accuracy: 0.9826 - loss: 0.0515 - val_accuracy: 0.9172 - val_loss: 0.3914\n",
      "Epoch 62/100\n",
      "\u001B[1m51/51\u001B[0m \u001B[32m━━━━━━━━━━━━━━━━━━━━\u001B[0m\u001B[37m\u001B[0m \u001B[1m39s\u001B[0m 772ms/step - accuracy: 0.9857 - loss: 0.0415 - val_accuracy: 0.9134 - val_loss: 0.4013\n",
      "Epoch 63/100\n",
      "\u001B[1m51/51\u001B[0m \u001B[32m━━━━━━━━━━━━━━━━━━━━\u001B[0m\u001B[37m\u001B[0m \u001B[1m39s\u001B[0m 769ms/step - accuracy: 0.9852 - loss: 0.0424 - val_accuracy: 0.9183 - val_loss: 0.4171\n",
      "Epoch 64/100\n",
      "\u001B[1m51/51\u001B[0m \u001B[32m━━━━━━━━━━━━━━━━━━━━\u001B[0m\u001B[37m\u001B[0m \u001B[1m39s\u001B[0m 767ms/step - accuracy: 0.9853 - loss: 0.0426 - val_accuracy: 0.9113 - val_loss: 0.4351\n",
      "Epoch 65/100\n",
      "\u001B[1m51/51\u001B[0m \u001B[32m━━━━━━━━━━━━━━━━━━━━\u001B[0m\u001B[37m\u001B[0m \u001B[1m39s\u001B[0m 769ms/step - accuracy: 0.9847 - loss: 0.0455 - val_accuracy: 0.9182 - val_loss: 0.3800\n",
      "Epoch 66/100\n",
      "\u001B[1m51/51\u001B[0m \u001B[32m━━━━━━━━━━━━━━━━━━━━\u001B[0m\u001B[37m\u001B[0m \u001B[1m40s\u001B[0m 776ms/step - accuracy: 0.9862 - loss: 0.0383 - val_accuracy: 0.9133 - val_loss: 0.4630\n",
      "Epoch 67/100\n",
      "\u001B[1m51/51\u001B[0m \u001B[32m━━━━━━━━━━━━━━━━━━━━\u001B[0m\u001B[37m\u001B[0m \u001B[1m39s\u001B[0m 769ms/step - accuracy: 0.9852 - loss: 0.0439 - val_accuracy: 0.9190 - val_loss: 0.3797\n",
      "Epoch 68/100\n",
      "\u001B[1m51/51\u001B[0m \u001B[32m━━━━━━━━━━━━━━━━━━━━\u001B[0m\u001B[37m\u001B[0m \u001B[1m40s\u001B[0m 776ms/step - accuracy: 0.9886 - loss: 0.0330 - val_accuracy: 0.9182 - val_loss: 0.3872\n",
      "Epoch 69/100\n",
      "\u001B[1m51/51\u001B[0m \u001B[32m━━━━━━━━━━━━━━━━━━━━\u001B[0m\u001B[37m\u001B[0m \u001B[1m39s\u001B[0m 768ms/step - accuracy: 0.9892 - loss: 0.0307 - val_accuracy: 0.9143 - val_loss: 0.4300\n",
      "Epoch 70/100\n",
      "\u001B[1m51/51\u001B[0m \u001B[32m━━━━━━━━━━━━━━━━━━━━\u001B[0m\u001B[37m\u001B[0m \u001B[1m39s\u001B[0m 773ms/step - accuracy: 0.9857 - loss: 0.0420 - val_accuracy: 0.9190 - val_loss: 0.3947\n",
      "Epoch 71/100\n",
      "\u001B[1m51/51\u001B[0m \u001B[32m━━━━━━━━━━━━━━━━━━━━\u001B[0m\u001B[37m\u001B[0m \u001B[1m39s\u001B[0m 769ms/step - accuracy: 0.9893 - loss: 0.0321 - val_accuracy: 0.9182 - val_loss: 0.4182\n",
      "Epoch 72/100\n",
      "\u001B[1m51/51\u001B[0m \u001B[32m━━━━━━━━━━━━━━━━━━━━\u001B[0m\u001B[37m\u001B[0m \u001B[1m39s\u001B[0m 769ms/step - accuracy: 0.9871 - loss: 0.0371 - val_accuracy: 0.9104 - val_loss: 0.4526\n",
      "Epoch 73/100\n",
      "\u001B[1m51/51\u001B[0m \u001B[32m━━━━━━━━━━━━━━━━━━━━\u001B[0m\u001B[37m\u001B[0m \u001B[1m39s\u001B[0m 771ms/step - accuracy: 0.9847 - loss: 0.0449 - val_accuracy: 0.9130 - val_loss: 0.4083\n",
      "Epoch 74/100\n",
      "\u001B[1m51/51\u001B[0m \u001B[32m━━━━━━━━━━━━━━━━━━━━\u001B[0m\u001B[37m\u001B[0m \u001B[1m40s\u001B[0m 776ms/step - accuracy: 0.9880 - loss: 0.0361 - val_accuracy: 0.9168 - val_loss: 0.4113\n",
      "Epoch 75/100\n",
      "\u001B[1m51/51\u001B[0m \u001B[32m━━━━━━━━━━━━━━━━━━━━\u001B[0m\u001B[37m\u001B[0m \u001B[1m39s\u001B[0m 770ms/step - accuracy: 0.9885 - loss: 0.0338 - val_accuracy: 0.9117 - val_loss: 0.4622\n",
      "Epoch 76/100\n",
      "\u001B[1m51/51\u001B[0m \u001B[32m━━━━━━━━━━━━━━━━━━━━\u001B[0m\u001B[37m\u001B[0m \u001B[1m39s\u001B[0m 771ms/step - accuracy: 0.9852 - loss: 0.0462 - val_accuracy: 0.9228 - val_loss: 0.3811\n",
      "Epoch 77/100\n",
      "\u001B[1m51/51\u001B[0m \u001B[32m━━━━━━━━━━━━━━━━━━━━\u001B[0m\u001B[37m\u001B[0m \u001B[1m39s\u001B[0m 771ms/step - accuracy: 0.9895 - loss: 0.0313 - val_accuracy: 0.9229 - val_loss: 0.4189\n",
      "Epoch 78/100\n",
      "\u001B[1m51/51\u001B[0m \u001B[32m━━━━━━━━━━━━━━━━━━━━\u001B[0m\u001B[37m\u001B[0m \u001B[1m39s\u001B[0m 772ms/step - accuracy: 0.9872 - loss: 0.0369 - val_accuracy: 0.9224 - val_loss: 0.3780\n",
      "Epoch 79/100\n",
      "\u001B[1m51/51\u001B[0m \u001B[32m━━━━━━━━━━━━━━━━━━━━\u001B[0m\u001B[37m\u001B[0m \u001B[1m39s\u001B[0m 771ms/step - accuracy: 0.9876 - loss: 0.0380 - val_accuracy: 0.9186 - val_loss: 0.4115\n",
      "Epoch 80/100\n",
      "\u001B[1m51/51\u001B[0m \u001B[32m━━━━━━━━━━━━━━━━━━━━\u001B[0m\u001B[37m\u001B[0m \u001B[1m39s\u001B[0m 771ms/step - accuracy: 0.9890 - loss: 0.0325 - val_accuracy: 0.9217 - val_loss: 0.4284\n",
      "Epoch 81/100\n",
      "\u001B[1m51/51\u001B[0m \u001B[32m━━━━━━━━━━━━━━━━━━━━\u001B[0m\u001B[37m\u001B[0m \u001B[1m39s\u001B[0m 771ms/step - accuracy: 0.9908 - loss: 0.0272 - val_accuracy: 0.9211 - val_loss: 0.3891\n",
      "Epoch 82/100\n",
      "\u001B[1m51/51\u001B[0m \u001B[32m━━━━━━━━━━━━━━━━━━━━\u001B[0m\u001B[37m\u001B[0m \u001B[1m39s\u001B[0m 772ms/step - accuracy: 0.9894 - loss: 0.0317 - val_accuracy: 0.9154 - val_loss: 0.4754\n",
      "Epoch 83/100\n",
      "\u001B[1m51/51\u001B[0m \u001B[32m━━━━━━━━━━━━━━━━━━━━\u001B[0m\u001B[37m\u001B[0m \u001B[1m39s\u001B[0m 772ms/step - accuracy: 0.9849 - loss: 0.0455 - val_accuracy: 0.9148 - val_loss: 0.4583\n",
      "Epoch 84/100\n",
      "\u001B[1m51/51\u001B[0m \u001B[32m━━━━━━━━━━━━━━━━━━━━\u001B[0m\u001B[37m\u001B[0m \u001B[1m39s\u001B[0m 772ms/step - accuracy: 0.9857 - loss: 0.0425 - val_accuracy: 0.9219 - val_loss: 0.4047\n",
      "Epoch 85/100\n",
      "\u001B[1m51/51\u001B[0m \u001B[32m━━━━━━━━━━━━━━━━━━━━\u001B[0m\u001B[37m\u001B[0m \u001B[1m39s\u001B[0m 771ms/step - accuracy: 0.9881 - loss: 0.0349 - val_accuracy: 0.9209 - val_loss: 0.3845\n",
      "Epoch 86/100\n",
      "\u001B[1m51/51\u001B[0m \u001B[32m━━━━━━━━━━━━━━━━━━━━\u001B[0m\u001B[37m\u001B[0m \u001B[1m39s\u001B[0m 771ms/step - accuracy: 0.9838 - loss: 0.0498 - val_accuracy: 0.9150 - val_loss: 0.4510\n",
      "Epoch 87/100\n",
      "\u001B[1m51/51\u001B[0m \u001B[32m━━━━━━━━━━━━━━━━━━━━\u001B[0m\u001B[37m\u001B[0m \u001B[1m39s\u001B[0m 769ms/step - accuracy: 0.9868 - loss: 0.0405 - val_accuracy: 0.9215 - val_loss: 0.4081\n",
      "Epoch 88/100\n",
      "\u001B[1m51/51\u001B[0m \u001B[32m━━━━━━━━━━━━━━━━━━━━\u001B[0m\u001B[37m\u001B[0m \u001B[1m39s\u001B[0m 769ms/step - accuracy: 0.9867 - loss: 0.0407 - val_accuracy: 0.9179 - val_loss: 0.4364\n",
      "Epoch 89/100\n",
      "\u001B[1m51/51\u001B[0m \u001B[32m━━━━━━━━━━━━━━━━━━━━\u001B[0m\u001B[37m\u001B[0m \u001B[1m39s\u001B[0m 769ms/step - accuracy: 0.9885 - loss: 0.0346 - val_accuracy: 0.9207 - val_loss: 0.4262\n",
      "Epoch 90/100\n",
      "\u001B[1m51/51\u001B[0m \u001B[32m━━━━━━━━━━━━━━━━━━━━\u001B[0m\u001B[37m\u001B[0m \u001B[1m39s\u001B[0m 771ms/step - accuracy: 0.9902 - loss: 0.0282 - val_accuracy: 0.9195 - val_loss: 0.4546\n",
      "Epoch 91/100\n",
      "\u001B[1m51/51\u001B[0m \u001B[32m━━━━━━━━━━━━━━━━━━━━\u001B[0m\u001B[37m\u001B[0m \u001B[1m40s\u001B[0m 784ms/step - accuracy: 0.9880 - loss: 0.0364 - val_accuracy: 0.9230 - val_loss: 0.4143\n",
      "Epoch 92/100\n",
      "\u001B[1m51/51\u001B[0m \u001B[32m━━━━━━━━━━━━━━━━━━━━\u001B[0m\u001B[37m\u001B[0m \u001B[1m39s\u001B[0m 773ms/step - accuracy: 0.9901 - loss: 0.0301 - val_accuracy: 0.9174 - val_loss: 0.4633\n",
      "Epoch 93/100\n",
      "\u001B[1m51/51\u001B[0m \u001B[32m━━━━━━━━━━━━━━━━━━━━\u001B[0m\u001B[37m\u001B[0m \u001B[1m39s\u001B[0m 770ms/step - accuracy: 0.9897 - loss: 0.0306 - val_accuracy: 0.9233 - val_loss: 0.4241\n",
      "Epoch 94/100\n",
      "\u001B[1m51/51\u001B[0m \u001B[32m━━━━━━━━━━━━━━━━━━━━\u001B[0m\u001B[37m\u001B[0m \u001B[1m39s\u001B[0m 772ms/step - accuracy: 0.9870 - loss: 0.0383 - val_accuracy: 0.9257 - val_loss: 0.4142\n",
      "Epoch 95/100\n",
      "\u001B[1m51/51\u001B[0m \u001B[32m━━━━━━━━━━━━━━━━━━━━\u001B[0m\u001B[37m\u001B[0m \u001B[1m40s\u001B[0m 777ms/step - accuracy: 0.9911 - loss: 0.0273 - val_accuracy: 0.9219 - val_loss: 0.4007\n",
      "Epoch 96/100\n",
      "\u001B[1m51/51\u001B[0m \u001B[32m━━━━━━━━━━━━━━━━━━━━\u001B[0m\u001B[37m\u001B[0m \u001B[1m39s\u001B[0m 772ms/step - accuracy: 0.9847 - loss: 0.0463 - val_accuracy: 0.9203 - val_loss: 0.3886\n",
      "Epoch 97/100\n",
      "\u001B[1m51/51\u001B[0m \u001B[32m━━━━━━━━━━━━━━━━━━━━\u001B[0m\u001B[37m\u001B[0m \u001B[1m39s\u001B[0m 772ms/step - accuracy: 0.9906 - loss: 0.0289 - val_accuracy: 0.9236 - val_loss: 0.4012\n",
      "Epoch 98/100\n",
      "\u001B[1m51/51\u001B[0m \u001B[32m━━━━━━━━━━━━━━━━━━━━\u001B[0m\u001B[37m\u001B[0m \u001B[1m39s\u001B[0m 771ms/step - accuracy: 0.9896 - loss: 0.0304 - val_accuracy: 0.9208 - val_loss: 0.4460\n",
      "Epoch 99/100\n",
      "\u001B[1m51/51\u001B[0m \u001B[32m━━━━━━━━━━━━━━━━━━━━\u001B[0m\u001B[37m\u001B[0m \u001B[1m40s\u001B[0m 776ms/step - accuracy: 0.9907 - loss: 0.0274 - val_accuracy: 0.9215 - val_loss: 0.4287\n",
      "Epoch 100/100\n",
      "\u001B[1m51/51\u001B[0m \u001B[32m━━━━━━━━━━━━━━━━━━━━\u001B[0m\u001B[37m\u001B[0m \u001B[1m39s\u001B[0m 772ms/step - accuracy: 0.9906 - loss: 0.0300 - val_accuracy: 0.9234 - val_loss: 0.4107\n"
     ]
    }
   ],
   "execution_count": 45
  },
  {
   "metadata": {},
   "cell_type": "markdown",
   "source": [
    "# Loss evaluation\n",
    "\n",
    "Seeing how the model's loss changes by the epoch"
   ],
   "id": "28458dd6caeaf05c"
  },
  {
   "cell_type": "code",
   "source": [
    "%matplotlib inline\n",
    "plt.plot(history.history['loss'])\n",
    "plt.plot(history.history['val_loss'])\n",
    "plt.title(\"Loss\")\n",
    "plt.legend(['Train', 'Val'], loc='upper right')\n",
    "plt.ylabel('Loss')\n",
    "plt.xlabel('Epoch')"
   ],
   "metadata": {
    "collapsed": false,
    "ExecuteTime": {
     "end_time": "2024-05-10T00:47:26.159983Z",
     "start_time": "2024-05-10T00:47:25.895714Z"
    }
   },
   "id": "db97a7f3cc91e456",
   "outputs": [
    {
     "data": {
      "text/plain": [
       "Text(0.5, 0, 'Epoch')"
      ]
     },
     "execution_count": 48,
     "metadata": {},
     "output_type": "execute_result"
    },
    {
     "data": {
      "text/plain": [
       "<Figure size 640x480 with 1 Axes>"
      ],
      "image/png": "[encoded data removed]"
     },
     "metadata": {},
     "output_type": "display_data"
    }
   ],
   "execution_count": 48
  },
  {
   "metadata": {},
   "cell_type": "markdown",
   "source": [
    "# Loss evaluation\n",
    "\n",
    "Seeing how the model's loss changes by the epoch"
   ],
   "id": "47dd11a44349b4d5"
  },
  {
   "metadata": {
    "ExecuteTime": {
     "end_time": "2024-05-10T00:48:12.814067Z",
     "start_time": "2024-05-10T00:48:12.580547Z"
    }
   },
   "cell_type": "code",
   "source": [
    "%matplotlib inline\n",
    "plt.plot(history.history['accuracy'])\n",
    "plt.plot(history.history['val_accuracy'])\n",
    "plt.title(\"Accuracy\")\n",
    "plt.legend(['Train', 'Val'], loc='upper right')\n",
    "plt.ylabel('Accuracy')\n",
    "plt.xlabel('Epoch')"
   ],
   "id": "4a03b62d16638245",
   "outputs": [
    {
     "data": {
      "text/plain": [
       "Text(0.5, 0, 'Epoch')"
      ]
     },
     "execution_count": 50,
     "metadata": {},
     "output_type": "execute_result"
    },
    {
     "data": {
      "text/plain": [
       "<Figure size 640x480 with 1 Axes>"
      ],
      "image/png": "[encoded data removed]"
     },
     "metadata": {},
     "output_type": "display_data"
    }
   ],
   "execution_count": 50
  },
  {
   "cell_type": "markdown",
   "source": [
    "# Prediction"
   ],
   "metadata": {
    "collapsed": false
   },
   "id": "4fb3930ce2fec85d"
  },
  {
   "cell_type": "code",
   "source": [
    "prediction_word = \"yo no puedo yo no puedo yo no puedo yo no puedo\"\n",
    "prediction_word = preprocess(prediction_word)\n",
    "prediction_word = tokenizer.texts_to_sequences([prediction_word])\n",
    "prediction_word = pad_sequences(prediction_word, maxlen=input_dim)\n",
    "prediction = model.predict([prediction_word])\n",
    "output_probabilities = np.array(prediction)\n",
    "result = {}\n",
    "class_labels = np.unique(y_df.columns)\n",
    "for index, prediction in enumerate(output_probabilities[0]):\n",
    "    result.update({class_labels[index]: round(prediction * 100, 1)})\n",
    "\n",
    "# Print keys and values of the result dictionary\n",
    "for key, value in result.items():\n",
    "    print(f\"{key}: {value}\")"
   ],
   "metadata": {
    "collapsed": false,
    "ExecuteTime": {
     "end_time": "2024-05-10T00:49:36.486047Z",
     "start_time": "2024-05-10T00:49:36.419036Z"
    }
   },
   "id": "2af1ef5d86413ee6",
   "outputs": [
    {
     "name": "stdout",
     "output_type": "stream",
     "text": [
      "\u001B[1m1/1\u001B[0m \u001B[32m━━━━━━━━━━━━━━━━━━━━\u001B[0m\u001B[37m\u001B[0m \u001B[1m0s\u001B[0m 19ms/step\n",
      "Language_Germanic: 0.0\n",
      "Language_Hellenic: 1.0\n",
      "Language_Romance: 70.2\n",
      "Language_Slavic: 28.8\n"
     ]
    }
   ],
   "execution_count": 58
  },
  {
   "cell_type": "code",
   "source": "model.save('./model.keras')",
   "metadata": {
    "collapsed": false,
    "ExecuteTime": {
     "end_time": "2024-05-10T00:49:53.838761Z",
     "start_time": "2024-05-10T00:49:53.801370Z"
    }
   },
   "id": "f103d5e7cc3146d9",
   "outputs": [],
   "execution_count": 59
  },
  {
   "cell_type": "code",
   "source": [],
   "metadata": {
    "collapsed": false
   },
   "id": "c0bbfbb51379fba0",
   "outputs": [],
   "execution_count": null
  }
 ],
 "metadata": {
  "kernelspec": {
   "display_name": "Python 3",
   "language": "python",
   "name": "python3"
  },
  "language_info": {
   "codemirror_mode": {
    "name": "ipython",
    "version": 2
   },
   "file_extension": ".py",
   "mimetype": "text/x-python",
   "name": "python",
   "nbconvert_exporter": "python",
   "pygments_lexer": "ipython2",
   "version": "2.7.6"
  }
 },
 "nbformat": 4,
 "nbformat_minor": 5
}
